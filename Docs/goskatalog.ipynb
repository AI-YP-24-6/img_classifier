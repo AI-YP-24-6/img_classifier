{
 "cells": [
  {
   "cell_type": "markdown",
   "id": "7deb90bc-d376-4437-bdc5-8b12c243e2c5",
   "metadata": {},
   "source": [
    "# \u041f\u0430\u0440\u0441\u0435\u0440 \u0441\u0430\u0439\u0442\u0430 goskatalog.ru\n",
    "\u041d\u0430\u0445\u043e\u0434\u0438\u043c \u043a\u0430\u0440\u0442\u0438\u043d\u044b, \u043d\u0430 \u043a\u043e\u0442\u043e\u0440\u044b\u0445 \u0438\u0437\u043e\u0431\u0440\u0430\u0436\u0435\u043d\u044b \u043a\u043b\u0430\u0441\u0441\u044b \u0438\u0437 \u0441\u043f\u0438\u0441\u043a\u0430 "
   ]
  },
  {
   "cell_type": "markdown",
   "id": "3a579714-11ca-42d8-9507-e96b107306a6",
   "metadata": {},
   "source": [
    "\u0418\u0437 \u0434\u0430\u0442\u0430\u0441\u0435\u0442\u0430 [Fruits-360 dataset](https://www.kaggle.com/datasets/moltean/fruits/data): Apples (different varieties: Crimson Snow, Golden, Golden-Red, Granny Smith, Pink Lady, Red, Red Delicious), Apricot, Avocado, Avocado ripe, Banana (Yellow, Red, Lady Finger), Beetroot Red, Blueberry, Cabbage, Cactus fruit, Cantaloupe (2 varieties), Carambula, Carrot, Cauliflower, Cherry (different varieties, Rainier), Cherry Wax (Yellow, Red, Black), Chestnut, Clementine, Cocos, Corn (with husk), Cucumber (ripened, regular), Dates, Eggplant, Fig, Ginger Root, Granadilla, Grape (Blue, Pink, White (different varieties)), Grapefruit (Pink, White), Guava, Hazelnut, Huckleberry, Kiwi, Kaki, Kohlrabi, Kumsquats, Lemon (normal, Meyer), Lime, Lychee, Mandarine, Mango (Green, Red), Mangostan, Maracuja, Melon Piel de Sapo, Mulberry, Nectarine (Regular, Flat), Nut (Forest, Pecan), Onion (Red, White), Orange, Papaya, Passion fruit, Peach (different varieties), Pepino, Pear (different varieties, Abate, Forelle, Kaiser, Monster, Red, Stone, Williams), Pepper (Red, Green, Orange, Yellow), Physalis (normal, with Husk), Pineapple (normal, Mini), Pitahaya Red, Plum (different varieties), Pomegranate, Pomelo Sweetie, Potato (Red, Sweet, White), Quince, Rambutan, Raspberry, Redcurrant, Salak, Strawberry (normal, Wedge), Tamarillo, Tangelo, Tomato (different varieties, Maroon, Cherry Red, Yellow, not ripened, Heart), Walnut, Watermelon, Zucchini (green and dark)."
   ]
  },
  {
   "cell_type": "markdown",
   "id": "1dce288a-b1fd-4a15-b970-c18e9e1e6553",
   "metadata": {},
   "source": [
    "[Vegetable Image Dataset](https://www.kaggle.com/datasets/misrakahmed/vegetable-image-dataset): Bean\n",
    "Bitter_Gourd\n",
    "Bottle_Gourd\n",
    "Brinjal\n",
    "Broccoli\n",
    "Cabbage\n",
    "Capsicum\n",
    "Carrot\n",
    "Cauliflower\n",
    "Cucumber\n",
    "Papaya\n",
    "Potato\n",
    "Pumpkin\n",
    "Radish\n",
    "Tomato"
   ]
  },
  {
   "cell_type": "markdown",
   "id": "25012bdd-d2c2-49d1-8e51-6cb4a54ac572",
   "metadata": {},
   "source": [
    "[Fruit classification(10 Class)](https://www.kaggle.com/datasets/karimabdulnabi/fruit-classification10-class): Apple\n",
    "Orange\n",
    "Avocado\n",
    "Kiwi\n",
    "Mango\n",
    "Pinenapple\n",
    "Strawberries\n",
    "Banana\n",
    "Cherry\n",
    "Watermelon"
   ]
  },
  {
   "cell_type": "markdown",
   "id": "757b47f8-0605-469a-a9cc-dc3f241b023b",
   "metadata": {},
   "source": [
    "\u041a\u043b\u0430\u0441\u0441\u044b \u043d\u0430 \u0440\u0443\u0441\u0441\u043a\u043e\u043c"
   ]
  },
  {
   "cell_type": "raw",
   "id": "19119635-2af1-421e-9023-6029339598d6",
   "metadata": {},
   "source": [
    "(\"\u042f\u0431\u043b\u043e\u043a\u043e\", \"\u0410\u043f\u0435\u043b\u044c\u0441\u0438\u043d\", \"\u0410\u0432\u043e\u043a\u0430\u0434\u043e\", \"\u041a\u0438\u0432\u0438\", \"\u041c\u0430\u043d\u0433\u043e\", \"\u0410\u043d\u0430\u043d\u0430\u0441\", \"\u041a\u043b\u0443\u0431\u043d\u0438\u043a\u0430\", \"\u0411\u0430\u043d\u0430\u043d\", \"\u0412\u0438\u0448\u043d\u044f\", \"\u0410\u0440\u0431\u0443\u0437\", \"\u0424\u0430\u0441\u043e\u043b\u044c\",\n",
    " \"\u0422\u044b\u043a\u0432\u0430\", \"\u0411\u0440\u043e\u043a\u043a\u043e\u043b\u0438\", \"\u041a\u0430\u043f\u0443\u0441\u0442\u0430\", \"\u041c\u043e\u0440\u043a\u043e\u0432\u044c\", \"\u0426\u0432\u0435\u0442\u043d\u0430\u044f \u043a\u0430\u043f\u0443\u0441\u0442\u0430\", \"\u041e\u0433\u0443\u0440\u0435\u0446\", \"\u041f\u0430\u043f\u0430\u0439\u044f\", \"\u041a\u0430\u0440\u0442\u043e\u0444\u0435\u043b\u044c\", \"\u041f\u043e\u043c\u0438\u0434\u043e\u0440\",\n",
    " \"\u0410\u0431\u0440\u0438\u043a\u043e\u0441\", \"\u0427\u0435\u0440\u043d\u0438\u043a\u0430\", \"\u041f\u043b\u043e\u0434\u044b \u043a\u0430\u043a\u0442\u0443\u0441\u0430\", \"\u0414\u044b\u043d\u044f\", \"\u043a\u0430\u0440\u0430\u043c\u0431\u0443\u043b\u0430\", \"\u043a\u043e\u043a\u043e\u0441\", \"\u043a\u0443\u043a\u0443\u0440\u0443\u0437\u0430\", \"\u0432\u0438\u043d\u043e\u0433\u0440\u0430\u0434\", \"\u043b\u0438\u043c\u043e\u043d\", \"\u043c\u0430\u043d\u0434\u0430\u0440\u0438\u043d\", \"\u041f\u0435\u0440\u0441\u0438\u043a\", \"\u0413\u0440\u0443\u0448\u0430\", \"\u041f\u0435\u0440\u0435\u0446\",)"
   ]
  },
  {
   "cell_type": "markdown",
   "id": "55f241a4-c22c-4f83-8b7b-22da38490dd5",
   "metadata": {},
   "source": [
    "\u043a\u043b\u0430\u0441\u0441\u044b \u043a\u043e\u0442\u043e\u0440\u044b\u0435 \u0431\u0443\u0434\u0435\u043c \u043f\u0430\u0440\u0441\u0438\u0442\u044c"
   ]
  },
  {
   "cell_type": "code",
   "execution_count": 1,
   "id": "36852b5a-5fce-41fa-b06f-526109182a74",
   "metadata": {},
   "outputs": [],
   "source": [
    "classes = (\"\u042f\u0431\u043b\u043e\u043a\u043e\", \"\u0410\u043f\u0435\u043b\u044c\u0441\u0438\u043d\", \"\u0410\u043d\u0430\u043d\u0430\u0441\", \"\u041a\u043b\u0443\u0431\u043d\u0438\u043a\", \"\u0411\u0430\u043d\u0430\u043d\", \"\u0410\u0440\u0431\u0443\u0437\",\n",
    "           \"\u0422\u044b\u043a\u0432\u0430\", \"\u041a\u0430\u043f\u0443\u0441\u0442\u0430\", \"\u041c\u043e\u0440\u043a\u043e\u0432\u044c\", \"\u0426\u0432\u0435\u0442\u043d\u0430\u044f \u043a\u0430\u043f\u0443\u0441\u0442\u0430\", \"\u041f\u043e\u043c\u0438\u0434\u043e\u0440\",\n",
    "           \"\u0410\u0431\u0440\u0438\u043a\u043e\u0441\",  \"\u041f\u043b\u043e\u0434\u044b \u043a\u0430\u043a\u0442\u0443\u0441\u0430\", \"\u0414\u044b\u043d\u044f\", \"\u043a\u0443\u043a\u0443\u0440\u0443\u0437\u0430\", \"\u043b\u0438\u043c\u043e\u043d\u044b\", \"\u043c\u0430\u043d\u0434\u0430\u0440\u0438\u043d\", \"\u041f\u0435\u0440\u0441\u0438\u043a\u0438\", \"\u0413\u0440\u0443\u0448\u0430\",)"
   ]
  },
  {
   "cell_type": "code",
   "execution_count": 2,
   "id": "278402f2-cce6-4d41-85ec-f73c8e1f3bf1",
   "metadata": {},
   "outputs": [],
   "source": [
    "import os\n",
    "import sys\n",
    "# \u0434\u043e\u0431\u0430\u0432\u043b\u044f\u0435\u043c \u0433\u043b\u0430\u0432\u043d\u0443\u044e \u0434\u0438\u0440\u0435\u043a\u0442\u043e\u0440\u0438\u044e \u0432 \u043f\u0443\u0442\u044c\n",
    "nb_dir = os.path.split(os.getcwd())[0]\n",
    "if nb_dir not in sys.path:\n",
    "    sys.path.append(nb_dir)  "
   ]
  },
  {
   "cell_type": "code",
   "execution_count": 3,
   "id": "d776cf08-38e2-4805-8849-8d0e4056065b",
   "metadata": {},
   "outputs": [],
   "source": [
    "from Tools import goskatalog_parser, zip_files\n",
    "from pathlib import Path"
   ]
  },
  {
   "cell_type": "code",
   "execution_count": 4,
   "id": "b25b5a75-4389-4ed6-b1bd-fe7d2c5f1917",
   "metadata": {},
   "outputs": [],
   "source": [
    "path_to_save = Path.cwd() / \"goskatalog_art\""
   ]
  },
  {
   "cell_type": "code",
   "execution_count": 5,
   "id": "789d1635-ce77-4e23-8781-6bf9d88a09ae",
   "metadata": {},
   "outputs": [
    {
     "data": {
      "application/vnd.jupyter.widget-view+json": {
       "model_id": "d4712da373844c35a8e6a2eab3c58277",
       "version_major": 2,
       "version_minor": 0
      },
      "text/plain": [
       "Downloading \u0410\u043f\u0435\u043b\u044c\u0441\u0438\u043d:   0%|          | 0/2 [00:00<?, ?it/s]"
      ]
     },
     "metadata": {},
     "output_type": "display_data"
    },
    {
     "data": {
      "application/vnd.jupyter.widget-view+json": {
       "model_id": "b9088d9837ce4310bd6683a425b54af9",
       "version_major": 2,
       "version_minor": 0
      },
      "text/plain": [
       "Downloading \u0410\u043d\u0430\u043d\u0430\u0441:   0%|          | 0/1 [00:00<?, ?it/s]"
      ]
     },
     "metadata": {},
     "output_type": "display_data"
    },
    {
     "data": {
      "application/vnd.jupyter.widget-view+json": {
       "model_id": "503f8d713b8046f78f2eb087e19b07f8",
       "version_major": 2,
       "version_minor": 0
      },
      "text/plain": [
       "Downloading \u041a\u043b\u0443\u0431\u043d\u0438\u043a:   0%|          | 0/1 [00:00<?, ?it/s]"
      ]
     },
     "metadata": {},
     "output_type": "display_data"
    },
    {
     "data": {
      "application/vnd.jupyter.widget-view+json": {
       "model_id": "007ef1a1c11442738e0f660f31d2e6cc",
       "version_major": 2,
       "version_minor": 0
      },
      "text/plain": [
       "Downloading \u0411\u0430\u043d\u0430\u043d:   0%|          | 0/1 [00:00<?, ?it/s]"
      ]
     },
     "metadata": {},
     "output_type": "display_data"
    },
    {
     "data": {
      "application/vnd.jupyter.widget-view+json": {
       "model_id": "ceca258022ee47628e507b047e9b047e",
       "version_major": 2,
       "version_minor": 0
      },
      "text/plain": [
       "Downloading \u0410\u0440\u0431\u0443\u0437:   0%|          | 0/4 [00:00<?, ?it/s]"
      ]
     },
     "metadata": {},
     "output_type": "display_data"
    },
    {
     "data": {
      "application/vnd.jupyter.widget-view+json": {
       "model_id": "40a0a63321234d318d4fccff99f8514f",
       "version_major": 2,
       "version_minor": 0
      },
      "text/plain": [
       "Downloading \u0422\u044b\u043a\u0432\u0430:   0%|          | 0/1 [00:00<?, ?it/s]"
      ]
     },
     "metadata": {},
     "output_type": "display_data"
    },
    {
     "data": {
      "application/vnd.jupyter.widget-view+json": {
       "model_id": "def8e0c0b9ca483ea85f179f630cd4e5",
       "version_major": 2,
       "version_minor": 0
      },
      "text/plain": [
       "Downloading \u041a\u0430\u043f\u0443\u0441\u0442\u0430:   0%|          | 0/1 [00:00<?, ?it/s]"
      ]
     },
     "metadata": {},
     "output_type": "display_data"
    },
    {
     "data": {
      "application/vnd.jupyter.widget-view+json": {
       "model_id": "42a9fde3dfd841e29ba029315c20e63e",
       "version_major": 2,
       "version_minor": 0
      },
      "text/plain": [
       "Downloading \u041c\u043e\u0440\u043a\u043e\u0432\u044c:   0%|          | 0/1 [00:00<?, ?it/s]"
      ]
     },
     "metadata": {},
     "output_type": "display_data"
    },
    {
     "data": {
      "application/vnd.jupyter.widget-view+json": {
       "model_id": "bf30490dc5e04bea93422cb225f69305",
       "version_major": 2,
       "version_minor": 0
      },
      "text/plain": [
       "Downloading \u0426\u0432\u0435\u0442\u043d\u0430\u044f \u043a\u0430\u043f\u0443\u0441\u0442\u0430:   0%|          | 0/1 [00:00<?, ?it/s]"
      ]
     },
     "metadata": {},
     "output_type": "display_data"
    },
    {
     "data": {
      "application/vnd.jupyter.widget-view+json": {
       "model_id": "66d3bc7d8b474ebc858888704e3f374a",
       "version_major": 2,
       "version_minor": 0
      },
      "text/plain": [
       "Downloading \u041f\u043e\u043c\u0438\u0434\u043e\u0440:   0%|          | 0/1 [00:00<?, ?it/s]"
      ]
     },
     "metadata": {},
     "output_type": "display_data"
    },
    {
     "data": {
      "application/vnd.jupyter.widget-view+json": {
       "model_id": "cba045f1888e4cb5adcf497ce14f3d75",
       "version_major": 2,
       "version_minor": 0
      },
      "text/plain": [
       "Downloading \u0410\u0431\u0440\u0438\u043a\u043e\u0441:   0%|          | 0/1 [00:00<?, ?it/s]"
      ]
     },
     "metadata": {},
     "output_type": "display_data"
    },
    {
     "data": {
      "application/vnd.jupyter.widget-view+json": {
       "model_id": "fe5b6b6746644c91ba6ac066ec96c2ba",
       "version_major": 2,
       "version_minor": 0
      },
      "text/plain": [
       "Downloading \u041f\u043b\u043e\u0434\u044b \u043a\u0430\u043a\u0442\u0443\u0441\u0430:   0%|          | 0/1 [00:00<?, ?it/s]"
      ]
     },
     "metadata": {},
     "output_type": "display_data"
    },
    {
     "data": {
      "application/vnd.jupyter.widget-view+json": {
       "model_id": "317533e676624d1c8c80807eb9df2fc1",
       "version_major": 2,
       "version_minor": 0
      },
      "text/plain": [
       "Downloading \u0414\u044b\u043d\u044f:   0%|          | 0/1 [00:00<?, ?it/s]"
      ]
     },
     "metadata": {},
     "output_type": "display_data"
    },
    {
     "data": {
      "application/vnd.jupyter.widget-view+json": {
       "model_id": "3ec932dbf5c24098a6df3b92c2f88190",
       "version_major": 2,
       "version_minor": 0
      },
      "text/plain": [
       "Downloading \u043a\u0443\u043a\u0443\u0440\u0443\u0437\u0430:   0%|          | 0/1 [00:00<?, ?it/s]"
      ]
     },
     "metadata": {},
     "output_type": "display_data"
    },
    {
     "data": {
      "application/vnd.jupyter.widget-view+json": {
       "model_id": "4871cbf3cf5945a58af567761622e8a1",
       "version_major": 2,
       "version_minor": 0
      },
      "text/plain": [
       "Downloading \u043b\u0438\u043c\u043e\u043d\u044b:   0%|          | 0/1 [00:00<?, ?it/s]"
      ]
     },
     "metadata": {},
     "output_type": "display_data"
    },
    {
     "data": {
      "application/vnd.jupyter.widget-view+json": {
       "model_id": "1a48fba9472d4b6b98bfce0568a5c5f7",
       "version_major": 2,
       "version_minor": 0
      },
      "text/plain": [
       "Downloading \u043c\u0430\u043d\u0434\u0430\u0440\u0438\u043d:   0%|          | 0/1 [00:00<?, ?it/s]"
      ]
     },
     "metadata": {},
     "output_type": "display_data"
    },
    {
     "data": {
      "application/vnd.jupyter.widget-view+json": {
       "model_id": "0bffa457899f4613bbddaea0df0591aa",
       "version_major": 2,
       "version_minor": 0
      },
      "text/plain": [
       "Downloading \u041f\u0435\u0440\u0441\u0438\u043a\u0438:   0%|          | 0/1 [00:00<?, ?it/s]"
      ]
     },
     "metadata": {},
     "output_type": "display_data"
    },
    {
     "data": {
      "application/vnd.jupyter.widget-view+json": {
       "model_id": "8635d868117c4c3f81fbe05c063fd2b7",
       "version_major": 2,
       "version_minor": 0
      },
      "text/plain": [
       "Downloading \u0413\u0440\u0443\u0448\u0430:   0%|          | 0/2 [00:00<?, ?it/s]"
      ]
     },
     "metadata": {},
     "output_type": "display_data"
    },
    {
     "data": {
      "text/plain": [
       "WindowsPath('D:/P_work/img_classifier/Notebooks/goskatalog_art/art_dataset')"
      ]
     },
     "execution_count": 5,
     "metadata": {},
     "output_type": "execute_result"
    }
   ],
   "source": [
    "mypath, missing_art = goskatalog_parser(classes, path_to_save)\n",
    "mypath"
   ]
  },
  {
   "cell_type": "code",
   "execution_count": 6,
   "id": "22f9a656-6439-4205-9244-28cb135e7d3d",
   "metadata": {},
   "outputs": [
    {
     "data": {
      "text/plain": [
       "[{7532649,\n",
       "  '\u0416\u0438\u0432\u043e\u043f\u0438\u0441\u044c. \"\u041a\u043e\u0440\u043e\u043b\u044c \u0438 \u043f\u0440\u0438\u043d\u0446\". \u041f\u0430\u043d\u043d\u043e \u043f\u043e \u043c\u043e\u0442\u0438\u0432\u0430\u043c \u043e\u043f\u0435\u0440\u044b \u0421.\u0421. \u041f\u0440\u043e\u043a\u043e\u0444\u044c\u0435\u0432\u0430 \"\u041b\u044e\u0431\u043e\u0432\u044c \u043a \u0442\u0440\u0435\u043c \u0430\u043f\u0435\u043b\u044c\u0441\u0438\u043d\u0430\u043c\".'},\n",
       " {7532631,\n",
       "  '\u0416\u0438\u0432\u043e\u043f\u0438\u0441\u044c. \u041f\u0430\u043d\u043d\u043e \u043f\u043e \u043c\u043e\u0442\u0438\u0432\u0430\u043c \u043e\u043f\u0435\u0440\u044b \u0421.\u0421. \u041f\u0440\u043e\u043a\u043e\u0444\u044c\u0435\u0432\u0430 \"\u041b\u044e\u0431\u043e\u0432\u044c \u043a \u0442\u0440\u0435\u043c \u0430\u043f\u0435\u043b\u044c\u0441\u0438\u043d\u0430\u043c\". \u041f\u0440\u0430\u0432\u0430\u044f \u0447\u0430\u0441\u0442\u044c.'},\n",
       " {7532621,\n",
       "  '\u0422\u0435\u0430\u0442\u0440\u0430\u043b\u044c\u043d\u043e-\u0434\u0435\u043a\u043e\u0440\u0430\u0446\u0438\u043e\u043d\u043d\u043e\u0435 \u0438\u0441\u043a\u0443\u0441\u0441\u0442\u0432\u043e. \u041f\u0430\u043d\u043d\u043e \u043f\u043e \u043c\u043e\u0442\u0438\u0432\u0430\u043c \u043e\u043f\u0435\u0440\u044b \u0421.\u0421. \u041f\u0440\u043e\u043a\u043e\u0444\u044c\u0435\u0432\u0430 \"\u041b\u044e\u0431\u043e\u0432\u044c \u043a \u0442\u0440\u0435\u043c \u0430\u043f\u0435\u043b\u044c\u0441\u0438\u043d\u0430\u043c\". \u0422\u0440\u0438\u043f\u0442\u0438\u0445. \u0426\u0435\u043d\u0442\u0440\u0430\u043b\u044c\u043d\u0430\u044f \u0447\u0430\u0441\u0442\u044c (\u0430\u043f\u0435\u043b\u044c\u0441\u0438\u043d\u044b \u0438 \u0431\u0435\u043b\u044b\u0439 \u043f\u0440\u0438\u043d\u0446). \u041c\u043e\u0441\u043a\u043e\u0432\u0441\u043a\u0438\u0439 \u043c\u0443\u0437\u044b\u043a\u0430\u043b\u044c\u043d\u044b\u0439 \u0442\u0435\u0430\u0442\u0440 \u0438\u043c. \u041a.\u0421. \u0421\u0442\u0430\u043d\u0438\u0441\u043b\u0430\u0432\u0441\u043a\u043e\u0433\u043e \u0438 \u0412.\u041d. \u041d\u0435\u043c\u0438\u0440\u043e\u0432\u0438\u0447\u0430-\u0414\u0430\u043d\u0447\u0435\u043d\u043a\u043e'},\n",
       " {7532620,\n",
       "  '\u0422\u0435\u0430\u0442\u0440\u0430\u043b\u044c\u043d\u043e-\u0434\u0435\u043a\u043e\u0440\u0430\u0446\u0438\u043e\u043d\u043d\u043e\u0435 \u0438\u0441\u043a\u0443\u0441\u0441\u0442\u0432\u043e. \u041f\u0430\u043d\u043d\u043e \u043f\u043e \u043c\u043e\u0442\u0438\u0432\u0430\u043c \u043e\u043f\u0435\u0440\u044b \u0421.\u0421. \u041f\u0440\u043e\u043a\u043e\u0444\u044c\u0435\u0432\u0430 \"\u041b\u044e\u0431\u043e\u0432\u044c \u043a \u0442\u0440\u0435\u043c \u0430\u043f\u0435\u043b\u044c\u0441\u0438\u043d\u0430\u043c\". \u0422\u0440\u0438\u043f\u0442\u0438\u0445. \u041b\u0435\u0432\u0430\u044f \u0447\u0430\u0441\u0442\u044c. \u041c\u043e\u0441\u043a\u043e\u0432\u0441\u043a\u0438\u0439 \u043c\u0443\u0437\u044b\u043a\u0430\u043b\u044c\u043d\u044b\u0439 \u0442\u0435\u0430\u0442\u0440 \u0438\u043c. \u041a.\u0421. \u0421\u0442\u0430\u043d\u0438\u0441\u043b\u0430\u0432\u0441\u043a\u043e\u0433\u043e \u0438 \u0412.\u041d. \u041d\u0435\u043c\u0438\u0440\u043e\u0432\u0438\u0447\u0430-\u0414\u0430\u043d\u0447\u0435\u043d\u043a\u043e'},\n",
       " {'\"\u041d\u0430\u0442\u044e\u0440\u043c\u043e\u0440\u0442. \u0410\u043f\u0435\u043b\u044c\u0441\u0438\u043d\u044b\"', 6643256},\n",
       " {6148787,\n",
       "  '\u041f\u0440\u043e\u043a\u043e\u0444\u044c\u0435\u0432 \u0421.\u0421. \u041e\u043f. \"\u041b\u044e\u0431\u043e\u0432\u044c \u043a \u0442\u0440\u0435\u043c \u0430\u043f\u0435\u043b\u044c\u0441\u0438\u043d\u0430\u043c\". \u041c\u0410\u041b\u0415\u0413\u041e\u0422, 1963 \u0433. \u041f\u043e\u0441\u0442\u0430\u043d\u043e\u0432\u0449\u0438\u043a - \u041f\u0435\u0442\u0440\u043e\u0432 \u042e.\u0410., \u0434\u0438\u0440\u0438\u0436\u0435\u0440 - \u0413\u0440\u0438\u043a\u0443\u0440\u043e\u0432 \u042d.\u041f. \u0425\u0443\u0434\u043e\u0436\u043d\u0438\u043a - \u041c\u0443\u043a\u043e\u0441\u0435\u0435\u0432\u0430 \u041c.\u0410. \u042d\u0441\u043a\u0438\u0437 \u0434\u0435\u043a\u043e\u0440\u0430\u0446\u0438\u0438. \u041a\u043e\u043c\u043d\u0430\u0442\u0430 \u043f\u0440\u0438\u043d\u0446\u0430. \u0412 \u0431\u0435\u043b\u043e-\u0437\u0435\u043b\u0435\u043d\u044b\u0445 \u0442\u043e\u043d\u0430\u0445. \u041d\u0430 \u043f\u0435\u0440\u0432\u043e\u043c \u043f\u043b\u0430\u043d\u0435 \u0432 \u043a\u043e\u043b\u044f\u0441\u043a\u0435 \u0441\u0438\u0434\u0438\u0442 \u0431\u043e\u043b\u044c\u043d\u043e\u0439, \u043d\u0430 \u0433\u0440\u0443\u0434\u0438 \u043d\u0430\u0434\u043f\u0438\u0441\u044c \"\u0422\u0430\u0440\u0442\u0430\u043b\u044c\u044f\". \u0412\u0433\u043b\u0443\u0431\u044c \u0432\u0435\u0434\u0435\u0442 \u0434\u043b\u0438\u043d\u043d\u044b\u0439 \u0437\u0435\u043b\u0435\u043d\u044b\u0439 \u043a\u043e\u0440\u0438\u0434\u043e\u0440'},\n",
       " {6148748,\n",
       "  '\u041f\u0440\u043e\u043a\u043e\u0444\u044c\u0435\u0432 \u0421.\u0421. \u041e\u043f. \"\u041b\u044e\u0431\u043e\u0432\u044c \u043a \u0442\u0440\u0435\u043c \u0430\u043f\u0435\u043b\u044c\u0441\u0438\u043d\u0430\u043c\". \u041c\u0410\u041b\u0415\u0413\u041e\u0422, 1963 \u0433. \u041f\u043e\u0441\u0442\u0430\u043d\u043e\u0432\u0449\u0438\u043a - \u041f\u0435\u0442\u0440\u043e\u0432 \u042e.\u0410., \u0434\u0438\u0440\u0438\u0436\u0435\u0440 - \u0413\u0440\u0438\u043a\u0443\u0440\u043e\u0432 \u042d.\u041f. \u0425\u0443\u0434\u043e\u0436\u043d\u0438\u043a - \u041c\u0443\u043a\u043e\u0441\u0435\u0435\u0432\u0430 \u041c.\u0410. \u042d\u0441\u043a\u0438\u0437 \u0434\u0435\u043a\u043e\u0440\u0430\u0446\u0438\u0438. \u0424\u0438\u043d\u0430\u043b. \u0412 \u0440\u043e\u0437\u043e\u0432\u0430\u0442\u043e-\u0441\u0435\u0440\u043e\u0432\u0430\u0442\u044b\u0445 \u0442\u043e\u043d\u0430\u0445. \u0421\u043b\u0435\u0432\u0430 \u0432 \u043e\u0431\u044a\u044f\u0442\u044c\u044f\u0445 \u043f\u0440\u0438\u043d\u0446 \u0438 \u041d\u0438\u043d\u0435\u0442\u0442\u0430, \u043a\u043e\u043d\u0442\u0443\u0440\u044b \u0442\u043e\u043b\u043f\u044b. \u0412 \u0446\u0435\u043d\u0442\u0440\u0435 \u043d\u0430\u0434\u043f\u0438\u0441\u044c: \"\u0430 \u0432\u043e\u0442 \u0444\u0438\u043d\u0430\u043b\"'},\n",
       " {6148745,\n",
       "  '\u041f\u0440\u043e\u043a\u043e\u0444\u044c\u0435\u0432 \u0421.\u0421. \u041e\u043f. \"\u041b\u044e\u0431\u043e\u0432\u044c \u043a \u0442\u0440\u0435\u043c \u0430\u043f\u0435\u043b\u044c\u0441\u0438\u043d\u0430\u043c\". \u041c\u0410\u041b\u0415\u0413\u041e\u0422, 1963 \u0433. \u041f\u043e\u0441\u0442\u0430\u043d\u043e\u0432\u0449\u0438\u043a - \u041f\u0435\u0442\u0440\u043e\u0432 \u042e.\u0410., \u0434\u0438\u0440\u0438\u0436\u0435\u0440 - \u0413\u0440\u0438\u043a\u0443\u0440\u043e\u0432 \u042d.\u041f. \u0425\u0443\u0434\u043e\u0436\u043d\u0438\u043a - \u041c\u0443\u043a\u043e\u0441\u0435\u0435\u0432\u0430 \u041c.\u0410. \u042d\u0441\u043a\u0438\u0437 \u0434\u0435\u043a\u043e\u0440\u0430\u0446\u0438\u0438. \u041f\u0443\u0441\u0442\u044b\u043d\u044f. \u0423 \u0442\u0440\u0435\u0445 \u0430\u043f\u0435\u043b\u044c\u0441\u0438\u043d\u043e\u0432 - \u043f\u0440\u0438\u043d\u0446\u0435\u0441\u0441\u044b, \u0434\u0432\u0435 \u0438\u0437 \u043d\u0438\u0445 \u0441\u0442\u043e\u044f\u0442 \u0432\u043d\u0438\u0437 \u0433\u043e\u043b\u043e\u0432\u043e\u0439. \u0421\u043f\u0440\u0430\u0432\u0430 \u043d\u0430 \u0441\u0435\u0440\u0434\u0446\u0435 \u043f\u043e\u0434\u0432\u0435\u0448\u0435\u043d\u044b \u0432\u044b\u0432\u0435\u0441\u043a\u0438: \"\u043f\u0443\u0441\u0442\u044b\u043d\u044f\", \"\u043d\u0435\u0441\u0447\u0430\u0441\u0442\u043d\u044b\u0435 \u043f\u0440\u0438\u043d\u0446\u0435\u0441\u0441\u044b \u0443\u043c\u0438\u0440\u0430\u044e\u0442 \u043e\u0442 \u0436\u0430\u0436\u0434\u044b\"'},\n",
       " {6148597,\n",
       "  '\u041f\u0440\u043e\u043a\u043e\u0444\u044c\u0435\u0432 \u0421.\u0421. \u041e\u043f\u0435\u0440\u0430 \"\u041b\u044e\u0431\u043e\u0432\u044c \u043a \u0442\u0440\u0435\u043c \u0430\u043f\u0435\u043b\u044c\u0441\u0438\u043d\u0430\u043c\". \u041f\u043e\u0441\u0442\u0430\u043d\u043e\u0432\u043a\u0430. \u0425\u0443\u0434\u043e\u0436\u043d\u0438\u043a \u041f.\u041a. \u0415\u0440\u0448\u043e\u0432. \u042d\u0441\u043a\u0438\u0437\u044b \u043a\u043e\u0441\u0442\u044e\u043c\u043e\u0432. \u042d\u0441\u043a\u0438\u0437 \u043a\u043e\u0441\u0442\u044e\u043c\u0430 \u043f\u043e\u0432\u0430\u0440\u0438\u0445\u0438 \u0438 \u043c\u0443\u0436\u0441\u043a\u043e\u0433\u043e \u043a\u043e\u0441\u0442\u044e\u043c\u0430. \u041f\u043e\u0432\u0430\u0440\u0438\u0445\u0430 \u0432 \u043a\u0440\u0430\u0441\u043d\u043e-\u0436\u0435\u043b\u0442\u043e\u0439 \u043a\u043e\u0441\u044b\u043d\u043a\u0435, \u0432 \u0436\u0435\u043b\u0442\u043e\u0439 \u043a\u043e\u0444\u0442\u0435 \u0438 \u043a\u0440\u0430\u0441\u043d\u043e-\u0431\u0435\u043b\u043e\u0439 \u043f\u043e\u043b\u043e\u0441\u0430\u0442\u043e\u0439 \u044e\u0431\u043a\u0435. \u0417\u0430 \u043f\u043e\u044f\u0441\u043e\u043c \u043d\u043e\u0436 \u0438 \u0432\u0438\u043b\u043a\u0430, \u0432 \u0440\u0443\u043a\u0435 \u0431\u043e\u043b\u044c\u0448\u0430\u044f \u043b\u043e\u0436\u043a\u0430. \u0421\u043b\u0435\u0432\u0430 - \u043c\u0443\u0436\u0441\u043a\u043e\u0439 \u043a\u043e\u0441\u0442\u044e\u043c \u0437\u0435\u043b\u0435\u043d\u043e\u0433\u043e \u0446\u0432\u0435\u0442\u0430, \u043a\u044e\u043b\u043e\u0442\u044b, \u043a\u0440\u0430\u0441\u043d\u043e-\u0437\u0435\u043b\u0435\u043d\u044b\u0435 \u0447\u0443\u043b\u043a\u0438, \u043a\u0440\u0430\u0441\u043d\u043e-\u0437\u0435\u043b\u0435\u043d\u0430\u044f \u0448\u043b\u044f\u043f\u0430 \u0441 \u043a\u043e\u0437\u044b\u0440\u044c\u043a\u043e\u043c'},\n",
       " {1058290, '\u0414\u0435\u043a\u043e\u0440\u0430\u0446\u0438\u044f. \"\u041b\u044e\u0431\u043e\u0432\u044c \u043a \u0442\u0440\u0435\u043c \u0430\u043f\u0435\u043b\u044c\u0441\u0438\u043d\u0430\u043c\"'},\n",
       " {1044844, '\u0414\u0435\u043a\u043e\u0440\u0430\u0446\u0438\u044f. \"\u041b\u044e\u0431\u043e\u0432\u044c \u043a \u0442\u0440\u0435\u043c \u0430\u043f\u0435\u043b\u044c\u0441\u0438\u043d\u0430\u043c\"'},\n",
       " {1001601, '\u041a\u043e\u0441\u0442\u044e\u043c. \"\u041b\u044e\u0431\u043e\u0432\u044c \u043a \u0442\u0440\u0435\u043c \u0430\u043f\u0435\u043b\u044c\u0441\u0438\u043d\u0430\u043c\"'},\n",
       " {4125136, '\u0412 \u0441\u0430\u0434\u0443. \u041d\u0430\u0442\u044e\u0440\u043c\u043e\u0440\u0442 \u0441 \u043a\u043b\u0443\u0431\u043d\u0438\u043a\u043e\u0439'},\n",
       " {1672657, '\u041a\u043b\u0443\u0431\u043d\u0438\u043a\u0430 \u043d\u0430 \u0441\u0435\u0432\u0435\u0440\u0435'},\n",
       " {6643279, '\u041f\u0440\u043e\u0434\u0430\u0432\u0449\u0438\u0446\u0430 \u0431\u0430\u043d\u0430\u043d\u043e\u0432.'},\n",
       " {'\"\u0421\u0430\u0440\u0430\u043d\u0447\u0430 \u043f\u043e\u0434 \u0442\u0440\u0430\u0432\u044f\u043d\u044b\u043c \u0431\u0430\u043d\u0430\u043d\u043e\u043c\".', 5152219},\n",
       " {1244147, '\u041d\u0430\u0442\u044e\u0440\u043c\u043e\u0440\u0442 \u0441 \u0430\u0440\u0431\u0443\u0437\u043e\u043c'},\n",
       " {5719984, '\u043f\u043b\u0430\u043a\u0430\u0442. \"\u041a\u0438\u0442\u0430\u0439\u0441\u043a\u0430\u044f \u043a\u0430\u043f\u0443\u0441\u0442\u0430\".'},\n",
       " {1242173, '\u0410\u0431\u0440\u0438\u043a\u043e\u0441\u044b'},\n",
       " {5147176, '\u0421\u0432\u0438\u0442\u043e\u043a \u0436\u0438\u0432\u043e\u043f\u0438\u0441\u0438. \"\u0423\u0442\u043e\u0447\u043a\u0438-\u043c\u0430\u043d\u0434\u0430\u0440\u0438\u043d\u043a\u0438 \u0438 \u0432\u0435\u0442\u043a\u0430 \u0441\u043b\u0438\u0432\u044b\" (3-\u0439 \u0441\u043f\u0440\u0430\u0432\u0430).'},\n",
       " {'\"\u041f\u0435\u0440\u0441\u0438\u043a\u0438\"', 6643092},\n",
       " {6642862, '\u041f\u0435\u0440\u0441\u0438\u043a\u0438 \u0438 \u0432\u0438\u043d\u043e\u0433\u0440\u0430\u0434.'},\n",
       " {6042765, '\u0426\u0432\u0435\u0442\u0443\u0449\u0438\u0435 \u043f\u0435\u0440\u0441\u0438\u043a\u0438.'},\n",
       " {'\"\u041f\u0435\u0440\u0441\u0438\u043a\u0438\".', 5719955},\n",
       " {'\"\u041f\u0435\u0440\u0441\u0438\u043a\u0438\".', 5152227},\n",
       " {5870967, '\u0413\u0440\u0443\u0448\u0430'}]"
      ]
     },
     "execution_count": 6,
     "metadata": {},
     "output_type": "execute_result"
    }
   ],
   "source": [
    "missing_art"
   ]
  },
  {
   "cell_type": "code",
   "execution_count": 7,
   "id": "5abf2622-569d-42c7-8209-3f8da11f3760",
   "metadata": {},
   "outputs": [
    {
     "data": {
      "text/plain": [
       "'D:\\\\P_work\\\\img_classifier\\\\Notebooks\\\\goskatalog_art.zip'"
      ]
     },
     "execution_count": 7,
     "metadata": {},
     "output_type": "execute_result"
    }
   ],
   "source": [
    "zip_path = zip_files(path_to_save)\n",
    "zip_path"
   ]
  }
 ],
 "metadata": {
  "kernelspec": {
   "display_name": "Python 3 (ipykernel)",
   "language": "python",
   "name": "python3"
  },
  "language_info": {
   "codemirror_mode": {
    "name": "ipython",
    "version": 3
   },
   "file_extension": ".py",
   "mimetype": "text/x-python",
   "name": "python",
   "nbconvert_exporter": "python",
   "pygments_lexer": "ipython3",
   "version": "3.12.6"
  }
 },
 "nbformat": 4,
 "nbformat_minor": 5
}

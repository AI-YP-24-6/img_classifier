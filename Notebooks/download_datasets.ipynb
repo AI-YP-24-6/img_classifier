{
 "cells": [
  {
   "cell_type": "markdown",
   "id": "27c32c1e-05af-401a-8d08-f1028aa74655",
   "metadata": {},
   "source": [
    "# Загрузка исходных датасетов с сайта Kaggle"
   ]
  },
  {
   "cell_type": "markdown",
   "id": "d637a39f-3f25-4408-85a3-68dd5b8cfa10",
   "metadata": {},
   "source": [
    "Ensure kaggle.json is in the location ~/.kaggle/kaggle.json to use the API."
   ]
  },
  {
   "cell_type": "code",
   "execution_count": 1,
   "id": "33a04302-3147-439b-aa6d-dbf60bdcba2d",
   "metadata": {},
   "outputs": [
    {
     "name": "stdout",
     "output_type": "stream",
     "text": [
      "Dataset URL: https://www.kaggle.com/datasets/misrakahmed/vegetable-image-dataset\n",
      "Dataset URL: https://www.kaggle.com/datasets/moltean/fruits\n"
     ]
    }
   ],
   "source": [
    "import kaggle\n",
    "import warnings\n",
    "\n",
    "kaggle.api.authenticate()\n",
    "\n",
    "with warnings.catch_warnings():\n",
    "    warnings.simplefilter(\"ignore\")\n",
    "    kaggle.api.dataset_download_files('misrakahmed/vegetable-image-dataset', path='data/')\n",
    "    kaggle.api.dataset_download_files('moltean/fruits', path='data/')"
   ]
  },
  {
   "cell_type": "markdown",
   "id": "a6391f94-c80d-49d6-8fac-5758b814cd45",
   "metadata": {},
   "source": [
    "# Загрузка сохраненных датасетов с Yandex disk"
   ]
  },
  {
   "cell_type": "code",
   "execution_count": 2,
   "id": "4301664d-3e4d-4fa3-9f0b-e12ba089b30a",
   "metadata": {},
   "outputs": [],
   "source": [
    "import os\n",
    "import sys\n",
    "# добавляем главную директорию в путь\n",
    "nb_dir = os.path.split(os.getcwd())[0]\n",
    "if nb_dir not in sys.path:\n",
    "    sys.path.append(nb_dir)  "
   ]
  },
  {
   "cell_type": "code",
   "execution_count": 3,
   "id": "f2a5ed29-c3d7-43fc-91ed-da3dd6e0d43c",
   "metadata": {},
   "outputs": [
    {
     "name": "stdout",
     "output_type": "stream",
     "text": [
      "https://downloader.disk.yandex.ru/disk/72eccd446fc33cd8485fd51ff081c967ace41fe8eb1fc3d591ab3f407d76521e/6702a1ee/jfyx3oj2iFMJYfRm58NvkD8Q2oqpoiR6Ji-1CvnxI_ph6mpmihgv3rEu6YW6wNugwo5P0GoWBio8GMxren9Skw%3D%3D?uid=0&filename=vegetable-image-dataset.zip&disposition=attachment&hash=sgNxpEfpBZIHfijESjx1nYDoZmso8i7ak%2BPEBYjo6DexpKvAtjXEuAbXqPdlBvO0q/J6bpmRyOJonT3VoXnDag%3D%3D%3A&limit=0&content_type=application%2Fzip&owner_uid=800906605&fsize=560031432&hid=c88f9c4a8c5c8850c75fe9c0d46b951b&media_type=compressed&tknv=v2\n",
      "https://downloader.disk.yandex.ru/disk/3c535685c57608facb614e6f36a91d874884a5a24bc24431c16cb08a0afaea5b/6702a1ee/a2GZT-6qyU3zO1n0m3rqhcpo-NvG0iNQRf-pZ-gj_HZ1HtzoNo3M8kO-C3UCti_94ukFZiKmix02U0KkOlM1Ig%3D%3D?uid=0&filename=fruits.zip&disposition=attachment&hash=XRU9f/fnri%2BHLARDHyyJnOq6jGDTVK81UCtZSA7Nv1HItlhq6jVZ5EQ9CYAZAz/iq/J6bpmRyOJonT3VoXnDag%3D%3D%3A&limit=0&content_type=application%2Fzip&owner_uid=800906605&fsize=1010594572&hid=53b43cfa0214d380f0cca9a92f600d8c&media_type=compressed&tknv=v2\n"
     ]
    }
   ],
   "source": [
    "from Tools import get_ya_disk_url\n",
    "url_vegetable = 'https://disk.yandex.ru/d/ILKFxIy4jvnwCA'\n",
    "url_fruits = 'https://disk.yandex.ru/d/xTfs_qBqGH_A6g'\n",
    "print(get_ya_disk_url(url_vegetable))\n",
    "print(get_ya_disk_url(url_fruits))"
   ]
  },
  {
   "cell_type": "code",
   "execution_count": 4,
   "id": "1f88213c-98b9-4ff1-932c-ef68a3ab987f",
   "metadata": {},
   "outputs": [
    {
     "data": {
      "text/plain": [
       "WindowsPath('D:/P_work/img_classifier/Notebooks/data')"
      ]
     },
     "execution_count": 4,
     "metadata": {},
     "output_type": "execute_result"
    }
   ],
   "source": [
    "from pathlib import Path\n",
    "from Tools import download_zip\n",
    "\n",
    "download_zip(get_ya_disk_url(url_vegetable), (Path.cwd() / \"data\"))"
   ]
  }
 ],
 "metadata": {
  "kernelspec": {
   "display_name": "Python 3 (ipykernel)",
   "language": "python",
   "name": "python3"
  },
  "language_info": {
   "codemirror_mode": {
    "name": "ipython",
    "version": 3
   },
   "file_extension": ".py",
   "mimetype": "text/x-python",
   "name": "python",
   "nbconvert_exporter": "python",
   "pygments_lexer": "ipython3",
   "version": "3.12.6"
  }
 },
 "nbformat": 4,
 "nbformat_minor": 5
}

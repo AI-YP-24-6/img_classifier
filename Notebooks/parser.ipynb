{
 "cells": [
  {
   "cell_type": "markdown",
   "id": "7deb90bc-d376-4437-bdc5-8b12c243e2c5",
   "metadata": {},
   "source": [
    "# Парсер сайта goskatalog.ru\n",
    "Находим картины, на которых изображены классы из списка "
   ]
  },
  {
   "cell_type": "markdown",
   "id": "3a579714-11ca-42d8-9507-e96b107306a6",
   "metadata": {},
   "source": [
    "Из датасета [Fruits-360 dataset](https://www.kaggle.com/datasets/moltean/fruits/data): Apples (different varieties: Crimson Snow, Golden, Golden-Red, Granny Smith, Pink Lady, Red, Red Delicious), Apricot, Avocado, Avocado ripe, Banana (Yellow, Red, Lady Finger), Beetroot Red, Blueberry, Cabbage, Cactus fruit, Cantaloupe (2 varieties), Carambula, Carrot, Cauliflower, Cherry (different varieties, Rainier), Cherry Wax (Yellow, Red, Black), Chestnut, Clementine, Cocos, Corn (with husk), Cucumber (ripened, regular), Dates, Eggplant, Fig, Ginger Root, Granadilla, Grape (Blue, Pink, White (different varieties)), Grapefruit (Pink, White), Guava, Hazelnut, Huckleberry, Kiwi, Kaki, Kohlrabi, Kumsquats, Lemon (normal, Meyer), Lime, Lychee, Mandarine, Mango (Green, Red), Mangostan, Maracuja, Melon Piel de Sapo, Mulberry, Nectarine (Regular, Flat), Nut (Forest, Pecan), Onion (Red, White), Orange, Papaya, Passion fruit, Peach (different varieties), Pepino, Pear (different varieties, Abate, Forelle, Kaiser, Monster, Red, Stone, Williams), Pepper (Red, Green, Orange, Yellow), Physalis (normal, with Husk), Pineapple (normal, Mini), Pitahaya Red, Plum (different varieties), Pomegranate, Pomelo Sweetie, Potato (Red, Sweet, White), Quince, Rambutan, Raspberry, Redcurrant, Salak, Strawberry (normal, Wedge), Tamarillo, Tangelo, Tomato (different varieties, Maroon, Cherry Red, Yellow, not ripened, Heart), Walnut, Watermelon, Zucchini (green and dark)."
   ]
  },
  {
   "cell_type": "markdown",
   "id": "1dce288a-b1fd-4a15-b970-c18e9e1e6553",
   "metadata": {},
   "source": [
    "[Vegetable Image Dataset](https://www.kaggle.com/datasets/misrakahmed/vegetable-image-dataset): Bean\n",
    "Bitter_Gourd\n",
    "Bottle_Gourd\n",
    "Brinjal\n",
    "Broccoli\n",
    "Cabbage\n",
    "Capsicum\n",
    "Carrot\n",
    "Cauliflower\n",
    "Cucumber\n",
    "Papaya\n",
    "Potato\n",
    "Pumpkin\n",
    "Radish\n",
    "Tomato"
   ]
  },
  {
   "cell_type": "markdown",
   "id": "25012bdd-d2c2-49d1-8e51-6cb4a54ac572",
   "metadata": {},
   "source": [
    "[Fruit classification(10 Class)](https://www.kaggle.com/datasets/karimabdulnabi/fruit-classification10-class): Apple\n",
    "Orange\n",
    "Avocado\n",
    "Kiwi\n",
    "Mango\n",
    "Pinenapple\n",
    "Strawberries\n",
    "Banana\n",
    "Cherry\n",
    "Watermelon"
   ]
  },
  {
   "cell_type": "markdown",
   "id": "757b47f8-0605-469a-a9cc-dc3f241b023b",
   "metadata": {},
   "source": [
    "Классы на русском"
   ]
  },
  {
   "cell_type": "raw",
   "id": "19119635-2af1-421e-9023-6029339598d6",
   "metadata": {},
   "source": [
    "(\"Яблоко\", \"Апельсин\", \"Авокадо\", \"Киви\", \"Манго\", \"Ананас\", \"Клубника\", \"Банан\", \"Вишня\", \"Арбуз\", \"Фасоль\",\n",
    " \"Тыква\", \"Брокколи\", \"Капуста\", \"Морковь\", \"Цветная капуста\", \"Огурец\", \"Папайя\", \"Картофель\", \"Помидор\",\n",
    " \"Абрикос\", \"Черника\", \"Плоды кактуса\", \"Дыня\", \"карамбула\", \"кокос\", \"кукуруза\", \"виноград\", \"лимон\", \"мандарин\", \"Персик\", \"Груша\", \"Перец\",)"
   ]
  },
  {
   "cell_type": "markdown",
   "id": "55f241a4-c22c-4f83-8b7b-22da38490dd5",
   "metadata": {},
   "source": [
    "классы которые будем парсить"
   ]
  },
  {
   "cell_type": "code",
   "execution_count": 1,
   "id": "36852b5a-5fce-41fa-b06f-526109182a74",
   "metadata": {},
   "outputs": [],
   "source": [
    "classes = (\n",
    "    \"Яблоко\",\n",
    "    \"Апельсин\",\n",
    "    \"Ананас\",\n",
    "    \"Клубник\",\n",
    "    \"Банан\",\n",
    "    \"Арбуз\",\n",
    "    \"Тыква\",\n",
    "    \"Капуста\",\n",
    "    \"Морковь\",\n",
    "    \"Цветная капуста\",\n",
    "    \"Помидор\",\n",
    "    \"Абрикос\",\n",
    "    \"Плоды кактуса\",\n",
    "    \"Дыня\",\n",
    "    \"кукуруза\",\n",
    "    \"лимоны\",\n",
    "    \"мандарин\",\n",
    "    \"Персики\",\n",
    "    \"Груша\",\n",
    ")"
   ]
  },
  {
   "cell_type": "code",
   "execution_count": 2,
   "id": "278402f2-cce6-4d41-85ec-f73c8e1f3bf1",
   "metadata": {},
   "outputs": [],
   "source": [
    "import os\n",
    "import sys\n",
    "\n",
    "# добавляем главную директорию в путь\n",
    "nb_dir = os.path.split(os.getcwd())[0]\n",
    "if nb_dir not in sys.path:\n",
    "    sys.path.append(nb_dir)"
   ]
  },
  {
   "cell_type": "code",
   "execution_count": 3,
   "id": "d776cf08-38e2-4805-8849-8d0e4056065b",
   "metadata": {},
   "outputs": [],
   "source": [
    "from Tools import goskatalog_parser, zip_files\n",
    "from pathlib import Path"
   ]
  },
  {
   "cell_type": "code",
   "execution_count": 4,
   "id": "b25b5a75-4389-4ed6-b1bd-fe7d2c5f1917",
   "metadata": {},
   "outputs": [],
   "source": [
    "path_to_save = Path.cwd() / \"goskatalog_art\""
   ]
  },
  {
   "cell_type": "code",
   "execution_count": 5,
   "id": "789d1635-ce77-4e23-8781-6bf9d88a09ae",
   "metadata": {},
   "outputs": [
    {
     "data": {
      "application/vnd.jupyter.widget-view+json": {
       "model_id": "d4712da373844c35a8e6a2eab3c58277",
       "version_major": 2,
       "version_minor": 0
      },
      "text/plain": [
       "Downloading Апельсин:   0%|          | 0/2 [00:00<?, ?it/s]"
      ]
     },
     "metadata": {},
     "output_type": "display_data"
    },
    {
     "data": {
      "application/vnd.jupyter.widget-view+json": {
       "model_id": "b9088d9837ce4310bd6683a425b54af9",
       "version_major": 2,
       "version_minor": 0
      },
      "text/plain": [
       "Downloading Ананас:   0%|          | 0/1 [00:00<?, ?it/s]"
      ]
     },
     "metadata": {},
     "output_type": "display_data"
    },
    {
     "data": {
      "application/vnd.jupyter.widget-view+json": {
       "model_id": "503f8d713b8046f78f2eb087e19b07f8",
       "version_major": 2,
       "version_minor": 0
      },
      "text/plain": [
       "Downloading Клубник:   0%|          | 0/1 [00:00<?, ?it/s]"
      ]
     },
     "metadata": {},
     "output_type": "display_data"
    },
    {
     "data": {
      "application/vnd.jupyter.widget-view+json": {
       "model_id": "007ef1a1c11442738e0f660f31d2e6cc",
       "version_major": 2,
       "version_minor": 0
      },
      "text/plain": [
       "Downloading Банан:   0%|          | 0/1 [00:00<?, ?it/s]"
      ]
     },
     "metadata": {},
     "output_type": "display_data"
    },
    {
     "data": {
      "application/vnd.jupyter.widget-view+json": {
       "model_id": "ceca258022ee47628e507b047e9b047e",
       "version_major": 2,
       "version_minor": 0
      },
      "text/plain": [
       "Downloading Арбуз:   0%|          | 0/4 [00:00<?, ?it/s]"
      ]
     },
     "metadata": {},
     "output_type": "display_data"
    },
    {
     "data": {
      "application/vnd.jupyter.widget-view+json": {
       "model_id": "40a0a63321234d318d4fccff99f8514f",
       "version_major": 2,
       "version_minor": 0
      },
      "text/plain": [
       "Downloading Тыква:   0%|          | 0/1 [00:00<?, ?it/s]"
      ]
     },
     "metadata": {},
     "output_type": "display_data"
    },
    {
     "data": {
      "application/vnd.jupyter.widget-view+json": {
       "model_id": "def8e0c0b9ca483ea85f179f630cd4e5",
       "version_major": 2,
       "version_minor": 0
      },
      "text/plain": [
       "Downloading Капуста:   0%|          | 0/1 [00:00<?, ?it/s]"
      ]
     },
     "metadata": {},
     "output_type": "display_data"
    },
    {
     "data": {
      "application/vnd.jupyter.widget-view+json": {
       "model_id": "42a9fde3dfd841e29ba029315c20e63e",
       "version_major": 2,
       "version_minor": 0
      },
      "text/plain": [
       "Downloading Морковь:   0%|          | 0/1 [00:00<?, ?it/s]"
      ]
     },
     "metadata": {},
     "output_type": "display_data"
    },
    {
     "data": {
      "application/vnd.jupyter.widget-view+json": {
       "model_id": "bf30490dc5e04bea93422cb225f69305",
       "version_major": 2,
       "version_minor": 0
      },
      "text/plain": [
       "Downloading Цветная капуста:   0%|          | 0/1 [00:00<?, ?it/s]"
      ]
     },
     "metadata": {},
     "output_type": "display_data"
    },
    {
     "data": {
      "application/vnd.jupyter.widget-view+json": {
       "model_id": "66d3bc7d8b474ebc858888704e3f374a",
       "version_major": 2,
       "version_minor": 0
      },
      "text/plain": [
       "Downloading Помидор:   0%|          | 0/1 [00:00<?, ?it/s]"
      ]
     },
     "metadata": {},
     "output_type": "display_data"
    },
    {
     "data": {
      "application/vnd.jupyter.widget-view+json": {
       "model_id": "cba045f1888e4cb5adcf497ce14f3d75",
       "version_major": 2,
       "version_minor": 0
      },
      "text/plain": [
       "Downloading Абрикос:   0%|          | 0/1 [00:00<?, ?it/s]"
      ]
     },
     "metadata": {},
     "output_type": "display_data"
    },
    {
     "data": {
      "application/vnd.jupyter.widget-view+json": {
       "model_id": "fe5b6b6746644c91ba6ac066ec96c2ba",
       "version_major": 2,
       "version_minor": 0
      },
      "text/plain": [
       "Downloading Плоды кактуса:   0%|          | 0/1 [00:00<?, ?it/s]"
      ]
     },
     "metadata": {},
     "output_type": "display_data"
    },
    {
     "data": {
      "application/vnd.jupyter.widget-view+json": {
       "model_id": "317533e676624d1c8c80807eb9df2fc1",
       "version_major": 2,
       "version_minor": 0
      },
      "text/plain": [
       "Downloading Дыня:   0%|          | 0/1 [00:00<?, ?it/s]"
      ]
     },
     "metadata": {},
     "output_type": "display_data"
    },
    {
     "data": {
      "application/vnd.jupyter.widget-view+json": {
       "model_id": "3ec932dbf5c24098a6df3b92c2f88190",
       "version_major": 2,
       "version_minor": 0
      },
      "text/plain": [
       "Downloading кукуруза:   0%|          | 0/1 [00:00<?, ?it/s]"
      ]
     },
     "metadata": {},
     "output_type": "display_data"
    },
    {
     "data": {
      "application/vnd.jupyter.widget-view+json": {
       "model_id": "4871cbf3cf5945a58af567761622e8a1",
       "version_major": 2,
       "version_minor": 0
      },
      "text/plain": [
       "Downloading лимоны:   0%|          | 0/1 [00:00<?, ?it/s]"
      ]
     },
     "metadata": {},
     "output_type": "display_data"
    },
    {
     "data": {
      "application/vnd.jupyter.widget-view+json": {
       "model_id": "1a48fba9472d4b6b98bfce0568a5c5f7",
       "version_major": 2,
       "version_minor": 0
      },
      "text/plain": [
       "Downloading мандарин:   0%|          | 0/1 [00:00<?, ?it/s]"
      ]
     },
     "metadata": {},
     "output_type": "display_data"
    },
    {
     "data": {
      "application/vnd.jupyter.widget-view+json": {
       "model_id": "0bffa457899f4613bbddaea0df0591aa",
       "version_major": 2,
       "version_minor": 0
      },
      "text/plain": [
       "Downloading Персики:   0%|          | 0/1 [00:00<?, ?it/s]"
      ]
     },
     "metadata": {},
     "output_type": "display_data"
    },
    {
     "data": {
      "application/vnd.jupyter.widget-view+json": {
       "model_id": "8635d868117c4c3f81fbe05c063fd2b7",
       "version_major": 2,
       "version_minor": 0
      },
      "text/plain": [
       "Downloading Груша:   0%|          | 0/2 [00:00<?, ?it/s]"
      ]
     },
     "metadata": {},
     "output_type": "display_data"
    },
    {
     "data": {
      "text/plain": [
       "WindowsPath('D:/P_work/img_classifier/Notebooks/goskatalog_art/art_dataset')"
      ]
     },
     "execution_count": 5,
     "metadata": {},
     "output_type": "execute_result"
    }
   ],
   "source": [
    "mypath, missing_art = goskatalog_parser(classes, path_to_save)\n",
    "mypath"
   ]
  },
  {
   "cell_type": "code",
   "execution_count": 6,
   "id": "22f9a656-6439-4205-9244-28cb135e7d3d",
   "metadata": {},
   "outputs": [
    {
     "data": {
      "text/plain": [
       "[{7532649,\n",
       "  'Живопись. \"Король и принц\". Панно по мотивам оперы С.С. Прокофьева \"Любовь к трем апельсинам\".'},\n",
       " {7532631,\n",
       "  'Живопись. Панно по мотивам оперы С.С. Прокофьева \"Любовь к трем апельсинам\". Правая часть.'},\n",
       " {7532621,\n",
       "  'Театрально-декорационное искусство. Панно по мотивам оперы С.С. Прокофьева \"Любовь к трем апельсинам\". Триптих. Центральная часть (апельсины и белый принц). Московский музыкальный театр им. К.С. Станиславского и В.Н. Немировича-Данченко'},\n",
       " {7532620,\n",
       "  'Театрально-декорационное искусство. Панно по мотивам оперы С.С. Прокофьева \"Любовь к трем апельсинам\". Триптих. Левая часть. Московский музыкальный театр им. К.С. Станиславского и В.Н. Немировича-Данченко'},\n",
       " {'\"Натюрморт. Апельсины\"', 6643256},\n",
       " {6148787,\n",
       "  'Прокофьев С.С. Оп. \"Любовь к трем апельсинам\". МАЛЕГОТ, 1963 г. Постановщик - Петров Ю.А., дирижер - Грикуров Э.П. Художник - Мукосеева М.А. Эскиз декорации. Комната принца. В бело-зеленых тонах. На первом плане в коляске сидит больной, на груди надпись \"Тарталья\". Вглубь ведет длинный зеленый коридор'},\n",
       " {6148748,\n",
       "  'Прокофьев С.С. Оп. \"Любовь к трем апельсинам\". МАЛЕГОТ, 1963 г. Постановщик - Петров Ю.А., дирижер - Грикуров Э.П. Художник - Мукосеева М.А. Эскиз декорации. Финал. В розовато-сероватых тонах. Слева в объятьях принц и Нинетта, контуры толпы. В центре надпись: \"а вот финал\"'},\n",
       " {6148745,\n",
       "  'Прокофьев С.С. Оп. \"Любовь к трем апельсинам\". МАЛЕГОТ, 1963 г. Постановщик - Петров Ю.А., дирижер - Грикуров Э.П. Художник - Мукосеева М.А. Эскиз декорации. Пустыня. У трех апельсинов - принцессы, две из них стоят вниз головой. Справа на сердце подвешены вывески: \"пустыня\", \"несчастные принцессы умирают от жажды\"'},\n",
       " {6148597,\n",
       "  'Прокофьев С.С. Опера \"Любовь к трем апельсинам\". Постановка. Художник П.К. Ершов. Эскизы костюмов. Эскиз костюма поварихи и мужского костюма. Повариха в красно-желтой косынке, в желтой кофте и красно-белой полосатой юбке. За поясом нож и вилка, в руке большая ложка. Слева - мужской костюм зеленого цвета, кюлоты, красно-зеленые чулки, красно-зеленая шляпа с козырьком'},\n",
       " {1058290, 'Декорация. \"Любовь к трем апельсинам\"'},\n",
       " {1044844, 'Декорация. \"Любовь к трем апельсинам\"'},\n",
       " {1001601, 'Костюм. \"Любовь к трем апельсинам\"'},\n",
       " {4125136, 'В саду. Натюрморт с клубникой'},\n",
       " {1672657, 'Клубника на севере'},\n",
       " {6643279, 'Продавщица бананов.'},\n",
       " {'\"Саранча под травяным бананом\".', 5152219},\n",
       " {1244147, 'Натюрморт с арбузом'},\n",
       " {5719984, 'плакат. \"Китайская капуста\".'},\n",
       " {1242173, 'Абрикосы'},\n",
       " {5147176, 'Свиток живописи. \"Уточки-мандаринки и ветка сливы\" (3-й справа).'},\n",
       " {'\"Персики\"', 6643092},\n",
       " {6642862, 'Персики и виноград.'},\n",
       " {6042765, 'Цветущие персики.'},\n",
       " {'\"Персики\".', 5719955},\n",
       " {'\"Персики\".', 5152227},\n",
       " {5870967, 'Груша'}]"
      ]
     },
     "execution_count": 6,
     "metadata": {},
     "output_type": "execute_result"
    }
   ],
   "source": [
    "missing_art"
   ]
  },
  {
   "cell_type": "code",
   "execution_count": 7,
   "id": "5abf2622-569d-42c7-8209-3f8da11f3760",
   "metadata": {},
   "outputs": [
    {
     "data": {
      "text/plain": [
       "'D:\\\\P_work\\\\img_classifier\\\\Notebooks\\\\goskatalog_art.zip'"
      ]
     },
     "execution_count": 7,
     "metadata": {},
     "output_type": "execute_result"
    }
   ],
   "source": [
    "zip_path = zip_files(path_to_save)\n",
    "zip_path"
   ]
  }
 ],
 "metadata": {
  "kernelspec": {
   "display_name": "Python 3 (ipykernel)",
   "language": "python",
   "name": "python3"
  },
  "language_info": {
   "codemirror_mode": {
    "name": "ipython",
    "version": 3
   },
   "file_extension": ".py",
   "mimetype": "text/x-python",
   "name": "python",
   "nbconvert_exporter": "python",
   "pygments_lexer": "ipython3",
   "version": "3.12.6"
  }
 },
 "nbformat": 4,
 "nbformat_minor": 5
}

{
  "cells": [
    {
      "cell_type": "markdown",
      "metadata": {
        "id": "W2CD5Gk41x0a"
      },
      "source": [
        "# Объединение датасетов Vegetables, fruits360, tasty_fruit"
      ]
    },
    {
      "cell_type": "markdown",
      "metadata": {
        "id": "oac_-Q0i3Yfc"
      },
      "source": [
        "Из разведовательных анализов отдельно каждого датасета известно, что:  \n",
        "- Датасет **Vegetables** - сбалансирован, имеет по 1400 изображений в каждой из 15 категорий.\n",
        "- Датасет **fruits360** - имеет множество категорий. Многие категории являются подклассами для определенной категории (к примеру, категории разных типов яблок можно отнести к категории \"Яблоко\").\n",
        "- Датасет **tasty_fruit** - имеет около 330 изображений для каждой из 10 категорий.\n",
        "\n",
        "Так как датасет Vegetables уже сбалансирован, то **требуемое количество изображений для категории можно взять 1400**\n",
        "\n",
        "Принято решение в датасете fruits360 выделить обобщенные категории, из этих категорий выбрать те, которые соответствуют требуемому количеству изображений (в них расположены чаще встречаемые фрукты) и категории, которые можно объединить с категориями из других датасетов.  \n",
        "Для категорий, в которых будет недостаточно изображений применить oversampling.  \n",
        "Для категорий, превышающих требуемое количество изображений применить undersampling."
      ]
    },
    {
      "cell_type": "code",
      "execution_count": null,
      "metadata": {
        "id": "ObL9LpKSoGNr"
      },
      "outputs": [],
      "source": [
        "import zipfile\n",
        "import os\n",
        "import numpy as np\n",
        "import matplotlib.pyplot as plt\n",
        "import seaborn as sns\n",
        "\n",
        "import re\n",
        "from tqdm.auto import tqdm\n",
        "import shutil\n",
        "\n",
        "from PIL import Image, ImageEnhance\n",
        "import random"
      ]
    },
    {
      "cell_type": "code",
      "execution_count": null,
      "metadata": {
        "id": "uP0LLbavVHek"
      },
      "outputs": [],
      "source": [
        "FILES_COUNT = 1400\n",
        "MV_FILES_COUNT = int(FILES_COUNT * 0.4)\n",
        "RM_FILES_COUNT = FILES_COUNT - MV_FILES_COUNT"
      ]
    },
    {
      "cell_type": "code",
      "execution_count": null,
      "metadata": {
        "colab": {
          "base_uri": "https://localhost:8080/"
        },
        "id": "jFTxqxPhoVRQ",
        "outputId": "5d20ca71-23b8-4950-ba21-49047d2f1640"
      },
      "outputs": [
        {
          "output_type": "stream",
          "name": "stdout",
          "text": [
            "Mounted at /content/drive\n"
          ]
        }
      ],
      "source": [
        "try:\n",
        "    from google.colab import drive\n",
        "    drive.mount('/content/drive')\n",
        "    DRIVE_DIR = os.path.join('/content/drive', 'MyDrive')\n",
        "except ImportError:\n",
        "    DRIVE_DIR = os.getcwd()\n",
        "\n",
        "DATASET_DIR = os.path.join(os.getcwd(), 'dataset')\n",
        "os.makedirs(DATASET_DIR, exist_ok=True)"
      ]
    },
    {
      "cell_type": "code",
      "execution_count": null,
      "metadata": {
        "colab": {
          "base_uri": "https://localhost:8080/"
        },
        "id": "FbzPyYRRuREq",
        "outputId": "48c9015c-82f7-43af-e9fe-2bf85231f6c8"
      },
      "outputs": [
        {
          "output_type": "stream",
          "name": "stdout",
          "text": [
            "['Stawberries', 'Walnut 1', 'Pepper Yellow 1', 'Cherry 1', 'Nectarine Flat 1', 'Mangostan 1', 'Cherry Wax Red 1', 'Pear Monster 1', 'Pinenapple', 'Nut Pecan 1', 'Cucumber Ripe 1', 'Huckleberry 1', 'Mango', 'Tomato 3', 'Cantaloupe 2', 'Carrot', 'Apple hit 1', 'Apple Braeburn 1', 'Potato Sweet 1', 'Brinjal', 'Pear Williams 1', 'Cabbage', 'Apple 6', 'Kohlrabi 1', 'Apple', 'Onion Red 1', 'Potato White 1', 'Cantaloupe 1', 'Tomato', 'Cauliflower', 'Grape Blue 1', 'Melon Piel de Sapo 1', 'Plum 2', 'Cucumber 3', 'Dates 1', 'Apple Red 2', 'Watermelon', 'Pear Forelle 1', 'Lemon 1', 'Cherry', 'Mango Red 1', 'Chestnut 1', 'Potato Red Washed 1', 'Tomato Heart 1', 'Grape White 2', 'Peach Flat 1', 'Passion Fruit 1', 'Plum 3', 'Apple Red Yellow 2', 'Onion White 1', 'Onion Red Peeled 1', 'Peach 2', 'Apple Crimson Snow 1', 'Grapefruit Pink 1', 'Maracuja 1', 'Apple Golden 2', 'Orange 1', 'Apple Red Delicious 1', 'Potato Red 1', 'Rambutan 1', 'Tomato 4', 'Lychee 1', 'Avocado ripe 1', 'Pomelo Sweetie 1', 'Lemon Meyer 1', 'Capsicum', 'Grape White 1', 'Papaya', 'Papaya 1', 'Pear Abate 1', 'Cherry Wax Black 1', 'Avocado 1', 'Pepper Red 1', 'Corn 1', 'Fig 1', 'Clementine 1', 'Pepper Orange 1', 'Cocos 1', 'Orange', 'Potato', 'Strawberry Wedge 1', 'Strawberry 1', 'Radish', 'Apple Golden 1', 'Carrot 1', 'Cauliflower 1', 'Kaki 1', 'Physalis 1', 'Cherry Wax Yellow 1', 'Kiwi 1', 'Grapefruit White 1', 'Cherry Rainier 1', 'Cucumber', 'Pineapple Mini 1', 'Tomato Cherry Red 1', 'Pear 3', 'Cucumber Ripe 2', 'Raspberry 1', 'Nut Forest 1', 'Cactus fruit 1', 'Mandarine 1', 'Apricot 1', 'Broccoli', 'Grape White 4', 'Avocado', 'Pear Red 1', 'Plum 1', 'Eggplant long 1', 'Tomato not Ripened 1', 'Kumquats 1', 'Ginger Root 1', 'Banana Lady Finger 1', 'Pepino 1', 'Pineapple 1', 'Pear 1', 'Kiwi', 'Redcurrant 1', 'Pear Stone 1', 'Blueberry 1', 'Beetroot 1', 'Quince 1', 'Eggplant 1', 'Bitter_Gourd', 'Pomegranate 1', 'Apple Golden 3', 'Nectarine 1', 'Zucchini dark 1', 'Tangelo 1', 'Bean', 'Bottle_Gourd', 'Tomato 2', 'Apple Red 1', 'Corn Husk 1', 'Banana 1', 'Apple Pink Lady 1', 'Physalis with Husk 1', 'Grape White 3', 'Tomato Yellow 1', 'Pitahaya Red 1', 'Pear Kaiser 1', 'Pear 2', 'Salak 1', 'Tamarillo 1', 'Pumpkin', 'Cherry 2', 'Banana', 'Cucumber 1', 'Apple Red Yellow 1', 'Apple Granny Smith 1', 'Limes 1', 'Peach 1', 'Tomato 1', 'Pepper Green 1', 'Cabbage white 1', 'Guava 1', 'Carambula 1', 'Grape Pink 1', 'Hazelnut 1', 'Granadilla 1', 'Apple Red 3', 'Zucchini 1', 'Mulberry 1', 'Banana Red 1', 'Watermelon 1', 'Tomato Maroon 1', 'Mango 1'] Начальных категорий\n"
          ]
        }
      ],
      "source": [
        "# Распаковка архива\n",
        "with zipfile.ZipFile(os.path.join(DRIVE_DIR,'dataset.zip'), 'r') as zip_ref:\n",
        "    zip_ref.extractall('./')\n",
        "\n",
        "# Проверим структуру папок\n",
        "print(f'{os.listdir(DATASET_DIR)} Начальных категорий')"
      ]
    },
    {
      "cell_type": "markdown",
      "metadata": {
        "id": "ay0s7figBNLN"
      },
      "source": [
        "## Обобщение категорий"
      ]
    },
    {
      "cell_type": "markdown",
      "metadata": {
        "id": "SFjGzqEJ7jCo"
      },
      "source": [
        "Категории из fruits360 имеют число в конце названия, по числу можно отличить от других датасетов"
      ]
    },
    {
      "cell_type": "code",
      "execution_count": null,
      "metadata": {
        "colab": {
          "base_uri": "https://localhost:8080/"
        },
        "id": "tmlcLbI8u5y-",
        "outputId": "499e7bb8-d955-4ea6-97c2-c078681aa91b"
      },
      "outputs": [
        {
          "output_type": "stream",
          "name": "stdout",
          "text": [
            "Обобщенных категорий 80\n",
            "Изначальных категорий 166\n"
          ]
        }
      ],
      "source": [
        "prev_classes = os.listdir(DATASET_DIR)\n",
        "classes = []\n",
        "for cl in prev_classes:\n",
        "    split_name = cl.split(' ')\n",
        "    if split_name[0] not in classes:\n",
        "        classes.append(split_name[0])\n",
        "\n",
        "print(f'Обобщенных категорий {len(classes)}')\n",
        "print(f'Изначальных категорий {len(prev_classes)}')\n"
      ]
    },
    {
      "cell_type": "markdown",
      "metadata": {
        "id": "mfgD1CAI7ujP"
      },
      "source": [
        "После обобщения категорий из fruits360 получилось 80 категорий, было 166"
      ]
    },
    {
      "cell_type": "code",
      "execution_count": null,
      "metadata": {
        "colab": {
          "base_uri": "https://localhost:8080/",
          "height": 49,
          "referenced_widgets": [
            "f3306c6022b14cf28f685c413b2801fe",
            "9f335b46c15a401a8dc79cebeb459aa4",
            "6bb71be2d40642b281bb1ec2899fe40f",
            "a2422a0fa34d4850997763a14285ad52",
            "2b197f2ce0f64e869b5fa0e37981d740",
            "53a8500366934e16a7b46c0622445c2f",
            "285e7fce9ab8472a997d8a6e9332787b",
            "17f5e9275837470897bba186976a2d28",
            "10d70e5d8888416ba58f2b8c92c001a0",
            "6b488a3e8492468d94d15feb82020f80",
            "23748123e4024b17bb71a6a710068e99"
          ]
        },
        "id": "tiRykpxo3xTd",
        "outputId": "650dedee-fcd9-4ee7-8ac8-1c58415df40e"
      },
      "outputs": [
        {
          "output_type": "display_data",
          "data": {
            "text/plain": [
              "0it [00:00, ?it/s]"
            ],
            "application/vnd.jupyter.widget-view+json": {
              "version_major": 2,
              "version_minor": 0,
              "model_id": "f3306c6022b14cf28f685c413b2801fe"
            }
          },
          "metadata": {}
        }
      ],
      "source": [
        "fruit360_classes = []\n",
        "prev_sum = 0\n",
        "for i, cl in tqdm(enumerate(prev_classes)):\n",
        "    is_fruit360 = re.match(r'.*\\s\\d+', cl) is not None\n",
        "    if is_fruit360:\n",
        "        prev_sum = prev_sum + 1\n",
        "        cl_name = cl.split(' ')[0]\n",
        "        cl_path = os.path.join(DATASET_DIR, cl)\n",
        "\n",
        "        new_cl_name = cl_name+'360'\n",
        "        new_cl_path = os.path.join(DATASET_DIR, new_cl_name)\n",
        "        if new_cl_name not in fruit360_classes:\n",
        "            os.makedirs(new_cl_path, exist_ok=True)\n",
        "            fruit360_classes.append(new_cl_name)\n",
        "\n",
        "        for img_name in os.listdir(cl_path):\n",
        "            file_path = os.path.join(DATASET_DIR, cl_path, img_name)\n",
        "            new_file_path = os.path.join(DATASET_DIR, new_cl_path, str(i)+'_'+img_name)\n",
        "            shutil.move(file_path, new_file_path)\n",
        "        if len(os.listdir(cl_path))> 0:\n",
        "            print(f\"Что-то пошло не так, не все файлы перемещены из папки {cl_path}\")\n",
        "        else:\n",
        "            os.rmdir(cl_path)"
      ]
    },
    {
      "cell_type": "code",
      "execution_count": null,
      "metadata": {
        "colab": {
          "base_uri": "https://localhost:8080/"
        },
        "id": "oQSPb-YDxO9q",
        "outputId": "1efc304c-3fbc-41a3-ff1c-ea6d2988deab"
      },
      "outputs": [
        {
          "output_type": "stream",
          "name": "stdout",
          "text": [
            "Было 141 классов fruits360, стало 70\n"
          ]
        }
      ],
      "source": [
        "print(f\"Было {prev_sum} классов fruits360, стало {len(fruit360_classes)}\")"
      ]
    },
    {
      "cell_type": "markdown",
      "metadata": {
        "id": "ZaOhW9IV78Zf"
      },
      "source": [
        "Категории из fruits360 удалось сократить примерно в 2 раза при помощи обобщения. Такое обобщение увеличит количество и разнообразие изображений для категорий."
      ]
    },
    {
      "cell_type": "code",
      "execution_count": null,
      "metadata": {
        "colab": {
          "base_uri": "https://localhost:8080/",
          "height": 727
        },
        "id": "NTnZ66yy8-TN",
        "outputId": "8a18015f-dc46-401d-da92-671eebc422ad"
      },
      "outputs": [
        {
          "output_type": "display_data",
          "data": {
            "text/plain": [
              "<Figure size 2000x700 with 1 Axes>"
            ],
            "image/png": "[encoded data removed]"
          },
          "metadata": {}
        }
      ],
      "source": [
        "categories = os.listdir(DATASET_DIR)\n",
        "category_counts = {category: len(os.listdir(os.path.join(DATASET_DIR, category))) for category in categories}\n",
        "\n",
        "plt.figure(figsize=(20, 7))\n",
        "sns.barplot(x=list(category_counts.keys()), y=list(category_counts.values()))\n",
        "plt.xticks(rotation=90)\n",
        "plt.title('Количество изображений в каждой категории (Train)')\n",
        "plt.show()"
      ]
    },
    {
      "cell_type": "markdown",
      "metadata": {
        "id": "cYWTgbnb8_Rt"
      },
      "source": [
        "Пока что категории из fruits360, пересекающиеся с категориями из других датасетов, не объеденены. Датасет получается с большим количеством категорий и несбалансированным.  \n",
        "Можно убрать непопулярные категории с экзотическими фруктами и объединить повторяющиеся категории."
      ]
    },
    {
      "cell_type": "code",
      "execution_count": null,
      "metadata": {
        "colab": {
          "base_uri": "https://localhost:8080/"
        },
        "id": "50nK_FFn4lCm",
        "outputId": "f9f6e572-6fdb-4699-fbd3-d44fe7de7fbe"
      },
      "outputs": [
        {
          "output_type": "stream",
          "name": "stdout",
          "text": [
            "Новых категорий из fruits360: 8\n",
            "Категорий для объединения из fruits360: 15\n",
            "Категорий с малым количеством данных fruits360: 47\n"
          ]
        }
      ],
      "source": [
        "to_merge = []\n",
        "to_add = []\n",
        "others = []\n",
        "dirs = np.array(os.listdir(DATASET_DIR))\n",
        "for cl in fruit360_classes:\n",
        "    if cl[0:-3] in dirs:\n",
        "        to_merge.append(cl)\n",
        "    elif len(os.listdir(os.path.join(DATASET_DIR, cl))) > FILES_COUNT:\n",
        "        to_add.append(cl)\n",
        "    else:\n",
        "        others.append(cl)\n",
        "\n",
        "print(f'Новых категорий из fruits360: {len(to_add)}')\n",
        "print(f'Категорий для объединения из fruits360: {len(to_merge)}')\n",
        "print(f'Категорий с малым количеством данных fruits360: {len(others)}')"
      ]
    },
    {
      "cell_type": "markdown",
      "metadata": {
        "id": "DTUfdAsz8ds-"
      },
      "source": [
        "Категории с малым количеством данных fruits360 отбросим, т.к. в них представлены фото немногочисленного количества фруктов (~1-3) под разным углом."
      ]
    },
    {
      "cell_type": "code",
      "execution_count": null,
      "metadata": {
        "id": "xVHqkk3h5ww6",
        "colab": {
          "base_uri": "https://localhost:8080/"
        },
        "outputId": "89021709-32e5-4df2-841a-c9f12cd5cea7"
      },
      "outputs": [
        {
          "output_type": "stream",
          "name": "stdout",
          "text": [
            "Промежуточный этап сохранен в /content/drive/MyDrive/inter_dataset\n"
          ]
        }
      ],
      "source": [
        "# Сохранение промежуточного результата\n",
        "INTER_ZIP_PATH = os.path.join(DRIVE_DIR,'inter_dataset')\n",
        "shutil.make_archive(INTER_ZIP_PATH, 'zip', DATASET_DIR)\n",
        "print(f'Промежуточный этап сохранен в {INTER_ZIP_PATH}')"
      ]
    },
    {
      "cell_type": "markdown",
      "metadata": {
        "id": "Uh9PduaUBcDO"
      },
      "source": [
        "## Балансировка изображений в категориях, удаление лишних категорий"
      ]
    },
    {
      "cell_type": "markdown",
      "metadata": {
        "id": "Err3F12a9nLz"
      },
      "source": [
        "Для oversampling используется:\n",
        "- поворот изображения на определенный градус\n",
        "- изменение яркости изображения\n",
        "- изменение контрастности изображения\n",
        "- отзеркаливание изображения"
      ]
    },
    {
      "cell_type": "code",
      "execution_count": null,
      "metadata": {
        "id": "lkRYJZUo-pKL"
      },
      "outputs": [],
      "source": [
        "def rotate_img(img, angle)  -> Image:\n",
        "  img_rotated = img.rotate(angle, fillcolor=(255, 255, 255))\n",
        "  return img_rotated\n",
        "\n",
        "def brightness_img(img, brightness_coeff)  -> Image:\n",
        "  enhancer = ImageEnhance.Brightness(img)\n",
        "  img_brightened = enhancer.enhance(brightness_coeff)\n",
        "  return img_brightened.convert('RGB')\n",
        "\n",
        "def contrasted_img(img, contrast_coeff)  -> Image:\n",
        "  enhancer = ImageEnhance.Contrast(img)\n",
        "  img_contrasted  = enhancer.enhance(contrast_coeff)\n",
        "  return img_contrasted.convert('RGB')\n",
        "\n",
        "def transpose_img(img) -> Image:\n",
        "    img_transposed = img.transpose(Image.FLIP_LEFT_RIGHT)\n",
        "    return img_transposed\n"
      ]
    },
    {
      "cell_type": "markdown",
      "metadata": {
        "id": "rBDxUuV8955t"
      },
      "source": [
        "Для undersampling будут выбраны случайные изображения для удаления  \n",
        "Oversampling использует вышеперечисленные методы"
      ]
    },
    {
      "cell_type": "code",
      "execution_count": null,
      "metadata": {
        "id": "KKr1ngqxAYaN"
      },
      "outputs": [],
      "source": [
        "def save_if_not_exist(file_path, img:Image):\n",
        "    if os.path.exists(file_path) == False:\n",
        "        img.save(file_path)\n",
        "        return True\n",
        "    return False\n",
        "\n",
        "def add_new_images(dir_path, filename, prev_count, max_count):\n",
        "    img = Image.open(os.path.join(dir_path, filename))\n",
        "    if img.mode != 'RGB':\n",
        "        img= img.convert('RGB')\n",
        "    br = round(random.uniform(0.5, 1.5), 2)\n",
        "    while br == 1:\n",
        "        br = round(random.uniform(0.5, 1.5), 2)\n",
        "    br_img = brightness_img(img, br)\n",
        "    if save_if_not_exist(os.path.join(dir_path, f'br{br}_{filename}'), br_img):\n",
        "      prev_count=prev_count+1\n",
        "    if prev_count == max_count:\n",
        "        return prev_count\n",
        "    deg = random.randint(1, 359)\n",
        "    deg_img = rotate_img(img, deg)\n",
        "    if save_if_not_exist(os.path.join(dir_path, f'deg{deg}_{filename}'), deg_img):\n",
        "      prev_count=prev_count+1\n",
        "    if prev_count == max_count:\n",
        "        return prev_count\n",
        "    contr = round(random.uniform(0.5, 1.5), 2)\n",
        "    while contr == 1:\n",
        "        contr = round(random.uniform(0.5, 1.5), 2)\n",
        "    contr_img = contrasted_img(img, contr)\n",
        "    if save_if_not_exist(os.path.join(dir_path, f'contr{contr}_{filename}'), contr_img):\n",
        "        prev_count=prev_count+1\n",
        "    return prev_count\n",
        "\n",
        "\n",
        "def oversampling_images(dir_path, max_count):\n",
        "    files = os.listdir(dir_path)\n",
        "    count = len(files)\n",
        "    if count > 0:\n",
        "        while count < max_count:\n",
        "            for f in files:\n",
        "                count = add_new_images(dir_path, f, count, max_count)\n",
        "                if count == max_count:\n",
        "                    break\n",
        "                img = Image.open(os.path.join(dir_path, f)).copy()\n",
        "                if img.mode != 'RGB':\n",
        "                    img= img.convert('RGB')\n",
        "                tr_img = transpose_img(img)\n",
        "                if save_if_not_exist(os.path.join(dir_path, f'transp_{f}'), tr_img):\n",
        "                    count = count + 1\n",
        "                count = add_new_images(dir_path, f'transp_{f}', count, max_count)\n",
        "                if count == max_count:\n",
        "                    break\n",
        "\n",
        "def undersampling_images(dir_path, max_count):\n",
        "    files = os.listdir(dir_path)\n",
        "    count = len(files)\n",
        "    if count > max_count:\n",
        "        files_to_remove = random.sample(files, count-max_count)\n",
        "        for f in files_to_remove:\n",
        "            rm_path = os.path.join(dir_path, f)\n",
        "            if os.path.exists(rm_path):\n",
        "                os.remove(rm_path)\n",
        "            else:\n",
        "                print('Файл {rm_path} не найден')"
      ]
    },
    {
      "cell_type": "code",
      "execution_count": null,
      "metadata": {
        "id": "taq9V_3y4xz6"
      },
      "outputs": [],
      "source": [
        "# Добавляет категорию с указанным к-вом файлов\n",
        "def add_category(prev_path, new_path):\n",
        "    # Из условия: всегда больше FILES_COUNT, поэтому выполняется undersampling_images\n",
        "    file_count = len(os.listdir(prev_path))\n",
        "    print(f'В {prev_path} {file_count} файлов для добавления, undersampling')\n",
        "    undersampling_images(prev_path, FILES_COUNT)\n",
        "    os.rename(prev_path, new_path)\n",
        "\n",
        "\n",
        "# Объединяет категории\n",
        "def merge_categories(path_to_move, path_to_remove):\n",
        "\n",
        "    # Для файлов, которые будут удалены из конечной папки\n",
        "    files_to_remove = []\n",
        "    file_count = len(os.listdir(path_to_move))\n",
        "    # Если файлов меньше константы, то увеличить число до максимального, файлы не удаляются\n",
        "    # Иначе удалить из папки ({кв-о файлов} - {макс. число})\n",
        "    if file_count < RM_FILES_COUNT:\n",
        "        oversampling_images(path_to_move, RM_FILES_COUNT)\n",
        "        print(f'В {path_to_move} {file_count} файлов для объединения, Увеличилось до {len(os.listdir(path_to_move))}')\n",
        "    elif file_count > RM_FILES_COUNT:\n",
        "        rm_count = len(os.listdir(path_to_move))\n",
        "        files_to_remove=random.sample(os.listdir(path_to_move), rm_count - RM_FILES_COUNT)\n",
        "        print(f'В {path_to_move} {file_count} файлов для объединения. Следует удалить {len(files_to_remove)}')\n",
        "\n",
        "    # Для файлов, которые будут перенесены из удаляемой папки\n",
        "    files_to_move = []\n",
        "    file_count = len(os.listdir(path_to_remove))\n",
        "    #\n",
        "    if file_count < MV_FILES_COUNT:\n",
        "        oversampling_images(path_to_remove, MV_FILES_COUNT)\n",
        "        print(f'В {path_to_remove} {file_count} файлов для объединения. Осталось: {len(os.listdir(path_to_remove))} для перенесения')\n",
        "    elif file_count > MV_FILES_COUNT:\n",
        "        files_to_move = random.sample(os.listdir(path_to_remove), MV_FILES_COUNT)\n",
        "        print(f'В {path_to_remove} {file_count} файлов для объединения. Взято: {len(files_to_move)} для перенесения')\n",
        "    else:\n",
        "        files_to_move = os.listdir(path_to_remove)\n",
        "        print(f'В {path_to_remove} {file_count} файлов для объединения. Все: {len(files_to_move)} для перенесения')\n",
        "\n",
        "    # Перемещение файлов\n",
        "    for f in files_to_move:\n",
        "        # Переместить файл из первого (удаляемого) во второй (конечный) путь\n",
        "        shutil.move(os.path.join(path_to_remove, f), os.path.join(path_to_move, f))\n",
        "    shutil.rmtree(path_to_remove)\n",
        "    # Удаление файлов\n",
        "    for f in files_to_remove:\n",
        "        os.remove(os.path.join(path_to_move, f))"
      ]
    },
    {
      "cell_type": "code",
      "execution_count": null,
      "metadata": {
        "colab": {
          "base_uri": "https://localhost:8080/",
          "height": 1000,
          "referenced_widgets": [
            "13e3ee58eb094b1194fd5f864e583703",
            "41519937af2e4680b044ca84b4de4c14",
            "ed019027a6344183afc72c8a9e18e51b",
            "4888ee6c4dd44ac896f7e0461ec50e70",
            "a17eadfe64c64777876a618682c36d4f",
            "81580ba044ab400e9db628179faf9861",
            "ca4d40e815ab4d74919bdda7eadf0583",
            "ee61f867c5434f73b20ad2b0ba19a698",
            "8db0f297164f4b80a8ec84cf23175de2",
            "de60bd56a049445db820ba98b1f1f4d4",
            "4db42b202d7541d09d549a246bb1c4b4",
            "d1aa453f53654d87988d7c85a0a3eb5b",
            "6ebd9d6353104a2784bd5bcc74fe6dcf",
            "0f94e88c13644223bf063da88932c510",
            "9ba8dfbdbba14eddbfd2aefbba769911",
            "d8376221efbf424890fc6a94e7778a5e",
            "4465862bbf8b4411a24d186ae3b101fa",
            "475e6e4368a848bfaf2051ea02c18a65",
            "e3f96be8d3f24ad5962465609f2dcb55",
            "979f6d384546430bbd299d003c2f914e",
            "7799f6f302244a74aa395877cb05041b",
            "07b08d7e8f7c44be8115fb6dfd5e7c65",
            "227aa1ebaddd4b5883fe22fdd6ccc846",
            "da6d0c76a6354fe593c12e0acbd3856c",
            "730f2eee7ff443c1bbc36b6d1f1b2f10",
            "4fdfc738eadc4e6da098512553921458",
            "722a1a688774495fa549f9af101cb27f",
            "06a16a3f032b48d9b1943c36cd294ead",
            "6da112fc097e4d8b96d9926c6a180617",
            "03e98f8daf564682be36c91e9c1e4198",
            "3a9d96f2cc67435f9849430df9fe489f",
            "33f75c0583584dcb8e37058726e57e60",
            "0b26c265ae4d4e758ac9df8705fab946",
            "ea5b36f9e0884b34afb22f13c875f6bb",
            "425bb6b5357e45199e6491f8cd0d15d6",
            "7e7a188bbcfb4844aadf36cebf7467a0",
            "1473c76c0a14481881c70b5827c05e6d",
            "e4970a3655ba43e68852ee384ce48f1c",
            "8784d73808dd4d818af5eca1607854aa",
            "4821023229ed49e39fb200ff88b17d04",
            "6b234986a5c54616b7ddc271eadb58ba",
            "a4dc7a2c02a44e3f95cee14ac43b63d8",
            "8734fcd72dd24a1c880e33c334394531",
            "f88f0239ca204d02ac80ec8671392754"
          ]
        },
        "id": "K-7AEaek9RQE",
        "outputId": "a65fa406-41c8-46ff-d989-64b24f52d267"
      },
      "outputs": [
        {
          "output_type": "display_data",
          "data": {
            "text/plain": [
              "  0%|          | 0/8 [00:00<?, ?it/s]"
            ],
            "application/vnd.jupyter.widget-view+json": {
              "version_major": 2,
              "version_minor": 0,
              "model_id": "13e3ee58eb094b1194fd5f864e583703"
            }
          },
          "metadata": {}
        },
        {
          "output_type": "stream",
          "name": "stdout",
          "text": [
            "В /content/dataset/Pepper360 3304 файлов для добавления, undersampling\n",
            "В /content/dataset/Pear360 7013 файлов для добавления, undersampling\n",
            "В /content/dataset/Nut360 1584 файлов для добавления, undersampling\n",
            "В /content/dataset/Onion360 1779 файлов для добавления, undersampling\n",
            "В /content/dataset/Grape360 4565 файлов для добавления, undersampling\n",
            "В /content/dataset/Plum360 2364 файлов для добавления, undersampling\n",
            "В /content/dataset/Peach360 2296 файлов для добавления, undersampling\n",
            "В /content/dataset/Strawberry360 1640 файлов для добавления, undersampling\n"
          ]
        },
        {
          "output_type": "display_data",
          "data": {
            "text/plain": [
              "  0%|          | 0/15 [00:00<?, ?it/s]"
            ],
            "application/vnd.jupyter.widget-view+json": {
              "version_major": 2,
              "version_minor": 0,
              "model_id": "d1aa453f53654d87988d7c85a0a3eb5b"
            }
          },
          "metadata": {}
        },
        {
          "output_type": "stream",
          "name": "stdout",
          "text": [
            "В /content/dataset/Cherry 335 файлов для объединения, Увеличилось до 840\n",
            "В /content/dataset/Cherry360 4592 файлов для объединения. Взято: 560 для перенесения\n",
            "В /content/dataset/Cucumber 1400 файлов для объединения. Следует удалить 560\n",
            "В /content/dataset/Cucumber360 1671 файлов для объединения. Взято: 560 для перенесения\n",
            "В /content/dataset/Tomato 1400 файлов для объединения. Следует удалить 560\n",
            "В /content/dataset/Tomato360 6810 файлов для объединения. Взято: 560 для перенесения\n",
            "В /content/dataset/Apple 319 файлов для объединения, Увеличилось до 840\n",
            "В /content/dataset/Apple360 10104 файлов для объединения. Взято: 560 для перенесения\n",
            "В /content/dataset/Potato 1400 файлов для объединения. Следует удалить 560\n",
            "В /content/dataset/Potato360 2404 файлов для объединения. Взято: 560 для перенесения\n",
            "В /content/dataset/Mango 335 файлов для объединения, Увеличилось до 840\n",
            "В /content/dataset/Mango360 1224 файлов для объединения. Взято: 560 для перенесения\n",
            "В /content/dataset/Orange 327 файлов для объединения, Увеличилось до 840\n",
            "В /content/dataset/Orange360 639 файлов для объединения. Взято: 560 для перенесения\n",
            "В /content/dataset/Avocado 335 файлов для объединения, Увеличилось до 840\n",
            "В /content/dataset/Avocado360 1227 файлов для объединения. Взято: 560 для перенесения\n",
            "В /content/dataset/Papaya 1400 файлов для объединения. Следует удалить 560\n",
            "В /content/dataset/Papaya360 656 файлов для объединения. Взято: 560 для перенесения\n",
            "В /content/dataset/Carrot 1400 файлов для объединения. Следует удалить 560\n",
            "В /content/dataset/Carrot360 201 файлов для объединения. Осталось: 560 для перенесения\n",
            "В /content/dataset/Cauliflower 1400 файлов для объединения. Следует удалить 560\n",
            "В /content/dataset/Cauliflower360 936 файлов для объединения. Взято: 560 для перенесения\n",
            "В /content/dataset/Kiwi 335 файлов для объединения, Увеличилось до 840\n",
            "В /content/dataset/Kiwi360 622 файлов для объединения. Взято: 560 для перенесения\n",
            "В /content/dataset/Banana 336 файлов для объединения, Увеличилось до 840\n",
            "В /content/dataset/Banana360 1914 файлов для объединения. Взято: 560 для перенесения\n",
            "В /content/dataset/Cabbage 1400 файлов для объединения. Следует удалить 560\n",
            "В /content/dataset/Cabbage360 191 файлов для объединения. Осталось: 560 для перенесения\n",
            "В /content/dataset/Watermelon 335 файлов для объединения, Увеличилось до 840\n",
            "В /content/dataset/Watermelon360 632 файлов для объединения. Взято: 560 для перенесения\n"
          ]
        },
        {
          "output_type": "display_data",
          "data": {
            "text/plain": [
              "  0%|          | 0/47 [00:00<?, ?it/s]"
            ],
            "application/vnd.jupyter.widget-view+json": {
              "version_major": 2,
              "version_minor": 0,
              "model_id": "227aa1ebaddd4b5883fe22fdd6ccc846"
            }
          },
          "metadata": {}
        },
        {
          "output_type": "stream",
          "name": "stdout",
          "text": [
            "Walnut360 убрана\n",
            "Nectarine360 убрана\n",
            "Mangostan360 убрана\n",
            "Huckleberry360 убрана\n",
            "Cantaloupe360 убрана\n",
            "Kohlrabi360 убрана\n",
            "Melon360 убрана\n",
            "Dates360 убрана\n",
            "Lemon360 убрана\n",
            "Chestnut360 убрана\n",
            "Passion360 убрана\n",
            "Grapefruit360 убрана\n",
            "Maracuja360 убрана\n",
            "Rambutan360 убрана\n",
            "Lychee360 убрана\n",
            "Pomelo360 убрана\n",
            "Corn360 убрана\n",
            "Fig360 убрана\n",
            "Clementine360 убрана\n",
            "Cocos360 убрана\n",
            "Kaki360 убрана\n",
            "Physalis360 убрана\n",
            "Pineapple360 убрана\n",
            "Raspberry360 убрана\n",
            "Cactus360 убрана\n",
            "Mandarine360 убрана\n",
            "Apricot360 убрана\n",
            "Eggplant360 убрана\n",
            "Kumquats360 убрана\n",
            "Ginger360 убрана\n",
            "Pepino360 убрана\n",
            "Redcurrant360 убрана\n",
            "Blueberry360 убрана\n",
            "Beetroot360 убрана\n",
            "Quince360 убрана\n",
            "Pomegranate360 убрана\n",
            "Zucchini360 убрана\n",
            "Tangelo360 убрана\n",
            "Pitahaya360 убрана\n",
            "Salak360 убрана\n",
            "Tamarillo360 убрана\n",
            "Limes360 убрана\n",
            "Guava360 убрана\n",
            "Carambula360 убрана\n",
            "Hazelnut360 убрана\n",
            "Granadilla360 убрана\n",
            "Mulberry360 убрана\n"
          ]
        },
        {
          "output_type": "display_data",
          "data": {
            "text/plain": [
              "  0%|          | 0/33 [00:00<?, ?it/s]"
            ],
            "application/vnd.jupyter.widget-view+json": {
              "version_major": 2,
              "version_minor": 0,
              "model_id": "ea5b36f9e0884b34afb22f13c875f6bb"
            }
          },
          "metadata": {}
        },
        {
          "output_type": "stream",
          "name": "stdout",
          "text": [
            "В Stawberries 333 файлов, oversampling\n",
            "В Pinenapple 335 файлов, oversampling\n",
            "В Carrot 840 файлов, oversampling\n",
            "В Cabbage 840 файлов, oversampling\n"
          ]
        }
      ],
      "source": [
        "for cl in tqdm(to_add):\n",
        "    current_dir = os.path.join(DATASET_DIR, cl)\n",
        "    new_dir = os.path.join(DATASET_DIR, cl[0:-3])\n",
        "    add_category(current_dir, new_dir)\n",
        "\n",
        "for cl in tqdm(to_merge):\n",
        "    path_to_move = os.path.join(DATASET_DIR, cl[0:-3])\n",
        "    path_to_remove = os.path.join(DATASET_DIR, cl)\n",
        "    merge_categories(path_to_move, path_to_remove)\n",
        "\n",
        "for cl in tqdm(others):\n",
        "    shutil.rmtree(os.path.join(DATASET_DIR, cl))\n",
        "    print(f'{cl} убрана')\n",
        "\n",
        "for cl in tqdm(os.listdir(DATASET_DIR)):\n",
        "    current_dir = os.path.join(DATASET_DIR, cl)\n",
        "    file_count = len(os.listdir(current_dir))\n",
        "    if os.path.exists(current_dir) and file_count < FILES_COUNT:\n",
        "        print(f'В {cl} {file_count} файлов, oversampling')\n",
        "        oversampling_images(current_dir, FILES_COUNT)"
      ]
    },
    {
      "cell_type": "code",
      "execution_count": null,
      "metadata": {
        "id": "RucvppHsIemu"
      },
      "outputs": [],
      "source": [
        "categories = os.listdir(DATASET_DIR)\n",
        "category_counts = {category: len(os.listdir(os.path.join(DATASET_DIR, category))) for category in categories}"
      ]
    },
    {
      "cell_type": "markdown",
      "metadata": {
        "id": "fbZLEgkW-1_t"
      },
      "source": [
        "Убедиться, что категории отработали заданные действия"
      ]
    },
    {
      "cell_type": "code",
      "execution_count": null,
      "metadata": {
        "colab": {
          "base_uri": "https://localhost:8080/"
        },
        "id": "2hoA6_ee-_6R",
        "outputId": "cc14ffbd-09f8-4f9b-cfd4-407b5f4093ec"
      },
      "outputs": [
        {
          "output_type": "stream",
          "name": "stdout",
          "text": [
            "Stawberries:\n",
            "  merge: False\n",
            "  add: False\n",
            "  vegetables: False\n",
            "\n",
            "Pear:\n",
            "  merge: False\n",
            "  add: True\n",
            "  vegetables: False\n",
            "\n",
            "Pinenapple:\n",
            "  merge: False\n",
            "  add: False\n",
            "  vegetables: False\n",
            "\n",
            "Mango:\n",
            "  merge: True\n",
            "  add: False\n",
            "  vegetables: False\n",
            "\n",
            "Carrot:\n",
            "  merge: True\n",
            "  add: False\n",
            "  vegetables: True\n",
            "\n",
            "Brinjal:\n",
            "  merge: False\n",
            "  add: False\n",
            "  vegetables: True\n",
            "\n",
            "Cabbage:\n",
            "  merge: True\n",
            "  add: False\n",
            "  vegetables: True\n",
            "\n",
            "Apple:\n",
            "  merge: True\n",
            "  add: False\n",
            "  vegetables: False\n",
            "\n",
            "Tomato:\n",
            "  merge: True\n",
            "  add: False\n",
            "  vegetables: True\n",
            "\n",
            "Cauliflower:\n",
            "  merge: True\n",
            "  add: False\n",
            "  vegetables: True\n",
            "\n",
            "Nut:\n",
            "  merge: False\n",
            "  add: True\n",
            "  vegetables: False\n",
            "\n",
            "Watermelon:\n",
            "  merge: True\n",
            "  add: False\n",
            "  vegetables: False\n",
            "\n",
            "Cherry:\n",
            "  merge: True\n",
            "  add: False\n",
            "  vegetables: False\n",
            "\n",
            "Capsicum:\n",
            "  merge: False\n",
            "  add: False\n",
            "  vegetables: True\n",
            "\n",
            "Papaya:\n",
            "  merge: True\n",
            "  add: False\n",
            "  vegetables: True\n",
            "\n",
            "Orange:\n",
            "  merge: True\n",
            "  add: False\n",
            "  vegetables: False\n",
            "\n",
            "Potato:\n",
            "  merge: True\n",
            "  add: False\n",
            "  vegetables: True\n",
            "\n",
            "Radish:\n",
            "  merge: False\n",
            "  add: False\n",
            "  vegetables: True\n",
            "\n",
            "Cucumber:\n",
            "  merge: True\n",
            "  add: False\n",
            "  vegetables: True\n",
            "\n",
            "Pepper:\n",
            "  merge: False\n",
            "  add: True\n",
            "  vegetables: False\n",
            "\n",
            "Peach:\n",
            "  merge: False\n",
            "  add: True\n",
            "  vegetables: False\n",
            "\n",
            "Broccoli:\n",
            "  merge: False\n",
            "  add: False\n",
            "  vegetables: True\n",
            "\n",
            "Avocado:\n",
            "  merge: True\n",
            "  add: False\n",
            "  vegetables: False\n",
            "\n",
            "Kiwi:\n",
            "  merge: True\n",
            "  add: False\n",
            "  vegetables: False\n",
            "\n",
            "Grape:\n",
            "  merge: False\n",
            "  add: True\n",
            "  vegetables: False\n",
            "\n",
            "Bitter_Gourd:\n",
            "  merge: False\n",
            "  add: False\n",
            "  vegetables: True\n",
            "\n",
            "Bean:\n",
            "  merge: False\n",
            "  add: False\n",
            "  vegetables: True\n",
            "\n",
            "Bottle_Gourd:\n",
            "  merge: False\n",
            "  add: False\n",
            "  vegetables: True\n",
            "\n",
            "Plum:\n",
            "  merge: False\n",
            "  add: True\n",
            "  vegetables: False\n",
            "\n",
            "Pumpkin:\n",
            "  merge: False\n",
            "  add: False\n",
            "  vegetables: True\n",
            "\n",
            "Banana:\n",
            "  merge: True\n",
            "  add: False\n",
            "  vegetables: False\n",
            "\n",
            "Onion:\n",
            "  merge: False\n",
            "  add: True\n",
            "  vegetables: False\n",
            "\n",
            "Strawberry:\n",
            "  merge: False\n",
            "  add: True\n",
            "  vegetables: False\n",
            "\n",
            "Категорий: 33\n"
          ]
        }
      ],
      "source": [
        "vegetables = ['Bitter_Gourd',\n",
        " 'Potato',\n",
        " 'Broccoli',\n",
        " 'Tomato',\n",
        " 'Pumpkin',\n",
        " 'Bottle_Gourd',\n",
        " 'Carrot',\n",
        " 'Cucumber',\n",
        " 'Papaya',\n",
        " 'Radish',\n",
        " 'Brinjal',\n",
        " 'Capsicum',\n",
        " 'Cabbage',\n",
        " 'Bean',\n",
        " 'Cauliflower']\n",
        "\n",
        "for cl in category_counts:\n",
        "    m = f'{cl}360' in to_merge\n",
        "    a = f'{cl}360' in to_add\n",
        "    v = cl in vegetables\n",
        "    print(f'{cl}:\\n  merge: {m}\\n  add: {a}\\n  vegetables: {v}\\n')\n",
        "\n",
        "print(f'Категорий: {len(category_counts)}')"
      ]
    },
    {
      "cell_type": "markdown",
      "metadata": {
        "id": "dIT5dN_TAw42"
      },
      "source": [
        "## Просмотр подготовленного датасета"
      ]
    },
    {
      "cell_type": "code",
      "execution_count": null,
      "metadata": {
        "colab": {
          "base_uri": "https://localhost:8080/",
          "height": 545
        },
        "id": "hfMcJMZ__V75",
        "outputId": "bb6c488b-8860-4bb9-9281-27fde201502f"
      },
      "outputs": [
        {
          "output_type": "display_data",
          "data": {
            "text/plain": [
              "<Figure size 1000x500 with 1 Axes>"
            ],
            "image/png": "[encoded data removed]"
          },
          "metadata": {}
        }
      ],
      "source": [
        "plt.figure(figsize=(10, 5))\n",
        "sns.barplot(x=list(category_counts.keys()), y=list(category_counts.values()))\n",
        "plt.xticks(rotation=90)\n",
        "plt.title('Количество изображений в каждой категории')\n",
        "plt.show()"
      ]
    },
    {
      "cell_type": "markdown",
      "metadata": {
        "id": "ycW2nHtv_ZJT"
      },
      "source": [
        "**Получился сбалансированный датасет, содержащий 33 категории по 1400 изображений в каждой.**"
      ]
    },
    {
      "cell_type": "code",
      "execution_count": null,
      "metadata": {
        "colab": {
          "base_uri": "https://localhost:8080/",
          "height": 1000
        },
        "id": "47FfJqQjCfam",
        "outputId": "28989567-b250-40a7-9ec8-6f499c1003d7"
      },
      "outputs": [],
      "source": [
        "# Функция для отображения нескольких изображений из категории\n",
        "def show_images(folder_path, category, num_images=5):\n",
        "    image_files = random.sample(os.listdir(folder_path), num_images)\n",
        "\n",
        "    plt.figure(figsize=(15, 5))\n",
        "    for i, img_name in enumerate(image_files):\n",
        "        img_path = os.path.join(folder_path, img_name)\n",
        "        img = Image.open(img_path)\n",
        "\n",
        "        plt.subplot(1, num_images, i+1)\n",
        "        plt.imshow(img)\n",
        "        plt.title(category)\n",
        "        plt.axis('off')\n",
        "    plt.show()\n",
        "\n",
        "for category in categories:\n",
        "    folder_path = os.path.join(DATASET_DIR, category)\n",
        "    show_images(folder_path, category)"
      ]
    },
    {
      "cell_type": "code",
      "execution_count": null,
      "metadata": {
        "id": "DJUz24TjYimW",
        "colab": {
          "base_uri": "https://localhost:8080/"
        },
        "outputId": "2529e6c4-f2ac-461b-f52c-92692490a120"
      },
      "outputs": [
        {
          "output_type": "stream",
          "name": "stdout",
          "text": [
            "Финальный датасет сохранен в /content/drive/MyDrive/final_dataset\n"
          ]
        }
      ],
      "source": [
        "zip_path = os.path.join(DRIVE_DIR,'final_dataset')\n",
        "shutil.make_archive(zip_path, 'zip', DATASET_DIR)\n",
        "print(f'Финальный датасет сохранен в {zip_path}')"
      ]
    }
  ],
  "metadata": {
    "colab": {
      "provenance": []
    },
    "kernelspec": {
      "display_name": "Python 3",
      "name": "python3"
    },
    "language_info": {
      "name": "python"
    },
    "widgets": {
      "application/vnd.jupyter.widget-state+json": {
        "f3306c6022b14cf28f685c413b2801fe": {
          "model_module": "@jupyter-widgets/controls",
          "model_name": "HBoxModel",
          "model_module_version": "1.5.0",
          "state": {
            "_dom_classes": [],
            "_model_module": "@jupyter-widgets/controls",
            "_model_module_version": "1.5.0",
            "_model_name": "HBoxModel",
            "_view_count": null,
            "_view_module": "@jupyter-widgets/controls",
            "_view_module_version": "1.5.0",
            "_view_name": "HBoxView",
            "box_style": "",
            "children": [
              "IPY_MODEL_9f335b46c15a401a8dc79cebeb459aa4",
              "IPY_MODEL_6bb71be2d40642b281bb1ec2899fe40f",
              "IPY_MODEL_a2422a0fa34d4850997763a14285ad52"
            ],
            "layout": "IPY_MODEL_2b197f2ce0f64e869b5fa0e37981d740"
          }
        },
        "9f335b46c15a401a8dc79cebeb459aa4": {
          "model_module": "@jupyter-widgets/controls",
          "model_name": "HTMLModel",
          "model_module_version": "1.5.0",
          "state": {
            "_dom_classes": [],
            "_model_module": "@jupyter-widgets/controls",
            "_model_module_version": "1.5.0",
            "_model_name": "HTMLModel",
            "_view_count": null,
            "_view_module": "@jupyter-widgets/controls",
            "_view_module_version": "1.5.0",
            "_view_name": "HTMLView",
            "description": "",
            "description_tooltip": null,
            "layout": "IPY_MODEL_53a8500366934e16a7b46c0622445c2f",
            "placeholder": "​",
            "style": "IPY_MODEL_285e7fce9ab8472a997d8a6e9332787b",
            "value": ""
          }
        },
        "6bb71be2d40642b281bb1ec2899fe40f": {
          "model_module": "@jupyter-widgets/controls",
          "model_name": "FloatProgressModel",
          "model_module_version": "1.5.0",
          "state": {
            "_dom_classes": [],
            "_model_module": "@jupyter-widgets/controls",
            "_model_module_version": "1.5.0",
            "_model_name": "FloatProgressModel",
            "_view_count": null,
            "_view_module": "@jupyter-widgets/controls",
            "_view_module_version": "1.5.0",
            "_view_name": "ProgressView",
            "bar_style": "success",
            "description": "",
            "description_tooltip": null,
            "layout": "IPY_MODEL_17f5e9275837470897bba186976a2d28",
            "max": 1,
            "min": 0,
            "orientation": "horizontal",
            "style": "IPY_MODEL_10d70e5d8888416ba58f2b8c92c001a0",
            "value": 1
          }
        },
        "a2422a0fa34d4850997763a14285ad52": {
          "model_module": "@jupyter-widgets/controls",
          "model_name": "HTMLModel",
          "model_module_version": "1.5.0",
          "state": {
            "_dom_classes": [],
            "_model_module": "@jupyter-widgets/controls",
            "_model_module_version": "1.5.0",
            "_model_name": "HTMLModel",
            "_view_count": null,
            "_view_module": "@jupyter-widgets/controls",
            "_view_module_version": "1.5.0",
            "_view_name": "HTMLView",
            "description": "",
            "description_tooltip": null,
            "layout": "IPY_MODEL_6b488a3e8492468d94d15feb82020f80",
            "placeholder": "​",
            "style": "IPY_MODEL_23748123e4024b17bb71a6a710068e99",
            "value": " 166/? [00:04&lt;00:00, 26.20it/s]"
          }
        },
        "2b197f2ce0f64e869b5fa0e37981d740": {
          "model_module": "@jupyter-widgets/base",
          "model_name": "LayoutModel",
          "model_module_version": "1.2.0",
          "state": {
            "_model_module": "@jupyter-widgets/base",
            "_model_module_version": "1.2.0",
            "_model_name": "LayoutModel",
            "_view_count": null,
            "_view_module": "@jupyter-widgets/base",
            "_view_module_version": "1.2.0",
            "_view_name": "LayoutView",
            "align_content": null,
            "align_items": null,
            "align_self": null,
            "border": null,
            "bottom": null,
            "display": null,
            "flex": null,
            "flex_flow": null,
            "grid_area": null,
            "grid_auto_columns": null,
            "grid_auto_flow": null,
            "grid_auto_rows": null,
            "grid_column": null,
            "grid_gap": null,
            "grid_row": null,
            "grid_template_areas": null,
            "grid_template_columns": null,
            "grid_template_rows": null,
            "height": null,
            "justify_content": null,
            "justify_items": null,
            "left": null,
            "margin": null,
            "max_height": null,
            "max_width": null,
            "min_height": null,
            "min_width": null,
            "object_fit": null,
            "object_position": null,
            "order": null,
            "overflow": null,
            "overflow_x": null,
            "overflow_y": null,
            "padding": null,
            "right": null,
            "top": null,
            "visibility": null,
            "width": null
          }
        },
        "53a8500366934e16a7b46c0622445c2f": {
          "model_module": "@jupyter-widgets/base",
          "model_name": "LayoutModel",
          "model_module_version": "1.2.0",
          "state": {
            "_model_module": "@jupyter-widgets/base",
            "_model_module_version": "1.2.0",
            "_model_name": "LayoutModel",
            "_view_count": null,
            "_view_module": "@jupyter-widgets/base",
            "_view_module_version": "1.2.0",
            "_view_name": "LayoutView",
            "align_content": null,
            "align_items": null,
            "align_self": null,
            "border": null,
            "bottom": null,
            "display": null,
            "flex": null,
            "flex_flow": null,
            "grid_area": null,
            "grid_auto_columns": null,
            "grid_auto_flow": null,
            "grid_auto_rows": null,
            "grid_column": null,
            "grid_gap": null,
            "grid_row": null,
            "grid_template_areas": null,
            "grid_template_columns": null,
            "grid_template_rows": null,
            "height": null,
            "justify_content": null,
            "justify_items": null,
            "left": null,
            "margin": null,
            "max_height": null,
            "max_width": null,
            "min_height": null,
            "min_width": null,
            "object_fit": null,
            "object_position": null,
            "order": null,
            "overflow": null,
            "overflow_x": null,
            "overflow_y": null,
            "padding": null,
            "right": null,
            "top": null,
            "visibility": null,
            "width": null
          }
        },
        "285e7fce9ab8472a997d8a6e9332787b": {
          "model_module": "@jupyter-widgets/controls",
          "model_name": "DescriptionStyleModel",
          "model_module_version": "1.5.0",
          "state": {
            "_model_module": "@jupyter-widgets/controls",
            "_model_module_version": "1.5.0",
            "_model_name": "DescriptionStyleModel",
            "_view_count": null,
            "_view_module": "@jupyter-widgets/base",
            "_view_module_version": "1.2.0",
            "_view_name": "StyleView",
            "description_width": ""
          }
        },
        "17f5e9275837470897bba186976a2d28": {
          "model_module": "@jupyter-widgets/base",
          "model_name": "LayoutModel",
          "model_module_version": "1.2.0",
          "state": {
            "_model_module": "@jupyter-widgets/base",
            "_model_module_version": "1.2.0",
            "_model_name": "LayoutModel",
            "_view_count": null,
            "_view_module": "@jupyter-widgets/base",
            "_view_module_version": "1.2.0",
            "_view_name": "LayoutView",
            "align_content": null,
            "align_items": null,
            "align_self": null,
            "border": null,
            "bottom": null,
            "display": null,
            "flex": null,
            "flex_flow": null,
            "grid_area": null,
            "grid_auto_columns": null,
            "grid_auto_flow": null,
            "grid_auto_rows": null,
            "grid_column": null,
            "grid_gap": null,
            "grid_row": null,
            "grid_template_areas": null,
            "grid_template_columns": null,
            "grid_template_rows": null,
            "height": null,
            "justify_content": null,
            "justify_items": null,
            "left": null,
            "margin": null,
            "max_height": null,
            "max_width": null,
            "min_height": null,
            "min_width": null,
            "object_fit": null,
            "object_position": null,
            "order": null,
            "overflow": null,
            "overflow_x": null,
            "overflow_y": null,
            "padding": null,
            "right": null,
            "top": null,
            "visibility": null,
            "width": "20px"
          }
        },
        "10d70e5d8888416ba58f2b8c92c001a0": {
          "model_module": "@jupyter-widgets/controls",
          "model_name": "ProgressStyleModel",
          "model_module_version": "1.5.0",
          "state": {
            "_model_module": "@jupyter-widgets/controls",
            "_model_module_version": "1.5.0",
            "_model_name": "ProgressStyleModel",
            "_view_count": null,
            "_view_module": "@jupyter-widgets/base",
            "_view_module_version": "1.2.0",
            "_view_name": "StyleView",
            "bar_color": null,
            "description_width": ""
          }
        },
        "6b488a3e8492468d94d15feb82020f80": {
          "model_module": "@jupyter-widgets/base",
          "model_name": "LayoutModel",
          "model_module_version": "1.2.0",
          "state": {
            "_model_module": "@jupyter-widgets/base",
            "_model_module_version": "1.2.0",
            "_model_name": "LayoutModel",
            "_view_count": null,
            "_view_module": "@jupyter-widgets/base",
            "_view_module_version": "1.2.0",
            "_view_name": "LayoutView",
            "align_content": null,
            "align_items": null,
            "align_self": null,
            "border": null,
            "bottom": null,
            "display": null,
            "flex": null,
            "flex_flow": null,
            "grid_area": null,
            "grid_auto_columns": null,
            "grid_auto_flow": null,
            "grid_auto_rows": null,
            "grid_column": null,
            "grid_gap": null,
            "grid_row": null,
            "grid_template_areas": null,
            "grid_template_columns": null,
            "grid_template_rows": null,
            "height": null,
            "justify_content": null,
            "justify_items": null,
            "left": null,
            "margin": null,
            "max_height": null,
            "max_width": null,
            "min_height": null,
            "min_width": null,
            "object_fit": null,
            "object_position": null,
            "order": null,
            "overflow": null,
            "overflow_x": null,
            "overflow_y": null,
            "padding": null,
            "right": null,
            "top": null,
            "visibility": null,
            "width": null
          }
        },
        "23748123e4024b17bb71a6a710068e99": {
          "model_module": "@jupyter-widgets/controls",
          "model_name": "DescriptionStyleModel",
          "model_module_version": "1.5.0",
          "state": {
            "_model_module": "@jupyter-widgets/controls",
            "_model_module_version": "1.5.0",
            "_model_name": "DescriptionStyleModel",
            "_view_count": null,
            "_view_module": "@jupyter-widgets/base",
            "_view_module_version": "1.2.0",
            "_view_name": "StyleView",
            "description_width": ""
          }
        },
        "13e3ee58eb094b1194fd5f864e583703": {
          "model_module": "@jupyter-widgets/controls",
          "model_name": "HBoxModel",
          "model_module_version": "1.5.0",
          "state": {
            "_dom_classes": [],
            "_model_module": "@jupyter-widgets/controls",
            "_model_module_version": "1.5.0",
            "_model_name": "HBoxModel",
            "_view_count": null,
            "_view_module": "@jupyter-widgets/controls",
            "_view_module_version": "1.5.0",
            "_view_name": "HBoxView",
            "box_style": "",
            "children": [
              "IPY_MODEL_41519937af2e4680b044ca84b4de4c14",
              "IPY_MODEL_ed019027a6344183afc72c8a9e18e51b",
              "IPY_MODEL_4888ee6c4dd44ac896f7e0461ec50e70"
            ],
            "layout": "IPY_MODEL_a17eadfe64c64777876a618682c36d4f"
          }
        },
        "41519937af2e4680b044ca84b4de4c14": {
          "model_module": "@jupyter-widgets/controls",
          "model_name": "HTMLModel",
          "model_module_version": "1.5.0",
          "state": {
            "_dom_classes": [],
            "_model_module": "@jupyter-widgets/controls",
            "_model_module_version": "1.5.0",
            "_model_name": "HTMLModel",
            "_view_count": null,
            "_view_module": "@jupyter-widgets/controls",
            "_view_module_version": "1.5.0",
            "_view_name": "HTMLView",
            "description": "",
            "description_tooltip": null,
            "layout": "IPY_MODEL_81580ba044ab400e9db628179faf9861",
            "placeholder": "​",
            "style": "IPY_MODEL_ca4d40e815ab4d74919bdda7eadf0583",
            "value": "100%"
          }
        },
        "ed019027a6344183afc72c8a9e18e51b": {
          "model_module": "@jupyter-widgets/controls",
          "model_name": "FloatProgressModel",
          "model_module_version": "1.5.0",
          "state": {
            "_dom_classes": [],
            "_model_module": "@jupyter-widgets/controls",
            "_model_module_version": "1.5.0",
            "_model_name": "FloatProgressModel",
            "_view_count": null,
            "_view_module": "@jupyter-widgets/controls",
            "_view_module_version": "1.5.0",
            "_view_name": "ProgressView",
            "bar_style": "success",
            "description": "",
            "description_tooltip": null,
            "layout": "IPY_MODEL_ee61f867c5434f73b20ad2b0ba19a698",
            "max": 8,
            "min": 0,
            "orientation": "horizontal",
            "style": "IPY_MODEL_8db0f297164f4b80a8ec84cf23175de2",
            "value": 8
          }
        },
        "4888ee6c4dd44ac896f7e0461ec50e70": {
          "model_module": "@jupyter-widgets/controls",
          "model_name": "HTMLModel",
          "model_module_version": "1.5.0",
          "state": {
            "_dom_classes": [],
            "_model_module": "@jupyter-widgets/controls",
            "_model_module_version": "1.5.0",
            "_model_name": "HTMLModel",
            "_view_count": null,
            "_view_module": "@jupyter-widgets/controls",
            "_view_module_version": "1.5.0",
            "_view_name": "HTMLView",
            "description": "",
            "description_tooltip": null,
            "layout": "IPY_MODEL_de60bd56a049445db820ba98b1f1f4d4",
            "placeholder": "​",
            "style": "IPY_MODEL_4db42b202d7541d09d549a246bb1c4b4",
            "value": " 8/8 [00:01&lt;00:00,  7.24it/s]"
          }
        },
        "a17eadfe64c64777876a618682c36d4f": {
          "model_module": "@jupyter-widgets/base",
          "model_name": "LayoutModel",
          "model_module_version": "1.2.0",
          "state": {
            "_model_module": "@jupyter-widgets/base",
            "_model_module_version": "1.2.0",
            "_model_name": "LayoutModel",
            "_view_count": null,
            "_view_module": "@jupyter-widgets/base",
            "_view_module_version": "1.2.0",
            "_view_name": "LayoutView",
            "align_content": null,
            "align_items": null,
            "align_self": null,
            "border": null,
            "bottom": null,
            "display": null,
            "flex": null,
            "flex_flow": null,
            "grid_area": null,
            "grid_auto_columns": null,
            "grid_auto_flow": null,
            "grid_auto_rows": null,
            "grid_column": null,
            "grid_gap": null,
            "grid_row": null,
            "grid_template_areas": null,
            "grid_template_columns": null,
            "grid_template_rows": null,
            "height": null,
            "justify_content": null,
            "justify_items": null,
            "left": null,
            "margin": null,
            "max_height": null,
            "max_width": null,
            "min_height": null,
            "min_width": null,
            "object_fit": null,
            "object_position": null,
            "order": null,
            "overflow": null,
            "overflow_x": null,
            "overflow_y": null,
            "padding": null,
            "right": null,
            "top": null,
            "visibility": null,
            "width": null
          }
        },
        "81580ba044ab400e9db628179faf9861": {
          "model_module": "@jupyter-widgets/base",
          "model_name": "LayoutModel",
          "model_module_version": "1.2.0",
          "state": {
            "_model_module": "@jupyter-widgets/base",
            "_model_module_version": "1.2.0",
            "_model_name": "LayoutModel",
            "_view_count": null,
            "_view_module": "@jupyter-widgets/base",
            "_view_module_version": "1.2.0",
            "_view_name": "LayoutView",
            "align_content": null,
            "align_items": null,
            "align_self": null,
            "border": null,
            "bottom": null,
            "display": null,
            "flex": null,
            "flex_flow": null,
            "grid_area": null,
            "grid_auto_columns": null,
            "grid_auto_flow": null,
            "grid_auto_rows": null,
            "grid_column": null,
            "grid_gap": null,
            "grid_row": null,
            "grid_template_areas": null,
            "grid_template_columns": null,
            "grid_template_rows": null,
            "height": null,
            "justify_content": null,
            "justify_items": null,
            "left": null,
            "margin": null,
            "max_height": null,
            "max_width": null,
            "min_height": null,
            "min_width": null,
            "object_fit": null,
            "object_position": null,
            "order": null,
            "overflow": null,
            "overflow_x": null,
            "overflow_y": null,
            "padding": null,
            "right": null,
            "top": null,
            "visibility": null,
            "width": null
          }
        },
        "ca4d40e815ab4d74919bdda7eadf0583": {
          "model_module": "@jupyter-widgets/controls",
          "model_name": "DescriptionStyleModel",
          "model_module_version": "1.5.0",
          "state": {
            "_model_module": "@jupyter-widgets/controls",
            "_model_module_version": "1.5.0",
            "_model_name": "DescriptionStyleModel",
            "_view_count": null,
            "_view_module": "@jupyter-widgets/base",
            "_view_module_version": "1.2.0",
            "_view_name": "StyleView",
            "description_width": ""
          }
        },
        "ee61f867c5434f73b20ad2b0ba19a698": {
          "model_module": "@jupyter-widgets/base",
          "model_name": "LayoutModel",
          "model_module_version": "1.2.0",
          "state": {
            "_model_module": "@jupyter-widgets/base",
            "_model_module_version": "1.2.0",
            "_model_name": "LayoutModel",
            "_view_count": null,
            "_view_module": "@jupyter-widgets/base",
            "_view_module_version": "1.2.0",
            "_view_name": "LayoutView",
            "align_content": null,
            "align_items": null,
            "align_self": null,
            "border": null,
            "bottom": null,
            "display": null,
            "flex": null,
            "flex_flow": null,
            "grid_area": null,
            "grid_auto_columns": null,
            "grid_auto_flow": null,
            "grid_auto_rows": null,
            "grid_column": null,
            "grid_gap": null,
            "grid_row": null,
            "grid_template_areas": null,
            "grid_template_columns": null,
            "grid_template_rows": null,
            "height": null,
            "justify_content": null,
            "justify_items": null,
            "left": null,
            "margin": null,
            "max_height": null,
            "max_width": null,
            "min_height": null,
            "min_width": null,
            "object_fit": null,
            "object_position": null,
            "order": null,
            "overflow": null,
            "overflow_x": null,
            "overflow_y": null,
            "padding": null,
            "right": null,
            "top": null,
            "visibility": null,
            "width": null
          }
        },
        "8db0f297164f4b80a8ec84cf23175de2": {
          "model_module": "@jupyter-widgets/controls",
          "model_name": "ProgressStyleModel",
          "model_module_version": "1.5.0",
          "state": {
            "_model_module": "@jupyter-widgets/controls",
            "_model_module_version": "1.5.0",
            "_model_name": "ProgressStyleModel",
            "_view_count": null,
            "_view_module": "@jupyter-widgets/base",
            "_view_module_version": "1.2.0",
            "_view_name": "StyleView",
            "bar_color": null,
            "description_width": ""
          }
        },
        "de60bd56a049445db820ba98b1f1f4d4": {
          "model_module": "@jupyter-widgets/base",
          "model_name": "LayoutModel",
          "model_module_version": "1.2.0",
          "state": {
            "_model_module": "@jupyter-widgets/base",
            "_model_module_version": "1.2.0",
            "_model_name": "LayoutModel",
            "_view_count": null,
            "_view_module": "@jupyter-widgets/base",
            "_view_module_version": "1.2.0",
            "_view_name": "LayoutView",
            "align_content": null,
            "align_items": null,
            "align_self": null,
            "border": null,
            "bottom": null,
            "display": null,
            "flex": null,
            "flex_flow": null,
            "grid_area": null,
            "grid_auto_columns": null,
            "grid_auto_flow": null,
            "grid_auto_rows": null,
            "grid_column": null,
            "grid_gap": null,
            "grid_row": null,
            "grid_template_areas": null,
            "grid_template_columns": null,
            "grid_template_rows": null,
            "height": null,
            "justify_content": null,
            "justify_items": null,
            "left": null,
            "margin": null,
            "max_height": null,
            "max_width": null,
            "min_height": null,
            "min_width": null,
            "object_fit": null,
            "object_position": null,
            "order": null,
            "overflow": null,
            "overflow_x": null,
            "overflow_y": null,
            "padding": null,
            "right": null,
            "top": null,
            "visibility": null,
            "width": null
          }
        },
        "4db42b202d7541d09d549a246bb1c4b4": {
          "model_module": "@jupyter-widgets/controls",
          "model_name": "DescriptionStyleModel",
          "model_module_version": "1.5.0",
          "state": {
            "_model_module": "@jupyter-widgets/controls",
            "_model_module_version": "1.5.0",
            "_model_name": "DescriptionStyleModel",
            "_view_count": null,
            "_view_module": "@jupyter-widgets/base",
            "_view_module_version": "1.2.0",
            "_view_name": "StyleView",
            "description_width": ""
          }
        },
        "d1aa453f53654d87988d7c85a0a3eb5b": {
          "model_module": "@jupyter-widgets/controls",
          "model_name": "HBoxModel",
          "model_module_version": "1.5.0",
          "state": {
            "_dom_classes": [],
            "_model_module": "@jupyter-widgets/controls",
            "_model_module_version": "1.5.0",
            "_model_name": "HBoxModel",
            "_view_count": null,
            "_view_module": "@jupyter-widgets/controls",
            "_view_module_version": "1.5.0",
            "_view_name": "HBoxView",
            "box_style": "",
            "children": [
              "IPY_MODEL_6ebd9d6353104a2784bd5bcc74fe6dcf",
              "IPY_MODEL_0f94e88c13644223bf063da88932c510",
              "IPY_MODEL_9ba8dfbdbba14eddbfd2aefbba769911"
            ],
            "layout": "IPY_MODEL_d8376221efbf424890fc6a94e7778a5e"
          }
        },
        "6ebd9d6353104a2784bd5bcc74fe6dcf": {
          "model_module": "@jupyter-widgets/controls",
          "model_name": "HTMLModel",
          "model_module_version": "1.5.0",
          "state": {
            "_dom_classes": [],
            "_model_module": "@jupyter-widgets/controls",
            "_model_module_version": "1.5.0",
            "_model_name": "HTMLModel",
            "_view_count": null,
            "_view_module": "@jupyter-widgets/controls",
            "_view_module_version": "1.5.0",
            "_view_name": "HTMLView",
            "description": "",
            "description_tooltip": null,
            "layout": "IPY_MODEL_4465862bbf8b4411a24d186ae3b101fa",
            "placeholder": "​",
            "style": "IPY_MODEL_475e6e4368a848bfaf2051ea02c18a65",
            "value": "100%"
          }
        },
        "0f94e88c13644223bf063da88932c510": {
          "model_module": "@jupyter-widgets/controls",
          "model_name": "FloatProgressModel",
          "model_module_version": "1.5.0",
          "state": {
            "_dom_classes": [],
            "_model_module": "@jupyter-widgets/controls",
            "_model_module_version": "1.5.0",
            "_model_name": "FloatProgressModel",
            "_view_count": null,
            "_view_module": "@jupyter-widgets/controls",
            "_view_module_version": "1.5.0",
            "_view_name": "ProgressView",
            "bar_style": "success",
            "description": "",
            "description_tooltip": null,
            "layout": "IPY_MODEL_e3f96be8d3f24ad5962465609f2dcb55",
            "max": 15,
            "min": 0,
            "orientation": "horizontal",
            "style": "IPY_MODEL_979f6d384546430bbd299d003c2f914e",
            "value": 15
          }
        },
        "9ba8dfbdbba14eddbfd2aefbba769911": {
          "model_module": "@jupyter-widgets/controls",
          "model_name": "HTMLModel",
          "model_module_version": "1.5.0",
          "state": {
            "_dom_classes": [],
            "_model_module": "@jupyter-widgets/controls",
            "_model_module_version": "1.5.0",
            "_model_name": "HTMLModel",
            "_view_count": null,
            "_view_module": "@jupyter-widgets/controls",
            "_view_module_version": "1.5.0",
            "_view_name": "HTMLView",
            "description": "",
            "description_tooltip": null,
            "layout": "IPY_MODEL_7799f6f302244a74aa395877cb05041b",
            "placeholder": "​",
            "style": "IPY_MODEL_07b08d7e8f7c44be8115fb6dfd5e7c65",
            "value": " 15/15 [00:18&lt;00:00,  2.22s/it]"
          }
        },
        "d8376221efbf424890fc6a94e7778a5e": {
          "model_module": "@jupyter-widgets/base",
          "model_name": "LayoutModel",
          "model_module_version": "1.2.0",
          "state": {
            "_model_module": "@jupyter-widgets/base",
            "_model_module_version": "1.2.0",
            "_model_name": "LayoutModel",
            "_view_count": null,
            "_view_module": "@jupyter-widgets/base",
            "_view_module_version": "1.2.0",
            "_view_name": "LayoutView",
            "align_content": null,
            "align_items": null,
            "align_self": null,
            "border": null,
            "bottom": null,
            "display": null,
            "flex": null,
            "flex_flow": null,
            "grid_area": null,
            "grid_auto_columns": null,
            "grid_auto_flow": null,
            "grid_auto_rows": null,
            "grid_column": null,
            "grid_gap": null,
            "grid_row": null,
            "grid_template_areas": null,
            "grid_template_columns": null,
            "grid_template_rows": null,
            "height": null,
            "justify_content": null,
            "justify_items": null,
            "left": null,
            "margin": null,
            "max_height": null,
            "max_width": null,
            "min_height": null,
            "min_width": null,
            "object_fit": null,
            "object_position": null,
            "order": null,
            "overflow": null,
            "overflow_x": null,
            "overflow_y": null,
            "padding": null,
            "right": null,
            "top": null,
            "visibility": null,
            "width": null
          }
        },
        "4465862bbf8b4411a24d186ae3b101fa": {
          "model_module": "@jupyter-widgets/base",
          "model_name": "LayoutModel",
          "model_module_version": "1.2.0",
          "state": {
            "_model_module": "@jupyter-widgets/base",
            "_model_module_version": "1.2.0",
            "_model_name": "LayoutModel",
            "_view_count": null,
            "_view_module": "@jupyter-widgets/base",
            "_view_module_version": "1.2.0",
            "_view_name": "LayoutView",
            "align_content": null,
            "align_items": null,
            "align_self": null,
            "border": null,
            "bottom": null,
            "display": null,
            "flex": null,
            "flex_flow": null,
            "grid_area": null,
            "grid_auto_columns": null,
            "grid_auto_flow": null,
            "grid_auto_rows": null,
            "grid_column": null,
            "grid_gap": null,
            "grid_row": null,
            "grid_template_areas": null,
            "grid_template_columns": null,
            "grid_template_rows": null,
            "height": null,
            "justify_content": null,
            "justify_items": null,
            "left": null,
            "margin": null,
            "max_height": null,
            "max_width": null,
            "min_height": null,
            "min_width": null,
            "object_fit": null,
            "object_position": null,
            "order": null,
            "overflow": null,
            "overflow_x": null,
            "overflow_y": null,
            "padding": null,
            "right": null,
            "top": null,
            "visibility": null,
            "width": null
          }
        },
        "475e6e4368a848bfaf2051ea02c18a65": {
          "model_module": "@jupyter-widgets/controls",
          "model_name": "DescriptionStyleModel",
          "model_module_version": "1.5.0",
          "state": {
            "_model_module": "@jupyter-widgets/controls",
            "_model_module_version": "1.5.0",
            "_model_name": "DescriptionStyleModel",
            "_view_count": null,
            "_view_module": "@jupyter-widgets/base",
            "_view_module_version": "1.2.0",
            "_view_name": "StyleView",
            "description_width": ""
          }
        },
        "e3f96be8d3f24ad5962465609f2dcb55": {
          "model_module": "@jupyter-widgets/base",
          "model_name": "LayoutModel",
          "model_module_version": "1.2.0",
          "state": {
            "_model_module": "@jupyter-widgets/base",
            "_model_module_version": "1.2.0",
            "_model_name": "LayoutModel",
            "_view_count": null,
            "_view_module": "@jupyter-widgets/base",
            "_view_module_version": "1.2.0",
            "_view_name": "LayoutView",
            "align_content": null,
            "align_items": null,
            "align_self": null,
            "border": null,
            "bottom": null,
            "display": null,
            "flex": null,
            "flex_flow": null,
            "grid_area": null,
            "grid_auto_columns": null,
            "grid_auto_flow": null,
            "grid_auto_rows": null,
            "grid_column": null,
            "grid_gap": null,
            "grid_row": null,
            "grid_template_areas": null,
            "grid_template_columns": null,
            "grid_template_rows": null,
            "height": null,
            "justify_content": null,
            "justify_items": null,
            "left": null,
            "margin": null,
            "max_height": null,
            "max_width": null,
            "min_height": null,
            "min_width": null,
            "object_fit": null,
            "object_position": null,
            "order": null,
            "overflow": null,
            "overflow_x": null,
            "overflow_y": null,
            "padding": null,
            "right": null,
            "top": null,
            "visibility": null,
            "width": null
          }
        },
        "979f6d384546430bbd299d003c2f914e": {
          "model_module": "@jupyter-widgets/controls",
          "model_name": "ProgressStyleModel",
          "model_module_version": "1.5.0",
          "state": {
            "_model_module": "@jupyter-widgets/controls",
            "_model_module_version": "1.5.0",
            "_model_name": "ProgressStyleModel",
            "_view_count": null,
            "_view_module": "@jupyter-widgets/base",
            "_view_module_version": "1.2.0",
            "_view_name": "StyleView",
            "bar_color": null,
            "description_width": ""
          }
        },
        "7799f6f302244a74aa395877cb05041b": {
          "model_module": "@jupyter-widgets/base",
          "model_name": "LayoutModel",
          "model_module_version": "1.2.0",
          "state": {
            "_model_module": "@jupyter-widgets/base",
            "_model_module_version": "1.2.0",
            "_model_name": "LayoutModel",
            "_view_count": null,
            "_view_module": "@jupyter-widgets/base",
            "_view_module_version": "1.2.0",
            "_view_name": "LayoutView",
            "align_content": null,
            "align_items": null,
            "align_self": null,
            "border": null,
            "bottom": null,
            "display": null,
            "flex": null,
            "flex_flow": null,
            "grid_area": null,
            "grid_auto_columns": null,
            "grid_auto_flow": null,
            "grid_auto_rows": null,
            "grid_column": null,
            "grid_gap": null,
            "grid_row": null,
            "grid_template_areas": null,
            "grid_template_columns": null,
            "grid_template_rows": null,
            "height": null,
            "justify_content": null,
            "justify_items": null,
            "left": null,
            "margin": null,
            "max_height": null,
            "max_width": null,
            "min_height": null,
            "min_width": null,
            "object_fit": null,
            "object_position": null,
            "order": null,
            "overflow": null,
            "overflow_x": null,
            "overflow_y": null,
            "padding": null,
            "right": null,
            "top": null,
            "visibility": null,
            "width": null
          }
        },
        "07b08d7e8f7c44be8115fb6dfd5e7c65": {
          "model_module": "@jupyter-widgets/controls",
          "model_name": "DescriptionStyleModel",
          "model_module_version": "1.5.0",
          "state": {
            "_model_module": "@jupyter-widgets/controls",
            "_model_module_version": "1.5.0",
            "_model_name": "DescriptionStyleModel",
            "_view_count": null,
            "_view_module": "@jupyter-widgets/base",
            "_view_module_version": "1.2.0",
            "_view_name": "StyleView",
            "description_width": ""
          }
        },
        "227aa1ebaddd4b5883fe22fdd6ccc846": {
          "model_module": "@jupyter-widgets/controls",
          "model_name": "HBoxModel",
          "model_module_version": "1.5.0",
          "state": {
            "_dom_classes": [],
            "_model_module": "@jupyter-widgets/controls",
            "_model_module_version": "1.5.0",
            "_model_name": "HBoxModel",
            "_view_count": null,
            "_view_module": "@jupyter-widgets/controls",
            "_view_module_version": "1.5.0",
            "_view_name": "HBoxView",
            "box_style": "",
            "children": [
              "IPY_MODEL_da6d0c76a6354fe593c12e0acbd3856c",
              "IPY_MODEL_730f2eee7ff443c1bbc36b6d1f1b2f10",
              "IPY_MODEL_4fdfc738eadc4e6da098512553921458"
            ],
            "layout": "IPY_MODEL_722a1a688774495fa549f9af101cb27f"
          }
        },
        "da6d0c76a6354fe593c12e0acbd3856c": {
          "model_module": "@jupyter-widgets/controls",
          "model_name": "HTMLModel",
          "model_module_version": "1.5.0",
          "state": {
            "_dom_classes": [],
            "_model_module": "@jupyter-widgets/controls",
            "_model_module_version": "1.5.0",
            "_model_name": "HTMLModel",
            "_view_count": null,
            "_view_module": "@jupyter-widgets/controls",
            "_view_module_version": "1.5.0",
            "_view_name": "HTMLView",
            "description": "",
            "description_tooltip": null,
            "layout": "IPY_MODEL_06a16a3f032b48d9b1943c36cd294ead",
            "placeholder": "​",
            "style": "IPY_MODEL_6da112fc097e4d8b96d9926c6a180617",
            "value": "100%"
          }
        },
        "730f2eee7ff443c1bbc36b6d1f1b2f10": {
          "model_module": "@jupyter-widgets/controls",
          "model_name": "FloatProgressModel",
          "model_module_version": "1.5.0",
          "state": {
            "_dom_classes": [],
            "_model_module": "@jupyter-widgets/controls",
            "_model_module_version": "1.5.0",
            "_model_name": "FloatProgressModel",
            "_view_count": null,
            "_view_module": "@jupyter-widgets/controls",
            "_view_module_version": "1.5.0",
            "_view_name": "ProgressView",
            "bar_style": "success",
            "description": "",
            "description_tooltip": null,
            "layout": "IPY_MODEL_03e98f8daf564682be36c91e9c1e4198",
            "max": 47,
            "min": 0,
            "orientation": "horizontal",
            "style": "IPY_MODEL_3a9d96f2cc67435f9849430df9fe489f",
            "value": 47
          }
        },
        "4fdfc738eadc4e6da098512553921458": {
          "model_module": "@jupyter-widgets/controls",
          "model_name": "HTMLModel",
          "model_module_version": "1.5.0",
          "state": {
            "_dom_classes": [],
            "_model_module": "@jupyter-widgets/controls",
            "_model_module_version": "1.5.0",
            "_model_name": "HTMLModel",
            "_view_count": null,
            "_view_module": "@jupyter-widgets/controls",
            "_view_module_version": "1.5.0",
            "_view_name": "HTMLView",
            "description": "",
            "description_tooltip": null,
            "layout": "IPY_MODEL_33f75c0583584dcb8e37058726e57e60",
            "placeholder": "​",
            "style": "IPY_MODEL_0b26c265ae4d4e758ac9df8705fab946",
            "value": " 47/47 [00:02&lt;00:00, 22.61it/s]"
          }
        },
        "722a1a688774495fa549f9af101cb27f": {
          "model_module": "@jupyter-widgets/base",
          "model_name": "LayoutModel",
          "model_module_version": "1.2.0",
          "state": {
            "_model_module": "@jupyter-widgets/base",
            "_model_module_version": "1.2.0",
            "_model_name": "LayoutModel",
            "_view_count": null,
            "_view_module": "@jupyter-widgets/base",
            "_view_module_version": "1.2.0",
            "_view_name": "LayoutView",
            "align_content": null,
            "align_items": null,
            "align_self": null,
            "border": null,
            "bottom": null,
            "display": null,
            "flex": null,
            "flex_flow": null,
            "grid_area": null,
            "grid_auto_columns": null,
            "grid_auto_flow": null,
            "grid_auto_rows": null,
            "grid_column": null,
            "grid_gap": null,
            "grid_row": null,
            "grid_template_areas": null,
            "grid_template_columns": null,
            "grid_template_rows": null,
            "height": null,
            "justify_content": null,
            "justify_items": null,
            "left": null,
            "margin": null,
            "max_height": null,
            "max_width": null,
            "min_height": null,
            "min_width": null,
            "object_fit": null,
            "object_position": null,
            "order": null,
            "overflow": null,
            "overflow_x": null,
            "overflow_y": null,
            "padding": null,
            "right": null,
            "top": null,
            "visibility": null,
            "width": null
          }
        },
        "06a16a3f032b48d9b1943c36cd294ead": {
          "model_module": "@jupyter-widgets/base",
          "model_name": "LayoutModel",
          "model_module_version": "1.2.0",
          "state": {
            "_model_module": "@jupyter-widgets/base",
            "_model_module_version": "1.2.0",
            "_model_name": "LayoutModel",
            "_view_count": null,
            "_view_module": "@jupyter-widgets/base",
            "_view_module_version": "1.2.0",
            "_view_name": "LayoutView",
            "align_content": null,
            "align_items": null,
            "align_self": null,
            "border": null,
            "bottom": null,
            "display": null,
            "flex": null,
            "flex_flow": null,
            "grid_area": null,
            "grid_auto_columns": null,
            "grid_auto_flow": null,
            "grid_auto_rows": null,
            "grid_column": null,
            "grid_gap": null,
            "grid_row": null,
            "grid_template_areas": null,
            "grid_template_columns": null,
            "grid_template_rows": null,
            "height": null,
            "justify_content": null,
            "justify_items": null,
            "left": null,
            "margin": null,
            "max_height": null,
            "max_width": null,
            "min_height": null,
            "min_width": null,
            "object_fit": null,
            "object_position": null,
            "order": null,
            "overflow": null,
            "overflow_x": null,
            "overflow_y": null,
            "padding": null,
            "right": null,
            "top": null,
            "visibility": null,
            "width": null
          }
        },
        "6da112fc097e4d8b96d9926c6a180617": {
          "model_module": "@jupyter-widgets/controls",
          "model_name": "DescriptionStyleModel",
          "model_module_version": "1.5.0",
          "state": {
            "_model_module": "@jupyter-widgets/controls",
            "_model_module_version": "1.5.0",
            "_model_name": "DescriptionStyleModel",
            "_view_count": null,
            "_view_module": "@jupyter-widgets/base",
            "_view_module_version": "1.2.0",
            "_view_name": "StyleView",
            "description_width": ""
          }
        },
        "03e98f8daf564682be36c91e9c1e4198": {
          "model_module": "@jupyter-widgets/base",
          "model_name": "LayoutModel",
          "model_module_version": "1.2.0",
          "state": {
            "_model_module": "@jupyter-widgets/base",
            "_model_module_version": "1.2.0",
            "_model_name": "LayoutModel",
            "_view_count": null,
            "_view_module": "@jupyter-widgets/base",
            "_view_module_version": "1.2.0",
            "_view_name": "LayoutView",
            "align_content": null,
            "align_items": null,
            "align_self": null,
            "border": null,
            "bottom": null,
            "display": null,
            "flex": null,
            "flex_flow": null,
            "grid_area": null,
            "grid_auto_columns": null,
            "grid_auto_flow": null,
            "grid_auto_rows": null,
            "grid_column": null,
            "grid_gap": null,
            "grid_row": null,
            "grid_template_areas": null,
            "grid_template_columns": null,
            "grid_template_rows": null,
            "height": null,
            "justify_content": null,
            "justify_items": null,
            "left": null,
            "margin": null,
            "max_height": null,
            "max_width": null,
            "min_height": null,
            "min_width": null,
            "object_fit": null,
            "object_position": null,
            "order": null,
            "overflow": null,
            "overflow_x": null,
            "overflow_y": null,
            "padding": null,
            "right": null,
            "top": null,
            "visibility": null,
            "width": null
          }
        },
        "3a9d96f2cc67435f9849430df9fe489f": {
          "model_module": "@jupyter-widgets/controls",
          "model_name": "ProgressStyleModel",
          "model_module_version": "1.5.0",
          "state": {
            "_model_module": "@jupyter-widgets/controls",
            "_model_module_version": "1.5.0",
            "_model_name": "ProgressStyleModel",
            "_view_count": null,
            "_view_module": "@jupyter-widgets/base",
            "_view_module_version": "1.2.0",
            "_view_name": "StyleView",
            "bar_color": null,
            "description_width": ""
          }
        },
        "33f75c0583584dcb8e37058726e57e60": {
          "model_module": "@jupyter-widgets/base",
          "model_name": "LayoutModel",
          "model_module_version": "1.2.0",
          "state": {
            "_model_module": "@jupyter-widgets/base",
            "_model_module_version": "1.2.0",
            "_model_name": "LayoutModel",
            "_view_count": null,
            "_view_module": "@jupyter-widgets/base",
            "_view_module_version": "1.2.0",
            "_view_name": "LayoutView",
            "align_content": null,
            "align_items": null,
            "align_self": null,
            "border": null,
            "bottom": null,
            "display": null,
            "flex": null,
            "flex_flow": null,
            "grid_area": null,
            "grid_auto_columns": null,
            "grid_auto_flow": null,
            "grid_auto_rows": null,
            "grid_column": null,
            "grid_gap": null,
            "grid_row": null,
            "grid_template_areas": null,
            "grid_template_columns": null,
            "grid_template_rows": null,
            "height": null,
            "justify_content": null,
            "justify_items": null,
            "left": null,
            "margin": null,
            "max_height": null,
            "max_width": null,
            "min_height": null,
            "min_width": null,
            "object_fit": null,
            "object_position": null,
            "order": null,
            "overflow": null,
            "overflow_x": null,
            "overflow_y": null,
            "padding": null,
            "right": null,
            "top": null,
            "visibility": null,
            "width": null
          }
        },
        "0b26c265ae4d4e758ac9df8705fab946": {
          "model_module": "@jupyter-widgets/controls",
          "model_name": "DescriptionStyleModel",
          "model_module_version": "1.5.0",
          "state": {
            "_model_module": "@jupyter-widgets/controls",
            "_model_module_version": "1.5.0",
            "_model_name": "DescriptionStyleModel",
            "_view_count": null,
            "_view_module": "@jupyter-widgets/base",
            "_view_module_version": "1.2.0",
            "_view_name": "StyleView",
            "description_width": ""
          }
        },
        "ea5b36f9e0884b34afb22f13c875f6bb": {
          "model_module": "@jupyter-widgets/controls",
          "model_name": "HBoxModel",
          "model_module_version": "1.5.0",
          "state": {
            "_dom_classes": [],
            "_model_module": "@jupyter-widgets/controls",
            "_model_module_version": "1.5.0",
            "_model_name": "HBoxModel",
            "_view_count": null,
            "_view_module": "@jupyter-widgets/controls",
            "_view_module_version": "1.5.0",
            "_view_name": "HBoxView",
            "box_style": "",
            "children": [
              "IPY_MODEL_425bb6b5357e45199e6491f8cd0d15d6",
              "IPY_MODEL_7e7a188bbcfb4844aadf36cebf7467a0",
              "IPY_MODEL_1473c76c0a14481881c70b5827c05e6d"
            ],
            "layout": "IPY_MODEL_e4970a3655ba43e68852ee384ce48f1c"
          }
        },
        "425bb6b5357e45199e6491f8cd0d15d6": {
          "model_module": "@jupyter-widgets/controls",
          "model_name": "HTMLModel",
          "model_module_version": "1.5.0",
          "state": {
            "_dom_classes": [],
            "_model_module": "@jupyter-widgets/controls",
            "_model_module_version": "1.5.0",
            "_model_name": "HTMLModel",
            "_view_count": null,
            "_view_module": "@jupyter-widgets/controls",
            "_view_module_version": "1.5.0",
            "_view_name": "HTMLView",
            "description": "",
            "description_tooltip": null,
            "layout": "IPY_MODEL_8784d73808dd4d818af5eca1607854aa",
            "placeholder": "​",
            "style": "IPY_MODEL_4821023229ed49e39fb200ff88b17d04",
            "value": "100%"
          }
        },
        "7e7a188bbcfb4844aadf36cebf7467a0": {
          "model_module": "@jupyter-widgets/controls",
          "model_name": "FloatProgressModel",
          "model_module_version": "1.5.0",
          "state": {
            "_dom_classes": [],
            "_model_module": "@jupyter-widgets/controls",
            "_model_module_version": "1.5.0",
            "_model_name": "FloatProgressModel",
            "_view_count": null,
            "_view_module": "@jupyter-widgets/controls",
            "_view_module_version": "1.5.0",
            "_view_name": "ProgressView",
            "bar_style": "success",
            "description": "",
            "description_tooltip": null,
            "layout": "IPY_MODEL_6b234986a5c54616b7ddc271eadb58ba",
            "max": 33,
            "min": 0,
            "orientation": "horizontal",
            "style": "IPY_MODEL_a4dc7a2c02a44e3f95cee14ac43b63d8",
            "value": 33
          }
        },
        "1473c76c0a14481881c70b5827c05e6d": {
          "model_module": "@jupyter-widgets/controls",
          "model_name": "HTMLModel",
          "model_module_version": "1.5.0",
          "state": {
            "_dom_classes": [],
            "_model_module": "@jupyter-widgets/controls",
            "_model_module_version": "1.5.0",
            "_model_name": "HTMLModel",
            "_view_count": null,
            "_view_module": "@jupyter-widgets/controls",
            "_view_module_version": "1.5.0",
            "_view_name": "HTMLView",
            "description": "",
            "description_tooltip": null,
            "layout": "IPY_MODEL_8734fcd72dd24a1c880e33c334394531",
            "placeholder": "​",
            "style": "IPY_MODEL_f88f0239ca204d02ac80ec8671392754",
            "value": " 33/33 [00:05&lt;00:00,  1.42it/s]"
          }
        },
        "e4970a3655ba43e68852ee384ce48f1c": {
          "model_module": "@jupyter-widgets/base",
          "model_name": "LayoutModel",
          "model_module_version": "1.2.0",
          "state": {
            "_model_module": "@jupyter-widgets/base",
            "_model_module_version": "1.2.0",
            "_model_name": "LayoutModel",
            "_view_count": null,
            "_view_module": "@jupyter-widgets/base",
            "_view_module_version": "1.2.0",
            "_view_name": "LayoutView",
            "align_content": null,
            "align_items": null,
            "align_self": null,
            "border": null,
            "bottom": null,
            "display": null,
            "flex": null,
            "flex_flow": null,
            "grid_area": null,
            "grid_auto_columns": null,
            "grid_auto_flow": null,
            "grid_auto_rows": null,
            "grid_column": null,
            "grid_gap": null,
            "grid_row": null,
            "grid_template_areas": null,
            "grid_template_columns": null,
            "grid_template_rows": null,
            "height": null,
            "justify_content": null,
            "justify_items": null,
            "left": null,
            "margin": null,
            "max_height": null,
            "max_width": null,
            "min_height": null,
            "min_width": null,
            "object_fit": null,
            "object_position": null,
            "order": null,
            "overflow": null,
            "overflow_x": null,
            "overflow_y": null,
            "padding": null,
            "right": null,
            "top": null,
            "visibility": null,
            "width": null
          }
        },
        "8784d73808dd4d818af5eca1607854aa": {
          "model_module": "@jupyter-widgets/base",
          "model_name": "LayoutModel",
          "model_module_version": "1.2.0",
          "state": {
            "_model_module": "@jupyter-widgets/base",
            "_model_module_version": "1.2.0",
            "_model_name": "LayoutModel",
            "_view_count": null,
            "_view_module": "@jupyter-widgets/base",
            "_view_module_version": "1.2.0",
            "_view_name": "LayoutView",
            "align_content": null,
            "align_items": null,
            "align_self": null,
            "border": null,
            "bottom": null,
            "display": null,
            "flex": null,
            "flex_flow": null,
            "grid_area": null,
            "grid_auto_columns": null,
            "grid_auto_flow": null,
            "grid_auto_rows": null,
            "grid_column": null,
            "grid_gap": null,
            "grid_row": null,
            "grid_template_areas": null,
            "grid_template_columns": null,
            "grid_template_rows": null,
            "height": null,
            "justify_content": null,
            "justify_items": null,
            "left": null,
            "margin": null,
            "max_height": null,
            "max_width": null,
            "min_height": null,
            "min_width": null,
            "object_fit": null,
            "object_position": null,
            "order": null,
            "overflow": null,
            "overflow_x": null,
            "overflow_y": null,
            "padding": null,
            "right": null,
            "top": null,
            "visibility": null,
            "width": null
          }
        },
        "4821023229ed49e39fb200ff88b17d04": {
          "model_module": "@jupyter-widgets/controls",
          "model_name": "DescriptionStyleModel",
          "model_module_version": "1.5.0",
          "state": {
            "_model_module": "@jupyter-widgets/controls",
            "_model_module_version": "1.5.0",
            "_model_name": "DescriptionStyleModel",
            "_view_count": null,
            "_view_module": "@jupyter-widgets/base",
            "_view_module_version": "1.2.0",
            "_view_name": "StyleView",
            "description_width": ""
          }
        },
        "6b234986a5c54616b7ddc271eadb58ba": {
          "model_module": "@jupyter-widgets/base",
          "model_name": "LayoutModel",
          "model_module_version": "1.2.0",
          "state": {
            "_model_module": "@jupyter-widgets/base",
            "_model_module_version": "1.2.0",
            "_model_name": "LayoutModel",
            "_view_count": null,
            "_view_module": "@jupyter-widgets/base",
            "_view_module_version": "1.2.0",
            "_view_name": "LayoutView",
            "align_content": null,
            "align_items": null,
            "align_self": null,
            "border": null,
            "bottom": null,
            "display": null,
            "flex": null,
            "flex_flow": null,
            "grid_area": null,
            "grid_auto_columns": null,
            "grid_auto_flow": null,
            "grid_auto_rows": null,
            "grid_column": null,
            "grid_gap": null,
            "grid_row": null,
            "grid_template_areas": null,
            "grid_template_columns": null,
            "grid_template_rows": null,
            "height": null,
            "justify_content": null,
            "justify_items": null,
            "left": null,
            "margin": null,
            "max_height": null,
            "max_width": null,
            "min_height": null,
            "min_width": null,
            "object_fit": null,
            "object_position": null,
            "order": null,
            "overflow": null,
            "overflow_x": null,
            "overflow_y": null,
            "padding": null,
            "right": null,
            "top": null,
            "visibility": null,
            "width": null
          }
        },
        "a4dc7a2c02a44e3f95cee14ac43b63d8": {
          "model_module": "@jupyter-widgets/controls",
          "model_name": "ProgressStyleModel",
          "model_module_version": "1.5.0",
          "state": {
            "_model_module": "@jupyter-widgets/controls",
            "_model_module_version": "1.5.0",
            "_model_name": "ProgressStyleModel",
            "_view_count": null,
            "_view_module": "@jupyter-widgets/base",
            "_view_module_version": "1.2.0",
            "_view_name": "StyleView",
            "bar_color": null,
            "description_width": ""
          }
        },
        "8734fcd72dd24a1c880e33c334394531": {
          "model_module": "@jupyter-widgets/base",
          "model_name": "LayoutModel",
          "model_module_version": "1.2.0",
          "state": {
            "_model_module": "@jupyter-widgets/base",
            "_model_module_version": "1.2.0",
            "_model_name": "LayoutModel",
            "_view_count": null,
            "_view_module": "@jupyter-widgets/base",
            "_view_module_version": "1.2.0",
            "_view_name": "LayoutView",
            "align_content": null,
            "align_items": null,
            "align_self": null,
            "border": null,
            "bottom": null,
            "display": null,
            "flex": null,
            "flex_flow": null,
            "grid_area": null,
            "grid_auto_columns": null,
            "grid_auto_flow": null,
            "grid_auto_rows": null,
            "grid_column": null,
            "grid_gap": null,
            "grid_row": null,
            "grid_template_areas": null,
            "grid_template_columns": null,
            "grid_template_rows": null,
            "height": null,
            "justify_content": null,
            "justify_items": null,
            "left": null,
            "margin": null,
            "max_height": null,
            "max_width": null,
            "min_height": null,
            "min_width": null,
            "object_fit": null,
            "object_position": null,
            "order": null,
            "overflow": null,
            "overflow_x": null,
            "overflow_y": null,
            "padding": null,
            "right": null,
            "top": null,
            "visibility": null,
            "width": null
          }
        },
        "f88f0239ca204d02ac80ec8671392754": {
          "model_module": "@jupyter-widgets/controls",
          "model_name": "DescriptionStyleModel",
          "model_module_version": "1.5.0",
          "state": {
            "_model_module": "@jupyter-widgets/controls",
            "_model_module_version": "1.5.0",
            "_model_name": "DescriptionStyleModel",
            "_view_count": null,
            "_view_module": "@jupyter-widgets/base",
            "_view_module_version": "1.2.0",
            "_view_name": "StyleView",
            "description_width": ""
          }
        }
      }
    }
  },
  "nbformat": 4,
  "nbformat_minor": 0
}
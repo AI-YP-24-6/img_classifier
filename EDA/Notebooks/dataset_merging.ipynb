{
 "cells": [
  {
   "cell_type": "markdown",
   "metadata": {
    "id": "W2CD5Gk41x0a"
   },
   "source": [
    "# Объединение датасетов Vegetables, fruits360, tasty_fruit"
   ]
  },
  {
   "cell_type": "markdown",
   "metadata": {
    "id": "oac_-Q0i3Yfc"
   },
   "source": [
    "Из разведовательных анализов отдельно каждого датасета известно, что:  \n",
    "- Датасет **Vegetables** - сбалансирован, имеет по 1400 изображений в каждом из 15 классов.\n",
    "- Датасет **fruits360** - имеет множество классов. Многие классы являются подклассами для обобщенного класса (к примеру, классы разных типов яблок можно отнести к классу \"Яблоко\").\n",
    "- Датасет **tasty_fruit** - имеет около 330 изображений для каждого из 10 классов.\n",
    "\n",
    "Так как датасет Vegetables уже сбалансирован, то **требуемое количество изображений для классов можно взять 1400**\n",
    "\n",
    "Принято решение в датасете fruits360 выделить обобщенные классы, из этих классов выбрать те, которые соответствуют требуемому количеству изображений (в них расположены чаще встречаемые фрукты) и классы, которые можно объединить с классами из других датасетов.  \n",
    "Для классов, в которых будет недостаточно изображений применить oversampling.  \n",
    "Для классов, превышающих требуемое количество изображений применить undersampling."
   ]
  },
  {
   "cell_type": "code",
   "execution_count": null,
   "metadata": {
    "id": "ObL9LpKSoGNr"
   },
   "outputs": [],
   "source": [
    "import zipfile\n",
    "import os\n",
    "import numpy as np\n",
    "import matplotlib.pyplot as plt\n",
    "import seaborn as sns\n",
    "\n",
    "import re\n",
    "from tqdm.auto import tqdm\n",
    "import shutil\n",
    "import hashlib\n",
    "\n",
    "from PIL import Image, ImageEnhance\n",
    "import random"
   ]
  },
  {
   "cell_type": "code",
   "execution_count": null,
   "metadata": {
    "id": "uP0LLbavVHek"
   },
   "outputs": [],
   "source": [
    "FILES_COUNT = 1400\n",
    "MV_FILES_COUNT = int(FILES_COUNT * 0.4)\n",
    "RM_FILES_COUNT = FILES_COUNT - MV_FILES_COUNT\n",
    "TEST_SIZE_PERCENT = 0.2\n",
    "TEST_COUNT = int(FILES_COUNT * TEST_SIZE_PERCENT)"
   ]
  },
  {
   "cell_type": "code",
   "execution_count": null,
   "metadata": {
    "colab": {
     "base_uri": "https://localhost:8080/"
    },
    "id": "jFTxqxPhoVRQ",
    "outputId": "6c2c80a4-f37a-4357-cea9-07609dab1899"
   },
   "outputs": [
    {
     "output_type": "stream",
     "name": "stdout",
     "text": [
      "Mounted at /content/drive\n"
     ]
    }
   ],
   "source": [
    "try:\n",
    "    from google.colab import drive\n",
    "\n",
    "    drive.mount(\"/content/drive\")\n",
    "    DRIVE_DIR = os.path.join(\"/content/drive\", \"MyDrive\")\n",
    "except ImportError:\n",
    "    DRIVE_DIR = os.getcwd()\n",
    "\n",
    "DATASET_DIR = os.path.join(os.getcwd(), \"dataset\")\n",
    "os.makedirs(DATASET_DIR, exist_ok=True)"
   ]
  },
  {
   "cell_type": "code",
   "execution_count": null,
   "metadata": {
    "colab": {
     "base_uri": "https://localhost:8080/"
    },
    "id": "FbzPyYRRuREq",
    "outputId": "c77e8fb7-63a1-4b07-da5a-cbdc1d2d56d3"
   },
   "outputs": [
    {
     "output_type": "stream",
     "name": "stdout",
     "text": [
      "166 Начальных классов\n"
     ]
    }
   ],
   "source": [
    "# Распаковка архива\n",
    "with zipfile.ZipFile(os.path.join(DRIVE_DIR, \"dataset.zip\"), \"r\") as zip_ref:\n",
    "    zip_ref.extractall(\"./\")\n",
    "\n",
    "# Проверим структуру папок\n",
    "print(f\"{len(os.listdir(DATASET_DIR))} Начальных классов\")"
   ]
  },
  {
   "cell_type": "markdown",
   "metadata": {
    "id": "ay0s7figBNLN"
   },
   "source": [
    "## Обобщение классов"
   ]
  },
  {
   "cell_type": "markdown",
   "metadata": {
    "id": "SFjGzqEJ7jCo"
   },
   "source": [
    "Классы из fruits360 имеют число в конце названия, по числу можно отличить от других датасетов"
   ]
  },
  {
   "cell_type": "code",
   "execution_count": null,
   "metadata": {
    "colab": {
     "base_uri": "https://localhost:8080/"
    },
    "id": "tmlcLbI8u5y-",
    "outputId": "89aafbfb-b633-43b5-eeae-6c6699823a4b"
   },
   "outputs": [
    {
     "output_type": "stream",
     "name": "stdout",
     "text": [
      "Обобщенных классов 80\n",
      "Изначальных классов 166\n"
     ]
    }
   ],
   "source": [
    "prev_classes = os.listdir(DATASET_DIR)\n",
    "classes = []\n",
    "for cl in prev_classes:\n",
    "    split_name = cl.split(\" \")\n",
    "    if split_name[0] not in classes:\n",
    "        classes.append(split_name[0])\n",
    "\n",
    "print(f\"Обобщенных классов {len(classes)}\")\n",
    "print(f\"Изначальных классов {len(prev_classes)}\")"
   ]
  },
  {
   "cell_type": "markdown",
   "metadata": {
    "id": "mfgD1CAI7ujP"
   },
   "source": [
    "После обобщения классов из fruits360 получилось 80 классов, было 166"
   ]
  },
  {
   "cell_type": "code",
   "execution_count": null,
   "metadata": {
    "colab": {
     "base_uri": "https://localhost:8080/",
     "height": 49,
     "referenced_widgets": [
      "ba68f1cda8b14191b61de85f9794c71a",
      "a88aa2b5a00e449aa1734b4a1173a1f7",
      "322e122db89140f98787164eabf6730a",
      "8926877ad22b4765a8617cafb04dc770",
      "91ee71f79993424f8bc771efb8ca522d",
      "daa851a6cdcb45b393335ac33b0c24e1",
      "273ef588d0a74edcb45cc90272cc8c32",
      "3d8e6237c4a04e5998be603fbac67445",
      "0a0aca6603504e3d8ef0c62b93421ec8",
      "4cbc17fdf67441bd9ef1f558c00ac0a7",
      "5adcb52f0df4498fa46bc1c0223c1afc"
     ]
    },
    "id": "tiRykpxo3xTd",
    "outputId": "445869bf-3080-4231-ba63-da7e61dc35b9"
   },
   "outputs": [
    {
     "output_type": "display_data",
     "data": {
      "text/plain": [
       "0it [00:00, ?it/s]"
      ],
      "application/vnd.jupyter.widget-view+json": {
       "version_major": 2,
       "version_minor": 0,
       "model_id": "ba68f1cda8b14191b61de85f9794c71a"
      }
     },
     "metadata": {}
    }
   ],
   "source": [
    "fruit360_classes = []\n",
    "prev_sum = 0\n",
    "for i, cl in tqdm(enumerate(prev_classes)):\n",
    "    is_fruit360 = re.match(r\".*\\s\\d+\", cl) is not None\n",
    "    if is_fruit360:\n",
    "        prev_sum = prev_sum + 1\n",
    "        cl_name = cl.split(\" \")[0]\n",
    "        cl_path = os.path.join(DATASET_DIR, cl)\n",
    "\n",
    "        new_cl_name = cl_name + \"360\"\n",
    "        new_cl_path = os.path.join(DATASET_DIR, new_cl_name)\n",
    "        if new_cl_name not in fruit360_classes:\n",
    "            os.makedirs(new_cl_path, exist_ok=True)\n",
    "            fruit360_classes.append(new_cl_name)\n",
    "\n",
    "        for img_name in os.listdir(cl_path):\n",
    "            file_path = os.path.join(DATASET_DIR, cl_path, img_name)\n",
    "            new_file_path = os.path.join(DATASET_DIR, new_cl_path, str(i) + \"_\" + img_name)\n",
    "            shutil.move(file_path, new_file_path)\n",
    "        if len(os.listdir(cl_path)) > 0:\n",
    "            print(f\"Что-то пошло не так, не все файлы перемещены из папки {cl_path}\")\n",
    "        else:\n",
    "            os.rmdir(cl_path)"
   ]
  },
  {
   "cell_type": "code",
   "execution_count": null,
   "metadata": {
    "colab": {
     "base_uri": "https://localhost:8080/"
    },
    "id": "oQSPb-YDxO9q",
    "outputId": "d376f57e-aa8c-41a8-b32a-d690ae846864"
   },
   "outputs": [
    {
     "output_type": "stream",
     "name": "stdout",
     "text": [
      "Было 141 классов fruits360, стало 70\n"
     ]
    }
   ],
   "source": [
    "print(f\"Было {prev_sum} классов fruits360, стало {len(fruit360_classes)}\")"
   ]
  },
  {
   "cell_type": "markdown",
   "metadata": {
    "id": "ZaOhW9IV78Zf"
   },
   "source": [
    "Классы из fruits360 удалось сократить примерно в 2 раза при помощи обобщения. Такое обобщение увеличит количество и разнообразие изображений в классах."
   ]
  },
  {
   "cell_type": "code",
   "execution_count": null,
   "metadata": {
    "colab": {
     "base_uri": "https://localhost:8080/",
     "height": 727
    },
    "id": "NTnZ66yy8-TN",
    "outputId": "c046a3c4-ce57-4ff0-b4d1-65b9c7f54bd2"
   },
   "outputs": [
    {
     "output_type": "display_data",
     "data": {
      "text/plain": [
       "<Figure size 2000x700 with 1 Axes>"
      ],
      "image/png": "[encoded data removed]"
     },
     "metadata": {}
    }
   ],
   "source": [
    "classes = os.listdir(DATASET_DIR)\n",
    "class_counts = {cl: len(os.listdir(os.path.join(DATASET_DIR, cl))) for cl in classes}\n",
    "\n",
    "plt.figure(figsize=(20, 7))\n",
    "sns.barplot(x=list(class_counts.keys()), y=list(class_counts.values()))\n",
    "plt.xticks(rotation=90)\n",
    "plt.title(\"Количество изображений в каждом классе\")\n",
    "plt.show()"
   ]
  },
  {
   "cell_type": "markdown",
   "metadata": {
    "id": "cYWTgbnb8_Rt"
   },
   "source": [
    "Пока что классы из fruits360, пересекающиеся с классами из других датасетов, не объеденены. Датасет получается с большим количеством классов и несбалансированным.  \n",
    "Можно убрать непопулярные классы с экзотическими фруктами и объединить повторяющиеся классы."
   ]
  },
  {
   "cell_type": "code",
   "execution_count": null,
   "metadata": {
    "colab": {
     "base_uri": "https://localhost:8080/"
    },
    "id": "50nK_FFn4lCm",
    "outputId": "2625238c-7247-4e7d-c3ec-b18e1878de8d"
   },
   "outputs": [
    {
     "output_type": "stream",
     "name": "stdout",
     "text": [
      "Новых классов из fruits360: 8\n",
      "Классов для объединения из fruits360: 15\n",
      "Классов с малым количеством данных fruits360: 47\n"
     ]
    }
   ],
   "source": [
    "to_merge = []\n",
    "to_add = []\n",
    "others = []\n",
    "dirs = np.array(os.listdir(DATASET_DIR))\n",
    "for cl in fruit360_classes:\n",
    "    if cl[0:-3] in dirs:\n",
    "        to_merge.append(cl)\n",
    "    elif len(os.listdir(os.path.join(DATASET_DIR, cl))) > FILES_COUNT:\n",
    "        to_add.append(cl)\n",
    "    else:\n",
    "        others.append(cl)\n",
    "\n",
    "print(f\"Новых классов из fruits360: {len(to_add)}\")\n",
    "print(f\"Классов для объединения из fruits360: {len(to_merge)}\")\n",
    "print(f\"Классов с малым количеством данных fruits360: {len(others)}\")"
   ]
  },
  {
   "cell_type": "markdown",
   "metadata": {
    "id": "DTUfdAsz8ds-"
   },
   "source": [
    "Классы с малым количеством данных fruits360 отбросим, т.к. в них представлены фото немногочисленного количества фруктов (~1-3) под разным углом."
   ]
  },
  {
   "cell_type": "code",
   "execution_count": null,
   "metadata": {
    "id": "xVHqkk3h5ww6"
   },
   "outputs": [],
   "source": [
    "# Сохранение промежуточного результата\n",
    "INTER_ZIP_PATH = os.path.join(DRIVE_DIR, \"inter_dataset\")\n",
    "shutil.make_archive(INTER_ZIP_PATH, \"zip\", DATASET_DIR)\n",
    "print(f\"Промежуточный этап сохранен в {INTER_ZIP_PATH}\")"
   ]
  },
  {
   "cell_type": "markdown",
   "metadata": {
    "id": "Uh9PduaUBcDO"
   },
   "source": [
    "## Балансировка изображений в классах, удаление лишних классов"
   ]
  },
  {
   "cell_type": "markdown",
   "metadata": {
    "id": "Err3F12a9nLz"
   },
   "source": [
    "Для oversampling используется:\n",
    "- поворот изображения на определенный градус\n",
    "- изменение яркости изображения\n",
    "- изменение контрастности изображения\n",
    "- отзеркаливание изображения"
   ]
  },
  {
   "cell_type": "code",
   "execution_count": null,
   "metadata": {
    "id": "lkRYJZUo-pKL"
   },
   "outputs": [],
   "source": [
    "def rotate_img(img, angle) -> Image:\n",
    "    img_rotated = img.rotate(angle, fillcolor=(255, 255, 255))\n",
    "    return img_rotated\n",
    "\n",
    "\n",
    "def brightness_img(img, brightness_coeff) -> Image:\n",
    "    enhancer = ImageEnhance.Brightness(img)\n",
    "    img_brightened = enhancer.enhance(brightness_coeff)\n",
    "    return img_brightened.convert(\"RGB\")\n",
    "\n",
    "\n",
    "def contrasted_img(img, contrast_coeff) -> Image:\n",
    "    enhancer = ImageEnhance.Contrast(img)\n",
    "    img_contrasted = enhancer.enhance(contrast_coeff)\n",
    "    return img_contrasted.convert(\"RGB\")\n",
    "\n",
    "\n",
    "def transpose_img(img) -> Image:\n",
    "    img_transposed = img.transpose(Image.FLIP_LEFT_RIGHT)\n",
    "    return img_transposed"
   ]
  },
  {
   "cell_type": "markdown",
   "metadata": {
    "id": "rBDxUuV8955t"
   },
   "source": [
    "Для undersampling будут выбраны случайные изображения для удаления  \n",
    "Oversampling использует вышеперечисленные методы"
   ]
  },
  {
   "cell_type": "code",
   "execution_count": null,
   "metadata": {
    "id": "KKr1ngqxAYaN"
   },
   "outputs": [],
   "source": [
    "def save_if_not_exist(file_path, img: Image):\n",
    "    if os.path.exists(file_path) == False:\n",
    "        img.save(file_path)\n",
    "        return True\n",
    "    return False\n",
    "\n",
    "\n",
    "def add_new_images(dir_path, filename, prev_count, max_count):\n",
    "    img = Image.open(os.path.join(dir_path, filename))\n",
    "    if img.mode != \"RGB\":\n",
    "        img = img.convert(\"RGB\")\n",
    "    br = round(random.uniform(0.5, 1.5), 2)\n",
    "    while br == 1:\n",
    "        br = round(random.uniform(0.5, 1.5), 2)\n",
    "    br_img = brightness_img(img, br)\n",
    "    if save_if_not_exist(os.path.join(dir_path, f\"br{br}_{filename}\"), br_img):\n",
    "        prev_count = prev_count + 1\n",
    "    if prev_count == max_count:\n",
    "        return prev_count\n",
    "    deg = random.randint(1, 359)\n",
    "    deg_img = rotate_img(img, deg)\n",
    "    if save_if_not_exist(os.path.join(dir_path, f\"deg{deg}_{filename}\"), deg_img):\n",
    "        prev_count = prev_count + 1\n",
    "    if prev_count == max_count:\n",
    "        return prev_count\n",
    "    contr = round(random.uniform(0.5, 1.5), 2)\n",
    "    while contr == 1:\n",
    "        contr = round(random.uniform(0.5, 1.5), 2)\n",
    "    contr_img = contrasted_img(img, contr)\n",
    "    if save_if_not_exist(os.path.join(dir_path, f\"contr{contr}_{filename}\"), contr_img):\n",
    "        prev_count = prev_count + 1\n",
    "    return prev_count\n",
    "\n",
    "\n",
    "def oversampling_images(dir_path, max_count):\n",
    "    files = os.listdir(dir_path)\n",
    "    random.shuffle(files)\n",
    "    count = len(files)\n",
    "    if count > 0:\n",
    "        while count < max_count:\n",
    "            for f in files:\n",
    "                count = add_new_images(dir_path, f, count, max_count)\n",
    "                if count == max_count:\n",
    "                    break\n",
    "                img = Image.open(os.path.join(dir_path, f)).copy()\n",
    "                if img.mode != \"RGB\":\n",
    "                    img = img.convert(\"RGB\")\n",
    "                tr_img = transpose_img(img)\n",
    "                if save_if_not_exist(os.path.join(dir_path, f\"transp_{f}\"), tr_img):\n",
    "                    count = count + 1\n",
    "                count = add_new_images(dir_path, f\"transp_{f}\", count, max_count)\n",
    "                if count == max_count:\n",
    "                    break\n",
    "\n",
    "\n",
    "def undersampling_images(dir_path, max_count):\n",
    "    files = os.listdir(dir_path)\n",
    "    count = len(files)\n",
    "    if count > max_count:\n",
    "        files_to_remove = random.sample(files, count - max_count)\n",
    "        for f in files_to_remove:\n",
    "            rm_path = os.path.join(dir_path, f)\n",
    "            if os.path.exists(rm_path):\n",
    "                os.remove(rm_path)\n",
    "            else:\n",
    "                print(\"Файл {rm_path} не найден\")"
   ]
  },
  {
   "cell_type": "code",
   "source": [
    "def create_train_dir(dir_path, train_path):\n",
    "    os.makedirs(train_path, exist_ok=True)\n",
    "    shutil.move(dir_path, train_path)\n",
    "\n",
    "\n",
    "def create_test_dir(dir_path, test_path, test_count):\n",
    "    files = os.listdir(dir_path)\n",
    "    test_files = random.sample(files, test_count)\n",
    "\n",
    "    os.makedirs(test_path, exist_ok=True)\n",
    "\n",
    "    for f in test_files:\n",
    "        file_path = os.path.join(dir_path, f)\n",
    "        shutil.move(file_path, test_path)"
   ],
   "metadata": {
    "id": "6nzBAbzCH2jv"
   },
   "execution_count": null,
   "outputs": []
  },
  {
   "cell_type": "code",
   "execution_count": null,
   "metadata": {
    "id": "taq9V_3y4xz6"
   },
   "outputs": [],
   "source": [
    "# Добавляет класс с указанным к-вом файлов\n",
    "def add_class(prev_path, new_path, files_count):\n",
    "    # Из условия: всегда больше FILES_COUNT, поэтому выполняется undersampling_images\n",
    "    file_count = len(os.listdir(prev_path))\n",
    "    undersampling_images(prev_path, files_count)\n",
    "    os.rename(prev_path, new_path)\n",
    "\n",
    "\n",
    "# Объединяет классы\n",
    "def merge_classes(path_to_move, path_to_remove, test_path):\n",
    "\n",
    "    files_to_move = os.listdir(path_to_remove)\n",
    "    for f in files_to_move:\n",
    "        # Переместить файл из первого (удаляемого) во второй (конечный) путь\n",
    "        shutil.move(os.path.join(path_to_remove, f), os.path.join(path_to_move, f))\n",
    "    shutil.rmtree(path_to_remove)\n",
    "    create_test_dir(path_to_move, test_path, TEST_COUNT)\n",
    "    if len(os.listdir(path_to_move)) > FILES_COUNT - TEST_COUNT:\n",
    "        undersampling_images(path_to_move, FILES_COUNT - TEST_COUNT)\n",
    "    else:\n",
    "        oversampling_images(path_to_move, FILES_COUNT - TEST_COUNT)"
   ]
  },
  {
   "cell_type": "code",
   "execution_count": null,
   "metadata": {
    "id": "K-7AEaek9RQE",
    "colab": {
     "base_uri": "https://localhost:8080/",
     "height": 145,
     "referenced_widgets": [
      "5c1da8ba56ab4b02b252916b413a55a3",
      "eee328a334c347e49f79bc3ff9263cbd",
      "a58a9bb969ab4bfd97662a593c8563ab",
      "74ba7a1f353e4501a1e55f6517ce4380",
      "a454fef0a79e4225a1830eb7d0bd1d22",
      "ca79ad4dcd724805ab3e9e9751e0dcd2",
      "6c9717513c8248bbb562561ce1c73ca2",
      "52964739f32a4dacaf95b6fcf5ad5617",
      "dd3f833b64324d83b7a9fd0d19eb765a",
      "20ff01dcecaa48bfa3cb42cbf06a47bc",
      "a9986dda76c746a79ba35b36fef25504",
      "1285f55dd77c4c14bf254d3877e22920",
      "8d511566a831463e836834ba55e82232",
      "b91cf8fc001549aabb3b0be03e7a849b",
      "8f44d7958c2642adb525528fafb99d05",
      "8f092c9e86f245cfb6b0035988e3fe10",
      "e55f23979f744db29ab04a6951a8b4a8",
      "bc782aa80ff64339ad493616e56edd1c",
      "4e5f76a68903413bbcc76b48fe3f4175",
      "1fc73dbbd87c4d42a7e80306e2b47735",
      "e251b18c90da472dabfb7943999d047b",
      "fdf4856f2635492cb2dd8512df624660",
      "86e81cd7021a45178d0b289ead256306",
      "f4aa1148ad8e41098cff9932bad66b8b",
      "757dfd0a7b18474a89984e572163d6c9",
      "b53dd88797764560923cab1e6ffe3254",
      "7a52744c09174a1a98f3bbf58f660d12",
      "7f66c2720c8c4c788437cf42185a551e",
      "ce8bb1276b6f46fd98ef7f4b13390675",
      "975b019f873d4543868f3bf7af34d63a",
      "5f7f8ee725e44eb09ab0e211c6ee6df4",
      "4bdcc5958be8493d91bc9a9a2dd29f23",
      "aaf4d2ead1fa47b1996cb5758dbe2eeb",
      "324195c36e5b4119961ace51210873fe",
      "305dda7cc08e4b4d9eaf99192dfd8888",
      "a3ce4f22793649aaa9e6f10e16ecb5e9",
      "e2a880eac580467b85951041802e13d5",
      "d92b20d59a434fa9a29b4b8044a43862",
      "ca29d1d5750e4986946f2b2269a4d7e1",
      "734703e1b66e4e1b852861b015a8a73b",
      "3fbf6040bb0a4da78c694a0a1d0acef8",
      "19403cc405da4fa0bd85576279506632",
      "537c91327e264cdf9c63b12bdbd05026",
      "0a8b2bcaa44344efaa66f0c99c1cef03"
     ]
    },
    "outputId": "040e8f18-fbb8-4eeb-f33b-c44d6d9bfe05"
   },
   "outputs": [
    {
     "output_type": "display_data",
     "data": {
      "text/plain": [
       "  0%|          | 0/8 [00:00<?, ?it/s]"
      ],
      "application/vnd.jupyter.widget-view+json": {
       "version_major": 2,
       "version_minor": 0,
       "model_id": "5c1da8ba56ab4b02b252916b413a55a3"
      }
     },
     "metadata": {}
    },
    {
     "output_type": "display_data",
     "data": {
      "text/plain": [
       "  0%|          | 0/15 [00:00<?, ?it/s]"
      ],
      "application/vnd.jupyter.widget-view+json": {
       "version_major": 2,
       "version_minor": 0,
       "model_id": "1285f55dd77c4c14bf254d3877e22920"
      }
     },
     "metadata": {}
    },
    {
     "output_type": "display_data",
     "data": {
      "text/plain": [
       "  0%|          | 0/47 [00:00<?, ?it/s]"
      ],
      "application/vnd.jupyter.widget-view+json": {
       "version_major": 2,
       "version_minor": 0,
       "model_id": "86e81cd7021a45178d0b289ead256306"
      }
     },
     "metadata": {}
    },
    {
     "output_type": "display_data",
     "data": {
      "text/plain": [
       "  0%|          | 0/34 [00:00<?, ?it/s]"
      ],
      "application/vnd.jupyter.widget-view+json": {
       "version_major": 2,
       "version_minor": 0,
       "model_id": "324195c36e5b4119961ace51210873fe"
      }
     },
     "metadata": {}
    }
   ],
   "source": [
    "for cl in tqdm(to_add):\n",
    "    current_dir = os.path.join(DATASET_DIR, cl)\n",
    "    new_dir = os.path.join(DATASET_DIR, cl[0:-3])\n",
    "    test_path = os.path.join(DATASET_DIR, \"test\", cl[0:-3])\n",
    "    create_test_dir(current_dir, test_path, TEST_COUNT)\n",
    "    add_class(current_dir, new_dir, FILES_COUNT - TEST_COUNT)\n",
    "\n",
    "for cl in tqdm(to_merge):\n",
    "    path_to_move = os.path.join(DATASET_DIR, cl[0:-3])\n",
    "    path_to_remove = os.path.join(DATASET_DIR, cl)\n",
    "    test_path = os.path.join(DATASET_DIR, \"test\", cl[0:-3])\n",
    "    merge_classes(path_to_move, path_to_remove, test_path)\n",
    "\n",
    "for cl in tqdm(others):\n",
    "    shutil.rmtree(os.path.join(DATASET_DIR, cl))\n",
    "\n",
    "for cl in tqdm(os.listdir(DATASET_DIR)):\n",
    "    if cl != \"test\":\n",
    "        current_dir = os.path.join(DATASET_DIR, cl)\n",
    "        if os.path.exists(current_dir):\n",
    "            if not os.path.exists(os.path.join(DATASET_DIR, \"test\", cl)):\n",
    "                create_test_dir(current_dir, os.path.join(DATASET_DIR, \"test\", cl), TEST_COUNT)\n",
    "            file_count = len(os.listdir(current_dir))\n",
    "            if file_count < (FILES_COUNT - TEST_COUNT):\n",
    "                oversampling_images(current_dir, FILES_COUNT - TEST_COUNT)\n",
    "            create_train_dir(current_dir, os.path.join(DATASET_DIR, \"train\"))"
   ]
  },
  {
   "cell_type": "code",
   "source": [
    "TRAIN_DIR = os.path.join(DATASET_DIR, \"train\")\n",
    "TEST_DIR = os.path.join(DATASET_DIR, \"test\")"
   ],
   "metadata": {
    "id": "9N3Frehm3nsp"
   },
   "execution_count": null,
   "outputs": []
  },
  {
   "cell_type": "code",
   "source": [
    "assert len(os.listdir(TRAIN_DIR)) == len(os.listdir(TEST_DIR))"
   ],
   "metadata": {
    "id": "OdBnw2oxzClH"
   },
   "execution_count": null,
   "outputs": []
  },
  {
   "cell_type": "code",
   "execution_count": null,
   "metadata": {
    "id": "RucvppHsIemu"
   },
   "outputs": [],
   "source": [
    "classes = os.listdir(TRAIN_DIR)\n",
    "class_counts = {cl: len(os.listdir(os.path.join(TRAIN_DIR, cl))) for cl in classes}\n",
    "for cl in class_counts:\n",
    "    class_counts[cl] = class_counts[cl] + len(os.listdir(os.path.join(TEST_DIR, cl)))"
   ]
  },
  {
   "cell_type": "markdown",
   "metadata": {
    "id": "fbZLEgkW-1_t"
   },
   "source": [
    "Убедиться, что классы отработали заданные действия"
   ]
  },
  {
   "cell_type": "code",
   "execution_count": null,
   "metadata": {
    "colab": {
     "base_uri": "https://localhost:8080/"
    },
    "id": "2hoA6_ee-_6R",
    "outputId": "cb0947f3-3ed1-481e-eab7-7ed16fbac5f7"
   },
   "outputs": [
    {
     "output_type": "stream",
     "name": "stdout",
     "text": [
      "Plum:\n",
      "  merge: False\n",
      "  add: True\n",
      "  vegetables: False\n",
      "\n",
      "Strawberry:\n",
      "  merge: False\n",
      "  add: True\n",
      "  vegetables: False\n",
      "\n",
      "Onion:\n",
      "  merge: False\n",
      "  add: True\n",
      "  vegetables: False\n",
      "\n",
      "Watermelon:\n",
      "  merge: True\n",
      "  add: False\n",
      "  vegetables: False\n",
      "\n",
      "Banana:\n",
      "  merge: True\n",
      "  add: False\n",
      "  vegetables: False\n",
      "\n",
      "Carrot:\n",
      "  merge: True\n",
      "  add: False\n",
      "  vegetables: True\n",
      "\n",
      "Papaya:\n",
      "  merge: True\n",
      "  add: False\n",
      "  vegetables: True\n",
      "\n",
      "Nut:\n",
      "  merge: False\n",
      "  add: True\n",
      "  vegetables: False\n",
      "\n",
      "Mango:\n",
      "  merge: True\n",
      "  add: False\n",
      "  vegetables: False\n",
      "\n",
      "Pepper:\n",
      "  merge: False\n",
      "  add: True\n",
      "  vegetables: False\n",
      "\n",
      "Radish:\n",
      "  merge: False\n",
      "  add: False\n",
      "  vegetables: True\n",
      "\n",
      "Cabbage:\n",
      "  merge: True\n",
      "  add: False\n",
      "  vegetables: True\n",
      "\n",
      "Tomato:\n",
      "  merge: True\n",
      "  add: False\n",
      "  vegetables: True\n",
      "\n",
      "Pear:\n",
      "  merge: False\n",
      "  add: True\n",
      "  vegetables: False\n",
      "\n",
      "Cauliflower:\n",
      "  merge: True\n",
      "  add: False\n",
      "  vegetables: True\n",
      "\n",
      "Grape:\n",
      "  merge: False\n",
      "  add: True\n",
      "  vegetables: False\n",
      "\n",
      "Cherry:\n",
      "  merge: True\n",
      "  add: False\n",
      "  vegetables: False\n",
      "\n",
      "Capsicum:\n",
      "  merge: False\n",
      "  add: False\n",
      "  vegetables: True\n",
      "\n",
      "Bitter_Gourd:\n",
      "  merge: False\n",
      "  add: False\n",
      "  vegetables: True\n",
      "\n",
      "Broccoli:\n",
      "  merge: False\n",
      "  add: False\n",
      "  vegetables: True\n",
      "\n",
      "Peach:\n",
      "  merge: False\n",
      "  add: True\n",
      "  vegetables: False\n",
      "\n",
      "Potato:\n",
      "  merge: True\n",
      "  add: False\n",
      "  vegetables: True\n",
      "\n",
      "Cucumber:\n",
      "  merge: True\n",
      "  add: False\n",
      "  vegetables: True\n",
      "\n",
      "Kiwi:\n",
      "  merge: True\n",
      "  add: False\n",
      "  vegetables: False\n",
      "\n",
      "Avocado:\n",
      "  merge: True\n",
      "  add: False\n",
      "  vegetables: False\n",
      "\n",
      "Pinenapple:\n",
      "  merge: False\n",
      "  add: False\n",
      "  vegetables: False\n",
      "\n",
      "Stawberries:\n",
      "  merge: False\n",
      "  add: False\n",
      "  vegetables: False\n",
      "\n",
      "Orange:\n",
      "  merge: True\n",
      "  add: False\n",
      "  vegetables: False\n",
      "\n",
      "Apple:\n",
      "  merge: True\n",
      "  add: False\n",
      "  vegetables: False\n",
      "\n",
      "Bean:\n",
      "  merge: False\n",
      "  add: False\n",
      "  vegetables: True\n",
      "\n",
      "Brinjal:\n",
      "  merge: False\n",
      "  add: False\n",
      "  vegetables: True\n",
      "\n",
      "Bottle_Gourd:\n",
      "  merge: False\n",
      "  add: False\n",
      "  vegetables: True\n",
      "\n",
      "Pumpkin:\n",
      "  merge: False\n",
      "  add: False\n",
      "  vegetables: True\n",
      "\n",
      "Классов: 33\n"
     ]
    }
   ],
   "source": [
    "vegetables = [\n",
    "    \"Bitter_Gourd\",\n",
    "    \"Potato\",\n",
    "    \"Broccoli\",\n",
    "    \"Tomato\",\n",
    "    \"Pumpkin\",\n",
    "    \"Bottle_Gourd\",\n",
    "    \"Carrot\",\n",
    "    \"Cucumber\",\n",
    "    \"Papaya\",\n",
    "    \"Radish\",\n",
    "    \"Brinjal\",\n",
    "    \"Capsicum\",\n",
    "    \"Cabbage\",\n",
    "    \"Bean\",\n",
    "    \"Cauliflower\",\n",
    "]\n",
    "\n",
    "for cl in class_counts:\n",
    "    m = f\"{cl}360\" in to_merge\n",
    "    a = f\"{cl}360\" in to_add\n",
    "    v = cl in vegetables\n",
    "    print(f\"{cl}:\\n  merge: {m}\\n  add: {a}\\n  vegetables: {v}\\n\")\n",
    "\n",
    "print(f\"Классов: {len(class_counts)}\")"
   ]
  },
  {
   "cell_type": "code",
   "source": [
    "for cl in classes:\n",
    "    assert len(os.listdir(os.path.join(TRAIN_DIR, cl))) == FILES_COUNT - TEST_COUNT\n",
    "    assert len(os.listdir(os.path.join(TEST_DIR, cl))) == TEST_COUNT"
   ],
   "metadata": {
    "id": "H6jGI2YQ4LAo"
   },
   "execution_count": null,
   "outputs": []
  },
  {
   "cell_type": "markdown",
   "metadata": {
    "id": "dIT5dN_TAw42"
   },
   "source": [
    "## Просмотр подготовленного датасета"
   ]
  },
  {
   "cell_type": "code",
   "execution_count": null,
   "metadata": {
    "colab": {
     "base_uri": "https://localhost:8080/",
     "height": 545
    },
    "id": "hfMcJMZ__V75",
    "outputId": "393c5e65-64ea-4314-884a-818b341f9dd1"
   },
   "outputs": [
    {
     "output_type": "display_data",
     "data": {
      "text/plain": [
       "<Figure size 1000x500 with 1 Axes>"
      ],
      "image/png": "[encoded data removed]"
     },
     "metadata": {}
    }
   ],
   "source": [
    "plt.figure(figsize=(10, 5))\n",
    "sns.barplot(x=list(class_counts.keys()), y=list(class_counts.values()))\n",
    "plt.xticks(rotation=90)\n",
    "plt.title(\"Количество изображений в каждом классе\")\n",
    "plt.show()"
   ]
  },
  {
   "cell_type": "markdown",
   "metadata": {
    "id": "ycW2nHtv_ZJT"
   },
   "source": [
    "**Получился сбалансированный датасет, содержащий 33 класса по 1400 изображений в каждом.**"
   ]
  },
  {
   "cell_type": "code",
   "execution_count": null,
   "metadata": {
    "colab": {
     "base_uri": "https://localhost:8080/",
     "height": 1000
    },
    "id": "47FfJqQjCfam",
    "outputId": "5ddf5bf6-8ccb-4565-f184-bb58f78437c9"
   },
   "outputs": [],
   "source": [
    "# Функция для отображения нескольких изображений из класса\n",
    "def show_images(folder_path, cl, num_images=5):\n",
    "    image_files = random.sample(os.listdir(folder_path), num_images)\n",
    "\n",
    "    plt.figure(figsize=(15, 5))\n",
    "    for i, img_name in enumerate(image_files):\n",
    "        img_path = os.path.join(folder_path, img_name)\n",
    "        img = Image.open(img_path)\n",
    "\n",
    "        plt.subplot(1, num_images, i + 1)\n",
    "        plt.imshow(img)\n",
    "        plt.title(cl)\n",
    "        plt.axis(\"off\")\n",
    "    plt.show()\n",
    "\n",
    "\n",
    "for cl in classes:\n",
    "    folder_path = os.path.join(TRAIN_DIR, cl)\n",
    "    show_images(folder_path, cl)"
   ]
  },
  {
   "cell_type": "markdown",
   "source": [
    "### Проверка изображений на дубликаты"
   ],
   "metadata": {
    "id": "vaoDdRypBDQt"
   }
  },
  {
   "cell_type": "markdown",
   "source": [
    "В одной папке (классе) могут содержаться дублирующиеся изображения. Проверим классы на дубликаты, сравнив хеш изображений:"
   ],
   "metadata": {
    "id": "KKo2ke2hBnVW"
   }
  },
  {
   "cell_type": "code",
   "source": [
    "def get_hash(file_path):\n",
    "    with open(file_path, \"rb\") as f:\n",
    "        return hashlib.md5(f.read()).hexdigest()\n",
    "\n",
    "\n",
    "def find_duplicates(folder_path):\n",
    "    hashes = {}\n",
    "    duplicates = []\n",
    "    for file in os.listdir(folder_path):\n",
    "        file_path = os.path.join(folder_path, file)\n",
    "        hash = get_hash(file_path)\n",
    "\n",
    "        if hash in hashes:\n",
    "            duplicates.append((file_path, hashes[hash]))\n",
    "        else:\n",
    "            hashes[hash] = file_path\n",
    "    return duplicates"
   ],
   "metadata": {
    "id": "AWJNWG62BpGF"
   },
   "execution_count": null,
   "outputs": []
  },
  {
   "cell_type": "code",
   "source": [
    "duplicates = dict()\n",
    "for cls in tqdm(classes):\n",
    "    path = os.path.join(TRAIN_DIR, cls)\n",
    "    dup = find_duplicates(path)\n",
    "    duplicates[cls] = dup"
   ],
   "metadata": {
    "colab": {
     "base_uri": "https://localhost:8080/",
     "height": 49,
     "referenced_widgets": [
      "3263de062f7e4c6dbe4c70227c93c28e",
      "7e6e312dba5a4513991fe91fb9c7402e",
      "72cb24aa41ee4e8d863e5088d3d68763",
      "cfaa8fce55ed416a8c5524f173895918",
      "5f5a579039e049c1afe8be72de2908c7",
      "abadd744eaba4c8590ce3439e41fe019",
      "7181479b2ff34752be7ddfdff0429604",
      "8190faa0852543fa91c60bf4972d1c36",
      "0707ba0bed414a08b1a55d08737a1d7d",
      "ce15fcf9246c460181a12750d597f140",
      "238f2d51901e47959270f7602cad454d"
     ]
    },
    "id": "vsi5WXMlBq_1",
    "outputId": "532b6052-7ac9-48c3-e279-e710d4de9b35"
   },
   "execution_count": null,
   "outputs": [
    {
     "output_type": "display_data",
     "data": {
      "text/plain": [
       "  0%|          | 0/33 [00:00<?, ?it/s]"
      ],
      "application/vnd.jupyter.widget-view+json": {
       "version_major": 2,
       "version_minor": 0,
       "model_id": "3263de062f7e4c6dbe4c70227c93c28e"
      }
     },
     "metadata": {}
    }
   ]
  },
  {
   "cell_type": "code",
   "source": [
    "plt.figure(figsize=(10, 5))\n",
    "sns.barplot(x=list(duplicates.keys()), y=list([len(values) for values in duplicates.values()]))\n",
    "plt.xticks(rotation=90)\n",
    "plt.title(\"Пары-дубликаты изображений\")\n",
    "plt.show()"
   ],
   "metadata": {
    "colab": {
     "base_uri": "https://localhost:8080/",
     "height": 545
    },
    "id": "otD2f7o1B90M",
    "outputId": "6fc85bd1-0352-4a2e-c944-b248635a79fb"
   },
   "execution_count": null,
   "outputs": [
    {
     "output_type": "display_data",
     "data": {
      "text/plain": [
       "<Figure size 1000x500 with 1 Axes>"
      ],
      "image/png": "[encoded data removed]"
     },
     "metadata": {}
    }
   ]
  },
  {
   "cell_type": "markdown",
   "source": [
    "**В некоторых классах встречаются дубликаты**"
   ],
   "metadata": {
    "id": "H8SdiSS9CYZd"
   }
  },
  {
   "cell_type": "code",
   "source": [
    "for cls in duplicates:\n",
    "    for img_paths in duplicates[cls]:\n",
    "        dup = img_paths[1]\n",
    "        img = Image.open(dup)\n",
    "        if img.mode != \"RGB\":\n",
    "            img = img.convert(\"RGB\")\n",
    "\n",
    "        img = transpose_img(img)\n",
    "\n",
    "        br = round(random.uniform(0.5, 1.5), 2)\n",
    "        while br == 1:\n",
    "            br = round(random.uniform(0.5, 1.5), 2)\n",
    "        img = brightness_img(img, br)\n",
    "\n",
    "        deg = random.randint(1, 359)\n",
    "        img = rotate_img(img, deg)\n",
    "\n",
    "        contr = round(random.uniform(0.5, 1.5), 2)\n",
    "        while contr == 1:\n",
    "            contr = round(random.uniform(0.5, 1.5), 2)\n",
    "        img = contrasted_img(img, contr)\n",
    "\n",
    "        img.save(dup)"
   ],
   "metadata": {
    "id": "naspenKkCeuC"
   },
   "execution_count": null,
   "outputs": []
  },
  {
   "cell_type": "code",
   "source": [
    "duplicates = dict()\n",
    "for cls in tqdm(classes):\n",
    "    path = os.path.join(TRAIN_DIR, cls)\n",
    "    dup = find_duplicates(path)\n",
    "    duplicates[cls] = dup"
   ],
   "metadata": {
    "colab": {
     "base_uri": "https://localhost:8080/",
     "height": 49,
     "referenced_widgets": [
      "1e5d778b5d684294b1af4215f6aa2cc8",
      "56bfaa842b8343459bf8c1cf86aa404f",
      "1e4e207cbfb74419be1a97c65aa613ec",
      "584f188528bd417081c017015894ef78",
      "0eca59b689fe4fe9b84bce8719ef6364",
      "03cc6003db5a4292b473601f557eda20",
      "8243d7a88fc14f67a0b6f308364f1d0b",
      "4e17fece1c1b4bf7b3ba141e2f4ded2a",
      "bb80d56bbb0146f0b72b17931d0b8277",
      "ba8585b419f8488588ef3df8998d3de7",
      "490e21fae66f4485ad9f3fa3d33b31ff"
     ]
    },
    "id": "F_vZ8771CgKE",
    "outputId": "993f946f-d50d-4068-b682-544200cd66b1"
   },
   "execution_count": null,
   "outputs": [
    {
     "output_type": "display_data",
     "data": {
      "text/plain": [
       "  0%|          | 0/33 [00:00<?, ?it/s]"
      ],
      "application/vnd.jupyter.widget-view+json": {
       "version_major": 2,
       "version_minor": 0,
       "model_id": "1e5d778b5d684294b1af4215f6aa2cc8"
      }
     },
     "metadata": {}
    }
   ]
  },
  {
   "cell_type": "code",
   "source": [
    "plt.figure(figsize=(10, 5))\n",
    "sns.barplot(x=list(duplicates.keys()), y=list([len(values) for values in duplicates.values()]))\n",
    "plt.xticks(rotation=90)\n",
    "plt.title(\"Пары-дубликаты изображений\")\n",
    "plt.show()"
   ],
   "metadata": {
    "colab": {
     "base_uri": "https://localhost:8080/",
     "height": 545
    },
    "id": "nZfaRJaJCnGF",
    "outputId": "f70ce47a-f12c-4cfa-b936-a1e39efe2982"
   },
   "execution_count": null,
   "outputs": [
    {
     "output_type": "display_data",
     "data": {
      "text/plain": [
       "<Figure size 1000x500 with 1 Axes>"
      ],
      "image/png": "[encoded data removed]"
     },
     "metadata": {}
    }
   ]
  },
  {
   "cell_type": "markdown",
   "source": [
    "### Объединение дублирующихся классов"
   ],
   "metadata": {
    "id": "9IEpPNrUCp-U"
   }
  },
  {
   "cell_type": "markdown",
   "source": [
    "Дублирующиеся классы Strawberries и Strawberry стоит объединить"
   ],
   "metadata": {
    "id": "I2TSOWN_CxHd"
   }
  },
  {
   "cell_type": "code",
   "source": [
    "def update_classes(class_to_move, class_to_remove, count):\n",
    "    # Удалить 40% из Strawberry\n",
    "    strawberry_files = os.listdir(class_to_move)\n",
    "    files_to_remove = random.sample(strawberry_files, int(count * 0.6))\n",
    "    for f in files_to_remove:\n",
    "        rm_path = os.path.join(class_to_move, f)\n",
    "        if os.path.exists(rm_path):\n",
    "            os.remove(rm_path)\n",
    "\n",
    "    # Переместить 60% из Strawberries в Strawberry\n",
    "    strawberries_files = os.listdir(class_to_remove)\n",
    "    files_to_move = random.sample(strawberries_files, int(count * (1 - 0.4)))\n",
    "    for f in files_to_move:\n",
    "        mv_path = os.path.join(class_to_remove, f)\n",
    "        if os.path.exists(mv_path):\n",
    "            shutil.move(mv_path, class_to_move)\n",
    "\n",
    "    # Удалить оставшийся дублирующийся класс\n",
    "    shutil.rmtree(class_to_remove)"
   ],
   "metadata": {
    "id": "RWUeG8uRDQPc"
   },
   "execution_count": null,
   "outputs": []
  },
  {
   "cell_type": "code",
   "source": [
    "train_class_to_move = os.path.join(TRAIN_DIR, \"Strawberry\")\n",
    "train_class_to_remove = os.path.join(TRAIN_DIR, \"Stawberries\")\n",
    "update_classes(train_class_to_move, train_class_to_remove, 1120)\n",
    "\n",
    "test_class_to_move = os.path.join(TEST_DIR, \"Strawberry\")\n",
    "test_class_to_remove = os.path.join(TEST_DIR, \"Stawberries\")\n",
    "update_classes(test_class_to_move, test_class_to_remove, 280)"
   ],
   "metadata": {
    "id": "E8Aihw5fCxuM"
   },
   "execution_count": null,
   "outputs": []
  },
  {
   "cell_type": "code",
   "source": [
    "classes = os.listdir(TRAIN_DIR)\n",
    "class_counts = {cl: len(os.listdir(os.path.join(TRAIN_DIR, cl))) for cl in classes}\n",
    "for cl in class_counts:\n",
    "    class_counts[cl] = class_counts[cl] + len(os.listdir(os.path.join(TEST_DIR, cl)))"
   ],
   "metadata": {
    "id": "8xtO2lCRDy7E"
   },
   "execution_count": null,
   "outputs": []
  },
  {
   "cell_type": "markdown",
   "source": [
    "Проверим классы"
   ],
   "metadata": {
    "id": "_FaW4K6oD9aM"
   }
  },
  {
   "cell_type": "code",
   "source": [
    "plt.figure(figsize=(10, 5))\n",
    "sns.barplot(x=list(class_counts.keys()), y=list(class_counts.values()))\n",
    "plt.xticks(rotation=90)\n",
    "plt.title(\"Количество изображений в каждом классе\")\n",
    "plt.show()"
   ],
   "metadata": {
    "colab": {
     "base_uri": "https://localhost:8080/",
     "height": 545
    },
    "id": "HeizdCOaD-Y8",
    "outputId": "d0e5db12-2a8a-4d5a-8266-d5dd8e85674a"
   },
   "execution_count": null,
   "outputs": [
    {
     "output_type": "display_data",
     "data": {
      "text/plain": [
       "<Figure size 1000x500 with 1 Axes>"
      ],
      "image/png": "[encoded data removed]"
     },
     "metadata": {}
    }
   ]
  },
  {
   "cell_type": "code",
   "source": [
    "assert len(classes) == 32"
   ],
   "metadata": {
    "id": "ia75y98hEBAn"
   },
   "execution_count": null,
   "outputs": []
  },
  {
   "cell_type": "code",
   "execution_count": null,
   "metadata": {
    "id": "DJUz24TjYimW",
    "colab": {
     "base_uri": "https://localhost:8080/"
    },
    "outputId": "f2333f8a-8d7f-4abc-bc92-08010597ad77"
   },
   "outputs": [
    {
     "output_type": "stream",
     "name": "stdout",
     "text": [
      "Финальный датасет сохранен в /content/drive/MyDrive/dataset_32_classes_splitted\n"
     ]
    }
   ],
   "source": [
    "zip_path = os.path.join(DRIVE_DIR, \"dataset_32_classes_splitted\")\n",
    "shutil.make_archive(zip_path, \"zip\", DATASET_DIR)\n",
    "print(f\"Финальный датасет сохранен в {zip_path}\")"
   ]
  }
 ],
 "metadata": {
  "colab": {
   "provenance": []
  },
  "kernelspec": {
   "display_name": "Python 3",
   "name": "python3"
  },
  "language_info": {
   "name": "python"
  },
  "widgets": {
   "application/vnd.jupyter.widget-state+json": {
    "ba68f1cda8b14191b61de85f9794c71a": {
     "model_module": "@jupyter-widgets/controls",
     "model_name": "HBoxModel",
     "model_module_version": "1.5.0",
     "state": {
      "_dom_classes": [],
      "_model_module": "@jupyter-widgets/controls",
      "_model_module_version": "1.5.0",
      "_model_name": "HBoxModel",
      "_view_count": null,
      "_view_module": "@jupyter-widgets/controls",
      "_view_module_version": "1.5.0",
      "_view_name": "HBoxView",
      "box_style": "",
      "children": [
       "IPY_MODEL_a88aa2b5a00e449aa1734b4a1173a1f7",
       "IPY_MODEL_322e122db89140f98787164eabf6730a",
       "IPY_MODEL_8926877ad22b4765a8617cafb04dc770"
      ],
      "layout": "IPY_MODEL_91ee71f79993424f8bc771efb8ca522d"
     }
    },
    "a88aa2b5a00e449aa1734b4a1173a1f7": {
     "model_module": "@jupyter-widgets/controls",
     "model_name": "HTMLModel",
     "model_module_version": "1.5.0",
     "state": {
      "_dom_classes": [],
      "_model_module": "@jupyter-widgets/controls",
      "_model_module_version": "1.5.0",
      "_model_name": "HTMLModel",
      "_view_count": null,
      "_view_module": "@jupyter-widgets/controls",
      "_view_module_version": "1.5.0",
      "_view_name": "HTMLView",
      "description": "",
      "description_tooltip": null,
      "layout": "IPY_MODEL_daa851a6cdcb45b393335ac33b0c24e1",
      "placeholder": "​",
      "style": "IPY_MODEL_273ef588d0a74edcb45cc90272cc8c32",
      "value": ""
     }
    },
    "322e122db89140f98787164eabf6730a": {
     "model_module": "@jupyter-widgets/controls",
     "model_name": "FloatProgressModel",
     "model_module_version": "1.5.0",
     "state": {
      "_dom_classes": [],
      "_model_module": "@jupyter-widgets/controls",
      "_model_module_version": "1.5.0",
      "_model_name": "FloatProgressModel",
      "_view_count": null,
      "_view_module": "@jupyter-widgets/controls",
      "_view_module_version": "1.5.0",
      "_view_name": "ProgressView",
      "bar_style": "success",
      "description": "",
      "description_tooltip": null,
      "layout": "IPY_MODEL_3d8e6237c4a04e5998be603fbac67445",
      "max": 1,
      "min": 0,
      "orientation": "horizontal",
      "style": "IPY_MODEL_0a0aca6603504e3d8ef0c62b93421ec8",
      "value": 1
     }
    },
    "8926877ad22b4765a8617cafb04dc770": {
     "model_module": "@jupyter-widgets/controls",
     "model_name": "HTMLModel",
     "model_module_version": "1.5.0",
     "state": {
      "_dom_classes": [],
      "_model_module": "@jupyter-widgets/controls",
      "_model_module_version": "1.5.0",
      "_model_name": "HTMLModel",
      "_view_count": null,
      "_view_module": "@jupyter-widgets/controls",
      "_view_module_version": "1.5.0",
      "_view_name": "HTMLView",
      "description": "",
      "description_tooltip": null,
      "layout": "IPY_MODEL_4cbc17fdf67441bd9ef1f558c00ac0a7",
      "placeholder": "​",
      "style": "IPY_MODEL_5adcb52f0df4498fa46bc1c0223c1afc",
      "value": " 166/? [00:03&lt;00:00, 61.89it/s]"
     }
    },
    "91ee71f79993424f8bc771efb8ca522d": {
     "model_module": "@jupyter-widgets/base",
     "model_name": "LayoutModel",
     "model_module_version": "1.2.0",
     "state": {
      "_model_module": "@jupyter-widgets/base",
      "_model_module_version": "1.2.0",
      "_model_name": "LayoutModel",
      "_view_count": null,
      "_view_module": "@jupyter-widgets/base",
      "_view_module_version": "1.2.0",
      "_view_name": "LayoutView",
      "align_content": null,
      "align_items": null,
      "align_self": null,
      "border": null,
      "bottom": null,
      "display": null,
      "flex": null,
      "flex_flow": null,
      "grid_area": null,
      "grid_auto_columns": null,
      "grid_auto_flow": null,
      "grid_auto_rows": null,
      "grid_column": null,
      "grid_gap": null,
      "grid_row": null,
      "grid_template_areas": null,
      "grid_template_columns": null,
      "grid_template_rows": null,
      "height": null,
      "justify_content": null,
      "justify_items": null,
      "left": null,
      "margin": null,
      "max_height": null,
      "max_width": null,
      "min_height": null,
      "min_width": null,
      "object_fit": null,
      "object_position": null,
      "order": null,
      "overflow": null,
      "overflow_x": null,
      "overflow_y": null,
      "padding": null,
      "right": null,
      "top": null,
      "visibility": null,
      "width": null
     }
    },
    "daa851a6cdcb45b393335ac33b0c24e1": {
     "model_module": "@jupyter-widgets/base",
     "model_name": "LayoutModel",
     "model_module_version": "1.2.0",
     "state": {
      "_model_module": "@jupyter-widgets/base",
      "_model_module_version": "1.2.0",
      "_model_name": "LayoutModel",
      "_view_count": null,
      "_view_module": "@jupyter-widgets/base",
      "_view_module_version": "1.2.0",
      "_view_name": "LayoutView",
      "align_content": null,
      "align_items": null,
      "align_self": null,
      "border": null,
      "bottom": null,
      "display": null,
      "flex": null,
      "flex_flow": null,
      "grid_area": null,
      "grid_auto_columns": null,
      "grid_auto_flow": null,
      "grid_auto_rows": null,
      "grid_column": null,
      "grid_gap": null,
      "grid_row": null,
      "grid_template_areas": null,
      "grid_template_columns": null,
      "grid_template_rows": null,
      "height": null,
      "justify_content": null,
      "justify_items": null,
      "left": null,
      "margin": null,
      "max_height": null,
      "max_width": null,
      "min_height": null,
      "min_width": null,
      "object_fit": null,
      "object_position": null,
      "order": null,
      "overflow": null,
      "overflow_x": null,
      "overflow_y": null,
      "padding": null,
      "right": null,
      "top": null,
      "visibility": null,
      "width": null
     }
    },
    "273ef588d0a74edcb45cc90272cc8c32": {
     "model_module": "@jupyter-widgets/controls",
     "model_name": "DescriptionStyleModel",
     "model_module_version": "1.5.0",
     "state": {
      "_model_module": "@jupyter-widgets/controls",
      "_model_module_version": "1.5.0",
      "_model_name": "DescriptionStyleModel",
      "_view_count": null,
      "_view_module": "@jupyter-widgets/base",
      "_view_module_version": "1.2.0",
      "_view_name": "StyleView",
      "description_width": ""
     }
    },
    "3d8e6237c4a04e5998be603fbac67445": {
     "model_module": "@jupyter-widgets/base",
     "model_name": "LayoutModel",
     "model_module_version": "1.2.0",
     "state": {
      "_model_module": "@jupyter-widgets/base",
      "_model_module_version": "1.2.0",
      "_model_name": "LayoutModel",
      "_view_count": null,
      "_view_module": "@jupyter-widgets/base",
      "_view_module_version": "1.2.0",
      "_view_name": "LayoutView",
      "align_content": null,
      "align_items": null,
      "align_self": null,
      "border": null,
      "bottom": null,
      "display": null,
      "flex": null,
      "flex_flow": null,
      "grid_area": null,
      "grid_auto_columns": null,
      "grid_auto_flow": null,
      "grid_auto_rows": null,
      "grid_column": null,
      "grid_gap": null,
      "grid_row": null,
      "grid_template_areas": null,
      "grid_template_columns": null,
      "grid_template_rows": null,
      "height": null,
      "justify_content": null,
      "justify_items": null,
      "left": null,
      "margin": null,
      "max_height": null,
      "max_width": null,
      "min_height": null,
      "min_width": null,
      "object_fit": null,
      "object_position": null,
      "order": null,
      "overflow": null,
      "overflow_x": null,
      "overflow_y": null,
      "padding": null,
      "right": null,
      "top": null,
      "visibility": null,
      "width": "20px"
     }
    },
    "0a0aca6603504e3d8ef0c62b93421ec8": {
     "model_module": "@jupyter-widgets/controls",
     "model_name": "ProgressStyleModel",
     "model_module_version": "1.5.0",
     "state": {
      "_model_module": "@jupyter-widgets/controls",
      "_model_module_version": "1.5.0",
      "_model_name": "ProgressStyleModel",
      "_view_count": null,
      "_view_module": "@jupyter-widgets/base",
      "_view_module_version": "1.2.0",
      "_view_name": "StyleView",
      "bar_color": null,
      "description_width": ""
     }
    },
    "4cbc17fdf67441bd9ef1f558c00ac0a7": {
     "model_module": "@jupyter-widgets/base",
     "model_name": "LayoutModel",
     "model_module_version": "1.2.0",
     "state": {
      "_model_module": "@jupyter-widgets/base",
      "_model_module_version": "1.2.0",
      "_model_name": "LayoutModel",
      "_view_count": null,
      "_view_module": "@jupyter-widgets/base",
      "_view_module_version": "1.2.0",
      "_view_name": "LayoutView",
      "align_content": null,
      "align_items": null,
      "align_self": null,
      "border": null,
      "bottom": null,
      "display": null,
      "flex": null,
      "flex_flow": null,
      "grid_area": null,
      "grid_auto_columns": null,
      "grid_auto_flow": null,
      "grid_auto_rows": null,
      "grid_column": null,
      "grid_gap": null,
      "grid_row": null,
      "grid_template_areas": null,
      "grid_template_columns": null,
      "grid_template_rows": null,
      "height": null,
      "justify_content": null,
      "justify_items": null,
      "left": null,
      "margin": null,
      "max_height": null,
      "max_width": null,
      "min_height": null,
      "min_width": null,
      "object_fit": null,
      "object_position": null,
      "order": null,
      "overflow": null,
      "overflow_x": null,
      "overflow_y": null,
      "padding": null,
      "right": null,
      "top": null,
      "visibility": null,
      "width": null
     }
    },
    "5adcb52f0df4498fa46bc1c0223c1afc": {
     "model_module": "@jupyter-widgets/controls",
     "model_name": "DescriptionStyleModel",
     "model_module_version": "1.5.0",
     "state": {
      "_model_module": "@jupyter-widgets/controls",
      "_model_module_version": "1.5.0",
      "_model_name": "DescriptionStyleModel",
      "_view_count": null,
      "_view_module": "@jupyter-widgets/base",
      "_view_module_version": "1.2.0",
      "_view_name": "StyleView",
      "description_width": ""
     }
    },
    "5c1da8ba56ab4b02b252916b413a55a3": {
     "model_module": "@jupyter-widgets/controls",
     "model_name": "HBoxModel",
     "model_module_version": "1.5.0",
     "state": {
      "_dom_classes": [],
      "_model_module": "@jupyter-widgets/controls",
      "_model_module_version": "1.5.0",
      "_model_name": "HBoxModel",
      "_view_count": null,
      "_view_module": "@jupyter-widgets/controls",
      "_view_module_version": "1.5.0",
      "_view_name": "HBoxView",
      "box_style": "",
      "children": [
       "IPY_MODEL_eee328a334c347e49f79bc3ff9263cbd",
       "IPY_MODEL_a58a9bb969ab4bfd97662a593c8563ab",
       "IPY_MODEL_74ba7a1f353e4501a1e55f6517ce4380"
      ],
      "layout": "IPY_MODEL_a454fef0a79e4225a1830eb7d0bd1d22"
     }
    },
    "eee328a334c347e49f79bc3ff9263cbd": {
     "model_module": "@jupyter-widgets/controls",
     "model_name": "HTMLModel",
     "model_module_version": "1.5.0",
     "state": {
      "_dom_classes": [],
      "_model_module": "@jupyter-widgets/controls",
      "_model_module_version": "1.5.0",
      "_model_name": "HTMLModel",
      "_view_count": null,
      "_view_module": "@jupyter-widgets/controls",
      "_view_module_version": "1.5.0",
      "_view_name": "HTMLView",
      "description": "",
      "description_tooltip": null,
      "layout": "IPY_MODEL_ca79ad4dcd724805ab3e9e9751e0dcd2",
      "placeholder": "​",
      "style": "IPY_MODEL_6c9717513c8248bbb562561ce1c73ca2",
      "value": "100%"
     }
    },
    "a58a9bb969ab4bfd97662a593c8563ab": {
     "model_module": "@jupyter-widgets/controls",
     "model_name": "FloatProgressModel",
     "model_module_version": "1.5.0",
     "state": {
      "_dom_classes": [],
      "_model_module": "@jupyter-widgets/controls",
      "_model_module_version": "1.5.0",
      "_model_name": "FloatProgressModel",
      "_view_count": null,
      "_view_module": "@jupyter-widgets/controls",
      "_view_module_version": "1.5.0",
      "_view_name": "ProgressView",
      "bar_style": "success",
      "description": "",
      "description_tooltip": null,
      "layout": "IPY_MODEL_52964739f32a4dacaf95b6fcf5ad5617",
      "max": 8,
      "min": 0,
      "orientation": "horizontal",
      "style": "IPY_MODEL_dd3f833b64324d83b7a9fd0d19eb765a",
      "value": 8
     }
    },
    "74ba7a1f353e4501a1e55f6517ce4380": {
     "model_module": "@jupyter-widgets/controls",
     "model_name": "HTMLModel",
     "model_module_version": "1.5.0",
     "state": {
      "_dom_classes": [],
      "_model_module": "@jupyter-widgets/controls",
      "_model_module_version": "1.5.0",
      "_model_name": "HTMLModel",
      "_view_count": null,
      "_view_module": "@jupyter-widgets/controls",
      "_view_module_version": "1.5.0",
      "_view_name": "HTMLView",
      "description": "",
      "description_tooltip": null,
      "layout": "IPY_MODEL_20ff01dcecaa48bfa3cb42cbf06a47bc",
      "placeholder": "​",
      "style": "IPY_MODEL_a9986dda76c746a79ba35b36fef25504",
      "value": " 8/8 [00:00&lt;00:00,  9.98it/s]"
     }
    },
    "a454fef0a79e4225a1830eb7d0bd1d22": {
     "model_module": "@jupyter-widgets/base",
     "model_name": "LayoutModel",
     "model_module_version": "1.2.0",
     "state": {
      "_model_module": "@jupyter-widgets/base",
      "_model_module_version": "1.2.0",
      "_model_name": "LayoutModel",
      "_view_count": null,
      "_view_module": "@jupyter-widgets/base",
      "_view_module_version": "1.2.0",
      "_view_name": "LayoutView",
      "align_content": null,
      "align_items": null,
      "align_self": null,
      "border": null,
      "bottom": null,
      "display": null,
      "flex": null,
      "flex_flow": null,
      "grid_area": null,
      "grid_auto_columns": null,
      "grid_auto_flow": null,
      "grid_auto_rows": null,
      "grid_column": null,
      "grid_gap": null,
      "grid_row": null,
      "grid_template_areas": null,
      "grid_template_columns": null,
      "grid_template_rows": null,
      "height": null,
      "justify_content": null,
      "justify_items": null,
      "left": null,
      "margin": null,
      "max_height": null,
      "max_width": null,
      "min_height": null,
      "min_width": null,
      "object_fit": null,
      "object_position": null,
      "order": null,
      "overflow": null,
      "overflow_x": null,
      "overflow_y": null,
      "padding": null,
      "right": null,
      "top": null,
      "visibility": null,
      "width": null
     }
    },
    "ca79ad4dcd724805ab3e9e9751e0dcd2": {
     "model_module": "@jupyter-widgets/base",
     "model_name": "LayoutModel",
     "model_module_version": "1.2.0",
     "state": {
      "_model_module": "@jupyter-widgets/base",
      "_model_module_version": "1.2.0",
      "_model_name": "LayoutModel",
      "_view_count": null,
      "_view_module": "@jupyter-widgets/base",
      "_view_module_version": "1.2.0",
      "_view_name": "LayoutView",
      "align_content": null,
      "align_items": null,
      "align_self": null,
      "border": null,
      "bottom": null,
      "display": null,
      "flex": null,
      "flex_flow": null,
      "grid_area": null,
      "grid_auto_columns": null,
      "grid_auto_flow": null,
      "grid_auto_rows": null,
      "grid_column": null,
      "grid_gap": null,
      "grid_row": null,
      "grid_template_areas": null,
      "grid_template_columns": null,
      "grid_template_rows": null,
      "height": null,
      "justify_content": null,
      "justify_items": null,
      "left": null,
      "margin": null,
      "max_height": null,
      "max_width": null,
      "min_height": null,
      "min_width": null,
      "object_fit": null,
      "object_position": null,
      "order": null,
      "overflow": null,
      "overflow_x": null,
      "overflow_y": null,
      "padding": null,
      "right": null,
      "top": null,
      "visibility": null,
      "width": null
     }
    },
    "6c9717513c8248bbb562561ce1c73ca2": {
     "model_module": "@jupyter-widgets/controls",
     "model_name": "DescriptionStyleModel",
     "model_module_version": "1.5.0",
     "state": {
      "_model_module": "@jupyter-widgets/controls",
      "_model_module_version": "1.5.0",
      "_model_name": "DescriptionStyleModel",
      "_view_count": null,
      "_view_module": "@jupyter-widgets/base",
      "_view_module_version": "1.2.0",
      "_view_name": "StyleView",
      "description_width": ""
     }
    },
    "52964739f32a4dacaf95b6fcf5ad5617": {
     "model_module": "@jupyter-widgets/base",
     "model_name": "LayoutModel",
     "model_module_version": "1.2.0",
     "state": {
      "_model_module": "@jupyter-widgets/base",
      "_model_module_version": "1.2.0",
      "_model_name": "LayoutModel",
      "_view_count": null,
      "_view_module": "@jupyter-widgets/base",
      "_view_module_version": "1.2.0",
      "_view_name": "LayoutView",
      "align_content": null,
      "align_items": null,
      "align_self": null,
      "border": null,
      "bottom": null,
      "display": null,
      "flex": null,
      "flex_flow": null,
      "grid_area": null,
      "grid_auto_columns": null,
      "grid_auto_flow": null,
      "grid_auto_rows": null,
      "grid_column": null,
      "grid_gap": null,
      "grid_row": null,
      "grid_template_areas": null,
      "grid_template_columns": null,
      "grid_template_rows": null,
      "height": null,
      "justify_content": null,
      "justify_items": null,
      "left": null,
      "margin": null,
      "max_height": null,
      "max_width": null,
      "min_height": null,
      "min_width": null,
      "object_fit": null,
      "object_position": null,
      "order": null,
      "overflow": null,
      "overflow_x": null,
      "overflow_y": null,
      "padding": null,
      "right": null,
      "top": null,
      "visibility": null,
      "width": null
     }
    },
    "dd3f833b64324d83b7a9fd0d19eb765a": {
     "model_module": "@jupyter-widgets/controls",
     "model_name": "ProgressStyleModel",
     "model_module_version": "1.5.0",
     "state": {
      "_model_module": "@jupyter-widgets/controls",
      "_model_module_version": "1.5.0",
      "_model_name": "ProgressStyleModel",
      "_view_count": null,
      "_view_module": "@jupyter-widgets/base",
      "_view_module_version": "1.2.0",
      "_view_name": "StyleView",
      "bar_color": null,
      "description_width": ""
     }
    },
    "20ff01dcecaa48bfa3cb42cbf06a47bc": {
     "model_module": "@jupyter-widgets/base",
     "model_name": "LayoutModel",
     "model_module_version": "1.2.0",
     "state": {
      "_model_module": "@jupyter-widgets/base",
      "_model_module_version": "1.2.0",
      "_model_name": "LayoutModel",
      "_view_count": null,
      "_view_module": "@jupyter-widgets/base",
      "_view_module_version": "1.2.0",
      "_view_name": "LayoutView",
      "align_content": null,
      "align_items": null,
      "align_self": null,
      "border": null,
      "bottom": null,
      "display": null,
      "flex": null,
      "flex_flow": null,
      "grid_area": null,
      "grid_auto_columns": null,
      "grid_auto_flow": null,
      "grid_auto_rows": null,
      "grid_column": null,
      "grid_gap": null,
      "grid_row": null,
      "grid_template_areas": null,
      "grid_template_columns": null,
      "grid_template_rows": null,
      "height": null,
      "justify_content": null,
      "justify_items": null,
      "left": null,
      "margin": null,
      "max_height": null,
      "max_width": null,
      "min_height": null,
      "min_width": null,
      "object_fit": null,
      "object_position": null,
      "order": null,
      "overflow": null,
      "overflow_x": null,
      "overflow_y": null,
      "padding": null,
      "right": null,
      "top": null,
      "visibility": null,
      "width": null
     }
    },
    "a9986dda76c746a79ba35b36fef25504": {
     "model_module": "@jupyter-widgets/controls",
     "model_name": "DescriptionStyleModel",
     "model_module_version": "1.5.0",
     "state": {
      "_model_module": "@jupyter-widgets/controls",
      "_model_module_version": "1.5.0",
      "_model_name": "DescriptionStyleModel",
      "_view_count": null,
      "_view_module": "@jupyter-widgets/base",
      "_view_module_version": "1.2.0",
      "_view_name": "StyleView",
      "description_width": ""
     }
    },
    "1285f55dd77c4c14bf254d3877e22920": {
     "model_module": "@jupyter-widgets/controls",
     "model_name": "HBoxModel",
     "model_module_version": "1.5.0",
     "state": {
      "_dom_classes": [],
      "_model_module": "@jupyter-widgets/controls",
      "_model_module_version": "1.5.0",
      "_model_name": "HBoxModel",
      "_view_count": null,
      "_view_module": "@jupyter-widgets/controls",
      "_view_module_version": "1.5.0",
      "_view_name": "HBoxView",
      "box_style": "",
      "children": [
       "IPY_MODEL_8d511566a831463e836834ba55e82232",
       "IPY_MODEL_b91cf8fc001549aabb3b0be03e7a849b",
       "IPY_MODEL_8f44d7958c2642adb525528fafb99d05"
      ],
      "layout": "IPY_MODEL_8f092c9e86f245cfb6b0035988e3fe10"
     }
    },
    "8d511566a831463e836834ba55e82232": {
     "model_module": "@jupyter-widgets/controls",
     "model_name": "HTMLModel",
     "model_module_version": "1.5.0",
     "state": {
      "_dom_classes": [],
      "_model_module": "@jupyter-widgets/controls",
      "_model_module_version": "1.5.0",
      "_model_name": "HTMLModel",
      "_view_count": null,
      "_view_module": "@jupyter-widgets/controls",
      "_view_module_version": "1.5.0",
      "_view_name": "HTMLView",
      "description": "",
      "description_tooltip": null,
      "layout": "IPY_MODEL_e55f23979f744db29ab04a6951a8b4a8",
      "placeholder": "​",
      "style": "IPY_MODEL_bc782aa80ff64339ad493616e56edd1c",
      "value": "100%"
     }
    },
    "b91cf8fc001549aabb3b0be03e7a849b": {
     "model_module": "@jupyter-widgets/controls",
     "model_name": "FloatProgressModel",
     "model_module_version": "1.5.0",
     "state": {
      "_dom_classes": [],
      "_model_module": "@jupyter-widgets/controls",
      "_model_module_version": "1.5.0",
      "_model_name": "FloatProgressModel",
      "_view_count": null,
      "_view_module": "@jupyter-widgets/controls",
      "_view_module_version": "1.5.0",
      "_view_name": "ProgressView",
      "bar_style": "success",
      "description": "",
      "description_tooltip": null,
      "layout": "IPY_MODEL_4e5f76a68903413bbcc76b48fe3f4175",
      "max": 15,
      "min": 0,
      "orientation": "horizontal",
      "style": "IPY_MODEL_1fc73dbbd87c4d42a7e80306e2b47735",
      "value": 15
     }
    },
    "8f44d7958c2642adb525528fafb99d05": {
     "model_module": "@jupyter-widgets/controls",
     "model_name": "HTMLModel",
     "model_module_version": "1.5.0",
     "state": {
      "_dom_classes": [],
      "_model_module": "@jupyter-widgets/controls",
      "_model_module_version": "1.5.0",
      "_model_name": "HTMLModel",
      "_view_count": null,
      "_view_module": "@jupyter-widgets/controls",
      "_view_module_version": "1.5.0",
      "_view_name": "HTMLView",
      "description": "",
      "description_tooltip": null,
      "layout": "IPY_MODEL_e251b18c90da472dabfb7943999d047b",
      "placeholder": "​",
      "style": "IPY_MODEL_fdf4856f2635492cb2dd8512df624660",
      "value": " 15/15 [00:04&lt;00:00,  4.83it/s]"
     }
    },
    "8f092c9e86f245cfb6b0035988e3fe10": {
     "model_module": "@jupyter-widgets/base",
     "model_name": "LayoutModel",
     "model_module_version": "1.2.0",
     "state": {
      "_model_module": "@jupyter-widgets/base",
      "_model_module_version": "1.2.0",
      "_model_name": "LayoutModel",
      "_view_count": null,
      "_view_module": "@jupyter-widgets/base",
      "_view_module_version": "1.2.0",
      "_view_name": "LayoutView",
      "align_content": null,
      "align_items": null,
      "align_self": null,
      "border": null,
      "bottom": null,
      "display": null,
      "flex": null,
      "flex_flow": null,
      "grid_area": null,
      "grid_auto_columns": null,
      "grid_auto_flow": null,
      "grid_auto_rows": null,
      "grid_column": null,
      "grid_gap": null,
      "grid_row": null,
      "grid_template_areas": null,
      "grid_template_columns": null,
      "grid_template_rows": null,
      "height": null,
      "justify_content": null,
      "justify_items": null,
      "left": null,
      "margin": null,
      "max_height": null,
      "max_width": null,
      "min_height": null,
      "min_width": null,
      "object_fit": null,
      "object_position": null,
      "order": null,
      "overflow": null,
      "overflow_x": null,
      "overflow_y": null,
      "padding": null,
      "right": null,
      "top": null,
      "visibility": null,
      "width": null
     }
    },
    "e55f23979f744db29ab04a6951a8b4a8": {
     "model_module": "@jupyter-widgets/base",
     "model_name": "LayoutModel",
     "model_module_version": "1.2.0",
     "state": {
      "_model_module": "@jupyter-widgets/base",
      "_model_module_version": "1.2.0",
      "_model_name": "LayoutModel",
      "_view_count": null,
      "_view_module": "@jupyter-widgets/base",
      "_view_module_version": "1.2.0",
      "_view_name": "LayoutView",
      "align_content": null,
      "align_items": null,
      "align_self": null,
      "border": null,
      "bottom": null,
      "display": null,
      "flex": null,
      "flex_flow": null,
      "grid_area": null,
      "grid_auto_columns": null,
      "grid_auto_flow": null,
      "grid_auto_rows": null,
      "grid_column": null,
      "grid_gap": null,
      "grid_row": null,
      "grid_template_areas": null,
      "grid_template_columns": null,
      "grid_template_rows": null,
      "height": null,
      "justify_content": null,
      "justify_items": null,
      "left": null,
      "margin": null,
      "max_height": null,
      "max_width": null,
      "min_height": null,
      "min_width": null,
      "object_fit": null,
      "object_position": null,
      "order": null,
      "overflow": null,
      "overflow_x": null,
      "overflow_y": null,
      "padding": null,
      "right": null,
      "top": null,
      "visibility": null,
      "width": null
     }
    },
    "bc782aa80ff64339ad493616e56edd1c": {
     "model_module": "@jupyter-widgets/controls",
     "model_name": "DescriptionStyleModel",
     "model_module_version": "1.5.0",
     "state": {
      "_model_module": "@jupyter-widgets/controls",
      "_model_module_version": "1.5.0",
      "_model_name": "DescriptionStyleModel",
      "_view_count": null,
      "_view_module": "@jupyter-widgets/base",
      "_view_module_version": "1.2.0",
      "_view_name": "StyleView",
      "description_width": ""
     }
    },
    "4e5f76a68903413bbcc76b48fe3f4175": {
     "model_module": "@jupyter-widgets/base",
     "model_name": "LayoutModel",
     "model_module_version": "1.2.0",
     "state": {
      "_model_module": "@jupyter-widgets/base",
      "_model_module_version": "1.2.0",
      "_model_name": "LayoutModel",
      "_view_count": null,
      "_view_module": "@jupyter-widgets/base",
      "_view_module_version": "1.2.0",
      "_view_name": "LayoutView",
      "align_content": null,
      "align_items": null,
      "align_self": null,
      "border": null,
      "bottom": null,
      "display": null,
      "flex": null,
      "flex_flow": null,
      "grid_area": null,
      "grid_auto_columns": null,
      "grid_auto_flow": null,
      "grid_auto_rows": null,
      "grid_column": null,
      "grid_gap": null,
      "grid_row": null,
      "grid_template_areas": null,
      "grid_template_columns": null,
      "grid_template_rows": null,
      "height": null,
      "justify_content": null,
      "justify_items": null,
      "left": null,
      "margin": null,
      "max_height": null,
      "max_width": null,
      "min_height": null,
      "min_width": null,
      "object_fit": null,
      "object_position": null,
      "order": null,
      "overflow": null,
      "overflow_x": null,
      "overflow_y": null,
      "padding": null,
      "right": null,
      "top": null,
      "visibility": null,
      "width": null
     }
    },
    "1fc73dbbd87c4d42a7e80306e2b47735": {
     "model_module": "@jupyter-widgets/controls",
     "model_name": "ProgressStyleModel",
     "model_module_version": "1.5.0",
     "state": {
      "_model_module": "@jupyter-widgets/controls",
      "_model_module_version": "1.5.0",
      "_model_name": "ProgressStyleModel",
      "_view_count": null,
      "_view_module": "@jupyter-widgets/base",
      "_view_module_version": "1.2.0",
      "_view_name": "StyleView",
      "bar_color": null,
      "description_width": ""
     }
    },
    "e251b18c90da472dabfb7943999d047b": {
     "model_module": "@jupyter-widgets/base",
     "model_name": "LayoutModel",
     "model_module_version": "1.2.0",
     "state": {
      "_model_module": "@jupyter-widgets/base",
      "_model_module_version": "1.2.0",
      "_model_name": "LayoutModel",
      "_view_count": null,
      "_view_module": "@jupyter-widgets/base",
      "_view_module_version": "1.2.0",
      "_view_name": "LayoutView",
      "align_content": null,
      "align_items": null,
      "align_self": null,
      "border": null,
      "bottom": null,
      "display": null,
      "flex": null,
      "flex_flow": null,
      "grid_area": null,
      "grid_auto_columns": null,
      "grid_auto_flow": null,
      "grid_auto_rows": null,
      "grid_column": null,
      "grid_gap": null,
      "grid_row": null,
      "grid_template_areas": null,
      "grid_template_columns": null,
      "grid_template_rows": null,
      "height": null,
      "justify_content": null,
      "justify_items": null,
      "left": null,
      "margin": null,
      "max_height": null,
      "max_width": null,
      "min_height": null,
      "min_width": null,
      "object_fit": null,
      "object_position": null,
      "order": null,
      "overflow": null,
      "overflow_x": null,
      "overflow_y": null,
      "padding": null,
      "right": null,
      "top": null,
      "visibility": null,
      "width": null
     }
    },
    "fdf4856f2635492cb2dd8512df624660": {
     "model_module": "@jupyter-widgets/controls",
     "model_name": "DescriptionStyleModel",
     "model_module_version": "1.5.0",
     "state": {
      "_model_module": "@jupyter-widgets/controls",
      "_model_module_version": "1.5.0",
      "_model_name": "DescriptionStyleModel",
      "_view_count": null,
      "_view_module": "@jupyter-widgets/base",
      "_view_module_version": "1.2.0",
      "_view_name": "StyleView",
      "description_width": ""
     }
    },
    "86e81cd7021a45178d0b289ead256306": {
     "model_module": "@jupyter-widgets/controls",
     "model_name": "HBoxModel",
     "model_module_version": "1.5.0",
     "state": {
      "_dom_classes": [],
      "_model_module": "@jupyter-widgets/controls",
      "_model_module_version": "1.5.0",
      "_model_name": "HBoxModel",
      "_view_count": null,
      "_view_module": "@jupyter-widgets/controls",
      "_view_module_version": "1.5.0",
      "_view_name": "HBoxView",
      "box_style": "",
      "children": [
       "IPY_MODEL_f4aa1148ad8e41098cff9932bad66b8b",
       "IPY_MODEL_757dfd0a7b18474a89984e572163d6c9",
       "IPY_MODEL_b53dd88797764560923cab1e6ffe3254"
      ],
      "layout": "IPY_MODEL_7a52744c09174a1a98f3bbf58f660d12"
     }
    },
    "f4aa1148ad8e41098cff9932bad66b8b": {
     "model_module": "@jupyter-widgets/controls",
     "model_name": "HTMLModel",
     "model_module_version": "1.5.0",
     "state": {
      "_dom_classes": [],
      "_model_module": "@jupyter-widgets/controls",
      "_model_module_version": "1.5.0",
      "_model_name": "HTMLModel",
      "_view_count": null,
      "_view_module": "@jupyter-widgets/controls",
      "_view_module_version": "1.5.0",
      "_view_name": "HTMLView",
      "description": "",
      "description_tooltip": null,
      "layout": "IPY_MODEL_7f66c2720c8c4c788437cf42185a551e",
      "placeholder": "​",
      "style": "IPY_MODEL_ce8bb1276b6f46fd98ef7f4b13390675",
      "value": "100%"
     }
    },
    "757dfd0a7b18474a89984e572163d6c9": {
     "model_module": "@jupyter-widgets/controls",
     "model_name": "FloatProgressModel",
     "model_module_version": "1.5.0",
     "state": {
      "_dom_classes": [],
      "_model_module": "@jupyter-widgets/controls",
      "_model_module_version": "1.5.0",
      "_model_name": "FloatProgressModel",
      "_view_count": null,
      "_view_module": "@jupyter-widgets/controls",
      "_view_module_version": "1.5.0",
      "_view_name": "ProgressView",
      "bar_style": "success",
      "description": "",
      "description_tooltip": null,
      "layout": "IPY_MODEL_975b019f873d4543868f3bf7af34d63a",
      "max": 47,
      "min": 0,
      "orientation": "horizontal",
      "style": "IPY_MODEL_5f7f8ee725e44eb09ab0e211c6ee6df4",
      "value": 47
     }
    },
    "b53dd88797764560923cab1e6ffe3254": {
     "model_module": "@jupyter-widgets/controls",
     "model_name": "HTMLModel",
     "model_module_version": "1.5.0",
     "state": {
      "_dom_classes": [],
      "_model_module": "@jupyter-widgets/controls",
      "_model_module_version": "1.5.0",
      "_model_name": "HTMLModel",
      "_view_count": null,
      "_view_module": "@jupyter-widgets/controls",
      "_view_module_version": "1.5.0",
      "_view_name": "HTMLView",
      "description": "",
      "description_tooltip": null,
      "layout": "IPY_MODEL_4bdcc5958be8493d91bc9a9a2dd29f23",
      "placeholder": "​",
      "style": "IPY_MODEL_aaf4d2ead1fa47b1996cb5758dbe2eeb",
      "value": " 47/47 [00:01&lt;00:00, 41.26it/s]"
     }
    },
    "7a52744c09174a1a98f3bbf58f660d12": {
     "model_module": "@jupyter-widgets/base",
     "model_name": "LayoutModel",
     "model_module_version": "1.2.0",
     "state": {
      "_model_module": "@jupyter-widgets/base",
      "_model_module_version": "1.2.0",
      "_model_name": "LayoutModel",
      "_view_count": null,
      "_view_module": "@jupyter-widgets/base",
      "_view_module_version": "1.2.0",
      "_view_name": "LayoutView",
      "align_content": null,
      "align_items": null,
      "align_self": null,
      "border": null,
      "bottom": null,
      "display": null,
      "flex": null,
      "flex_flow": null,
      "grid_area": null,
      "grid_auto_columns": null,
      "grid_auto_flow": null,
      "grid_auto_rows": null,
      "grid_column": null,
      "grid_gap": null,
      "grid_row": null,
      "grid_template_areas": null,
      "grid_template_columns": null,
      "grid_template_rows": null,
      "height": null,
      "justify_content": null,
      "justify_items": null,
      "left": null,
      "margin": null,
      "max_height": null,
      "max_width": null,
      "min_height": null,
      "min_width": null,
      "object_fit": null,
      "object_position": null,
      "order": null,
      "overflow": null,
      "overflow_x": null,
      "overflow_y": null,
      "padding": null,
      "right": null,
      "top": null,
      "visibility": null,
      "width": null
     }
    },
    "7f66c2720c8c4c788437cf42185a551e": {
     "model_module": "@jupyter-widgets/base",
     "model_name": "LayoutModel",
     "model_module_version": "1.2.0",
     "state": {
      "_model_module": "@jupyter-widgets/base",
      "_model_module_version": "1.2.0",
      "_model_name": "LayoutModel",
      "_view_count": null,
      "_view_module": "@jupyter-widgets/base",
      "_view_module_version": "1.2.0",
      "_view_name": "LayoutView",
      "align_content": null,
      "align_items": null,
      "align_self": null,
      "border": null,
      "bottom": null,
      "display": null,
      "flex": null,
      "flex_flow": null,
      "grid_area": null,
      "grid_auto_columns": null,
      "grid_auto_flow": null,
      "grid_auto_rows": null,
      "grid_column": null,
      "grid_gap": null,
      "grid_row": null,
      "grid_template_areas": null,
      "grid_template_columns": null,
      "grid_template_rows": null,
      "height": null,
      "justify_content": null,
      "justify_items": null,
      "left": null,
      "margin": null,
      "max_height": null,
      "max_width": null,
      "min_height": null,
      "min_width": null,
      "object_fit": null,
      "object_position": null,
      "order": null,
      "overflow": null,
      "overflow_x": null,
      "overflow_y": null,
      "padding": null,
      "right": null,
      "top": null,
      "visibility": null,
      "width": null
     }
    },
    "ce8bb1276b6f46fd98ef7f4b13390675": {
     "model_module": "@jupyter-widgets/controls",
     "model_name": "DescriptionStyleModel",
     "model_module_version": "1.5.0",
     "state": {
      "_model_module": "@jupyter-widgets/controls",
      "_model_module_version": "1.5.0",
      "_model_name": "DescriptionStyleModel",
      "_view_count": null,
      "_view_module": "@jupyter-widgets/base",
      "_view_module_version": "1.2.0",
      "_view_name": "StyleView",
      "description_width": ""
     }
    },
    "975b019f873d4543868f3bf7af34d63a": {
     "model_module": "@jupyter-widgets/base",
     "model_name": "LayoutModel",
     "model_module_version": "1.2.0",
     "state": {
      "_model_module": "@jupyter-widgets/base",
      "_model_module_version": "1.2.0",
      "_model_name": "LayoutModel",
      "_view_count": null,
      "_view_module": "@jupyter-widgets/base",
      "_view_module_version": "1.2.0",
      "_view_name": "LayoutView",
      "align_content": null,
      "align_items": null,
      "align_self": null,
      "border": null,
      "bottom": null,
      "display": null,
      "flex": null,
      "flex_flow": null,
      "grid_area": null,
      "grid_auto_columns": null,
      "grid_auto_flow": null,
      "grid_auto_rows": null,
      "grid_column": null,
      "grid_gap": null,
      "grid_row": null,
      "grid_template_areas": null,
      "grid_template_columns": null,
      "grid_template_rows": null,
      "height": null,
      "justify_content": null,
      "justify_items": null,
      "left": null,
      "margin": null,
      "max_height": null,
      "max_width": null,
      "min_height": null,
      "min_width": null,
      "object_fit": null,
      "object_position": null,
      "order": null,
      "overflow": null,
      "overflow_x": null,
      "overflow_y": null,
      "padding": null,
      "right": null,
      "top": null,
      "visibility": null,
      "width": null
     }
    },
    "5f7f8ee725e44eb09ab0e211c6ee6df4": {
     "model_module": "@jupyter-widgets/controls",
     "model_name": "ProgressStyleModel",
     "model_module_version": "1.5.0",
     "state": {
      "_model_module": "@jupyter-widgets/controls",
      "_model_module_version": "1.5.0",
      "_model_name": "ProgressStyleModel",
      "_view_count": null,
      "_view_module": "@jupyter-widgets/base",
      "_view_module_version": "1.2.0",
      "_view_name": "StyleView",
      "bar_color": null,
      "description_width": ""
     }
    },
    "4bdcc5958be8493d91bc9a9a2dd29f23": {
     "model_module": "@jupyter-widgets/base",
     "model_name": "LayoutModel",
     "model_module_version": "1.2.0",
     "state": {
      "_model_module": "@jupyter-widgets/base",
      "_model_module_version": "1.2.0",
      "_model_name": "LayoutModel",
      "_view_count": null,
      "_view_module": "@jupyter-widgets/base",
      "_view_module_version": "1.2.0",
      "_view_name": "LayoutView",
      "align_content": null,
      "align_items": null,
      "align_self": null,
      "border": null,
      "bottom": null,
      "display": null,
      "flex": null,
      "flex_flow": null,
      "grid_area": null,
      "grid_auto_columns": null,
      "grid_auto_flow": null,
      "grid_auto_rows": null,
      "grid_column": null,
      "grid_gap": null,
      "grid_row": null,
      "grid_template_areas": null,
      "grid_template_columns": null,
      "grid_template_rows": null,
      "height": null,
      "justify_content": null,
      "justify_items": null,
      "left": null,
      "margin": null,
      "max_height": null,
      "max_width": null,
      "min_height": null,
      "min_width": null,
      "object_fit": null,
      "object_position": null,
      "order": null,
      "overflow": null,
      "overflow_x": null,
      "overflow_y": null,
      "padding": null,
      "right": null,
      "top": null,
      "visibility": null,
      "width": null
     }
    },
    "aaf4d2ead1fa47b1996cb5758dbe2eeb": {
     "model_module": "@jupyter-widgets/controls",
     "model_name": "DescriptionStyleModel",
     "model_module_version": "1.5.0",
     "state": {
      "_model_module": "@jupyter-widgets/controls",
      "_model_module_version": "1.5.0",
      "_model_name": "DescriptionStyleModel",
      "_view_count": null,
      "_view_module": "@jupyter-widgets/base",
      "_view_module_version": "1.2.0",
      "_view_name": "StyleView",
      "description_width": ""
     }
    },
    "324195c36e5b4119961ace51210873fe": {
     "model_module": "@jupyter-widgets/controls",
     "model_name": "HBoxModel",
     "model_module_version": "1.5.0",
     "state": {
      "_dom_classes": [],
      "_model_module": "@jupyter-widgets/controls",
      "_model_module_version": "1.5.0",
      "_model_name": "HBoxModel",
      "_view_count": null,
      "_view_module": "@jupyter-widgets/controls",
      "_view_module_version": "1.5.0",
      "_view_name": "HBoxView",
      "box_style": "",
      "children": [
       "IPY_MODEL_305dda7cc08e4b4d9eaf99192dfd8888",
       "IPY_MODEL_a3ce4f22793649aaa9e6f10e16ecb5e9",
       "IPY_MODEL_e2a880eac580467b85951041802e13d5"
      ],
      "layout": "IPY_MODEL_d92b20d59a434fa9a29b4b8044a43862"
     }
    },
    "305dda7cc08e4b4d9eaf99192dfd8888": {
     "model_module": "@jupyter-widgets/controls",
     "model_name": "HTMLModel",
     "model_module_version": "1.5.0",
     "state": {
      "_dom_classes": [],
      "_model_module": "@jupyter-widgets/controls",
      "_model_module_version": "1.5.0",
      "_model_name": "HTMLModel",
      "_view_count": null,
      "_view_module": "@jupyter-widgets/controls",
      "_view_module_version": "1.5.0",
      "_view_name": "HTMLView",
      "description": "",
      "description_tooltip": null,
      "layout": "IPY_MODEL_ca29d1d5750e4986946f2b2269a4d7e1",
      "placeholder": "​",
      "style": "IPY_MODEL_734703e1b66e4e1b852861b015a8a73b",
      "value": "100%"
     }
    },
    "a3ce4f22793649aaa9e6f10e16ecb5e9": {
     "model_module": "@jupyter-widgets/controls",
     "model_name": "FloatProgressModel",
     "model_module_version": "1.5.0",
     "state": {
      "_dom_classes": [],
      "_model_module": "@jupyter-widgets/controls",
      "_model_module_version": "1.5.0",
      "_model_name": "FloatProgressModel",
      "_view_count": null,
      "_view_module": "@jupyter-widgets/controls",
      "_view_module_version": "1.5.0",
      "_view_name": "ProgressView",
      "bar_style": "success",
      "description": "",
      "description_tooltip": null,
      "layout": "IPY_MODEL_3fbf6040bb0a4da78c694a0a1d0acef8",
      "max": 34,
      "min": 0,
      "orientation": "horizontal",
      "style": "IPY_MODEL_19403cc405da4fa0bd85576279506632",
      "value": 34
     }
    },
    "e2a880eac580467b85951041802e13d5": {
     "model_module": "@jupyter-widgets/controls",
     "model_name": "HTMLModel",
     "model_module_version": "1.5.0",
     "state": {
      "_dom_classes": [],
      "_model_module": "@jupyter-widgets/controls",
      "_model_module_version": "1.5.0",
      "_model_name": "HTMLModel",
      "_view_count": null,
      "_view_module": "@jupyter-widgets/controls",
      "_view_module_version": "1.5.0",
      "_view_name": "HTMLView",
      "description": "",
      "description_tooltip": null,
      "layout": "IPY_MODEL_537c91327e264cdf9c63b12bdbd05026",
      "placeholder": "​",
      "style": "IPY_MODEL_0a8b2bcaa44344efaa66f0c99c1cef03",
      "value": " 34/34 [00:03&lt;00:00, 195.92it/s]"
     }
    },
    "d92b20d59a434fa9a29b4b8044a43862": {
     "model_module": "@jupyter-widgets/base",
     "model_name": "LayoutModel",
     "model_module_version": "1.2.0",
     "state": {
      "_model_module": "@jupyter-widgets/base",
      "_model_module_version": "1.2.0",
      "_model_name": "LayoutModel",
      "_view_count": null,
      "_view_module": "@jupyter-widgets/base",
      "_view_module_version": "1.2.0",
      "_view_name": "LayoutView",
      "align_content": null,
      "align_items": null,
      "align_self": null,
      "border": null,
      "bottom": null,
      "display": null,
      "flex": null,
      "flex_flow": null,
      "grid_area": null,
      "grid_auto_columns": null,
      "grid_auto_flow": null,
      "grid_auto_rows": null,
      "grid_column": null,
      "grid_gap": null,
      "grid_row": null,
      "grid_template_areas": null,
      "grid_template_columns": null,
      "grid_template_rows": null,
      "height": null,
      "justify_content": null,
      "justify_items": null,
      "left": null,
      "margin": null,
      "max_height": null,
      "max_width": null,
      "min_height": null,
      "min_width": null,
      "object_fit": null,
      "object_position": null,
      "order": null,
      "overflow": null,
      "overflow_x": null,
      "overflow_y": null,
      "padding": null,
      "right": null,
      "top": null,
      "visibility": null,
      "width": null
     }
    },
    "ca29d1d5750e4986946f2b2269a4d7e1": {
     "model_module": "@jupyter-widgets/base",
     "model_name": "LayoutModel",
     "model_module_version": "1.2.0",
     "state": {
      "_model_module": "@jupyter-widgets/base",
      "_model_module_version": "1.2.0",
      "_model_name": "LayoutModel",
      "_view_count": null,
      "_view_module": "@jupyter-widgets/base",
      "_view_module_version": "1.2.0",
      "_view_name": "LayoutView",
      "align_content": null,
      "align_items": null,
      "align_self": null,
      "border": null,
      "bottom": null,
      "display": null,
      "flex": null,
      "flex_flow": null,
      "grid_area": null,
      "grid_auto_columns": null,
      "grid_auto_flow": null,
      "grid_auto_rows": null,
      "grid_column": null,
      "grid_gap": null,
      "grid_row": null,
      "grid_template_areas": null,
      "grid_template_columns": null,
      "grid_template_rows": null,
      "height": null,
      "justify_content": null,
      "justify_items": null,
      "left": null,
      "margin": null,
      "max_height": null,
      "max_width": null,
      "min_height": null,
      "min_width": null,
      "object_fit": null,
      "object_position": null,
      "order": null,
      "overflow": null,
      "overflow_x": null,
      "overflow_y": null,
      "padding": null,
      "right": null,
      "top": null,
      "visibility": null,
      "width": null
     }
    },
    "734703e1b66e4e1b852861b015a8a73b": {
     "model_module": "@jupyter-widgets/controls",
     "model_name": "DescriptionStyleModel",
     "model_module_version": "1.5.0",
     "state": {
      "_model_module": "@jupyter-widgets/controls",
      "_model_module_version": "1.5.0",
      "_model_name": "DescriptionStyleModel",
      "_view_count": null,
      "_view_module": "@jupyter-widgets/base",
      "_view_module_version": "1.2.0",
      "_view_name": "StyleView",
      "description_width": ""
     }
    },
    "3fbf6040bb0a4da78c694a0a1d0acef8": {
     "model_module": "@jupyter-widgets/base",
     "model_name": "LayoutModel",
     "model_module_version": "1.2.0",
     "state": {
      "_model_module": "@jupyter-widgets/base",
      "_model_module_version": "1.2.0",
      "_model_name": "LayoutModel",
      "_view_count": null,
      "_view_module": "@jupyter-widgets/base",
      "_view_module_version": "1.2.0",
      "_view_name": "LayoutView",
      "align_content": null,
      "align_items": null,
      "align_self": null,
      "border": null,
      "bottom": null,
      "display": null,
      "flex": null,
      "flex_flow": null,
      "grid_area": null,
      "grid_auto_columns": null,
      "grid_auto_flow": null,
      "grid_auto_rows": null,
      "grid_column": null,
      "grid_gap": null,
      "grid_row": null,
      "grid_template_areas": null,
      "grid_template_columns": null,
      "grid_template_rows": null,
      "height": null,
      "justify_content": null,
      "justify_items": null,
      "left": null,
      "margin": null,
      "max_height": null,
      "max_width": null,
      "min_height": null,
      "min_width": null,
      "object_fit": null,
      "object_position": null,
      "order": null,
      "overflow": null,
      "overflow_x": null,
      "overflow_y": null,
      "padding": null,
      "right": null,
      "top": null,
      "visibility": null,
      "width": null
     }
    },
    "19403cc405da4fa0bd85576279506632": {
     "model_module": "@jupyter-widgets/controls",
     "model_name": "ProgressStyleModel",
     "model_module_version": "1.5.0",
     "state": {
      "_model_module": "@jupyter-widgets/controls",
      "_model_module_version": "1.5.0",
      "_model_name": "ProgressStyleModel",
      "_view_count": null,
      "_view_module": "@jupyter-widgets/base",
      "_view_module_version": "1.2.0",
      "_view_name": "StyleView",
      "bar_color": null,
      "description_width": ""
     }
    },
    "537c91327e264cdf9c63b12bdbd05026": {
     "model_module": "@jupyter-widgets/base",
     "model_name": "LayoutModel",
     "model_module_version": "1.2.0",
     "state": {
      "_model_module": "@jupyter-widgets/base",
      "_model_module_version": "1.2.0",
      "_model_name": "LayoutModel",
      "_view_count": null,
      "_view_module": "@jupyter-widgets/base",
      "_view_module_version": "1.2.0",
      "_view_name": "LayoutView",
      "align_content": null,
      "align_items": null,
      "align_self": null,
      "border": null,
      "bottom": null,
      "display": null,
      "flex": null,
      "flex_flow": null,
      "grid_area": null,
      "grid_auto_columns": null,
      "grid_auto_flow": null,
      "grid_auto_rows": null,
      "grid_column": null,
      "grid_gap": null,
      "grid_row": null,
      "grid_template_areas": null,
      "grid_template_columns": null,
      "grid_template_rows": null,
      "height": null,
      "justify_content": null,
      "justify_items": null,
      "left": null,
      "margin": null,
      "max_height": null,
      "max_width": null,
      "min_height": null,
      "min_width": null,
      "object_fit": null,
      "object_position": null,
      "order": null,
      "overflow": null,
      "overflow_x": null,
      "overflow_y": null,
      "padding": null,
      "right": null,
      "top": null,
      "visibility": null,
      "width": null
     }
    },
    "0a8b2bcaa44344efaa66f0c99c1cef03": {
     "model_module": "@jupyter-widgets/controls",
     "model_name": "DescriptionStyleModel",
     "model_module_version": "1.5.0",
     "state": {
      "_model_module": "@jupyter-widgets/controls",
      "_model_module_version": "1.5.0",
      "_model_name": "DescriptionStyleModel",
      "_view_count": null,
      "_view_module": "@jupyter-widgets/base",
      "_view_module_version": "1.2.0",
      "_view_name": "StyleView",
      "description_width": ""
     }
    },
    "3263de062f7e4c6dbe4c70227c93c28e": {
     "model_module": "@jupyter-widgets/controls",
     "model_name": "HBoxModel",
     "model_module_version": "1.5.0",
     "state": {
      "_dom_classes": [],
      "_model_module": "@jupyter-widgets/controls",
      "_model_module_version": "1.5.0",
      "_model_name": "HBoxModel",
      "_view_count": null,
      "_view_module": "@jupyter-widgets/controls",
      "_view_module_version": "1.5.0",
      "_view_name": "HBoxView",
      "box_style": "",
      "children": [
       "IPY_MODEL_7e6e312dba5a4513991fe91fb9c7402e",
       "IPY_MODEL_72cb24aa41ee4e8d863e5088d3d68763",
       "IPY_MODEL_cfaa8fce55ed416a8c5524f173895918"
      ],
      "layout": "IPY_MODEL_5f5a579039e049c1afe8be72de2908c7"
     }
    },
    "7e6e312dba5a4513991fe91fb9c7402e": {
     "model_module": "@jupyter-widgets/controls",
     "model_name": "HTMLModel",
     "model_module_version": "1.5.0",
     "state": {
      "_dom_classes": [],
      "_model_module": "@jupyter-widgets/controls",
      "_model_module_version": "1.5.0",
      "_model_name": "HTMLModel",
      "_view_count": null,
      "_view_module": "@jupyter-widgets/controls",
      "_view_module_version": "1.5.0",
      "_view_name": "HTMLView",
      "description": "",
      "description_tooltip": null,
      "layout": "IPY_MODEL_abadd744eaba4c8590ce3439e41fe019",
      "placeholder": "​",
      "style": "IPY_MODEL_7181479b2ff34752be7ddfdff0429604",
      "value": "100%"
     }
    },
    "72cb24aa41ee4e8d863e5088d3d68763": {
     "model_module": "@jupyter-widgets/controls",
     "model_name": "FloatProgressModel",
     "model_module_version": "1.5.0",
     "state": {
      "_dom_classes": [],
      "_model_module": "@jupyter-widgets/controls",
      "_model_module_version": "1.5.0",
      "_model_name": "FloatProgressModel",
      "_view_count": null,
      "_view_module": "@jupyter-widgets/controls",
      "_view_module_version": "1.5.0",
      "_view_name": "ProgressView",
      "bar_style": "success",
      "description": "",
      "description_tooltip": null,
      "layout": "IPY_MODEL_8190faa0852543fa91c60bf4972d1c36",
      "max": 33,
      "min": 0,
      "orientation": "horizontal",
      "style": "IPY_MODEL_0707ba0bed414a08b1a55d08737a1d7d",
      "value": 33
     }
    },
    "cfaa8fce55ed416a8c5524f173895918": {
     "model_module": "@jupyter-widgets/controls",
     "model_name": "HTMLModel",
     "model_module_version": "1.5.0",
     "state": {
      "_dom_classes": [],
      "_model_module": "@jupyter-widgets/controls",
      "_model_module_version": "1.5.0",
      "_model_name": "HTMLModel",
      "_view_count": null,
      "_view_module": "@jupyter-widgets/controls",
      "_view_module_version": "1.5.0",
      "_view_name": "HTMLView",
      "description": "",
      "description_tooltip": null,
      "layout": "IPY_MODEL_ce15fcf9246c460181a12750d597f140",
      "placeholder": "​",
      "style": "IPY_MODEL_238f2d51901e47959270f7602cad454d",
      "value": " 33/33 [00:02&lt;00:00, 11.51it/s]"
     }
    },
    "5f5a579039e049c1afe8be72de2908c7": {
     "model_module": "@jupyter-widgets/base",
     "model_name": "LayoutModel",
     "model_module_version": "1.2.0",
     "state": {
      "_model_module": "@jupyter-widgets/base",
      "_model_module_version": "1.2.0",
      "_model_name": "LayoutModel",
      "_view_count": null,
      "_view_module": "@jupyter-widgets/base",
      "_view_module_version": "1.2.0",
      "_view_name": "LayoutView",
      "align_content": null,
      "align_items": null,
      "align_self": null,
      "border": null,
      "bottom": null,
      "display": null,
      "flex": null,
      "flex_flow": null,
      "grid_area": null,
      "grid_auto_columns": null,
      "grid_auto_flow": null,
      "grid_auto_rows": null,
      "grid_column": null,
      "grid_gap": null,
      "grid_row": null,
      "grid_template_areas": null,
      "grid_template_columns": null,
      "grid_template_rows": null,
      "height": null,
      "justify_content": null,
      "justify_items": null,
      "left": null,
      "margin": null,
      "max_height": null,
      "max_width": null,
      "min_height": null,
      "min_width": null,
      "object_fit": null,
      "object_position": null,
      "order": null,
      "overflow": null,
      "overflow_x": null,
      "overflow_y": null,
      "padding": null,
      "right": null,
      "top": null,
      "visibility": null,
      "width": null
     }
    },
    "abadd744eaba4c8590ce3439e41fe019": {
     "model_module": "@jupyter-widgets/base",
     "model_name": "LayoutModel",
     "model_module_version": "1.2.0",
     "state": {
      "_model_module": "@jupyter-widgets/base",
      "_model_module_version": "1.2.0",
      "_model_name": "LayoutModel",
      "_view_count": null,
      "_view_module": "@jupyter-widgets/base",
      "_view_module_version": "1.2.0",
      "_view_name": "LayoutView",
      "align_content": null,
      "align_items": null,
      "align_self": null,
      "border": null,
      "bottom": null,
      "display": null,
      "flex": null,
      "flex_flow": null,
      "grid_area": null,
      "grid_auto_columns": null,
      "grid_auto_flow": null,
      "grid_auto_rows": null,
      "grid_column": null,
      "grid_gap": null,
      "grid_row": null,
      "grid_template_areas": null,
      "grid_template_columns": null,
      "grid_template_rows": null,
      "height": null,
      "justify_content": null,
      "justify_items": null,
      "left": null,
      "margin": null,
      "max_height": null,
      "max_width": null,
      "min_height": null,
      "min_width": null,
      "object_fit": null,
      "object_position": null,
      "order": null,
      "overflow": null,
      "overflow_x": null,
      "overflow_y": null,
      "padding": null,
      "right": null,
      "top": null,
      "visibility": null,
      "width": null
     }
    },
    "7181479b2ff34752be7ddfdff0429604": {
     "model_module": "@jupyter-widgets/controls",
     "model_name": "DescriptionStyleModel",
     "model_module_version": "1.5.0",
     "state": {
      "_model_module": "@jupyter-widgets/controls",
      "_model_module_version": "1.5.0",
      "_model_name": "DescriptionStyleModel",
      "_view_count": null,
      "_view_module": "@jupyter-widgets/base",
      "_view_module_version": "1.2.0",
      "_view_name": "StyleView",
      "description_width": ""
     }
    },
    "8190faa0852543fa91c60bf4972d1c36": {
     "model_module": "@jupyter-widgets/base",
     "model_name": "LayoutModel",
     "model_module_version": "1.2.0",
     "state": {
      "_model_module": "@jupyter-widgets/base",
      "_model_module_version": "1.2.0",
      "_model_name": "LayoutModel",
      "_view_count": null,
      "_view_module": "@jupyter-widgets/base",
      "_view_module_version": "1.2.0",
      "_view_name": "LayoutView",
      "align_content": null,
      "align_items": null,
      "align_self": null,
      "border": null,
      "bottom": null,
      "display": null,
      "flex": null,
      "flex_flow": null,
      "grid_area": null,
      "grid_auto_columns": null,
      "grid_auto_flow": null,
      "grid_auto_rows": null,
      "grid_column": null,
      "grid_gap": null,
      "grid_row": null,
      "grid_template_areas": null,
      "grid_template_columns": null,
      "grid_template_rows": null,
      "height": null,
      "justify_content": null,
      "justify_items": null,
      "left": null,
      "margin": null,
      "max_height": null,
      "max_width": null,
      "min_height": null,
      "min_width": null,
      "object_fit": null,
      "object_position": null,
      "order": null,
      "overflow": null,
      "overflow_x": null,
      "overflow_y": null,
      "padding": null,
      "right": null,
      "top": null,
      "visibility": null,
      "width": null
     }
    },
    "0707ba0bed414a08b1a55d08737a1d7d": {
     "model_module": "@jupyter-widgets/controls",
     "model_name": "ProgressStyleModel",
     "model_module_version": "1.5.0",
     "state": {
      "_model_module": "@jupyter-widgets/controls",
      "_model_module_version": "1.5.0",
      "_model_name": "ProgressStyleModel",
      "_view_count": null,
      "_view_module": "@jupyter-widgets/base",
      "_view_module_version": "1.2.0",
      "_view_name": "StyleView",
      "bar_color": null,
      "description_width": ""
     }
    },
    "ce15fcf9246c460181a12750d597f140": {
     "model_module": "@jupyter-widgets/base",
     "model_name": "LayoutModel",
     "model_module_version": "1.2.0",
     "state": {
      "_model_module": "@jupyter-widgets/base",
      "_model_module_version": "1.2.0",
      "_model_name": "LayoutModel",
      "_view_count": null,
      "_view_module": "@jupyter-widgets/base",
      "_view_module_version": "1.2.0",
      "_view_name": "LayoutView",
      "align_content": null,
      "align_items": null,
      "align_self": null,
      "border": null,
      "bottom": null,
      "display": null,
      "flex": null,
      "flex_flow": null,
      "grid_area": null,
      "grid_auto_columns": null,
      "grid_auto_flow": null,
      "grid_auto_rows": null,
      "grid_column": null,
      "grid_gap": null,
      "grid_row": null,
      "grid_template_areas": null,
      "grid_template_columns": null,
      "grid_template_rows": null,
      "height": null,
      "justify_content": null,
      "justify_items": null,
      "left": null,
      "margin": null,
      "max_height": null,
      "max_width": null,
      "min_height": null,
      "min_width": null,
      "object_fit": null,
      "object_position": null,
      "order": null,
      "overflow": null,
      "overflow_x": null,
      "overflow_y": null,
      "padding": null,
      "right": null,
      "top": null,
      "visibility": null,
      "width": null
     }
    },
    "238f2d51901e47959270f7602cad454d": {
     "model_module": "@jupyter-widgets/controls",
     "model_name": "DescriptionStyleModel",
     "model_module_version": "1.5.0",
     "state": {
      "_model_module": "@jupyter-widgets/controls",
      "_model_module_version": "1.5.0",
      "_model_name": "DescriptionStyleModel",
      "_view_count": null,
      "_view_module": "@jupyter-widgets/base",
      "_view_module_version": "1.2.0",
      "_view_name": "StyleView",
      "description_width": ""
     }
    },
    "1e5d778b5d684294b1af4215f6aa2cc8": {
     "model_module": "@jupyter-widgets/controls",
     "model_name": "HBoxModel",
     "model_module_version": "1.5.0",
     "state": {
      "_dom_classes": [],
      "_model_module": "@jupyter-widgets/controls",
      "_model_module_version": "1.5.0",
      "_model_name": "HBoxModel",
      "_view_count": null,
      "_view_module": "@jupyter-widgets/controls",
      "_view_module_version": "1.5.0",
      "_view_name": "HBoxView",
      "box_style": "",
      "children": [
       "IPY_MODEL_56bfaa842b8343459bf8c1cf86aa404f",
       "IPY_MODEL_1e4e207cbfb74419be1a97c65aa613ec",
       "IPY_MODEL_584f188528bd417081c017015894ef78"
      ],
      "layout": "IPY_MODEL_0eca59b689fe4fe9b84bce8719ef6364"
     }
    },
    "56bfaa842b8343459bf8c1cf86aa404f": {
     "model_module": "@jupyter-widgets/controls",
     "model_name": "HTMLModel",
     "model_module_version": "1.5.0",
     "state": {
      "_dom_classes": [],
      "_model_module": "@jupyter-widgets/controls",
      "_model_module_version": "1.5.0",
      "_model_name": "HTMLModel",
      "_view_count": null,
      "_view_module": "@jupyter-widgets/controls",
      "_view_module_version": "1.5.0",
      "_view_name": "HTMLView",
      "description": "",
      "description_tooltip": null,
      "layout": "IPY_MODEL_03cc6003db5a4292b473601f557eda20",
      "placeholder": "​",
      "style": "IPY_MODEL_8243d7a88fc14f67a0b6f308364f1d0b",
      "value": "100%"
     }
    },
    "1e4e207cbfb74419be1a97c65aa613ec": {
     "model_module": "@jupyter-widgets/controls",
     "model_name": "FloatProgressModel",
     "model_module_version": "1.5.0",
     "state": {
      "_dom_classes": [],
      "_model_module": "@jupyter-widgets/controls",
      "_model_module_version": "1.5.0",
      "_model_name": "FloatProgressModel",
      "_view_count": null,
      "_view_module": "@jupyter-widgets/controls",
      "_view_module_version": "1.5.0",
      "_view_name": "ProgressView",
      "bar_style": "success",
      "description": "",
      "description_tooltip": null,
      "layout": "IPY_MODEL_4e17fece1c1b4bf7b3ba141e2f4ded2a",
      "max": 33,
      "min": 0,
      "orientation": "horizontal",
      "style": "IPY_MODEL_bb80d56bbb0146f0b72b17931d0b8277",
      "value": 33
     }
    },
    "584f188528bd417081c017015894ef78": {
     "model_module": "@jupyter-widgets/controls",
     "model_name": "HTMLModel",
     "model_module_version": "1.5.0",
     "state": {
      "_dom_classes": [],
      "_model_module": "@jupyter-widgets/controls",
      "_model_module_version": "1.5.0",
      "_model_name": "HTMLModel",
      "_view_count": null,
      "_view_module": "@jupyter-widgets/controls",
      "_view_module_version": "1.5.0",
      "_view_name": "HTMLView",
      "description": "",
      "description_tooltip": null,
      "layout": "IPY_MODEL_ba8585b419f8488588ef3df8998d3de7",
      "placeholder": "​",
      "style": "IPY_MODEL_490e21fae66f4485ad9f3fa3d33b31ff",
      "value": " 33/33 [00:04&lt;00:00,  9.62it/s]"
     }
    },
    "0eca59b689fe4fe9b84bce8719ef6364": {
     "model_module": "@jupyter-widgets/base",
     "model_name": "LayoutModel",
     "model_module_version": "1.2.0",
     "state": {
      "_model_module": "@jupyter-widgets/base",
      "_model_module_version": "1.2.0",
      "_model_name": "LayoutModel",
      "_view_count": null,
      "_view_module": "@jupyter-widgets/base",
      "_view_module_version": "1.2.0",
      "_view_name": "LayoutView",
      "align_content": null,
      "align_items": null,
      "align_self": null,
      "border": null,
      "bottom": null,
      "display": null,
      "flex": null,
      "flex_flow": null,
      "grid_area": null,
      "grid_auto_columns": null,
      "grid_auto_flow": null,
      "grid_auto_rows": null,
      "grid_column": null,
      "grid_gap": null,
      "grid_row": null,
      "grid_template_areas": null,
      "grid_template_columns": null,
      "grid_template_rows": null,
      "height": null,
      "justify_content": null,
      "justify_items": null,
      "left": null,
      "margin": null,
      "max_height": null,
      "max_width": null,
      "min_height": null,
      "min_width": null,
      "object_fit": null,
      "object_position": null,
      "order": null,
      "overflow": null,
      "overflow_x": null,
      "overflow_y": null,
      "padding": null,
      "right": null,
      "top": null,
      "visibility": null,
      "width": null
     }
    },
    "03cc6003db5a4292b473601f557eda20": {
     "model_module": "@jupyter-widgets/base",
     "model_name": "LayoutModel",
     "model_module_version": "1.2.0",
     "state": {
      "_model_module": "@jupyter-widgets/base",
      "_model_module_version": "1.2.0",
      "_model_name": "LayoutModel",
      "_view_count": null,
      "_view_module": "@jupyter-widgets/base",
      "_view_module_version": "1.2.0",
      "_view_name": "LayoutView",
      "align_content": null,
      "align_items": null,
      "align_self": null,
      "border": null,
      "bottom": null,
      "display": null,
      "flex": null,
      "flex_flow": null,
      "grid_area": null,
      "grid_auto_columns": null,
      "grid_auto_flow": null,
      "grid_auto_rows": null,
      "grid_column": null,
      "grid_gap": null,
      "grid_row": null,
      "grid_template_areas": null,
      "grid_template_columns": null,
      "grid_template_rows": null,
      "height": null,
      "justify_content": null,
      "justify_items": null,
      "left": null,
      "margin": null,
      "max_height": null,
      "max_width": null,
      "min_height": null,
      "min_width": null,
      "object_fit": null,
      "object_position": null,
      "order": null,
      "overflow": null,
      "overflow_x": null,
      "overflow_y": null,
      "padding": null,
      "right": null,
      "top": null,
      "visibility": null,
      "width": null
     }
    },
    "8243d7a88fc14f67a0b6f308364f1d0b": {
     "model_module": "@jupyter-widgets/controls",
     "model_name": "DescriptionStyleModel",
     "model_module_version": "1.5.0",
     "state": {
      "_model_module": "@jupyter-widgets/controls",
      "_model_module_version": "1.5.0",
      "_model_name": "DescriptionStyleModel",
      "_view_count": null,
      "_view_module": "@jupyter-widgets/base",
      "_view_module_version": "1.2.0",
      "_view_name": "StyleView",
      "description_width": ""
     }
    },
    "4e17fece1c1b4bf7b3ba141e2f4ded2a": {
     "model_module": "@jupyter-widgets/base",
     "model_name": "LayoutModel",
     "model_module_version": "1.2.0",
     "state": {
      "_model_module": "@jupyter-widgets/base",
      "_model_module_version": "1.2.0",
      "_model_name": "LayoutModel",
      "_view_count": null,
      "_view_module": "@jupyter-widgets/base",
      "_view_module_version": "1.2.0",
      "_view_name": "LayoutView",
      "align_content": null,
      "align_items": null,
      "align_self": null,
      "border": null,
      "bottom": null,
      "display": null,
      "flex": null,
      "flex_flow": null,
      "grid_area": null,
      "grid_auto_columns": null,
      "grid_auto_flow": null,
      "grid_auto_rows": null,
      "grid_column": null,
      "grid_gap": null,
      "grid_row": null,
      "grid_template_areas": null,
      "grid_template_columns": null,
      "grid_template_rows": null,
      "height": null,
      "justify_content": null,
      "justify_items": null,
      "left": null,
      "margin": null,
      "max_height": null,
      "max_width": null,
      "min_height": null,
      "min_width": null,
      "object_fit": null,
      "object_position": null,
      "order": null,
      "overflow": null,
      "overflow_x": null,
      "overflow_y": null,
      "padding": null,
      "right": null,
      "top": null,
      "visibility": null,
      "width": null
     }
    },
    "bb80d56bbb0146f0b72b17931d0b8277": {
     "model_module": "@jupyter-widgets/controls",
     "model_name": "ProgressStyleModel",
     "model_module_version": "1.5.0",
     "state": {
      "_model_module": "@jupyter-widgets/controls",
      "_model_module_version": "1.5.0",
      "_model_name": "ProgressStyleModel",
      "_view_count": null,
      "_view_module": "@jupyter-widgets/base",
      "_view_module_version": "1.2.0",
      "_view_name": "StyleView",
      "bar_color": null,
      "description_width": ""
     }
    },
    "ba8585b419f8488588ef3df8998d3de7": {
     "model_module": "@jupyter-widgets/base",
     "model_name": "LayoutModel",
     "model_module_version": "1.2.0",
     "state": {
      "_model_module": "@jupyter-widgets/base",
      "_model_module_version": "1.2.0",
      "_model_name": "LayoutModel",
      "_view_count": null,
      "_view_module": "@jupyter-widgets/base",
      "_view_module_version": "1.2.0",
      "_view_name": "LayoutView",
      "align_content": null,
      "align_items": null,
      "align_self": null,
      "border": null,
      "bottom": null,
      "display": null,
      "flex": null,
      "flex_flow": null,
      "grid_area": null,
      "grid_auto_columns": null,
      "grid_auto_flow": null,
      "grid_auto_rows": null,
      "grid_column": null,
      "grid_gap": null,
      "grid_row": null,
      "grid_template_areas": null,
      "grid_template_columns": null,
      "grid_template_rows": null,
      "height": null,
      "justify_content": null,
      "justify_items": null,
      "left": null,
      "margin": null,
      "max_height": null,
      "max_width": null,
      "min_height": null,
      "min_width": null,
      "object_fit": null,
      "object_position": null,
      "order": null,
      "overflow": null,
      "overflow_x": null,
      "overflow_y": null,
      "padding": null,
      "right": null,
      "top": null,
      "visibility": null,
      "width": null
     }
    },
    "490e21fae66f4485ad9f3fa3d33b31ff": {
     "model_module": "@jupyter-widgets/controls",
     "model_name": "DescriptionStyleModel",
     "model_module_version": "1.5.0",
     "state": {
      "_model_module": "@jupyter-widgets/controls",
      "_model_module_version": "1.5.0",
      "_model_name": "DescriptionStyleModel",
      "_view_count": null,
      "_view_module": "@jupyter-widgets/base",
      "_view_module_version": "1.2.0",
      "_view_name": "StyleView",
      "description_width": ""
     }
    }
   }
  }
 },
 "nbformat": 4,
 "nbformat_minor": 0
}

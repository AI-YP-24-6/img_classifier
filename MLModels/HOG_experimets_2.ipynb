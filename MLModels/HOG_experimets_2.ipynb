{
  "cells": [
    {
      "cell_type": "markdown",
      "source": [
        "# Использование HOG для классификации изображений"
      ],
      "metadata": {
        "id": "0toR1IFrCP-x"
      }
    },
    {
      "cell_type": "markdown",
      "metadata": {
        "id": "I39WNEZn0_7u"
      },
      "source": [
        "## Таблица результатов ML-моделей для HOG"
      ]
    },
    {
      "cell_type": "markdown",
      "source": [
        "|Модель|Гиперпараметры|accuracy|f1-macro|\n",
        "|:----:|:----:|:----:|:----:|\n",
        "|SVC+PCA|n_components=0.6|0.70|0.70|\n",
        "|SVC+PCA|n_components=0.6, C=10, kernel='rbf'|0.76|0.76|\n",
        "|RandomForest+PCA|n_components=0.6|0.76|0.76|\n",
        "|RandomForest+PCA|n_components=0.6, criterion='entropy', max_depth=None, max_features='sqrt', n_estimators=500|0.77|0.77|\n",
        "|LightGBM+PCA|n_components=0.6|0.74|0.74|\n",
        "|LightGBM+PCA|n_components=0.6, min_child_samples=12, num_leaves=60, reg_alpha=2.8841108732861e-05, reg_lambda=2.4410628100010748e-08|0.78|0.78|\n",
        "|CatBoost+PCA|n_components=0.6|0.76|0.76|\n",
        "|CatBoost+PCA|n_components=0.6, depth=10, learning_rate=0.1, min_child_samples=44, reg_lambda=0.051712194163615596|0.79|0.79|"
      ],
      "metadata": {
        "id": "_tx9MgvY85LJ"
      }
    },
    {
      "cell_type": "code",
      "source": [
        "!pip install catboost -q\n",
        "!pip install lightgbm -q"
      ],
      "metadata": {
        "colab": {
          "base_uri": "https://localhost:8080/"
        },
        "id": "Q6Qc3oMeAGH1",
        "outputId": "e59ba53c-ec13-49e0-cf58-74dbb37c4ee0"
      },
      "execution_count": null,
      "outputs": [
        {
          "output_type": "stream",
          "name": "stdout",
          "text": [
            "\u001b[2K   \u001b[90m━━━━━━━━━━━━━━━━━━━━━━━━━━━━━━━━━━━━━━━━\u001b[0m \u001b[32m98.7/98.7 MB\u001b[0m \u001b[31m5.8 MB/s\u001b[0m eta \u001b[36m0:00:00\u001b[0m\n",
            "\u001b[?25h"
          ]
        }
      ]
    },
    {
      "cell_type": "code",
      "execution_count": null,
      "metadata": {
        "id": "rIIg0kHIpsjw"
      },
      "outputs": [],
      "source": [
        "import zipfile\n",
        "import os\n",
        "import shutil\n",
        "import random\n",
        "import gdown\n",
        "\n",
        "import cv2\n",
        "from PIL import Image, ImageOps\n",
        "\n",
        "from skimage.feature import hog\n",
        "\n",
        "from sklearn.svm import SVC\n",
        "from sklearn.model_selection import train_test_split, GridSearchCV, KFold, RandomizedSearchCV\n",
        "from sklearn.metrics import classification_report, confusion_matrix, accuracy_score\n",
        "from sklearn.linear_model import LogisticRegression\n",
        "from sklearn.tree import DecisionTreeClassifier\n",
        "from sklearn.ensemble import RandomForestClassifier\n",
        "from sklearn.decomposition import PCA\n",
        "from sklearn.pipeline import make_pipeline, Pipeline\n",
        "from catboost import CatBoostClassifier\n",
        "from lightgbm import LGBMClassifier\n",
        "\n",
        "import lightgbm as lgb\n",
        "import scipy.stats as st\n",
        "\n",
        "import numpy as np\n",
        "import matplotlib.pyplot as plt\n",
        "import seaborn as sns; sns.set()\n",
        "\n",
        "from tqdm.auto import tqdm"
      ]
    },
    {
      "cell_type": "code",
      "execution_count": null,
      "metadata": {
        "id": "3p0B1i3ir67A"
      },
      "outputs": [],
      "source": [
        "RANDOM_STATE = 42\n",
        "random.seed(RANDOM_STATE)"
      ]
    },
    {
      "cell_type": "code",
      "execution_count": null,
      "metadata": {
        "colab": {
          "base_uri": "https://localhost:8080/"
        },
        "id": "IQK9Wx94qM8H",
        "outputId": "a5bd5812-b93a-485c-e391-487428b8abd4"
      },
      "outputs": [
        {
          "output_type": "stream",
          "name": "stdout",
          "text": [
            "Mounted at /content/drive\n"
          ]
        }
      ],
      "source": [
        "try:\n",
        "    from google.colab import drive\n",
        "    drive.mount('/content/drive')\n",
        "    DRIVE_DIR = os.path.join('/content/drive', 'MyDrive')\n",
        "except ImportError:\n",
        "    DRIVE_DIR = os.getcwd()\n",
        "\n",
        "DATASET_DIR = os.path.join(os.getcwd(), 'dataset')\n",
        "TRAIN_DIR = os.path.join(DATASET_DIR, 'train')\n",
        "TEST_DIR = os.path.join(DATASET_DIR, 'test')\n",
        "\n",
        "TEMP_DIR = os.path.join(os.getcwd(), 'temp')\n",
        "TEMP_TRAIN_DIR = os.path.join(TEMP_DIR, 'train')\n",
        "TEMP_TEST_DIR = os.path.join(TEMP_DIR, 'test')\n",
        "\n",
        "ZIP_PATH = os.path.join(DRIVE_DIR,'dataset_32_classes_splitted.zip')\n",
        "os.makedirs(DATASET_DIR, exist_ok=True)"
      ]
    },
    {
      "cell_type": "code",
      "execution_count": null,
      "metadata": {
        "colab": {
          "base_uri": "https://localhost:8080/"
        },
        "id": "L2q2Gk-3qOIJ",
        "outputId": "f8d486f8-bde5-40ae-b4cb-9f62cd6a4ee3"
      },
      "outputs": [
        {
          "output_type": "stream",
          "name": "stdout",
          "text": [
            "Архив уже добавлен\n"
          ]
        }
      ],
      "source": [
        "file_id = '1-1ehpRd0TnwB1hTHQbFHzdf55SrIri4f'\n",
        "if os.path.exists(ZIP_PATH):\n",
        "    print('Архив уже добавлен')\n",
        "else:\n",
        "    gdown.download(f'https://drive.google.com/uc?id={file_id}', os.path.join(os.getcwd(),'dataset_32_classes.zip'), quiet=False)"
      ]
    },
    {
      "cell_type": "code",
      "execution_count": null,
      "metadata": {
        "id": "CMh0fcgVqPuv"
      },
      "outputs": [],
      "source": [
        "# Распаковка архива\n",
        "with zipfile.ZipFile(ZIP_PATH, 'r') as zip_ref:\n",
        "    zip_ref.extractall('./dataset')"
      ]
    },
    {
      "cell_type": "code",
      "source": [
        "classes = os.listdir(TRAIN_DIR)\n",
        "\n",
        "# Проверим структуру папок\n",
        "print(f'Количество папок: {len(classes)}')"
      ],
      "metadata": {
        "colab": {
          "base_uri": "https://localhost:8080/"
        },
        "id": "Jx4Pon5RZvbS",
        "outputId": "59646572-d409-42c6-c60b-e5e2b825b99c"
      },
      "execution_count": null,
      "outputs": [
        {
          "output_type": "stream",
          "name": "stdout",
          "text": [
            "Количество папок: 32\n"
          ]
        }
      ]
    },
    {
      "cell_type": "code",
      "source": [
        "assert len(classes) == len(os.listdir(TEST_DIR))"
      ],
      "metadata": {
        "id": "VPDH9ngQZ6Cw"
      },
      "execution_count": null,
      "outputs": []
    },
    {
      "cell_type": "markdown",
      "metadata": {
        "id": "j7MTvjEhpQHB"
      },
      "source": [
        "Данным методом буду изменять размеры изображений для сохранения пропорций.\n",
        "\n",
        "set_image_size уменьшает/увеличивает изображение, сохраняя пропорции. Если у изображения останутся пустые области после ресайза, то их зальет белым цветом"
      ]
    },
    {
      "cell_type": "code",
      "execution_count": null,
      "metadata": {
        "id": "aIe-LdsuQ5-f"
      },
      "outputs": [],
      "source": [
        "def set_image_size(img_path:str, save_path:str, size:tuple[int, int]):\n",
        "    img = Image.open(img_path)\n",
        "    if img.mode != 'RGB':\n",
        "        img = img.convert('RGB')\n",
        "    ratio = img.width / img.height\n",
        "    # Широкое изображение\n",
        "    if ratio > 1:\n",
        "        new_width = size[0]\n",
        "        new_height = int(size[0] / ratio)\n",
        "    # Высокое изображение\n",
        "    else:\n",
        "        new_height = size[1]\n",
        "        new_width = int(size[1] * ratio)\n",
        "    img_resized = img.resize((new_width, new_height), Image.LANCZOS)\n",
        "    img_padded = ImageOps.pad(img_resized, size, color=\"white\", centering=(0.5, 0.5))\n",
        "    img_padded.save(save_path)"
      ]
    },
    {
      "cell_type": "markdown",
      "metadata": {
        "id": "LkZx3Hr6plXJ"
      },
      "source": [
        "Датасет с измененным размером изображений буду хранить в отдельной temp-папке. Оригинальный датасет будет лежать в своей папке и не будет изменяться. Для экспериментов можно использовать ограниченный набор данных, поэтому в temp можно загрузить не весь измененный датасет, а только его часть"
      ]
    },
    {
      "cell_type": "code",
      "execution_count": null,
      "metadata": {
        "id": "PtB2mbYrsvVo"
      },
      "outputs": [],
      "source": [
        "# Для тестовой выборки возьму 500 изображений из 1120. random всегда выдает разные значения, поэтому индексы запомню одни для всех экспериментов\n",
        "random_indexes = random.sample([i for i in range(0, 1120)], 500)"
      ]
    },
    {
      "cell_type": "code",
      "execution_count": null,
      "metadata": {
        "id": "y_MxfltgRKV2"
      },
      "outputs": [],
      "source": [
        "def create_resized_dataset(size:tuple[int, int], random_indexes: list[int]|None, dataset_path: str, temp_path: str):\n",
        "    # Если папка уже была, то удалить из нее прошлое содержимое\n",
        "    if os.path.exists(temp_path):\n",
        "        shutil.rmtree(temp_path)\n",
        "    os.mkdir(temp_path)\n",
        "\n",
        "    for cl in tqdm(classes):\n",
        "\n",
        "        temp_cl_path = os.path.join(temp_path, cl)\n",
        "        if os.path.exists(temp_cl_path) == False:\n",
        "            os.mkdir(temp_cl_path)\n",
        "\n",
        "        folder_path = os.path.join(dataset_path, cl)\n",
        "        image_names = os.listdir(folder_path)\n",
        "        if random_indexes is not None:\n",
        "            image_names = [image_names[i] for i in random_indexes]\n",
        "        for img_name in image_names:\n",
        "            img_path = os.path.join(dataset_path, cl, img_name)\n",
        "            save_path = os.path.join(temp_path, cl, img_name)\n",
        "            set_image_size(img_path, save_path, size)"
      ]
    },
    {
      "cell_type": "code",
      "execution_count": null,
      "metadata": {
        "id": "2HBprr4KFAjC"
      },
      "outputs": [],
      "source": [
        "def load_colored_images_and_labels(dataset_path: str):\n",
        "    images = []\n",
        "    labels = []\n",
        "    classes = os.listdir(dataset_path)\n",
        "    for class_label in tqdm(classes):\n",
        "        class_folder = os.path.join(dataset_path, class_label)\n",
        "        for file in os.listdir(class_folder):\n",
        "            file_path = os.path.join(class_folder, file)\n",
        "            img = cv2.imread(file_path)\n",
        "            img = cv2.cvtColor(img, cv2.COLOR_BGR2RGB)  # Преобразуем в RGB\n",
        "            images.append(img)\n",
        "            labels.append(class_label)\n",
        "    return np.array(images), np.array(labels)\n",
        "\n",
        "\n",
        "def extract_hog_color_features(images, orientations=9, pixels_per_cell=(8, 8), cells_per_block=(2, 2)):\n",
        "    hog_features = []\n",
        "    for image in tqdm(images):\n",
        "        img_hog_features = []\n",
        "        for channel in cv2.split(image):\n",
        "            features = hog(\n",
        "                channel,\n",
        "                orientations=orientations,\n",
        "                pixels_per_cell=pixels_per_cell,\n",
        "                cells_per_block=cells_per_block,\n",
        "                block_norm='L2-Hys',\n",
        "                visualize=False\n",
        "            )\n",
        "            img_hog_features.append(features)\n",
        "        hog_features.append(np.hstack(img_hog_features))\n",
        "    return np.array(hog_features)"
      ]
    },
    {
      "cell_type": "code",
      "execution_count": null,
      "metadata": {
        "id": "QXt7I5VcQlvC"
      },
      "outputs": [],
      "source": [
        "def upload_colored_hog_features(orientations=9, pixels_per_cell=(8, 8), cells_per_block=(2, 2)):\n",
        "    print(\"Загрузка изображений...\")\n",
        "\n",
        "    X_train, y_train = load_colored_images_and_labels(TEMP_TRAIN_DIR)\n",
        "    X_test, y_test = load_colored_images_and_labels(TEMP_TEST_DIR)\n",
        "\n",
        "    print(\"Выделение HOG значений...\")\n",
        "    X_train_hog = extract_hog_color_features(X_train, orientations, pixels_per_cell, cells_per_block)\n",
        "    X_test_hog = extract_hog_color_features(X_test, orientations, pixels_per_cell, cells_per_block)\n",
        "\n",
        "    return X_train_hog, X_test_hog, y_train, y_test"
      ]
    },
    {
      "cell_type": "code",
      "execution_count": null,
      "metadata": {
        "colab": {
          "base_uri": "https://localhost:8080/",
          "height": 81,
          "referenced_widgets": [
            "ccf513efc743490ba217d7cb29bdffaf",
            "86a14d0f8b01437d8fc79743ea7aa7d5",
            "a2f39b0d0b6542bc905827c3af34e75c",
            "0e4a93e6f98849738095e2db7c7dfb55",
            "fa9f526950504a039e8dff991a3751eb",
            "7b7704d120e24e23be6e588fb0855423",
            "e518eaa437a54aa3891ab9bbdc8b5c9b",
            "108e085066424cf98396985f3033d3d3",
            "c346cdc6c4444678bf4ade0efb5d4d40",
            "3bfa7f3da83c425abaf1521095605057",
            "4e0cb890f56b455ab7d74662c8d1c792",
            "b5eb70a7be9846169bca888cd24d784a",
            "20bfee8a67864118b52ab209ccf8115a",
            "d849f892ba7c4f07927cbf3ab095e708",
            "8b1a2641e60f41fa975d87426a63cbce",
            "92ebd1ce355b400788a085942ce313d6",
            "45f8aa4423c44f68ba8db276b008c1dd",
            "5b0a27959ed04ad9a9fcc42db669fe2e",
            "2482176a0b0b49318a5ef7d6d0334d0f",
            "6b8df0ace195416fb2fa7d7d3a53105e",
            "60d30c2bd5864e909a3f2f645c1e8020",
            "5ca8686f69e548e19ab31a1bbd292cd8"
          ]
        },
        "id": "idKyF3ZODeLx",
        "outputId": "9ff36f24-84fd-4d6f-c8b3-d275a837760e"
      },
      "outputs": [
        {
          "output_type": "display_data",
          "data": {
            "text/plain": [
              "  0%|          | 0/32 [00:00<?, ?it/s]"
            ],
            "application/vnd.jupyter.widget-view+json": {
              "version_major": 2,
              "version_minor": 0,
              "model_id": "ccf513efc743490ba217d7cb29bdffaf"
            }
          },
          "metadata": {}
        },
        {
          "output_type": "display_data",
          "data": {
            "text/plain": [
              "  0%|          | 0/32 [00:00<?, ?it/s]"
            ],
            "application/vnd.jupyter.widget-view+json": {
              "version_major": 2,
              "version_minor": 0,
              "model_id": "b5eb70a7be9846169bca888cd24d784a"
            }
          },
          "metadata": {}
        }
      ],
      "source": [
        "os.mkdir(TEMP_DIR)\n",
        "create_resized_dataset((64, 64), random_indexes, TRAIN_DIR, TEMP_TRAIN_DIR)\n",
        "create_resized_dataset((64, 64), range(0, 280), TEST_DIR, TEMP_TEST_DIR)"
      ]
    },
    {
      "cell_type": "code",
      "source": [
        "X_train_hog, X_test_hog, y_train, y_test = upload_colored_hog_features(3, (10,10), (2, 2))"
      ],
      "metadata": {
        "colab": {
          "base_uri": "https://localhost:8080/",
          "height": 180,
          "referenced_widgets": [
            "a71ee047c6cf4cadaa9727e4697060a2",
            "c0b5f6f8fc594ce7a7545c37eb76314b",
            "a81fde0bcdcb4c2c9911a4602fe9d4e8",
            "57950854150f464aadd60e553d0f92d3",
            "c89414e58c434620bb9f38fa169ca6c6",
            "979a606129594284933e9fdff8502f6e",
            "a1dbdd0a9f634351bca576ffb145a477",
            "7e90fab7d6a8456d828aa999a78eafae",
            "4ac7382c3c284cc69e6a1edd97e3121e",
            "7c670042bf0c402b807517c49a7f352c",
            "12c3951350d64303a1e40d483dd1447a",
            "e5df27e19e5646759412b683e0338c01",
            "75498741ba37444c9f265255eeeed3d7",
            "aab2f9315c2b45d59c29f51a9033d7d5",
            "c3f0542f10504687aa08109e44b0d259",
            "d4b3641e4dae431c95472463eabe5a2d",
            "ceeb700e8ce345feae4c0c5ed53cba2e",
            "7f0315b4bee648faa0a4cb08ab8dd583",
            "e24ba486c5ba4c4e8d1c2bf8fb959c30",
            "50f9591b71524ce0910b18afa664a0a0",
            "843d57b187ee4f2fb57d278c4513a8d0",
            "c9317db3c1024104b274f67c98df10b7",
            "cea97b984cab4b68a0e679c23d0e5e13",
            "3720cc25970640bd83ad2e1b9fe125be",
            "c1328ca3124e4bcb913e077809e17929",
            "eb70579b11894deaa310b5c8fb262a2a",
            "a69f471a30254f80a2e72f2bf0eeb2ae",
            "10d83f5d309e489290c82ed424908b78",
            "bf1db61dc43943d5b29939bbc414e061",
            "ad802be63a684ee5a290794c4351f892",
            "d50d4ad7fabd4f8ab99527ed3b290388",
            "b3abd6e4d7f24d28989549f2a6c97f5d",
            "943868b709e244e3bb1cae3efc5477ae",
            "4a039a3b36cf47f29fad37e32695c296",
            "de94ea6f90fb485cba40166b747bc126",
            "fb1763f91892434982e5a32a714626a9",
            "1b95548b734c493a812d64d7cb89962a",
            "039ebb214e06400fb7943e3c2e2bf35b",
            "7dc8fac3f1524a12800d976a690f1261",
            "7ff33c7c70d548589cec427d47f13e85",
            "9733f5d592dc44a193645c4ab737cc87",
            "a9d03a6c6c374d30962159dcea9ab1a0",
            "2f857d95fac54d43a1f97635ccee117e",
            "c1f7c2b9760446ee9aa00f02a40d3b6b"
          ]
        },
        "id": "y6g8M0Qgv5eO",
        "outputId": "a3dc5cb9-5e03-4a5f-d9bb-88979573084d"
      },
      "execution_count": null,
      "outputs": [
        {
          "output_type": "stream",
          "name": "stdout",
          "text": [
            "Загрузка изображений...\n"
          ]
        },
        {
          "output_type": "display_data",
          "data": {
            "text/plain": [
              "  0%|          | 0/32 [00:00<?, ?it/s]"
            ],
            "application/vnd.jupyter.widget-view+json": {
              "version_major": 2,
              "version_minor": 0,
              "model_id": "a71ee047c6cf4cadaa9727e4697060a2"
            }
          },
          "metadata": {}
        },
        {
          "output_type": "display_data",
          "data": {
            "text/plain": [
              "  0%|          | 0/32 [00:00<?, ?it/s]"
            ],
            "application/vnd.jupyter.widget-view+json": {
              "version_major": 2,
              "version_minor": 0,
              "model_id": "e5df27e19e5646759412b683e0338c01"
            }
          },
          "metadata": {}
        },
        {
          "output_type": "stream",
          "name": "stdout",
          "text": [
            "Выделение HOG значений...\n"
          ]
        },
        {
          "output_type": "display_data",
          "data": {
            "text/plain": [
              "  0%|          | 0/16000 [00:00<?, ?it/s]"
            ],
            "application/vnd.jupyter.widget-view+json": {
              "version_major": 2,
              "version_minor": 0,
              "model_id": "cea97b984cab4b68a0e679c23d0e5e13"
            }
          },
          "metadata": {}
        },
        {
          "output_type": "display_data",
          "data": {
            "text/plain": [
              "  0%|          | 0/8960 [00:00<?, ?it/s]"
            ],
            "application/vnd.jupyter.widget-view+json": {
              "version_major": 2,
              "version_minor": 0,
              "model_id": "4a039a3b36cf47f29fad37e32695c296"
            }
          },
          "metadata": {}
        }
      ]
    },
    {
      "cell_type": "markdown",
      "source": [
        "## Проверка бейзлайна"
      ],
      "metadata": {
        "id": "QJ1eSaEIv6A2"
      }
    },
    {
      "cell_type": "code",
      "source": [
        "pca_svc = make_pipeline(PCA(n_components=0.6), SVC())"
      ],
      "metadata": {
        "id": "rTnn5ps4xBX9"
      },
      "execution_count": null,
      "outputs": []
    },
    {
      "cell_type": "code",
      "source": [
        "pca_svc.fit(X_train_hog, y_train)\n",
        "pca_svc_pred = pca_svc.predict(X_test_hog)"
      ],
      "metadata": {
        "id": "Y4LtXcoXxOd1"
      },
      "execution_count": null,
      "outputs": []
    },
    {
      "cell_type": "code",
      "source": [
        "print(classification_report(y_test, pca_svc_pred))"
      ],
      "metadata": {
        "colab": {
          "base_uri": "https://localhost:8080/"
        },
        "id": "aRVFoBLYxSve",
        "outputId": "7581cafd-d5dd-499b-d62a-aa2c2d54d168"
      },
      "execution_count": null,
      "outputs": [
        {
          "output_type": "stream",
          "name": "stdout",
          "text": [
            "              precision    recall  f1-score   support\n",
            "\n",
            "       Apple       0.79      0.71      0.75       280\n",
            "     Avocado       0.93      0.74      0.82       280\n",
            "      Banana       0.98      0.81      0.89       280\n",
            "        Bean       0.49      0.45      0.47       280\n",
            "Bitter_Gourd       0.40      0.78      0.53       280\n",
            "Bottle_Gourd       0.70      0.79      0.74       280\n",
            "     Brinjal       0.36      0.38      0.37       280\n",
            "    Broccoli       0.37      0.53      0.44       280\n",
            "     Cabbage       0.43      0.30      0.36       280\n",
            "    Capsicum       0.48      0.55      0.51       280\n",
            "      Carrot       0.67      0.69      0.68       280\n",
            " Cauliflower       0.56      0.52      0.54       280\n",
            "      Cherry       0.94      0.91      0.92       280\n",
            "    Cucumber       0.89      0.57      0.69       280\n",
            "       Grape       0.90      0.96      0.93       280\n",
            "        Kiwi       0.70      0.68      0.69       280\n",
            "       Mango       0.89      0.79      0.84       280\n",
            "         Nut       0.93      0.95      0.94       280\n",
            "       Onion       0.87      0.99      0.93       280\n",
            "      Orange       0.84      0.65      0.73       280\n",
            "      Papaya       0.69      0.57      0.62       280\n",
            "       Peach       0.88      0.94      0.91       280\n",
            "        Pear       0.87      0.81      0.84       280\n",
            "      Pepper       0.87      0.91      0.89       280\n",
            "  Pinenapple       0.48      0.67      0.56       280\n",
            "        Plum       0.90      0.90      0.90       280\n",
            "      Potato       0.85      0.58      0.69       280\n",
            "     Pumpkin       0.41      0.32      0.36       280\n",
            "      Radish       0.78      0.85      0.81       280\n",
            "  Strawberry       0.48      0.63      0.54       280\n",
            "      Tomato       0.91      0.71      0.80       280\n",
            "  Watermelon       0.82      0.69      0.75       280\n",
            "\n",
            "    accuracy                           0.70      8960\n",
            "   macro avg       0.72      0.70      0.70      8960\n",
            "weighted avg       0.72      0.70      0.70      8960\n",
            "\n"
          ]
        }
      ]
    },
    {
      "cell_type": "markdown",
      "source": [
        "## Проверка лучшей модели с SVC"
      ],
      "metadata": {
        "id": "87zrdAgwx5CW"
      }
    },
    {
      "cell_type": "code",
      "source": [
        "pca_svc_best = make_pipeline(PCA(n_components=0.6), SVC(C=10, kernel='rbf'))"
      ],
      "metadata": {
        "id": "_Yx_A2vfxq59"
      },
      "execution_count": null,
      "outputs": []
    },
    {
      "cell_type": "code",
      "source": [
        "pca_svc_best.fit(X_train_hog, y_train)\n",
        "pca_svc_best_pred = pca_svc_best.predict(X_test_hog)"
      ],
      "metadata": {
        "id": "yzJsuo80yJMt"
      },
      "execution_count": null,
      "outputs": []
    },
    {
      "cell_type": "code",
      "source": [
        "print(classification_report(y_test, pca_svc_best_pred))"
      ],
      "metadata": {
        "colab": {
          "base_uri": "https://localhost:8080/"
        },
        "id": "F_YaixYnyMn1",
        "outputId": "afbe1ff0-dfd4-444c-b733-071befd1f4c0"
      },
      "execution_count": null,
      "outputs": [
        {
          "output_type": "stream",
          "name": "stdout",
          "text": [
            "              precision    recall  f1-score   support\n",
            "\n",
            "       Apple       0.86      0.85      0.86       280\n",
            "     Avocado       0.84      0.83      0.84       280\n",
            "      Banana       0.93      0.85      0.89       280\n",
            "        Bean       0.63      0.58      0.60       280\n",
            "Bitter_Gourd       0.46      0.78      0.58       280\n",
            "Bottle_Gourd       0.79      0.89      0.84       280\n",
            "     Brinjal       0.44      0.42      0.43       280\n",
            "    Broccoli       0.45      0.59      0.51       280\n",
            "     Cabbage       0.53      0.40      0.46       280\n",
            "    Capsicum       0.54      0.67      0.59       280\n",
            "      Carrot       0.80      0.84      0.82       280\n",
            " Cauliflower       0.66      0.59      0.62       280\n",
            "      Cherry       0.96      0.93      0.95       280\n",
            "    Cucumber       0.87      0.71      0.78       280\n",
            "       Grape       0.97      1.00      0.98       280\n",
            "        Kiwi       0.72      0.72      0.72       280\n",
            "       Mango       0.85      0.84      0.84       280\n",
            "         Nut       0.97      0.99      0.98       280\n",
            "       Onion       0.93      0.99      0.96       280\n",
            "      Orange       0.73      0.71      0.72       280\n",
            "      Papaya       0.78      0.72      0.75       280\n",
            "       Peach       0.96      0.99      0.97       280\n",
            "        Pear       0.93      0.88      0.90       280\n",
            "      Pepper       0.97      0.97      0.97       280\n",
            "  Pinenapple       0.60      0.52      0.56       280\n",
            "        Plum       0.96      0.97      0.96       280\n",
            "      Potato       0.81      0.70      0.75       280\n",
            "     Pumpkin       0.47      0.39      0.43       280\n",
            "      Radish       0.84      0.85      0.85       280\n",
            "  Strawberry       0.60      0.62      0.61       280\n",
            "      Tomato       0.93      0.82      0.87       280\n",
            "  Watermelon       0.78      0.69      0.73       280\n",
            "\n",
            "    accuracy                           0.76      8960\n",
            "   macro avg       0.77      0.76      0.76      8960\n",
            "weighted avg       0.77      0.76      0.76      8960\n",
            "\n"
          ]
        }
      ]
    },
    {
      "cell_type": "markdown",
      "source": [
        "## Проверка RandomForest"
      ],
      "metadata": {
        "id": "KHxxir6Gyb3l"
      }
    },
    {
      "cell_type": "code",
      "source": [
        "pca_rf = make_pipeline(PCA(n_components=0.6), RandomForestClassifier(random_state=42))\n",
        "\n",
        "pca_rf.fit(X_train_hog, y_train)\n",
        "pca_rf_pred = pca_rf.predict(X_test_hog)\n",
        "print(classification_report(y_test, pca_rf_pred))"
      ],
      "metadata": {
        "colab": {
          "base_uri": "https://localhost:8080/"
        },
        "id": "wbGkFtpe3v25",
        "outputId": "11e1c7f3-e9d4-4da5-c744-51be9000db5a"
      },
      "execution_count": null,
      "outputs": [
        {
          "output_type": "stream",
          "name": "stdout",
          "text": [
            "              precision    recall  f1-score   support\n",
            "\n",
            "       Apple       0.90      0.79      0.84       280\n",
            "     Avocado       0.88      0.80      0.84       280\n",
            "      Banana       0.91      0.83      0.87       280\n",
            "        Bean       0.59      0.56      0.58       280\n",
            "Bitter_Gourd       0.60      0.75      0.67       280\n",
            "Bottle_Gourd       0.73      0.90      0.81       280\n",
            "     Brinjal       0.49      0.49      0.49       280\n",
            "    Broccoli       0.57      0.66      0.61       280\n",
            "     Cabbage       0.59      0.54      0.56       280\n",
            "    Capsicum       0.60      0.72      0.65       280\n",
            "      Carrot       0.74      0.80      0.77       280\n",
            " Cauliflower       0.67      0.61      0.64       280\n",
            "      Cherry       0.95      0.94      0.95       280\n",
            "    Cucumber       0.87      0.72      0.79       280\n",
            "       Grape       0.97      0.98      0.97       280\n",
            "        Kiwi       0.71      0.74      0.72       280\n",
            "       Mango       0.92      0.83      0.87       280\n",
            "         Nut       0.97      0.97      0.97       280\n",
            "       Onion       0.92      1.00      0.96       280\n",
            "      Orange       0.80      0.66      0.73       280\n",
            "      Papaya       0.82      0.71      0.76       280\n",
            "       Peach       0.93      0.97      0.95       280\n",
            "        Pear       0.90      0.84      0.87       280\n",
            "      Pepper       0.89      0.98      0.93       280\n",
            "  Pinenapple       0.46      0.53      0.49       280\n",
            "        Plum       0.91      0.97      0.94       280\n",
            "      Potato       0.86      0.64      0.74       280\n",
            "     Pumpkin       0.53      0.56      0.54       280\n",
            "      Radish       0.83      0.84      0.84       280\n",
            "  Strawberry       0.50      0.61      0.55       280\n",
            "      Tomato       0.94      0.73      0.82       280\n",
            "  Watermelon       0.76      0.70      0.73       280\n",
            "\n",
            "    accuracy                           0.76      8960\n",
            "   macro avg       0.77      0.76      0.76      8960\n",
            "weighted avg       0.77      0.76      0.76      8960\n",
            "\n"
          ]
        }
      ]
    },
    {
      "cell_type": "code",
      "execution_count": null,
      "metadata": {
        "id": "ARIb1uh5UPez"
      },
      "outputs": [],
      "source": [
        "# Далее буду обучать с 2 фолдами, т.к. обучение занимает очень много времени\n",
        "kfold = KFold(2, shuffle=True)"
      ]
    },
    {
      "cell_type": "code",
      "source": [
        "pca_rf = Pipeline([\n",
        "    ('pca', PCA()),\n",
        "    ('rf', RandomForestClassifier(random_state=42))\n",
        "])\n",
        "\n",
        "params={\n",
        "    'pca__n_components': [0.6, 0.7],\n",
        "    'rf__n_estimators': [100, 200, 500],\n",
        "    'rf__max_features': ['sqrt', 'log2', None],\n",
        "    'rf__max_depth' : [None, 4, 6, 8],\n",
        "    'rf__criterion' :['gini', 'entropy', 'log_loss']\n",
        "\n",
        "}\n",
        "\n",
        "rs_pca_rf = RandomizedSearchCV(pca_rf, params, cv=kfold)"
      ],
      "metadata": {
        "id": "NnyyZx-QyfmV"
      },
      "execution_count": null,
      "outputs": []
    },
    {
      "cell_type": "code",
      "source": [
        "rs_pca_rf.fit(X_train_hog, y_train)\n",
        "rs_pca_rf.best_params_"
      ],
      "metadata": {
        "id": "G2lQCmOh3h9T",
        "colab": {
          "base_uri": "https://localhost:8080/"
        },
        "outputId": "e40f5c26-0f97-4fe2-9717-35ad2ee233d1"
      },
      "execution_count": null,
      "outputs": [
        {
          "output_type": "execute_result",
          "data": {
            "text/plain": [
              "{'rf__n_estimators': 500,\n",
              " 'rf__max_features': 'sqrt',\n",
              " 'rf__max_depth': None,\n",
              " 'rf__criterion': 'entropy',\n",
              " 'pca__n_components': 0.6}"
            ]
          },
          "metadata": {},
          "execution_count": 34
        }
      ]
    },
    {
      "cell_type": "code",
      "source": [
        "pca_rf = make_pipeline(PCA(n_components=0.6), RandomForestClassifier(random_state=42, criterion='entropy', max_depth=None, max_features='sqrt', n_estimators=500))\n",
        "\n",
        "pca_rf.fit(X_train_hog, y_train)\n",
        "pca_rf_pred = pca_rf.predict(X_test_hog)\n",
        "print(classification_report(y_test, pca_rf_pred))"
      ],
      "metadata": {
        "id": "-GtOBJcl3c20",
        "colab": {
          "base_uri": "https://localhost:8080/"
        },
        "outputId": "a58badbd-bbb7-480c-ae81-c759a0419e30"
      },
      "execution_count": null,
      "outputs": [
        {
          "output_type": "stream",
          "name": "stdout",
          "text": [
            "              precision    recall  f1-score   support\n",
            "\n",
            "       Apple       0.92      0.84      0.88       280\n",
            "     Avocado       0.87      0.80      0.84       280\n",
            "      Banana       0.90      0.83      0.86       280\n",
            "        Bean       0.64      0.60      0.62       280\n",
            "Bitter_Gourd       0.59      0.77      0.67       280\n",
            "Bottle_Gourd       0.73      0.91      0.81       280\n",
            "     Brinjal       0.52      0.51      0.51       280\n",
            "    Broccoli       0.57      0.66      0.61       280\n",
            "     Cabbage       0.62      0.54      0.58       280\n",
            "    Capsicum       0.59      0.74      0.66       280\n",
            "      Carrot       0.78      0.79      0.79       280\n",
            " Cauliflower       0.68      0.62      0.65       280\n",
            "      Cherry       0.95      0.93      0.94       280\n",
            "    Cucumber       0.93      0.74      0.83       280\n",
            "       Grape       0.97      0.97      0.97       280\n",
            "        Kiwi       0.72      0.73      0.73       280\n",
            "       Mango       0.92      0.82      0.87       280\n",
            "         Nut       0.95      0.97      0.96       280\n",
            "       Onion       0.91      1.00      0.95       280\n",
            "      Orange       0.84      0.67      0.74       280\n",
            "      Papaya       0.82      0.73      0.77       280\n",
            "       Peach       0.96      0.97      0.96       280\n",
            "        Pear       0.94      0.84      0.89       280\n",
            "      Pepper       0.90      0.98      0.94       280\n",
            "  Pinenapple       0.48      0.56      0.52       280\n",
            "        Plum       0.94      0.96      0.95       280\n",
            "      Potato       0.85      0.66      0.74       280\n",
            "     Pumpkin       0.56      0.57      0.57       280\n",
            "      Radish       0.83      0.87      0.85       280\n",
            "  Strawberry       0.49      0.64      0.56       280\n",
            "      Tomato       0.95      0.75      0.83       280\n",
            "  Watermelon       0.78      0.71      0.74       280\n",
            "\n",
            "    accuracy                           0.77      8960\n",
            "   macro avg       0.78      0.77      0.77      8960\n",
            "weighted avg       0.78      0.77      0.77      8960\n",
            "\n"
          ]
        }
      ]
    },
    {
      "cell_type": "markdown",
      "source": [
        "## Проверка LightGBM"
      ],
      "metadata": {
        "id": "NcdAdpYF2Jc1"
      }
    },
    {
      "cell_type": "markdown",
      "source": [
        "Сперва с дефолтными гиперпараметрами"
      ],
      "metadata": {
        "id": "TgYH94uM6S7l"
      }
    },
    {
      "cell_type": "code",
      "source": [
        "pca_lgbm = make_pipeline(PCA(n_components=0.6), LGBMClassifier())\n",
        "pca_lgbm.fit(X_train_hog, y_train)\n",
        "pca_lgbm_pred = pca_lgbm.predict(X_test_hog)"
      ],
      "metadata": {
        "id": "8t5MkV5V2q2o"
      },
      "execution_count": null,
      "outputs": []
    },
    {
      "cell_type": "code",
      "source": [
        "print(classification_report(y_test, pca_lgbm_pred))"
      ],
      "metadata": {
        "colab": {
          "base_uri": "https://localhost:8080/"
        },
        "id": "flRnQwmP3IwV",
        "outputId": "25694c64-6faa-46f2-efd6-bd057baa2ea8"
      },
      "execution_count": null,
      "outputs": [
        {
          "output_type": "stream",
          "name": "stdout",
          "text": [
            "              precision    recall  f1-score   support\n",
            "\n",
            "       Apple       0.81      0.81      0.81       280\n",
            "     Avocado       0.81      0.78      0.80       280\n",
            "      Banana       0.91      0.81      0.86       280\n",
            "        Bean       0.52      0.60      0.56       280\n",
            "Bitter_Gourd       0.64      0.67      0.66       280\n",
            "Bottle_Gourd       0.82      0.85      0.84       280\n",
            "     Brinjal       0.42      0.51      0.46       280\n",
            "    Broccoli       0.53      0.60      0.56       280\n",
            "     Cabbage       0.45      0.49      0.47       280\n",
            "    Capsicum       0.56      0.66      0.61       280\n",
            "      Carrot       0.75      0.76      0.75       280\n",
            " Cauliflower       0.68      0.62      0.65       280\n",
            "      Cherry       0.93      0.91      0.92       280\n",
            "    Cucumber       0.81      0.73      0.77       280\n",
            "       Grape       0.97      0.96      0.97       280\n",
            "        Kiwi       0.63      0.71      0.67       280\n",
            "       Mango       0.86      0.83      0.85       280\n",
            "         Nut       0.96      0.95      0.96       280\n",
            "       Onion       0.94      0.97      0.96       280\n",
            "      Orange       0.72      0.69      0.71       280\n",
            "      Papaya       0.75      0.66      0.70       280\n",
            "       Peach       0.96      0.96      0.96       280\n",
            "        Pear       0.90      0.85      0.88       280\n",
            "      Pepper       0.92      0.93      0.92       280\n",
            "  Pinenapple       0.53      0.44      0.48       280\n",
            "        Plum       0.96      0.96      0.96       280\n",
            "      Potato       0.75      0.69      0.72       280\n",
            "     Pumpkin       0.51      0.51      0.51       280\n",
            "      Radish       0.84      0.83      0.83       280\n",
            "  Strawberry       0.55      0.54      0.54       280\n",
            "      Tomato       0.89      0.74      0.81       280\n",
            "  Watermelon       0.68      0.71      0.70       280\n",
            "\n",
            "    accuracy                           0.74      8960\n",
            "   macro avg       0.75      0.74      0.74      8960\n",
            "weighted avg       0.75      0.74      0.74      8960\n",
            "\n"
          ]
        }
      ]
    },
    {
      "cell_type": "markdown",
      "source": [
        "С подбором гиперпараметров..."
      ],
      "metadata": {
        "id": "NXLhJXN1FydX"
      }
    },
    {
      "cell_type": "code",
      "source": [
        "pca_lgbm = Pipeline([\n",
        "    ('pca', PCA()),\n",
        "    ('lgbm', LGBMClassifier())\n",
        "])\n",
        "\n",
        "params={\n",
        "    'pca__n_components': [i/10 for i in range(4, 8)],\n",
        "    'lgbm__min_child_samples': range(5, 101),\n",
        "    'lgbm__num_leaves': range(2, 257),\n",
        "    'lgbm__reg_alpha': st.loguniform(1e-8, 10.0),\n",
        "    'lgbm__reg_lambda': st.loguniform(1e-8, 10.0)\n",
        "}\n",
        "\n",
        "rs_pca_lgbm = RandomizedSearchCV(pca_lgbm, params, cv=kfold)"
      ],
      "metadata": {
        "id": "KehsVSet8UM_"
      },
      "execution_count": null,
      "outputs": []
    },
    {
      "cell_type": "code",
      "source": [
        "rs_pca_lgbm.fit(X_train_hog, y_train)"
      ],
      "metadata": {
        "id": "OkAOkAmU8p8u"
      },
      "execution_count": null,
      "outputs": []
    },
    {
      "cell_type": "code",
      "source": [
        "rs_pca_lgbm.best_params_"
      ],
      "metadata": {
        "colab": {
          "base_uri": "https://localhost:8080/"
        },
        "id": "wZQGjaPN_q7N",
        "outputId": "8363729f-ca06-4d79-e135-2f86c3143027"
      },
      "execution_count": null,
      "outputs": [
        {
          "output_type": "execute_result",
          "data": {
            "text/plain": [
              "{'lgbm__min_child_samples': 12,\n",
              " 'lgbm__num_leaves': 60,\n",
              " 'lgbm__reg_alpha': 2.8841108732861e-05,\n",
              " 'lgbm__reg_lambda': 2.4410628100010748e-08,\n",
              " 'pca__n_components': 0.7}"
            ]
          },
          "metadata": {},
          "execution_count": 28
        }
      ]
    },
    {
      "cell_type": "code",
      "source": [
        "pca_lgbm_best = make_pipeline(PCA(n_components=0.7), LGBMClassifier(min_child_samples=12, num_leaves=60, reg_alpha=2.8841108732861e-05, reg_lambda=2.4410628100010748e-08))\n",
        "pca_lgbm_best.fit(X_train_hog, y_train)\n",
        "pca_lgbm_best_pred = pca_lgbm_best.predict(X_test_hog)"
      ],
      "metadata": {
        "id": "7u_wdpx-8uD-"
      },
      "execution_count": null,
      "outputs": []
    },
    {
      "cell_type": "code",
      "source": [
        "print(classification_report(y_test, pca_lgbm_best_pred))"
      ],
      "metadata": {
        "colab": {
          "base_uri": "https://localhost:8080/"
        },
        "id": "LIwyB2orC7SI",
        "outputId": "7530e733-bfa4-4657-d820-189de49b6d14"
      },
      "execution_count": null,
      "outputs": [
        {
          "output_type": "stream",
          "name": "stdout",
          "text": [
            "              precision    recall  f1-score   support\n",
            "\n",
            "       Apple       0.88      0.82      0.85       280\n",
            "     Avocado       0.83      0.80      0.81       280\n",
            "      Banana       0.90      0.83      0.86       280\n",
            "        Bean       0.55      0.63      0.59       280\n",
            "Bitter_Gourd       0.66      0.78      0.72       280\n",
            "Bottle_Gourd       0.84      0.89      0.86       280\n",
            "     Brinjal       0.47      0.62      0.53       280\n",
            "    Broccoli       0.61      0.71      0.66       280\n",
            "     Cabbage       0.52      0.54      0.53       280\n",
            "    Capsicum       0.64      0.77      0.70       280\n",
            "      Carrot       0.83      0.82      0.83       280\n",
            " Cauliflower       0.74      0.64      0.69       280\n",
            "      Cherry       0.97      0.94      0.95       280\n",
            "    Cucumber       0.89      0.74      0.80       280\n",
            "       Grape       0.98      0.97      0.98       280\n",
            "        Kiwi       0.68      0.73      0.70       280\n",
            "       Mango       0.87      0.83      0.85       280\n",
            "         Nut       0.97      0.97      0.97       280\n",
            "       Onion       0.93      0.95      0.94       280\n",
            "      Orange       0.75      0.68      0.71       280\n",
            "      Papaya       0.80      0.76      0.78       280\n",
            "       Peach       0.96      0.99      0.97       280\n",
            "        Pear       0.92      0.90      0.91       280\n",
            "      Pepper       0.96      0.97      0.97       280\n",
            "  Pinenapple       0.57      0.46      0.51       280\n",
            "        Plum       0.97      0.97      0.97       280\n",
            "      Potato       0.81      0.71      0.76       280\n",
            "     Pumpkin       0.57      0.58      0.58       280\n",
            "      Radish       0.87      0.85      0.86       280\n",
            "  Strawberry       0.56      0.59      0.57       280\n",
            "      Tomato       0.94      0.76      0.84       280\n",
            "  Watermelon       0.72      0.72      0.72       280\n",
            "\n",
            "    accuracy                           0.78      8960\n",
            "   macro avg       0.79      0.78      0.78      8960\n",
            "weighted avg       0.79      0.78      0.78      8960\n",
            "\n"
          ]
        }
      ]
    },
    {
      "cell_type": "markdown",
      "source": [
        "## Проверка CatBoost"
      ],
      "metadata": {
        "id": "yuu9JnQ2DQ3z"
      }
    },
    {
      "cell_type": "markdown",
      "source": [
        "Сперва с дефолтными гиперпараметрами"
      ],
      "metadata": {
        "id": "nskw-cqeESU9"
      }
    },
    {
      "cell_type": "code",
      "source": [
        "pca_cat = make_pipeline(PCA(n_components=0.6), CatBoostClassifier(logging_level='Silent'))\n",
        "pca_cat.fit(X_train_hog, y_train)\n",
        "pca_cat_pred = pca_cat.predict(X_test_hog)"
      ],
      "metadata": {
        "id": "mNqKnGGmDUOV"
      },
      "execution_count": null,
      "outputs": []
    },
    {
      "cell_type": "code",
      "source": [
        "print(classification_report(y_test, pca_cat_pred))"
      ],
      "metadata": {
        "colab": {
          "base_uri": "https://localhost:8080/"
        },
        "id": "M2GeUaebEaTH",
        "outputId": "096b547e-1e87-4488-fdcc-63ded5777227"
      },
      "execution_count": null,
      "outputs": [
        {
          "output_type": "stream",
          "name": "stdout",
          "text": [
            "              precision    recall  f1-score   support\n",
            "\n",
            "       Apple       0.90      0.77      0.83       280\n",
            "     Avocado       0.80      0.80      0.80       280\n",
            "      Banana       0.90      0.83      0.86       280\n",
            "        Bean       0.61      0.55      0.58       280\n",
            "Bitter_Gourd       0.60      0.76      0.67       280\n",
            "Bottle_Gourd       0.79      0.88      0.84       280\n",
            "     Brinjal       0.50      0.50      0.50       280\n",
            "    Broccoli       0.56      0.61      0.58       280\n",
            "     Cabbage       0.54      0.49      0.51       280\n",
            "    Capsicum       0.55      0.66      0.60       280\n",
            "      Carrot       0.73      0.78      0.75       280\n",
            " Cauliflower       0.66      0.64      0.65       280\n",
            "      Cherry       0.91      0.92      0.91       280\n",
            "    Cucumber       0.78      0.74      0.76       280\n",
            "       Grape       0.94      0.97      0.96       280\n",
            "        Kiwi       0.71      0.73      0.72       280\n",
            "       Mango       0.86      0.83      0.85       280\n",
            "         Nut       0.95      0.97      0.96       280\n",
            "       Onion       0.94      0.98      0.96       280\n",
            "      Orange       0.77      0.69      0.72       280\n",
            "      Papaya       0.78      0.71      0.74       280\n",
            "       Peach       0.94      0.97      0.96       280\n",
            "        Pear       0.90      0.87      0.88       280\n",
            "      Pepper       0.89      0.91      0.90       280\n",
            "  Pinenapple       0.56      0.50      0.53       280\n",
            "        Plum       0.92      0.96      0.94       280\n",
            "      Potato       0.75      0.66      0.70       280\n",
            "     Pumpkin       0.57      0.54      0.55       280\n",
            "      Radish       0.79      0.85      0.82       280\n",
            "  Strawberry       0.57      0.60      0.58       280\n",
            "      Tomato       0.88      0.77      0.82       280\n",
            "  Watermelon       0.71      0.73      0.72       280\n",
            "\n",
            "    accuracy                           0.76      8960\n",
            "   macro avg       0.76      0.76      0.76      8960\n",
            "weighted avg       0.76      0.76      0.76      8960\n",
            "\n"
          ]
        }
      ]
    },
    {
      "cell_type": "markdown",
      "source": [
        "С подбором гиперпараметров..."
      ],
      "metadata": {
        "id": "Poi0u0fKF3TS"
      }
    },
    {
      "cell_type": "code",
      "source": [
        "pca_cat = Pipeline([\n",
        "    ('pca', PCA()),\n",
        "    ('cat', CatBoostClassifier(logging_level='Silent', random_state=42, gpu_ram_part=0.9, task_type=\"GPU\"))\n",
        "])\n",
        "\n",
        "params={\n",
        "    'pca__n_components': [i/10 for i in range(4, 8)],\n",
        "    'cat__min_child_samples': range(5, 101),\n",
        "    'cat__learning_rate': [0.001, 0.01, 0.03, 0.1],\n",
        "    'cat__depth': [4, 6, 10],\n",
        "    'cat__reg_lambda': st.loguniform(1e-8, 10.0)\n",
        "}\n",
        "\n",
        "rs_pca_cat = RandomizedSearchCV(pca_cat, params, cv=kfold)"
      ],
      "metadata": {
        "id": "EAdFtWSrGO08"
      },
      "execution_count": null,
      "outputs": []
    },
    {
      "cell_type": "code",
      "source": [
        "rs_pca_cat.fit(X_train_hog, y_train)\n",
        "rs_pca_cat.best_params_"
      ],
      "metadata": {
        "colab": {
          "base_uri": "https://localhost:8080/"
        },
        "id": "eD2Ybb-fHVdT",
        "outputId": "27297375-bbea-4055-8e01-7d43d48211ed"
      },
      "execution_count": null,
      "outputs": [
        {
          "output_type": "execute_result",
          "data": {
            "text/plain": [
              "{'cat__depth': 10,\n",
              " 'cat__learning_rate': 0.1,\n",
              " 'cat__min_child_samples': 44,\n",
              " 'cat__reg_lambda': 0.051712194163615596,\n",
              " 'pca__n_components': 0.7}"
            ]
          },
          "metadata": {},
          "execution_count": 23
        }
      ]
    },
    {
      "cell_type": "code",
      "source": [
        "pca_cat_best = make_pipeline(\n",
        "    PCA(n_components=0.7),\n",
        "    CatBoostClassifier(\n",
        "        logging_level='Silent',\n",
        "        depth=10,\n",
        "        learning_rate=0.1,\n",
        "        min_child_samples=44,\n",
        "        reg_lambda=0.051712194163615596,\n",
        "        random_state=42,\n",
        "        gpu_ram_part=0.9,\n",
        "        task_type=\"GPU\"\n",
        "        )\n",
        "    )\n",
        "pca_cat_best.fit(X_train_hog, y_train)\n",
        "pca_cat_best_pred = pca_cat_best.predict(X_test_hog)"
      ],
      "metadata": {
        "id": "JAuJaBqxF5ii"
      },
      "execution_count": null,
      "outputs": []
    },
    {
      "cell_type": "code",
      "source": [
        "print(classification_report(y_test, pca_cat_best_pred))"
      ],
      "metadata": {
        "colab": {
          "base_uri": "https://localhost:8080/"
        },
        "id": "S4J2ky0RTa98",
        "outputId": "9d9b749c-9d61-460c-8643-107ca35cc56e"
      },
      "execution_count": null,
      "outputs": [
        {
          "output_type": "stream",
          "name": "stdout",
          "text": [
            "              precision    recall  f1-score   support\n",
            "\n",
            "       Apple       0.91      0.82      0.86       280\n",
            "     Avocado       0.89      0.82      0.86       280\n",
            "      Banana       0.88      0.83      0.85       280\n",
            "        Bean       0.65      0.62      0.63       280\n",
            "Bitter_Gourd       0.63      0.82      0.71       280\n",
            "Bottle_Gourd       0.79      0.91      0.85       280\n",
            "     Brinjal       0.55      0.62      0.58       280\n",
            "    Broccoli       0.69      0.72      0.70       280\n",
            "     Cabbage       0.60      0.61      0.61       280\n",
            "    Capsicum       0.67      0.74      0.70       280\n",
            "      Carrot       0.84      0.84      0.84       280\n",
            " Cauliflower       0.74      0.64      0.69       280\n",
            "      Cherry       0.91      0.94      0.92       280\n",
            "    Cucumber       0.87      0.79      0.82       280\n",
            "       Grape       0.96      0.96      0.96       280\n",
            "        Kiwi       0.73      0.71      0.72       280\n",
            "       Mango       0.85      0.84      0.84       280\n",
            "         Nut       0.98      0.98      0.98       280\n",
            "       Onion       0.94      1.00      0.97       280\n",
            "      Orange       0.80      0.69      0.74       280\n",
            "      Papaya       0.86      0.80      0.83       280\n",
            "       Peach       0.98      0.98      0.98       280\n",
            "        Pear       0.90      0.90      0.90       280\n",
            "      Pepper       0.94      0.97      0.96       280\n",
            "  Pinenapple       0.50      0.49      0.49       280\n",
            "        Plum       0.96      1.00      0.98       280\n",
            "      Potato       0.83      0.69      0.75       280\n",
            "     Pumpkin       0.60      0.62      0.61       280\n",
            "      Radish       0.83      0.83      0.83       280\n",
            "  Strawberry       0.51      0.60      0.55       280\n",
            "      Tomato       0.94      0.80      0.86       280\n",
            "  Watermelon       0.74      0.71      0.73       280\n",
            "\n",
            "    accuracy                           0.79      8960\n",
            "   macro avg       0.80      0.79      0.79      8960\n",
            "weighted avg       0.80      0.79      0.79      8960\n",
            "\n"
          ]
        }
      ]
    }
  ],
  "metadata": {
    "colab": {
      "provenance": [],
      "gpuType": "T4"
    },
    "kernelspec": {
      "display_name": "Python 3",
      "name": "python3"
    },
    "language_info": {
      "name": "python"
    },
    "widgets": {
      "application/vnd.jupyter.widget-state+json": {
        "ccf513efc743490ba217d7cb29bdffaf": {
          "model_module": "@jupyter-widgets/controls",
          "model_name": "HBoxModel",
          "model_module_version": "1.5.0",
          "state": {
            "_dom_classes": [],
            "_model_module": "@jupyter-widgets/controls",
            "_model_module_version": "1.5.0",
            "_model_name": "HBoxModel",
            "_view_count": null,
            "_view_module": "@jupyter-widgets/controls",
            "_view_module_version": "1.5.0",
            "_view_name": "HBoxView",
            "box_style": "",
            "children": [
              "IPY_MODEL_86a14d0f8b01437d8fc79743ea7aa7d5",
              "IPY_MODEL_a2f39b0d0b6542bc905827c3af34e75c",
              "IPY_MODEL_0e4a93e6f98849738095e2db7c7dfb55"
            ],
            "layout": "IPY_MODEL_fa9f526950504a039e8dff991a3751eb"
          }
        },
        "86a14d0f8b01437d8fc79743ea7aa7d5": {
          "model_module": "@jupyter-widgets/controls",
          "model_name": "HTMLModel",
          "model_module_version": "1.5.0",
          "state": {
            "_dom_classes": [],
            "_model_module": "@jupyter-widgets/controls",
            "_model_module_version": "1.5.0",
            "_model_name": "HTMLModel",
            "_view_count": null,
            "_view_module": "@jupyter-widgets/controls",
            "_view_module_version": "1.5.0",
            "_view_name": "HTMLView",
            "description": "",
            "description_tooltip": null,
            "layout": "IPY_MODEL_7b7704d120e24e23be6e588fb0855423",
            "placeholder": "​",
            "style": "IPY_MODEL_e518eaa437a54aa3891ab9bbdc8b5c9b",
            "value": "100%"
          }
        },
        "a2f39b0d0b6542bc905827c3af34e75c": {
          "model_module": "@jupyter-widgets/controls",
          "model_name": "FloatProgressModel",
          "model_module_version": "1.5.0",
          "state": {
            "_dom_classes": [],
            "_model_module": "@jupyter-widgets/controls",
            "_model_module_version": "1.5.0",
            "_model_name": "FloatProgressModel",
            "_view_count": null,
            "_view_module": "@jupyter-widgets/controls",
            "_view_module_version": "1.5.0",
            "_view_name": "ProgressView",
            "bar_style": "success",
            "description": "",
            "description_tooltip": null,
            "layout": "IPY_MODEL_108e085066424cf98396985f3033d3d3",
            "max": 32,
            "min": 0,
            "orientation": "horizontal",
            "style": "IPY_MODEL_c346cdc6c4444678bf4ade0efb5d4d40",
            "value": 32
          }
        },
        "0e4a93e6f98849738095e2db7c7dfb55": {
          "model_module": "@jupyter-widgets/controls",
          "model_name": "HTMLModel",
          "model_module_version": "1.5.0",
          "state": {
            "_dom_classes": [],
            "_model_module": "@jupyter-widgets/controls",
            "_model_module_version": "1.5.0",
            "_model_name": "HTMLModel",
            "_view_count": null,
            "_view_module": "@jupyter-widgets/controls",
            "_view_module_version": "1.5.0",
            "_view_name": "HTMLView",
            "description": "",
            "description_tooltip": null,
            "layout": "IPY_MODEL_3bfa7f3da83c425abaf1521095605057",
            "placeholder": "​",
            "style": "IPY_MODEL_4e0cb890f56b455ab7d74662c8d1c792",
            "value": " 32/32 [00:18&lt;00:00,  1.66it/s]"
          }
        },
        "fa9f526950504a039e8dff991a3751eb": {
          "model_module": "@jupyter-widgets/base",
          "model_name": "LayoutModel",
          "model_module_version": "1.2.0",
          "state": {
            "_model_module": "@jupyter-widgets/base",
            "_model_module_version": "1.2.0",
            "_model_name": "LayoutModel",
            "_view_count": null,
            "_view_module": "@jupyter-widgets/base",
            "_view_module_version": "1.2.0",
            "_view_name": "LayoutView",
            "align_content": null,
            "align_items": null,
            "align_self": null,
            "border": null,
            "bottom": null,
            "display": null,
            "flex": null,
            "flex_flow": null,
            "grid_area": null,
            "grid_auto_columns": null,
            "grid_auto_flow": null,
            "grid_auto_rows": null,
            "grid_column": null,
            "grid_gap": null,
            "grid_row": null,
            "grid_template_areas": null,
            "grid_template_columns": null,
            "grid_template_rows": null,
            "height": null,
            "justify_content": null,
            "justify_items": null,
            "left": null,
            "margin": null,
            "max_height": null,
            "max_width": null,
            "min_height": null,
            "min_width": null,
            "object_fit": null,
            "object_position": null,
            "order": null,
            "overflow": null,
            "overflow_x": null,
            "overflow_y": null,
            "padding": null,
            "right": null,
            "top": null,
            "visibility": null,
            "width": null
          }
        },
        "7b7704d120e24e23be6e588fb0855423": {
          "model_module": "@jupyter-widgets/base",
          "model_name": "LayoutModel",
          "model_module_version": "1.2.0",
          "state": {
            "_model_module": "@jupyter-widgets/base",
            "_model_module_version": "1.2.0",
            "_model_name": "LayoutModel",
            "_view_count": null,
            "_view_module": "@jupyter-widgets/base",
            "_view_module_version": "1.2.0",
            "_view_name": "LayoutView",
            "align_content": null,
            "align_items": null,
            "align_self": null,
            "border": null,
            "bottom": null,
            "display": null,
            "flex": null,
            "flex_flow": null,
            "grid_area": null,
            "grid_auto_columns": null,
            "grid_auto_flow": null,
            "grid_auto_rows": null,
            "grid_column": null,
            "grid_gap": null,
            "grid_row": null,
            "grid_template_areas": null,
            "grid_template_columns": null,
            "grid_template_rows": null,
            "height": null,
            "justify_content": null,
            "justify_items": null,
            "left": null,
            "margin": null,
            "max_height": null,
            "max_width": null,
            "min_height": null,
            "min_width": null,
            "object_fit": null,
            "object_position": null,
            "order": null,
            "overflow": null,
            "overflow_x": null,
            "overflow_y": null,
            "padding": null,
            "right": null,
            "top": null,
            "visibility": null,
            "width": null
          }
        },
        "e518eaa437a54aa3891ab9bbdc8b5c9b": {
          "model_module": "@jupyter-widgets/controls",
          "model_name": "DescriptionStyleModel",
          "model_module_version": "1.5.0",
          "state": {
            "_model_module": "@jupyter-widgets/controls",
            "_model_module_version": "1.5.0",
            "_model_name": "DescriptionStyleModel",
            "_view_count": null,
            "_view_module": "@jupyter-widgets/base",
            "_view_module_version": "1.2.0",
            "_view_name": "StyleView",
            "description_width": ""
          }
        },
        "108e085066424cf98396985f3033d3d3": {
          "model_module": "@jupyter-widgets/base",
          "model_name": "LayoutModel",
          "model_module_version": "1.2.0",
          "state": {
            "_model_module": "@jupyter-widgets/base",
            "_model_module_version": "1.2.0",
            "_model_name": "LayoutModel",
            "_view_count": null,
            "_view_module": "@jupyter-widgets/base",
            "_view_module_version": "1.2.0",
            "_view_name": "LayoutView",
            "align_content": null,
            "align_items": null,
            "align_self": null,
            "border": null,
            "bottom": null,
            "display": null,
            "flex": null,
            "flex_flow": null,
            "grid_area": null,
            "grid_auto_columns": null,
            "grid_auto_flow": null,
            "grid_auto_rows": null,
            "grid_column": null,
            "grid_gap": null,
            "grid_row": null,
            "grid_template_areas": null,
            "grid_template_columns": null,
            "grid_template_rows": null,
            "height": null,
            "justify_content": null,
            "justify_items": null,
            "left": null,
            "margin": null,
            "max_height": null,
            "max_width": null,
            "min_height": null,
            "min_width": null,
            "object_fit": null,
            "object_position": null,
            "order": null,
            "overflow": null,
            "overflow_x": null,
            "overflow_y": null,
            "padding": null,
            "right": null,
            "top": null,
            "visibility": null,
            "width": null
          }
        },
        "c346cdc6c4444678bf4ade0efb5d4d40": {
          "model_module": "@jupyter-widgets/controls",
          "model_name": "ProgressStyleModel",
          "model_module_version": "1.5.0",
          "state": {
            "_model_module": "@jupyter-widgets/controls",
            "_model_module_version": "1.5.0",
            "_model_name": "ProgressStyleModel",
            "_view_count": null,
            "_view_module": "@jupyter-widgets/base",
            "_view_module_version": "1.2.0",
            "_view_name": "StyleView",
            "bar_color": null,
            "description_width": ""
          }
        },
        "3bfa7f3da83c425abaf1521095605057": {
          "model_module": "@jupyter-widgets/base",
          "model_name": "LayoutModel",
          "model_module_version": "1.2.0",
          "state": {
            "_model_module": "@jupyter-widgets/base",
            "_model_module_version": "1.2.0",
            "_model_name": "LayoutModel",
            "_view_count": null,
            "_view_module": "@jupyter-widgets/base",
            "_view_module_version": "1.2.0",
            "_view_name": "LayoutView",
            "align_content": null,
            "align_items": null,
            "align_self": null,
            "border": null,
            "bottom": null,
            "display": null,
            "flex": null,
            "flex_flow": null,
            "grid_area": null,
            "grid_auto_columns": null,
            "grid_auto_flow": null,
            "grid_auto_rows": null,
            "grid_column": null,
            "grid_gap": null,
            "grid_row": null,
            "grid_template_areas": null,
            "grid_template_columns": null,
            "grid_template_rows": null,
            "height": null,
            "justify_content": null,
            "justify_items": null,
            "left": null,
            "margin": null,
            "max_height": null,
            "max_width": null,
            "min_height": null,
            "min_width": null,
            "object_fit": null,
            "object_position": null,
            "order": null,
            "overflow": null,
            "overflow_x": null,
            "overflow_y": null,
            "padding": null,
            "right": null,
            "top": null,
            "visibility": null,
            "width": null
          }
        },
        "4e0cb890f56b455ab7d74662c8d1c792": {
          "model_module": "@jupyter-widgets/controls",
          "model_name": "DescriptionStyleModel",
          "model_module_version": "1.5.0",
          "state": {
            "_model_module": "@jupyter-widgets/controls",
            "_model_module_version": "1.5.0",
            "_model_name": "DescriptionStyleModel",
            "_view_count": null,
            "_view_module": "@jupyter-widgets/base",
            "_view_module_version": "1.2.0",
            "_view_name": "StyleView",
            "description_width": ""
          }
        },
        "b5eb70a7be9846169bca888cd24d784a": {
          "model_module": "@jupyter-widgets/controls",
          "model_name": "HBoxModel",
          "model_module_version": "1.5.0",
          "state": {
            "_dom_classes": [],
            "_model_module": "@jupyter-widgets/controls",
            "_model_module_version": "1.5.0",
            "_model_name": "HBoxModel",
            "_view_count": null,
            "_view_module": "@jupyter-widgets/controls",
            "_view_module_version": "1.5.0",
            "_view_name": "HBoxView",
            "box_style": "",
            "children": [
              "IPY_MODEL_20bfee8a67864118b52ab209ccf8115a",
              "IPY_MODEL_d849f892ba7c4f07927cbf3ab095e708",
              "IPY_MODEL_8b1a2641e60f41fa975d87426a63cbce"
            ],
            "layout": "IPY_MODEL_92ebd1ce355b400788a085942ce313d6"
          }
        },
        "20bfee8a67864118b52ab209ccf8115a": {
          "model_module": "@jupyter-widgets/controls",
          "model_name": "HTMLModel",
          "model_module_version": "1.5.0",
          "state": {
            "_dom_classes": [],
            "_model_module": "@jupyter-widgets/controls",
            "_model_module_version": "1.5.0",
            "_model_name": "HTMLModel",
            "_view_count": null,
            "_view_module": "@jupyter-widgets/controls",
            "_view_module_version": "1.5.0",
            "_view_name": "HTMLView",
            "description": "",
            "description_tooltip": null,
            "layout": "IPY_MODEL_45f8aa4423c44f68ba8db276b008c1dd",
            "placeholder": "​",
            "style": "IPY_MODEL_5b0a27959ed04ad9a9fcc42db669fe2e",
            "value": "100%"
          }
        },
        "d849f892ba7c4f07927cbf3ab095e708": {
          "model_module": "@jupyter-widgets/controls",
          "model_name": "FloatProgressModel",
          "model_module_version": "1.5.0",
          "state": {
            "_dom_classes": [],
            "_model_module": "@jupyter-widgets/controls",
            "_model_module_version": "1.5.0",
            "_model_name": "FloatProgressModel",
            "_view_count": null,
            "_view_module": "@jupyter-widgets/controls",
            "_view_module_version": "1.5.0",
            "_view_name": "ProgressView",
            "bar_style": "success",
            "description": "",
            "description_tooltip": null,
            "layout": "IPY_MODEL_2482176a0b0b49318a5ef7d6d0334d0f",
            "max": 32,
            "min": 0,
            "orientation": "horizontal",
            "style": "IPY_MODEL_6b8df0ace195416fb2fa7d7d3a53105e",
            "value": 32
          }
        },
        "8b1a2641e60f41fa975d87426a63cbce": {
          "model_module": "@jupyter-widgets/controls",
          "model_name": "HTMLModel",
          "model_module_version": "1.5.0",
          "state": {
            "_dom_classes": [],
            "_model_module": "@jupyter-widgets/controls",
            "_model_module_version": "1.5.0",
            "_model_name": "HTMLModel",
            "_view_count": null,
            "_view_module": "@jupyter-widgets/controls",
            "_view_module_version": "1.5.0",
            "_view_name": "HTMLView",
            "description": "",
            "description_tooltip": null,
            "layout": "IPY_MODEL_60d30c2bd5864e909a3f2f645c1e8020",
            "placeholder": "​",
            "style": "IPY_MODEL_5ca8686f69e548e19ab31a1bbd292cd8",
            "value": " 32/32 [00:10&lt;00:00,  3.00it/s]"
          }
        },
        "92ebd1ce355b400788a085942ce313d6": {
          "model_module": "@jupyter-widgets/base",
          "model_name": "LayoutModel",
          "model_module_version": "1.2.0",
          "state": {
            "_model_module": "@jupyter-widgets/base",
            "_model_module_version": "1.2.0",
            "_model_name": "LayoutModel",
            "_view_count": null,
            "_view_module": "@jupyter-widgets/base",
            "_view_module_version": "1.2.0",
            "_view_name": "LayoutView",
            "align_content": null,
            "align_items": null,
            "align_self": null,
            "border": null,
            "bottom": null,
            "display": null,
            "flex": null,
            "flex_flow": null,
            "grid_area": null,
            "grid_auto_columns": null,
            "grid_auto_flow": null,
            "grid_auto_rows": null,
            "grid_column": null,
            "grid_gap": null,
            "grid_row": null,
            "grid_template_areas": null,
            "grid_template_columns": null,
            "grid_template_rows": null,
            "height": null,
            "justify_content": null,
            "justify_items": null,
            "left": null,
            "margin": null,
            "max_height": null,
            "max_width": null,
            "min_height": null,
            "min_width": null,
            "object_fit": null,
            "object_position": null,
            "order": null,
            "overflow": null,
            "overflow_x": null,
            "overflow_y": null,
            "padding": null,
            "right": null,
            "top": null,
            "visibility": null,
            "width": null
          }
        },
        "45f8aa4423c44f68ba8db276b008c1dd": {
          "model_module": "@jupyter-widgets/base",
          "model_name": "LayoutModel",
          "model_module_version": "1.2.0",
          "state": {
            "_model_module": "@jupyter-widgets/base",
            "_model_module_version": "1.2.0",
            "_model_name": "LayoutModel",
            "_view_count": null,
            "_view_module": "@jupyter-widgets/base",
            "_view_module_version": "1.2.0",
            "_view_name": "LayoutView",
            "align_content": null,
            "align_items": null,
            "align_self": null,
            "border": null,
            "bottom": null,
            "display": null,
            "flex": null,
            "flex_flow": null,
            "grid_area": null,
            "grid_auto_columns": null,
            "grid_auto_flow": null,
            "grid_auto_rows": null,
            "grid_column": null,
            "grid_gap": null,
            "grid_row": null,
            "grid_template_areas": null,
            "grid_template_columns": null,
            "grid_template_rows": null,
            "height": null,
            "justify_content": null,
            "justify_items": null,
            "left": null,
            "margin": null,
            "max_height": null,
            "max_width": null,
            "min_height": null,
            "min_width": null,
            "object_fit": null,
            "object_position": null,
            "order": null,
            "overflow": null,
            "overflow_x": null,
            "overflow_y": null,
            "padding": null,
            "right": null,
            "top": null,
            "visibility": null,
            "width": null
          }
        },
        "5b0a27959ed04ad9a9fcc42db669fe2e": {
          "model_module": "@jupyter-widgets/controls",
          "model_name": "DescriptionStyleModel",
          "model_module_version": "1.5.0",
          "state": {
            "_model_module": "@jupyter-widgets/controls",
            "_model_module_version": "1.5.0",
            "_model_name": "DescriptionStyleModel",
            "_view_count": null,
            "_view_module": "@jupyter-widgets/base",
            "_view_module_version": "1.2.0",
            "_view_name": "StyleView",
            "description_width": ""
          }
        },
        "2482176a0b0b49318a5ef7d6d0334d0f": {
          "model_module": "@jupyter-widgets/base",
          "model_name": "LayoutModel",
          "model_module_version": "1.2.0",
          "state": {
            "_model_module": "@jupyter-widgets/base",
            "_model_module_version": "1.2.0",
            "_model_name": "LayoutModel",
            "_view_count": null,
            "_view_module": "@jupyter-widgets/base",
            "_view_module_version": "1.2.0",
            "_view_name": "LayoutView",
            "align_content": null,
            "align_items": null,
            "align_self": null,
            "border": null,
            "bottom": null,
            "display": null,
            "flex": null,
            "flex_flow": null,
            "grid_area": null,
            "grid_auto_columns": null,
            "grid_auto_flow": null,
            "grid_auto_rows": null,
            "grid_column": null,
            "grid_gap": null,
            "grid_row": null,
            "grid_template_areas": null,
            "grid_template_columns": null,
            "grid_template_rows": null,
            "height": null,
            "justify_content": null,
            "justify_items": null,
            "left": null,
            "margin": null,
            "max_height": null,
            "max_width": null,
            "min_height": null,
            "min_width": null,
            "object_fit": null,
            "object_position": null,
            "order": null,
            "overflow": null,
            "overflow_x": null,
            "overflow_y": null,
            "padding": null,
            "right": null,
            "top": null,
            "visibility": null,
            "width": null
          }
        },
        "6b8df0ace195416fb2fa7d7d3a53105e": {
          "model_module": "@jupyter-widgets/controls",
          "model_name": "ProgressStyleModel",
          "model_module_version": "1.5.0",
          "state": {
            "_model_module": "@jupyter-widgets/controls",
            "_model_module_version": "1.5.0",
            "_model_name": "ProgressStyleModel",
            "_view_count": null,
            "_view_module": "@jupyter-widgets/base",
            "_view_module_version": "1.2.0",
            "_view_name": "StyleView",
            "bar_color": null,
            "description_width": ""
          }
        },
        "60d30c2bd5864e909a3f2f645c1e8020": {
          "model_module": "@jupyter-widgets/base",
          "model_name": "LayoutModel",
          "model_module_version": "1.2.0",
          "state": {
            "_model_module": "@jupyter-widgets/base",
            "_model_module_version": "1.2.0",
            "_model_name": "LayoutModel",
            "_view_count": null,
            "_view_module": "@jupyter-widgets/base",
            "_view_module_version": "1.2.0",
            "_view_name": "LayoutView",
            "align_content": null,
            "align_items": null,
            "align_self": null,
            "border": null,
            "bottom": null,
            "display": null,
            "flex": null,
            "flex_flow": null,
            "grid_area": null,
            "grid_auto_columns": null,
            "grid_auto_flow": null,
            "grid_auto_rows": null,
            "grid_column": null,
            "grid_gap": null,
            "grid_row": null,
            "grid_template_areas": null,
            "grid_template_columns": null,
            "grid_template_rows": null,
            "height": null,
            "justify_content": null,
            "justify_items": null,
            "left": null,
            "margin": null,
            "max_height": null,
            "max_width": null,
            "min_height": null,
            "min_width": null,
            "object_fit": null,
            "object_position": null,
            "order": null,
            "overflow": null,
            "overflow_x": null,
            "overflow_y": null,
            "padding": null,
            "right": null,
            "top": null,
            "visibility": null,
            "width": null
          }
        },
        "5ca8686f69e548e19ab31a1bbd292cd8": {
          "model_module": "@jupyter-widgets/controls",
          "model_name": "DescriptionStyleModel",
          "model_module_version": "1.5.0",
          "state": {
            "_model_module": "@jupyter-widgets/controls",
            "_model_module_version": "1.5.0",
            "_model_name": "DescriptionStyleModel",
            "_view_count": null,
            "_view_module": "@jupyter-widgets/base",
            "_view_module_version": "1.2.0",
            "_view_name": "StyleView",
            "description_width": ""
          }
        },
        "a71ee047c6cf4cadaa9727e4697060a2": {
          "model_module": "@jupyter-widgets/controls",
          "model_name": "HBoxModel",
          "model_module_version": "1.5.0",
          "state": {
            "_dom_classes": [],
            "_model_module": "@jupyter-widgets/controls",
            "_model_module_version": "1.5.0",
            "_model_name": "HBoxModel",
            "_view_count": null,
            "_view_module": "@jupyter-widgets/controls",
            "_view_module_version": "1.5.0",
            "_view_name": "HBoxView",
            "box_style": "",
            "children": [
              "IPY_MODEL_c0b5f6f8fc594ce7a7545c37eb76314b",
              "IPY_MODEL_a81fde0bcdcb4c2c9911a4602fe9d4e8",
              "IPY_MODEL_57950854150f464aadd60e553d0f92d3"
            ],
            "layout": "IPY_MODEL_c89414e58c434620bb9f38fa169ca6c6"
          }
        },
        "c0b5f6f8fc594ce7a7545c37eb76314b": {
          "model_module": "@jupyter-widgets/controls",
          "model_name": "HTMLModel",
          "model_module_version": "1.5.0",
          "state": {
            "_dom_classes": [],
            "_model_module": "@jupyter-widgets/controls",
            "_model_module_version": "1.5.0",
            "_model_name": "HTMLModel",
            "_view_count": null,
            "_view_module": "@jupyter-widgets/controls",
            "_view_module_version": "1.5.0",
            "_view_name": "HTMLView",
            "description": "",
            "description_tooltip": null,
            "layout": "IPY_MODEL_979a606129594284933e9fdff8502f6e",
            "placeholder": "​",
            "style": "IPY_MODEL_a1dbdd0a9f634351bca576ffb145a477",
            "value": "100%"
          }
        },
        "a81fde0bcdcb4c2c9911a4602fe9d4e8": {
          "model_module": "@jupyter-widgets/controls",
          "model_name": "FloatProgressModel",
          "model_module_version": "1.5.0",
          "state": {
            "_dom_classes": [],
            "_model_module": "@jupyter-widgets/controls",
            "_model_module_version": "1.5.0",
            "_model_name": "FloatProgressModel",
            "_view_count": null,
            "_view_module": "@jupyter-widgets/controls",
            "_view_module_version": "1.5.0",
            "_view_name": "ProgressView",
            "bar_style": "success",
            "description": "",
            "description_tooltip": null,
            "layout": "IPY_MODEL_7e90fab7d6a8456d828aa999a78eafae",
            "max": 32,
            "min": 0,
            "orientation": "horizontal",
            "style": "IPY_MODEL_4ac7382c3c284cc69e6a1edd97e3121e",
            "value": 32
          }
        },
        "57950854150f464aadd60e553d0f92d3": {
          "model_module": "@jupyter-widgets/controls",
          "model_name": "HTMLModel",
          "model_module_version": "1.5.0",
          "state": {
            "_dom_classes": [],
            "_model_module": "@jupyter-widgets/controls",
            "_model_module_version": "1.5.0",
            "_model_name": "HTMLModel",
            "_view_count": null,
            "_view_module": "@jupyter-widgets/controls",
            "_view_module_version": "1.5.0",
            "_view_name": "HTMLView",
            "description": "",
            "description_tooltip": null,
            "layout": "IPY_MODEL_7c670042bf0c402b807517c49a7f352c",
            "placeholder": "​",
            "style": "IPY_MODEL_12c3951350d64303a1e40d483dd1447a",
            "value": " 32/32 [00:01&lt;00:00, 25.56it/s]"
          }
        },
        "c89414e58c434620bb9f38fa169ca6c6": {
          "model_module": "@jupyter-widgets/base",
          "model_name": "LayoutModel",
          "model_module_version": "1.2.0",
          "state": {
            "_model_module": "@jupyter-widgets/base",
            "_model_module_version": "1.2.0",
            "_model_name": "LayoutModel",
            "_view_count": null,
            "_view_module": "@jupyter-widgets/base",
            "_view_module_version": "1.2.0",
            "_view_name": "LayoutView",
            "align_content": null,
            "align_items": null,
            "align_self": null,
            "border": null,
            "bottom": null,
            "display": null,
            "flex": null,
            "flex_flow": null,
            "grid_area": null,
            "grid_auto_columns": null,
            "grid_auto_flow": null,
            "grid_auto_rows": null,
            "grid_column": null,
            "grid_gap": null,
            "grid_row": null,
            "grid_template_areas": null,
            "grid_template_columns": null,
            "grid_template_rows": null,
            "height": null,
            "justify_content": null,
            "justify_items": null,
            "left": null,
            "margin": null,
            "max_height": null,
            "max_width": null,
            "min_height": null,
            "min_width": null,
            "object_fit": null,
            "object_position": null,
            "order": null,
            "overflow": null,
            "overflow_x": null,
            "overflow_y": null,
            "padding": null,
            "right": null,
            "top": null,
            "visibility": null,
            "width": null
          }
        },
        "979a606129594284933e9fdff8502f6e": {
          "model_module": "@jupyter-widgets/base",
          "model_name": "LayoutModel",
          "model_module_version": "1.2.0",
          "state": {
            "_model_module": "@jupyter-widgets/base",
            "_model_module_version": "1.2.0",
            "_model_name": "LayoutModel",
            "_view_count": null,
            "_view_module": "@jupyter-widgets/base",
            "_view_module_version": "1.2.0",
            "_view_name": "LayoutView",
            "align_content": null,
            "align_items": null,
            "align_self": null,
            "border": null,
            "bottom": null,
            "display": null,
            "flex": null,
            "flex_flow": null,
            "grid_area": null,
            "grid_auto_columns": null,
            "grid_auto_flow": null,
            "grid_auto_rows": null,
            "grid_column": null,
            "grid_gap": null,
            "grid_row": null,
            "grid_template_areas": null,
            "grid_template_columns": null,
            "grid_template_rows": null,
            "height": null,
            "justify_content": null,
            "justify_items": null,
            "left": null,
            "margin": null,
            "max_height": null,
            "max_width": null,
            "min_height": null,
            "min_width": null,
            "object_fit": null,
            "object_position": null,
            "order": null,
            "overflow": null,
            "overflow_x": null,
            "overflow_y": null,
            "padding": null,
            "right": null,
            "top": null,
            "visibility": null,
            "width": null
          }
        },
        "a1dbdd0a9f634351bca576ffb145a477": {
          "model_module": "@jupyter-widgets/controls",
          "model_name": "DescriptionStyleModel",
          "model_module_version": "1.5.0",
          "state": {
            "_model_module": "@jupyter-widgets/controls",
            "_model_module_version": "1.5.0",
            "_model_name": "DescriptionStyleModel",
            "_view_count": null,
            "_view_module": "@jupyter-widgets/base",
            "_view_module_version": "1.2.0",
            "_view_name": "StyleView",
            "description_width": ""
          }
        },
        "7e90fab7d6a8456d828aa999a78eafae": {
          "model_module": "@jupyter-widgets/base",
          "model_name": "LayoutModel",
          "model_module_version": "1.2.0",
          "state": {
            "_model_module": "@jupyter-widgets/base",
            "_model_module_version": "1.2.0",
            "_model_name": "LayoutModel",
            "_view_count": null,
            "_view_module": "@jupyter-widgets/base",
            "_view_module_version": "1.2.0",
            "_view_name": "LayoutView",
            "align_content": null,
            "align_items": null,
            "align_self": null,
            "border": null,
            "bottom": null,
            "display": null,
            "flex": null,
            "flex_flow": null,
            "grid_area": null,
            "grid_auto_columns": null,
            "grid_auto_flow": null,
            "grid_auto_rows": null,
            "grid_column": null,
            "grid_gap": null,
            "grid_row": null,
            "grid_template_areas": null,
            "grid_template_columns": null,
            "grid_template_rows": null,
            "height": null,
            "justify_content": null,
            "justify_items": null,
            "left": null,
            "margin": null,
            "max_height": null,
            "max_width": null,
            "min_height": null,
            "min_width": null,
            "object_fit": null,
            "object_position": null,
            "order": null,
            "overflow": null,
            "overflow_x": null,
            "overflow_y": null,
            "padding": null,
            "right": null,
            "top": null,
            "visibility": null,
            "width": null
          }
        },
        "4ac7382c3c284cc69e6a1edd97e3121e": {
          "model_module": "@jupyter-widgets/controls",
          "model_name": "ProgressStyleModel",
          "model_module_version": "1.5.0",
          "state": {
            "_model_module": "@jupyter-widgets/controls",
            "_model_module_version": "1.5.0",
            "_model_name": "ProgressStyleModel",
            "_view_count": null,
            "_view_module": "@jupyter-widgets/base",
            "_view_module_version": "1.2.0",
            "_view_name": "StyleView",
            "bar_color": null,
            "description_width": ""
          }
        },
        "7c670042bf0c402b807517c49a7f352c": {
          "model_module": "@jupyter-widgets/base",
          "model_name": "LayoutModel",
          "model_module_version": "1.2.0",
          "state": {
            "_model_module": "@jupyter-widgets/base",
            "_model_module_version": "1.2.0",
            "_model_name": "LayoutModel",
            "_view_count": null,
            "_view_module": "@jupyter-widgets/base",
            "_view_module_version": "1.2.0",
            "_view_name": "LayoutView",
            "align_content": null,
            "align_items": null,
            "align_self": null,
            "border": null,
            "bottom": null,
            "display": null,
            "flex": null,
            "flex_flow": null,
            "grid_area": null,
            "grid_auto_columns": null,
            "grid_auto_flow": null,
            "grid_auto_rows": null,
            "grid_column": null,
            "grid_gap": null,
            "grid_row": null,
            "grid_template_areas": null,
            "grid_template_columns": null,
            "grid_template_rows": null,
            "height": null,
            "justify_content": null,
            "justify_items": null,
            "left": null,
            "margin": null,
            "max_height": null,
            "max_width": null,
            "min_height": null,
            "min_width": null,
            "object_fit": null,
            "object_position": null,
            "order": null,
            "overflow": null,
            "overflow_x": null,
            "overflow_y": null,
            "padding": null,
            "right": null,
            "top": null,
            "visibility": null,
            "width": null
          }
        },
        "12c3951350d64303a1e40d483dd1447a": {
          "model_module": "@jupyter-widgets/controls",
          "model_name": "DescriptionStyleModel",
          "model_module_version": "1.5.0",
          "state": {
            "_model_module": "@jupyter-widgets/controls",
            "_model_module_version": "1.5.0",
            "_model_name": "DescriptionStyleModel",
            "_view_count": null,
            "_view_module": "@jupyter-widgets/base",
            "_view_module_version": "1.2.0",
            "_view_name": "StyleView",
            "description_width": ""
          }
        },
        "e5df27e19e5646759412b683e0338c01": {
          "model_module": "@jupyter-widgets/controls",
          "model_name": "HBoxModel",
          "model_module_version": "1.5.0",
          "state": {
            "_dom_classes": [],
            "_model_module": "@jupyter-widgets/controls",
            "_model_module_version": "1.5.0",
            "_model_name": "HBoxModel",
            "_view_count": null,
            "_view_module": "@jupyter-widgets/controls",
            "_view_module_version": "1.5.0",
            "_view_name": "HBoxView",
            "box_style": "",
            "children": [
              "IPY_MODEL_75498741ba37444c9f265255eeeed3d7",
              "IPY_MODEL_aab2f9315c2b45d59c29f51a9033d7d5",
              "IPY_MODEL_c3f0542f10504687aa08109e44b0d259"
            ],
            "layout": "IPY_MODEL_d4b3641e4dae431c95472463eabe5a2d"
          }
        },
        "75498741ba37444c9f265255eeeed3d7": {
          "model_module": "@jupyter-widgets/controls",
          "model_name": "HTMLModel",
          "model_module_version": "1.5.0",
          "state": {
            "_dom_classes": [],
            "_model_module": "@jupyter-widgets/controls",
            "_model_module_version": "1.5.0",
            "_model_name": "HTMLModel",
            "_view_count": null,
            "_view_module": "@jupyter-widgets/controls",
            "_view_module_version": "1.5.0",
            "_view_name": "HTMLView",
            "description": "",
            "description_tooltip": null,
            "layout": "IPY_MODEL_ceeb700e8ce345feae4c0c5ed53cba2e",
            "placeholder": "​",
            "style": "IPY_MODEL_7f0315b4bee648faa0a4cb08ab8dd583",
            "value": "100%"
          }
        },
        "aab2f9315c2b45d59c29f51a9033d7d5": {
          "model_module": "@jupyter-widgets/controls",
          "model_name": "FloatProgressModel",
          "model_module_version": "1.5.0",
          "state": {
            "_dom_classes": [],
            "_model_module": "@jupyter-widgets/controls",
            "_model_module_version": "1.5.0",
            "_model_name": "FloatProgressModel",
            "_view_count": null,
            "_view_module": "@jupyter-widgets/controls",
            "_view_module_version": "1.5.0",
            "_view_name": "ProgressView",
            "bar_style": "success",
            "description": "",
            "description_tooltip": null,
            "layout": "IPY_MODEL_e24ba486c5ba4c4e8d1c2bf8fb959c30",
            "max": 32,
            "min": 0,
            "orientation": "horizontal",
            "style": "IPY_MODEL_50f9591b71524ce0910b18afa664a0a0",
            "value": 32
          }
        },
        "c3f0542f10504687aa08109e44b0d259": {
          "model_module": "@jupyter-widgets/controls",
          "model_name": "HTMLModel",
          "model_module_version": "1.5.0",
          "state": {
            "_dom_classes": [],
            "_model_module": "@jupyter-widgets/controls",
            "_model_module_version": "1.5.0",
            "_model_name": "HTMLModel",
            "_view_count": null,
            "_view_module": "@jupyter-widgets/controls",
            "_view_module_version": "1.5.0",
            "_view_name": "HTMLView",
            "description": "",
            "description_tooltip": null,
            "layout": "IPY_MODEL_843d57b187ee4f2fb57d278c4513a8d0",
            "placeholder": "​",
            "style": "IPY_MODEL_c9317db3c1024104b274f67c98df10b7",
            "value": " 32/32 [00:00&lt;00:00, 50.44it/s]"
          }
        },
        "d4b3641e4dae431c95472463eabe5a2d": {
          "model_module": "@jupyter-widgets/base",
          "model_name": "LayoutModel",
          "model_module_version": "1.2.0",
          "state": {
            "_model_module": "@jupyter-widgets/base",
            "_model_module_version": "1.2.0",
            "_model_name": "LayoutModel",
            "_view_count": null,
            "_view_module": "@jupyter-widgets/base",
            "_view_module_version": "1.2.0",
            "_view_name": "LayoutView",
            "align_content": null,
            "align_items": null,
            "align_self": null,
            "border": null,
            "bottom": null,
            "display": null,
            "flex": null,
            "flex_flow": null,
            "grid_area": null,
            "grid_auto_columns": null,
            "grid_auto_flow": null,
            "grid_auto_rows": null,
            "grid_column": null,
            "grid_gap": null,
            "grid_row": null,
            "grid_template_areas": null,
            "grid_template_columns": null,
            "grid_template_rows": null,
            "height": null,
            "justify_content": null,
            "justify_items": null,
            "left": null,
            "margin": null,
            "max_height": null,
            "max_width": null,
            "min_height": null,
            "min_width": null,
            "object_fit": null,
            "object_position": null,
            "order": null,
            "overflow": null,
            "overflow_x": null,
            "overflow_y": null,
            "padding": null,
            "right": null,
            "top": null,
            "visibility": null,
            "width": null
          }
        },
        "ceeb700e8ce345feae4c0c5ed53cba2e": {
          "model_module": "@jupyter-widgets/base",
          "model_name": "LayoutModel",
          "model_module_version": "1.2.0",
          "state": {
            "_model_module": "@jupyter-widgets/base",
            "_model_module_version": "1.2.0",
            "_model_name": "LayoutModel",
            "_view_count": null,
            "_view_module": "@jupyter-widgets/base",
            "_view_module_version": "1.2.0",
            "_view_name": "LayoutView",
            "align_content": null,
            "align_items": null,
            "align_self": null,
            "border": null,
            "bottom": null,
            "display": null,
            "flex": null,
            "flex_flow": null,
            "grid_area": null,
            "grid_auto_columns": null,
            "grid_auto_flow": null,
            "grid_auto_rows": null,
            "grid_column": null,
            "grid_gap": null,
            "grid_row": null,
            "grid_template_areas": null,
            "grid_template_columns": null,
            "grid_template_rows": null,
            "height": null,
            "justify_content": null,
            "justify_items": null,
            "left": null,
            "margin": null,
            "max_height": null,
            "max_width": null,
            "min_height": null,
            "min_width": null,
            "object_fit": null,
            "object_position": null,
            "order": null,
            "overflow": null,
            "overflow_x": null,
            "overflow_y": null,
            "padding": null,
            "right": null,
            "top": null,
            "visibility": null,
            "width": null
          }
        },
        "7f0315b4bee648faa0a4cb08ab8dd583": {
          "model_module": "@jupyter-widgets/controls",
          "model_name": "DescriptionStyleModel",
          "model_module_version": "1.5.0",
          "state": {
            "_model_module": "@jupyter-widgets/controls",
            "_model_module_version": "1.5.0",
            "_model_name": "DescriptionStyleModel",
            "_view_count": null,
            "_view_module": "@jupyter-widgets/base",
            "_view_module_version": "1.2.0",
            "_view_name": "StyleView",
            "description_width": ""
          }
        },
        "e24ba486c5ba4c4e8d1c2bf8fb959c30": {
          "model_module": "@jupyter-widgets/base",
          "model_name": "LayoutModel",
          "model_module_version": "1.2.0",
          "state": {
            "_model_module": "@jupyter-widgets/base",
            "_model_module_version": "1.2.0",
            "_model_name": "LayoutModel",
            "_view_count": null,
            "_view_module": "@jupyter-widgets/base",
            "_view_module_version": "1.2.0",
            "_view_name": "LayoutView",
            "align_content": null,
            "align_items": null,
            "align_self": null,
            "border": null,
            "bottom": null,
            "display": null,
            "flex": null,
            "flex_flow": null,
            "grid_area": null,
            "grid_auto_columns": null,
            "grid_auto_flow": null,
            "grid_auto_rows": null,
            "grid_column": null,
            "grid_gap": null,
            "grid_row": null,
            "grid_template_areas": null,
            "grid_template_columns": null,
            "grid_template_rows": null,
            "height": null,
            "justify_content": null,
            "justify_items": null,
            "left": null,
            "margin": null,
            "max_height": null,
            "max_width": null,
            "min_height": null,
            "min_width": null,
            "object_fit": null,
            "object_position": null,
            "order": null,
            "overflow": null,
            "overflow_x": null,
            "overflow_y": null,
            "padding": null,
            "right": null,
            "top": null,
            "visibility": null,
            "width": null
          }
        },
        "50f9591b71524ce0910b18afa664a0a0": {
          "model_module": "@jupyter-widgets/controls",
          "model_name": "ProgressStyleModel",
          "model_module_version": "1.5.0",
          "state": {
            "_model_module": "@jupyter-widgets/controls",
            "_model_module_version": "1.5.0",
            "_model_name": "ProgressStyleModel",
            "_view_count": null,
            "_view_module": "@jupyter-widgets/base",
            "_view_module_version": "1.2.0",
            "_view_name": "StyleView",
            "bar_color": null,
            "description_width": ""
          }
        },
        "843d57b187ee4f2fb57d278c4513a8d0": {
          "model_module": "@jupyter-widgets/base",
          "model_name": "LayoutModel",
          "model_module_version": "1.2.0",
          "state": {
            "_model_module": "@jupyter-widgets/base",
            "_model_module_version": "1.2.0",
            "_model_name": "LayoutModel",
            "_view_count": null,
            "_view_module": "@jupyter-widgets/base",
            "_view_module_version": "1.2.0",
            "_view_name": "LayoutView",
            "align_content": null,
            "align_items": null,
            "align_self": null,
            "border": null,
            "bottom": null,
            "display": null,
            "flex": null,
            "flex_flow": null,
            "grid_area": null,
            "grid_auto_columns": null,
            "grid_auto_flow": null,
            "grid_auto_rows": null,
            "grid_column": null,
            "grid_gap": null,
            "grid_row": null,
            "grid_template_areas": null,
            "grid_template_columns": null,
            "grid_template_rows": null,
            "height": null,
            "justify_content": null,
            "justify_items": null,
            "left": null,
            "margin": null,
            "max_height": null,
            "max_width": null,
            "min_height": null,
            "min_width": null,
            "object_fit": null,
            "object_position": null,
            "order": null,
            "overflow": null,
            "overflow_x": null,
            "overflow_y": null,
            "padding": null,
            "right": null,
            "top": null,
            "visibility": null,
            "width": null
          }
        },
        "c9317db3c1024104b274f67c98df10b7": {
          "model_module": "@jupyter-widgets/controls",
          "model_name": "DescriptionStyleModel",
          "model_module_version": "1.5.0",
          "state": {
            "_model_module": "@jupyter-widgets/controls",
            "_model_module_version": "1.5.0",
            "_model_name": "DescriptionStyleModel",
            "_view_count": null,
            "_view_module": "@jupyter-widgets/base",
            "_view_module_version": "1.2.0",
            "_view_name": "StyleView",
            "description_width": ""
          }
        },
        "cea97b984cab4b68a0e679c23d0e5e13": {
          "model_module": "@jupyter-widgets/controls",
          "model_name": "HBoxModel",
          "model_module_version": "1.5.0",
          "state": {
            "_dom_classes": [],
            "_model_module": "@jupyter-widgets/controls",
            "_model_module_version": "1.5.0",
            "_model_name": "HBoxModel",
            "_view_count": null,
            "_view_module": "@jupyter-widgets/controls",
            "_view_module_version": "1.5.0",
            "_view_name": "HBoxView",
            "box_style": "",
            "children": [
              "IPY_MODEL_3720cc25970640bd83ad2e1b9fe125be",
              "IPY_MODEL_c1328ca3124e4bcb913e077809e17929",
              "IPY_MODEL_eb70579b11894deaa310b5c8fb262a2a"
            ],
            "layout": "IPY_MODEL_a69f471a30254f80a2e72f2bf0eeb2ae"
          }
        },
        "3720cc25970640bd83ad2e1b9fe125be": {
          "model_module": "@jupyter-widgets/controls",
          "model_name": "HTMLModel",
          "model_module_version": "1.5.0",
          "state": {
            "_dom_classes": [],
            "_model_module": "@jupyter-widgets/controls",
            "_model_module_version": "1.5.0",
            "_model_name": "HTMLModel",
            "_view_count": null,
            "_view_module": "@jupyter-widgets/controls",
            "_view_module_version": "1.5.0",
            "_view_name": "HTMLView",
            "description": "",
            "description_tooltip": null,
            "layout": "IPY_MODEL_10d83f5d309e489290c82ed424908b78",
            "placeholder": "​",
            "style": "IPY_MODEL_bf1db61dc43943d5b29939bbc414e061",
            "value": "100%"
          }
        },
        "c1328ca3124e4bcb913e077809e17929": {
          "model_module": "@jupyter-widgets/controls",
          "model_name": "FloatProgressModel",
          "model_module_version": "1.5.0",
          "state": {
            "_dom_classes": [],
            "_model_module": "@jupyter-widgets/controls",
            "_model_module_version": "1.5.0",
            "_model_name": "FloatProgressModel",
            "_view_count": null,
            "_view_module": "@jupyter-widgets/controls",
            "_view_module_version": "1.5.0",
            "_view_name": "ProgressView",
            "bar_style": "success",
            "description": "",
            "description_tooltip": null,
            "layout": "IPY_MODEL_ad802be63a684ee5a290794c4351f892",
            "max": 16000,
            "min": 0,
            "orientation": "horizontal",
            "style": "IPY_MODEL_d50d4ad7fabd4f8ab99527ed3b290388",
            "value": 16000
          }
        },
        "eb70579b11894deaa310b5c8fb262a2a": {
          "model_module": "@jupyter-widgets/controls",
          "model_name": "HTMLModel",
          "model_module_version": "1.5.0",
          "state": {
            "_dom_classes": [],
            "_model_module": "@jupyter-widgets/controls",
            "_model_module_version": "1.5.0",
            "_model_name": "HTMLModel",
            "_view_count": null,
            "_view_module": "@jupyter-widgets/controls",
            "_view_module_version": "1.5.0",
            "_view_name": "HTMLView",
            "description": "",
            "description_tooltip": null,
            "layout": "IPY_MODEL_b3abd6e4d7f24d28989549f2a6c97f5d",
            "placeholder": "​",
            "style": "IPY_MODEL_943868b709e244e3bb1cae3efc5477ae",
            "value": " 16000/16000 [00:50&lt;00:00, 337.38it/s]"
          }
        },
        "a69f471a30254f80a2e72f2bf0eeb2ae": {
          "model_module": "@jupyter-widgets/base",
          "model_name": "LayoutModel",
          "model_module_version": "1.2.0",
          "state": {
            "_model_module": "@jupyter-widgets/base",
            "_model_module_version": "1.2.0",
            "_model_name": "LayoutModel",
            "_view_count": null,
            "_view_module": "@jupyter-widgets/base",
            "_view_module_version": "1.2.0",
            "_view_name": "LayoutView",
            "align_content": null,
            "align_items": null,
            "align_self": null,
            "border": null,
            "bottom": null,
            "display": null,
            "flex": null,
            "flex_flow": null,
            "grid_area": null,
            "grid_auto_columns": null,
            "grid_auto_flow": null,
            "grid_auto_rows": null,
            "grid_column": null,
            "grid_gap": null,
            "grid_row": null,
            "grid_template_areas": null,
            "grid_template_columns": null,
            "grid_template_rows": null,
            "height": null,
            "justify_content": null,
            "justify_items": null,
            "left": null,
            "margin": null,
            "max_height": null,
            "max_width": null,
            "min_height": null,
            "min_width": null,
            "object_fit": null,
            "object_position": null,
            "order": null,
            "overflow": null,
            "overflow_x": null,
            "overflow_y": null,
            "padding": null,
            "right": null,
            "top": null,
            "visibility": null,
            "width": null
          }
        },
        "10d83f5d309e489290c82ed424908b78": {
          "model_module": "@jupyter-widgets/base",
          "model_name": "LayoutModel",
          "model_module_version": "1.2.0",
          "state": {
            "_model_module": "@jupyter-widgets/base",
            "_model_module_version": "1.2.0",
            "_model_name": "LayoutModel",
            "_view_count": null,
            "_view_module": "@jupyter-widgets/base",
            "_view_module_version": "1.2.0",
            "_view_name": "LayoutView",
            "align_content": null,
            "align_items": null,
            "align_self": null,
            "border": null,
            "bottom": null,
            "display": null,
            "flex": null,
            "flex_flow": null,
            "grid_area": null,
            "grid_auto_columns": null,
            "grid_auto_flow": null,
            "grid_auto_rows": null,
            "grid_column": null,
            "grid_gap": null,
            "grid_row": null,
            "grid_template_areas": null,
            "grid_template_columns": null,
            "grid_template_rows": null,
            "height": null,
            "justify_content": null,
            "justify_items": null,
            "left": null,
            "margin": null,
            "max_height": null,
            "max_width": null,
            "min_height": null,
            "min_width": null,
            "object_fit": null,
            "object_position": null,
            "order": null,
            "overflow": null,
            "overflow_x": null,
            "overflow_y": null,
            "padding": null,
            "right": null,
            "top": null,
            "visibility": null,
            "width": null
          }
        },
        "bf1db61dc43943d5b29939bbc414e061": {
          "model_module": "@jupyter-widgets/controls",
          "model_name": "DescriptionStyleModel",
          "model_module_version": "1.5.0",
          "state": {
            "_model_module": "@jupyter-widgets/controls",
            "_model_module_version": "1.5.0",
            "_model_name": "DescriptionStyleModel",
            "_view_count": null,
            "_view_module": "@jupyter-widgets/base",
            "_view_module_version": "1.2.0",
            "_view_name": "StyleView",
            "description_width": ""
          }
        },
        "ad802be63a684ee5a290794c4351f892": {
          "model_module": "@jupyter-widgets/base",
          "model_name": "LayoutModel",
          "model_module_version": "1.2.0",
          "state": {
            "_model_module": "@jupyter-widgets/base",
            "_model_module_version": "1.2.0",
            "_model_name": "LayoutModel",
            "_view_count": null,
            "_view_module": "@jupyter-widgets/base",
            "_view_module_version": "1.2.0",
            "_view_name": "LayoutView",
            "align_content": null,
            "align_items": null,
            "align_self": null,
            "border": null,
            "bottom": null,
            "display": null,
            "flex": null,
            "flex_flow": null,
            "grid_area": null,
            "grid_auto_columns": null,
            "grid_auto_flow": null,
            "grid_auto_rows": null,
            "grid_column": null,
            "grid_gap": null,
            "grid_row": null,
            "grid_template_areas": null,
            "grid_template_columns": null,
            "grid_template_rows": null,
            "height": null,
            "justify_content": null,
            "justify_items": null,
            "left": null,
            "margin": null,
            "max_height": null,
            "max_width": null,
            "min_height": null,
            "min_width": null,
            "object_fit": null,
            "object_position": null,
            "order": null,
            "overflow": null,
            "overflow_x": null,
            "overflow_y": null,
            "padding": null,
            "right": null,
            "top": null,
            "visibility": null,
            "width": null
          }
        },
        "d50d4ad7fabd4f8ab99527ed3b290388": {
          "model_module": "@jupyter-widgets/controls",
          "model_name": "ProgressStyleModel",
          "model_module_version": "1.5.0",
          "state": {
            "_model_module": "@jupyter-widgets/controls",
            "_model_module_version": "1.5.0",
            "_model_name": "ProgressStyleModel",
            "_view_count": null,
            "_view_module": "@jupyter-widgets/base",
            "_view_module_version": "1.2.0",
            "_view_name": "StyleView",
            "bar_color": null,
            "description_width": ""
          }
        },
        "b3abd6e4d7f24d28989549f2a6c97f5d": {
          "model_module": "@jupyter-widgets/base",
          "model_name": "LayoutModel",
          "model_module_version": "1.2.0",
          "state": {
            "_model_module": "@jupyter-widgets/base",
            "_model_module_version": "1.2.0",
            "_model_name": "LayoutModel",
            "_view_count": null,
            "_view_module": "@jupyter-widgets/base",
            "_view_module_version": "1.2.0",
            "_view_name": "LayoutView",
            "align_content": null,
            "align_items": null,
            "align_self": null,
            "border": null,
            "bottom": null,
            "display": null,
            "flex": null,
            "flex_flow": null,
            "grid_area": null,
            "grid_auto_columns": null,
            "grid_auto_flow": null,
            "grid_auto_rows": null,
            "grid_column": null,
            "grid_gap": null,
            "grid_row": null,
            "grid_template_areas": null,
            "grid_template_columns": null,
            "grid_template_rows": null,
            "height": null,
            "justify_content": null,
            "justify_items": null,
            "left": null,
            "margin": null,
            "max_height": null,
            "max_width": null,
            "min_height": null,
            "min_width": null,
            "object_fit": null,
            "object_position": null,
            "order": null,
            "overflow": null,
            "overflow_x": null,
            "overflow_y": null,
            "padding": null,
            "right": null,
            "top": null,
            "visibility": null,
            "width": null
          }
        },
        "943868b709e244e3bb1cae3efc5477ae": {
          "model_module": "@jupyter-widgets/controls",
          "model_name": "DescriptionStyleModel",
          "model_module_version": "1.5.0",
          "state": {
            "_model_module": "@jupyter-widgets/controls",
            "_model_module_version": "1.5.0",
            "_model_name": "DescriptionStyleModel",
            "_view_count": null,
            "_view_module": "@jupyter-widgets/base",
            "_view_module_version": "1.2.0",
            "_view_name": "StyleView",
            "description_width": ""
          }
        },
        "4a039a3b36cf47f29fad37e32695c296": {
          "model_module": "@jupyter-widgets/controls",
          "model_name": "HBoxModel",
          "model_module_version": "1.5.0",
          "state": {
            "_dom_classes": [],
            "_model_module": "@jupyter-widgets/controls",
            "_model_module_version": "1.5.0",
            "_model_name": "HBoxModel",
            "_view_count": null,
            "_view_module": "@jupyter-widgets/controls",
            "_view_module_version": "1.5.0",
            "_view_name": "HBoxView",
            "box_style": "",
            "children": [
              "IPY_MODEL_de94ea6f90fb485cba40166b747bc126",
              "IPY_MODEL_fb1763f91892434982e5a32a714626a9",
              "IPY_MODEL_1b95548b734c493a812d64d7cb89962a"
            ],
            "layout": "IPY_MODEL_039ebb214e06400fb7943e3c2e2bf35b"
          }
        },
        "de94ea6f90fb485cba40166b747bc126": {
          "model_module": "@jupyter-widgets/controls",
          "model_name": "HTMLModel",
          "model_module_version": "1.5.0",
          "state": {
            "_dom_classes": [],
            "_model_module": "@jupyter-widgets/controls",
            "_model_module_version": "1.5.0",
            "_model_name": "HTMLModel",
            "_view_count": null,
            "_view_module": "@jupyter-widgets/controls",
            "_view_module_version": "1.5.0",
            "_view_name": "HTMLView",
            "description": "",
            "description_tooltip": null,
            "layout": "IPY_MODEL_7dc8fac3f1524a12800d976a690f1261",
            "placeholder": "​",
            "style": "IPY_MODEL_7ff33c7c70d548589cec427d47f13e85",
            "value": "100%"
          }
        },
        "fb1763f91892434982e5a32a714626a9": {
          "model_module": "@jupyter-widgets/controls",
          "model_name": "FloatProgressModel",
          "model_module_version": "1.5.0",
          "state": {
            "_dom_classes": [],
            "_model_module": "@jupyter-widgets/controls",
            "_model_module_version": "1.5.0",
            "_model_name": "FloatProgressModel",
            "_view_count": null,
            "_view_module": "@jupyter-widgets/controls",
            "_view_module_version": "1.5.0",
            "_view_name": "ProgressView",
            "bar_style": "success",
            "description": "",
            "description_tooltip": null,
            "layout": "IPY_MODEL_9733f5d592dc44a193645c4ab737cc87",
            "max": 8960,
            "min": 0,
            "orientation": "horizontal",
            "style": "IPY_MODEL_a9d03a6c6c374d30962159dcea9ab1a0",
            "value": 8960
          }
        },
        "1b95548b734c493a812d64d7cb89962a": {
          "model_module": "@jupyter-widgets/controls",
          "model_name": "HTMLModel",
          "model_module_version": "1.5.0",
          "state": {
            "_dom_classes": [],
            "_model_module": "@jupyter-widgets/controls",
            "_model_module_version": "1.5.0",
            "_model_name": "HTMLModel",
            "_view_count": null,
            "_view_module": "@jupyter-widgets/controls",
            "_view_module_version": "1.5.0",
            "_view_name": "HTMLView",
            "description": "",
            "description_tooltip": null,
            "layout": "IPY_MODEL_2f857d95fac54d43a1f97635ccee117e",
            "placeholder": "​",
            "style": "IPY_MODEL_c1f7c2b9760446ee9aa00f02a40d3b6b",
            "value": " 8960/8960 [00:27&lt;00:00, 342.33it/s]"
          }
        },
        "039ebb214e06400fb7943e3c2e2bf35b": {
          "model_module": "@jupyter-widgets/base",
          "model_name": "LayoutModel",
          "model_module_version": "1.2.0",
          "state": {
            "_model_module": "@jupyter-widgets/base",
            "_model_module_version": "1.2.0",
            "_model_name": "LayoutModel",
            "_view_count": null,
            "_view_module": "@jupyter-widgets/base",
            "_view_module_version": "1.2.0",
            "_view_name": "LayoutView",
            "align_content": null,
            "align_items": null,
            "align_self": null,
            "border": null,
            "bottom": null,
            "display": null,
            "flex": null,
            "flex_flow": null,
            "grid_area": null,
            "grid_auto_columns": null,
            "grid_auto_flow": null,
            "grid_auto_rows": null,
            "grid_column": null,
            "grid_gap": null,
            "grid_row": null,
            "grid_template_areas": null,
            "grid_template_columns": null,
            "grid_template_rows": null,
            "height": null,
            "justify_content": null,
            "justify_items": null,
            "left": null,
            "margin": null,
            "max_height": null,
            "max_width": null,
            "min_height": null,
            "min_width": null,
            "object_fit": null,
            "object_position": null,
            "order": null,
            "overflow": null,
            "overflow_x": null,
            "overflow_y": null,
            "padding": null,
            "right": null,
            "top": null,
            "visibility": null,
            "width": null
          }
        },
        "7dc8fac3f1524a12800d976a690f1261": {
          "model_module": "@jupyter-widgets/base",
          "model_name": "LayoutModel",
          "model_module_version": "1.2.0",
          "state": {
            "_model_module": "@jupyter-widgets/base",
            "_model_module_version": "1.2.0",
            "_model_name": "LayoutModel",
            "_view_count": null,
            "_view_module": "@jupyter-widgets/base",
            "_view_module_version": "1.2.0",
            "_view_name": "LayoutView",
            "align_content": null,
            "align_items": null,
            "align_self": null,
            "border": null,
            "bottom": null,
            "display": null,
            "flex": null,
            "flex_flow": null,
            "grid_area": null,
            "grid_auto_columns": null,
            "grid_auto_flow": null,
            "grid_auto_rows": null,
            "grid_column": null,
            "grid_gap": null,
            "grid_row": null,
            "grid_template_areas": null,
            "grid_template_columns": null,
            "grid_template_rows": null,
            "height": null,
            "justify_content": null,
            "justify_items": null,
            "left": null,
            "margin": null,
            "max_height": null,
            "max_width": null,
            "min_height": null,
            "min_width": null,
            "object_fit": null,
            "object_position": null,
            "order": null,
            "overflow": null,
            "overflow_x": null,
            "overflow_y": null,
            "padding": null,
            "right": null,
            "top": null,
            "visibility": null,
            "width": null
          }
        },
        "7ff33c7c70d548589cec427d47f13e85": {
          "model_module": "@jupyter-widgets/controls",
          "model_name": "DescriptionStyleModel",
          "model_module_version": "1.5.0",
          "state": {
            "_model_module": "@jupyter-widgets/controls",
            "_model_module_version": "1.5.0",
            "_model_name": "DescriptionStyleModel",
            "_view_count": null,
            "_view_module": "@jupyter-widgets/base",
            "_view_module_version": "1.2.0",
            "_view_name": "StyleView",
            "description_width": ""
          }
        },
        "9733f5d592dc44a193645c4ab737cc87": {
          "model_module": "@jupyter-widgets/base",
          "model_name": "LayoutModel",
          "model_module_version": "1.2.0",
          "state": {
            "_model_module": "@jupyter-widgets/base",
            "_model_module_version": "1.2.0",
            "_model_name": "LayoutModel",
            "_view_count": null,
            "_view_module": "@jupyter-widgets/base",
            "_view_module_version": "1.2.0",
            "_view_name": "LayoutView",
            "align_content": null,
            "align_items": null,
            "align_self": null,
            "border": null,
            "bottom": null,
            "display": null,
            "flex": null,
            "flex_flow": null,
            "grid_area": null,
            "grid_auto_columns": null,
            "grid_auto_flow": null,
            "grid_auto_rows": null,
            "grid_column": null,
            "grid_gap": null,
            "grid_row": null,
            "grid_template_areas": null,
            "grid_template_columns": null,
            "grid_template_rows": null,
            "height": null,
            "justify_content": null,
            "justify_items": null,
            "left": null,
            "margin": null,
            "max_height": null,
            "max_width": null,
            "min_height": null,
            "min_width": null,
            "object_fit": null,
            "object_position": null,
            "order": null,
            "overflow": null,
            "overflow_x": null,
            "overflow_y": null,
            "padding": null,
            "right": null,
            "top": null,
            "visibility": null,
            "width": null
          }
        },
        "a9d03a6c6c374d30962159dcea9ab1a0": {
          "model_module": "@jupyter-widgets/controls",
          "model_name": "ProgressStyleModel",
          "model_module_version": "1.5.0",
          "state": {
            "_model_module": "@jupyter-widgets/controls",
            "_model_module_version": "1.5.0",
            "_model_name": "ProgressStyleModel",
            "_view_count": null,
            "_view_module": "@jupyter-widgets/base",
            "_view_module_version": "1.2.0",
            "_view_name": "StyleView",
            "bar_color": null,
            "description_width": ""
          }
        },
        "2f857d95fac54d43a1f97635ccee117e": {
          "model_module": "@jupyter-widgets/base",
          "model_name": "LayoutModel",
          "model_module_version": "1.2.0",
          "state": {
            "_model_module": "@jupyter-widgets/base",
            "_model_module_version": "1.2.0",
            "_model_name": "LayoutModel",
            "_view_count": null,
            "_view_module": "@jupyter-widgets/base",
            "_view_module_version": "1.2.0",
            "_view_name": "LayoutView",
            "align_content": null,
            "align_items": null,
            "align_self": null,
            "border": null,
            "bottom": null,
            "display": null,
            "flex": null,
            "flex_flow": null,
            "grid_area": null,
            "grid_auto_columns": null,
            "grid_auto_flow": null,
            "grid_auto_rows": null,
            "grid_column": null,
            "grid_gap": null,
            "grid_row": null,
            "grid_template_areas": null,
            "grid_template_columns": null,
            "grid_template_rows": null,
            "height": null,
            "justify_content": null,
            "justify_items": null,
            "left": null,
            "margin": null,
            "max_height": null,
            "max_width": null,
            "min_height": null,
            "min_width": null,
            "object_fit": null,
            "object_position": null,
            "order": null,
            "overflow": null,
            "overflow_x": null,
            "overflow_y": null,
            "padding": null,
            "right": null,
            "top": null,
            "visibility": null,
            "width": null
          }
        },
        "c1f7c2b9760446ee9aa00f02a40d3b6b": {
          "model_module": "@jupyter-widgets/controls",
          "model_name": "DescriptionStyleModel",
          "model_module_version": "1.5.0",
          "state": {
            "_model_module": "@jupyter-widgets/controls",
            "_model_module_version": "1.5.0",
            "_model_name": "DescriptionStyleModel",
            "_view_count": null,
            "_view_module": "@jupyter-widgets/base",
            "_view_module_version": "1.2.0",
            "_view_name": "StyleView",
            "description_width": ""
          }
        }
      }
    },
    "accelerator": "GPU"
  },
  "nbformat": 4,
  "nbformat_minor": 0
}